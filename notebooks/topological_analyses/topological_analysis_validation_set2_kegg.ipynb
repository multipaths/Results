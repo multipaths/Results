{
 "cells": [
  {
   "cell_type": "markdown",
   "metadata": {},
   "source": [
    "# Topological analyses Set 2"
   ]
  },
  {
   "cell_type": "code",
   "execution_count": 1,
   "metadata": {},
   "outputs": [],
   "source": [
    "import os\n",
    "\n",
    "import itertools\n",
    "from collections import defaultdict\n",
    "\n",
    "\n",
    "import networkx as nx"
   ]
  },
  {
   "cell_type": "markdown",
   "metadata": {},
   "source": [
    "##### PyBEL imports"
   ]
  },
  {
   "cell_type": "code",
   "execution_count": 2,
   "metadata": {},
   "outputs": [
    {
     "data": {
      "text/plain": [
       "'0.13.2'"
      ]
     },
     "execution_count": 2,
     "metadata": {},
     "output_type": "execute_result"
    }
   ],
   "source": [
    "import pybel\n",
    "\n",
    "from pybel.struct import get_subgraph_by_annotation_value\n",
    "from pybel.struct.summary import count_functions\n",
    "\n",
    "pybel.get_version()"
   ]
  },
  {
   "cell_type": "markdown",
   "metadata": {},
   "source": [
    "##### PathMe import "
   ]
  },
  {
   "cell_type": "code",
   "execution_count": 3,
   "metadata": {},
   "outputs": [],
   "source": [
    "from pathme.constants import REACTOME_BEL, KEGG_BEL, WIKIPATHWAYS_BEL, PATHME_DIR\n",
    "from pathme.export_utils import to_gml"
   ]
  },
  {
   "cell_type": "markdown",
   "metadata": {},
   "source": [
    "##### DiffuPath import "
   ]
  },
  {
   "cell_type": "code",
   "execution_count": 4,
   "metadata": {},
   "outputs": [],
   "source": [
    "from diffupath.constants import DATA_DIR\n",
    "from diffupath.validation_datasets_parsers import parse_set2\n",
    "\n",
    "from diffupath.pathme_importer import get_labels_by_db_and_omic_from_pathme, get_labels_by_db_and_omic_from_graph\n",
    "from diffupath.input_mapping import get_mapping, get_mapping_subsets, get_mapping_two_dim_subsets\n",
    "from diffupath.utils import print_dict_dimensions, get_labels_set_from_dict, reduce_dict_dimension, get_count_and_labels_from_two_dim_dict, from_pickle, to_pickle, get_three_venn_intersections, random_disjoint_intersection_three_subsets\n",
    "from diffupath.views import show_heatmap\n"
   ]
  },
  {
   "cell_type": "markdown",
   "metadata": {},
   "source": [
    "## 1. Load Data Set 1: Input Scores"
   ]
  },
  {
   "cell_type": "code",
   "execution_count": 5,
   "metadata": {
    "scrolled": true
   },
   "outputs": [
    {
     "name": "stdout",
     "output_type": "stream",
     "text": [
      "Dataset2 imported labels:\n",
      "Total number of metabolite: 60  \n",
      "Total number of genes: 31  \n",
      "Total number of micrornas: 16  \n",
      "Total: 107 \n"
     ]
    }
   ],
   "source": [
    "dataset2_labels_by_omics = parse_set2(os.path.join(DATA_DIR, 'validation_datasets', 'set2.xlsx'))\n",
    "dataset2_all_labels = get_labels_set_from_dict(dataset2_labels_by_omics)\n",
    "print_dict_dimensions(dataset2_labels_by_omics, 'Dataset2 imported labels:')"
   ]
  },
  {
   "cell_type": "code",
   "execution_count": 6,
   "metadata": {},
   "outputs": [],
   "source": [
    "mirnas_dataset =  dataset2_labels_by_omics['micrornas']"
   ]
  },
  {
   "cell_type": "markdown",
   "metadata": {},
   "source": [
    "## 2. Load Backrgound Network and Kernel matrix"
   ]
  },
  {
   "cell_type": "markdown",
   "metadata": {},
   "source": [
    "### 2.1. Import PathMeUniverse network graph"
   ]
  },
  {
   "cell_type": "code",
   "execution_count": 7,
   "metadata": {
    "scrolled": true
   },
   "outputs": [
    {
     "name": "stdout",
     "output_type": "stream",
     "text": [
      "PathMe Universe v1.0.0\n",
      "Number of Nodes: 48643\n",
      "Number of Edges: 104713\n",
      "Number of Citations: 7696\n",
      "Number of Authors: 0\n",
      "Network Density: 4.43E-05\n",
      "Number of Components: 6860\n",
      "Number of Warnings: 0\n"
     ]
    },
    {
     "data": {
      "text/plain": [
       "Counter({'Composite': 1605,\n",
       "         'Abundance': 7046,\n",
       "         'BiologicalProcess': 2857,\n",
       "         'Complex': 9048,\n",
       "         'Reaction': 13576,\n",
       "         'Gene': 14511})"
      ]
     },
     "execution_count": 7,
     "metadata": {},
     "output_type": "execute_result"
    }
   ],
   "source": [
    "pathme_universe_graph_no_flatten = pybel.from_pickle(os.path.join(DATA_DIR, 'pickles', 'universe', 'pathme_universe_bel_graph_no_flatten.bel.pickle'))\n",
    "pathme_universe_graph_no_flatten.summarize()\n",
    "count_functions(pathme_universe_graph_no_flatten)\n"
   ]
  },
  {
   "cell_type": "code",
   "execution_count": 8,
   "metadata": {},
   "outputs": [
    {
     "data": {
      "image/png": "[encoded data removed]",
      "text/plain": [
       "<Figure size 720x288 with 2 Axes>"
      ]
     },
     "metadata": {
      "needs_background": "light"
     },
     "output_type": "display_data"
    }
   ],
   "source": [
    "import matplotlib.pyplot as plt\n",
    "from pybel_tools.summary import plot_summary, count_top_centrality\n",
    "plot_summary(pathme_universe_graph_no_flatten, plt, figsize=(10, 4))\n",
    "plt.show()"
   ]
  },
  {
   "cell_type": "markdown",
   "metadata": {},
   "source": [
    "##### Check and filter isolates / Unconnected nodes"
   ]
  },
  {
   "cell_type": "code",
   "execution_count": 9,
   "metadata": {},
   "outputs": [
    {
     "data": {
      "text/plain": [
       "6426"
      ]
     },
     "execution_count": 9,
     "metadata": {},
     "output_type": "execute_result"
    }
   ],
   "source": [
    "nx.number_of_isolates(pathme_universe_graph_no_flatten)"
   ]
  },
  {
   "cell_type": "code",
   "execution_count": 10,
   "metadata": {},
   "outputs": [],
   "source": [
    "pathme_universe_graph_no_flatten.remove_nodes_from({\n",
    "    node\n",
    "    for node in nx.isolates(pathme_universe_graph_no_flatten)\n",
    "})"
   ]
  },
  {
   "cell_type": "markdown",
   "metadata": {},
   "source": [
    "### 2.2. Get KEGG subgraph from PathMeUniverse graph"
   ]
  },
  {
   "cell_type": "code",
   "execution_count": 11,
   "metadata": {},
   "outputs": [
    {
     "name": "stdout",
     "output_type": "stream",
     "text": [
      "None vNone\n",
      "Number of Nodes: 13162\n",
      "Number of Edges: 35122\n",
      "Number of Citations: 2\n",
      "Number of Authors: 0\n",
      "Network Density: 2.03E-04\n",
      "Number of Components: 65\n",
      "Number of Warnings: 0\n"
     ]
    },
    {
     "data": {
      "text/plain": [
       "Counter({'Composite': 1596,\n",
       "         'Complex': 406,\n",
       "         'Gene': 6149,\n",
       "         'Abundance': 1762,\n",
       "         'Reaction': 3137,\n",
       "         'BiologicalProcess': 112})"
      ]
     },
     "execution_count": 11,
     "metadata": {},
     "output_type": "execute_result"
    }
   ],
   "source": [
    "kegg_pathme_graph_no_flatten = get_subgraph_by_annotation_value(pathme_universe_graph_no_flatten, 'database', 'kegg')\n",
    "kegg_pathme_graph_no_flatten.summarize()\n",
    "count_functions(kegg_pathme_graph_no_flatten)"
   ]
  },
  {
   "cell_type": "code",
   "execution_count": 12,
   "metadata": {},
   "outputs": [
    {
     "data": {
      "image/png": "[encoded data removed]",
      "text/plain": [
       "<Figure size 720x288 with 2 Axes>"
      ]
     },
     "metadata": {
      "needs_background": "light"
     },
     "output_type": "display_data"
    }
   ],
   "source": [
    "import matplotlib.pyplot as plt\n",
    "from pybel_tools.summary import plot_summary, count_top_centrality\n",
    "plot_summary(kegg_pathme_graph_no_flatten, plt, figsize=(10, 4))\n",
    "plt.show()"
   ]
  },
  {
   "cell_type": "markdown",
   "metadata": {},
   "source": [
    "### 2.3. Get entity labels subsets by entity type (omic) and by database"
   ]
  },
  {
   "cell_type": "markdown",
   "metadata": {},
   "source": [
    "#####  2.3.2.  From PathMeUniverse KEGG subgraph"
   ]
  },
  {
   "cell_type": "code",
   "execution_count": 13,
   "metadata": {
    "scrolled": false
   },
   "outputs": [
    {
     "name": "stdout",
     "output_type": "stream",
     "text": [
      "Entities in PathMeUniverse :\n",
      "Total number of kegg: gene_nodes(6027), mirna_nodes(122), metabolite_nodes(1762), bp_nodes(112),  \n",
      "Total: 8023 \n"
     ]
    }
   ],
   "source": [
    "bg_labels_from_pathmeuniverse_by_db_and_omic, bg_labels_from_pathmeuniverse_by_omic_and_db =  get_labels_by_db_and_omic_from_graph(kegg_pathme_graph_no_flatten)\n",
    "\n",
    "print_dict_dimensions(bg_labels_from_pathmeuniverse_by_db_and_omic, 'Entities in PathMeUniverse :')"
   ]
  },
  {
   "cell_type": "code",
   "execution_count": 14,
   "metadata": {},
   "outputs": [],
   "source": [
    "bg_labels_from_pathmeuniverse_by_omic = reduce_dict_dimension(bg_labels_from_pathmeuniverse_by_omic_and_db)"
   ]
  },
  {
   "cell_type": "markdown",
   "metadata": {},
   "source": [
    "### 2.4. Get Background  Matrix Kernel"
   ]
  },
  {
   "cell_type": "code",
   "execution_count": 15,
   "metadata": {},
   "outputs": [],
   "source": [
    "kernel_path = os.path.join(DATA_DIR, 'pickles', 'by_db_validation', 'regularised_laplacian_kernel_kegg.pickle')"
   ]
  },
  {
   "cell_type": "markdown",
   "metadata": {},
   "source": [
    "##### Generate kernel OR load from pickle"
   ]
  },
  {
   "cell_type": "markdown",
   "metadata": {},
   "source": [
    "DiffuPy to generate laplacian_kernel"
   ]
  },
  {
   "cell_type": "code",
   "execution_count": 16,
   "metadata": {},
   "outputs": [],
   "source": [
    "#import diffupy\n",
    "#from diffupy.kernels import regularised_laplacian_kernel"
   ]
  },
  {
   "cell_type": "code",
   "execution_count": 17,
   "metadata": {
    "scrolled": false
   },
   "outputs": [],
   "source": [
    "#background_mat = regularised_laplacian_kernel(kegg_pathme_graph_no_flatten)\n",
    "#to_pickle(regularised_laplacian_kernel, kernel_path)"
   ]
  },
  {
   "cell_type": "markdown",
   "metadata": {},
   "source": [
    "Import kernel from pickle"
   ]
  },
  {
   "cell_type": "code",
   "execution_count": 18,
   "metadata": {},
   "outputs": [],
   "source": [
    "background_mat = from_pickle(kernel_path)"
   ]
  },
  {
   "cell_type": "markdown",
   "metadata": {},
   "source": [
    "## 3. Dataset label mapping to PathMeEntities"
   ]
  },
  {
   "cell_type": "markdown",
   "metadata": {},
   "source": [
    "##### All kernel matrix (background network) row labels for the mapping"
   ]
  },
  {
   "cell_type": "code",
   "execution_count": 19,
   "metadata": {},
   "outputs": [],
   "source": [
    "background_labels = background_mat.rows_labels"
   ]
  },
  {
   "cell_type": "markdown",
   "metadata": {},
   "source": [
    "### 3.1. General mapping"
   ]
  },
  {
   "cell_type": "code",
   "execution_count": 21,
   "metadata": {},
   "outputs": [
    {
     "name": "stdout",
     "output_type": "stream",
     "text": [
      "Global mapping:  (31) 29.245283018867923%\n"
     ]
    }
   ],
   "source": [
    "all_labels_mapping = get_mapping(dataset2_all_labels, background_labels, title = 'Global mapping: ', mirnas = mirnas_dataset, print_percentage = True)\n"
   ]
  },
  {
   "cell_type": "markdown",
   "metadata": {},
   "source": [
    "### 3.2. Mapping by subsets"
   ]
  },
  {
   "cell_type": "markdown",
   "metadata": {},
   "source": [
    "#### 3.2.1. Mapping by entity type/omic"
   ]
  },
  {
   "cell_type": "code",
   "execution_count": 22,
   "metadata": {
    "scrolled": true
   },
   "outputs": [
    {
     "name": "stdout",
     "output_type": "stream",
     "text": [
      "Mapping by entity type/omic:\n",
      "metabolite (4) 6.666666666666667%\n",
      "genes (27) 87.09677419354838%\n",
      "micrornas (6) 37.5%\n",
      "Total (37) 34.90566037735849% \n",
      "\n"
     ]
    }
   ],
   "source": [
    "mapping_by_entity, _, _ = get_mapping_subsets(dataset2_labels_by_omics, background_labels, 'entity type/omic', mirnas = mirnas_dataset)\n"
   ]
  },
  {
   "cell_type": "code",
   "execution_count": 23,
   "metadata": {},
   "outputs": [],
   "source": [
    "micrornas_mapping = mapping_by_entity['micrornas'][0]"
   ]
  },
  {
   "cell_type": "markdown",
   "metadata": {},
   "source": [
    "#### 3.2.2. Mapping by database"
   ]
  },
  {
   "cell_type": "code",
   "execution_count": 24,
   "metadata": {
    "scrolled": false
   },
   "outputs": [
    {
     "name": "stdout",
     "output_type": "stream",
     "text": [
      "Mapping by database:\n",
      "kegg (37) 34.90566037735849%\n",
      "Total (37) 34.90566037735849% \n",
      "\n"
     ]
    }
   ],
   "source": [
    "background_entites_by_db = {db : set(itertools.chain.from_iterable(entities.values())) for db, entities in bg_labels_from_pathmeuniverse_by_db_and_omic.items()}\n",
    "mapping_by_db, _, _ = get_mapping_subsets(background_entites_by_db, dataset2_all_labels, 'database', mirnas = mirnas_dataset, submapping = background_labels, mirnas_mapping = micrornas_mapping, percentage_reference_labels = True)\n"
   ]
  },
  {
   "cell_type": "markdown",
   "metadata": {},
   "source": [
    "#### 3.2.3. Mapping by entity type and database (two dimentions)"
   ]
  },
  {
   "cell_type": "code",
   "execution_count": 25,
   "metadata": {},
   "outputs": [
    {
     "name": "stdout",
     "output_type": "stream",
     "text": [
      "Mapping by Kegg:\n",
      "gene_nodes (26) 83.87096774193549%\n",
      "mirna_nodes (6) 37.5%\n",
      "metabolite_nodes (5) 8.333333333333332%\n",
      "bp_nodes (0) 0%\n",
      "Total (37) 0.461174124392372% \n",
      "\n",
      "Total (37) 34.90566037735849% \n",
      "\n"
     ]
    }
   ],
   "source": [
    "mapping_by_database_and_entity, total_percentage, total_dimention = get_mapping_two_dim_subsets(bg_labels_from_pathmeuniverse_by_db_and_omic, dataset2_all_labels, relative_statistics = dataset2_labels_by_omics, mirnas_mapping = micrornas_mapping)\n"
   ]
  },
  {
   "cell_type": "markdown",
   "metadata": {},
   "source": [
    "### 3.3. Mapping descriptive view"
   ]
  },
  {
   "cell_type": "code",
   "execution_count": 26,
   "metadata": {
    "scrolled": false
   },
   "outputs": [
    {
     "data": {
      "image/png": "[encoded data removed]",
      "text/plain": [
       "<Figure size 1080x504 with 2 Axes>"
      ]
     },
     "metadata": {
      "needs_background": "light"
     },
     "output_type": "display_data"
    }
   ],
   "source": [
    "count, percentage, db_labels, entity_labels  = get_count_and_labels_from_two_dim_dict(mapping_by_database_and_entity)\n",
    "\n",
    "show_heatmap(count, percentage, db_labels, entity_labels)\n"
   ]
  },
  {
   "cell_type": "markdown",
   "metadata": {},
   "source": [
    "## 4. Resistance distance"
   ]
  },
  {
   "cell_type": "code",
   "execution_count": 27,
   "metadata": {
    "scrolled": true
   },
   "outputs": [],
   "source": [
    "from diffupath.topological_analyses import resistance_distance, filter_quadratic_mat_by_mapping\n",
    "from diffupath.cross_validation import cross_validation_one_x_in\n",
    "\n",
    "from diffupath.views import box_plot_from_two_dimension_dict\n",
    "from diffupath.utils import get_mean_from_two_dim_dict"
   ]
  },
  {
   "cell_type": "code",
   "execution_count": 28,
   "metadata": {},
   "outputs": [
    {
     "name": "stderr",
     "output_type": "stream",
     "text": [
      "/Users/jmarinllao/Documents/Projectes/MultiPath/DiffuPy/src/diffupy/utils.py:20: UserWarning:\n",
      "\n",
      "Since graph is directed, it will be converted to an undirected graph.\n",
      "\n"
     ]
    }
   ],
   "source": [
    "ER = resistance_distance(kegg_pathme_graph_no_flatten)"
   ]
  },
  {
   "cell_type": "code",
   "execution_count": 30,
   "metadata": {},
   "outputs": [],
   "source": [
    "d_resistance_distance = filter_quadratic_mat_by_mapping(ER, mapping_by_entity)\n",
    "d_resistance_distance_mean = get_mean_from_two_dim_dict(d_resistance_distance)"
   ]
  },
  {
   "cell_type": "code",
   "execution_count": 31,
   "metadata": {},
   "outputs": [],
   "source": [
    "from diffupath.views import box_plot_from_dict, box_plot_from_two_dimension_dict"
   ]
  },
  {
   "cell_type": "code",
   "execution_count": 32,
   "metadata": {},
   "outputs": [
    {
     "name": "stderr",
     "output_type": "stream",
     "text": [
      "/usr/local/Cellar/ipython/7.2.0/libexec/lib/python3.7/site-packages/IPython/core/display.py:689: UserWarning:\n",
      "\n",
      "Consider using IPython.display.IFrame instead\n",
      "\n"
     ]
    },
    {
     "data": {
      "text/html": [
       "<iframe id=\"igraph\" scrolling=\"no\" style=\"border:none;\" seamless=\"seamless\" src=\"https://plot.ly/~jomalla/138.embed\" height=\"525px\" width=\"100%\"></iframe>"
      ],
      "text/plain": [
       "<chart_studio.tools.PlotlyDisplay object>"
      ]
     },
     "execution_count": 32,
     "metadata": {},
     "output_type": "execute_result"
    }
   ],
   "source": [
    "box_plot_from_two_dimension_dict(d_resistance_distance_mean, 'Resitance distance', 'Resitance distance')"
   ]
  },
  {
   "cell_type": "code",
   "execution_count": 33,
   "metadata": {},
   "outputs": [
    {
     "data": {
      "text/html": [
       "<iframe id=\"igraph\" scrolling=\"no\" style=\"border:none;\" seamless=\"seamless\" src=\"https://plot.ly/~jomalla/140.embed\" height=\"525px\" width=\"100%\"></iframe>"
      ],
      "text/plain": [
       "<chart_studio.tools.PlotlyDisplay object>"
      ]
     },
     "execution_count": 33,
     "metadata": {},
     "output_type": "execute_result"
    }
   ],
   "source": [
    "box_plot_from_dict(d_resistance_distance_mean['genes'], 'Genes', 'Resitance distance')"
   ]
  },
  {
   "cell_type": "code",
   "execution_count": 34,
   "metadata": {},
   "outputs": [
    {
     "data": {
      "text/html": [
       "<iframe id=\"igraph\" scrolling=\"no\" style=\"border:none;\" seamless=\"seamless\" src=\"https://plot.ly/~jomalla/142.embed\" height=\"525px\" width=\"100%\"></iframe>"
      ],
      "text/plain": [
       "<chart_studio.tools.PlotlyDisplay object>"
      ]
     },
     "execution_count": 34,
     "metadata": {},
     "output_type": "execute_result"
    }
   ],
   "source": [
    "box_plot_from_dict(d_resistance_distance_mean['micrornas'], 'Micrornas', 'Resitance distance')"
   ]
  },
  {
   "cell_type": "code",
   "execution_count": 35,
   "metadata": {},
   "outputs": [
    {
     "data": {
      "text/html": [
       "<iframe id=\"igraph\" scrolling=\"no\" style=\"border:none;\" seamless=\"seamless\" src=\"https://plot.ly/~jomalla/144.embed\" height=\"525px\" width=\"100%\"></iframe>"
      ],
      "text/plain": [
       "<chart_studio.tools.PlotlyDisplay object>"
      ]
     },
     "execution_count": 35,
     "metadata": {},
     "output_type": "execute_result"
    }
   ],
   "source": [
    "box_plot_from_dict(d_resistance_distance_mean['metabolite'], 'Metabolite', 'Resitance distance')"
   ]
  },
  {
   "cell_type": "markdown",
   "metadata": {},
   "source": [
    "## 5. PageRank Centrality"
   ]
  },
  {
   "cell_type": "code",
   "execution_count": 40,
   "metadata": {},
   "outputs": [],
   "source": [
    "from diffupath.topological_analyses import generate_pagerank_baseline\n",
    "from statistics import mean"
   ]
  },
  {
   "cell_type": "code",
   "execution_count": 37,
   "metadata": {
    "scrolled": true
   },
   "outputs": [],
   "source": [
    "scores_page_rank = generate_pagerank_baseline(kegg_pathme_graph_no_flatten, background_mat)"
   ]
  },
  {
   "cell_type": "code",
   "execution_count": 38,
   "metadata": {},
   "outputs": [],
   "source": [
    "d_page_rank = defaultdict(lambda: list())\n",
    "\n",
    "for k1, v1 in mapping_by_entity.items():\n",
    "    for e1 in v1[0]:\n",
    "        d_page_rank[k1].append(scores_page_rank.get_cell_from_labels(e1, 'PageRank'))"
   ]
  },
  {
   "cell_type": "code",
   "execution_count": 41,
   "metadata": {},
   "outputs": [],
   "source": [
    "d_page_rank_mean = {k1 : [mean(v1)] for k1, v1 in d_page_rank.items()}"
   ]
  },
  {
   "cell_type": "code",
   "execution_count": 42,
   "metadata": {},
   "outputs": [
    {
     "data": {
      "text/html": [
       "<iframe id=\"igraph\" scrolling=\"no\" style=\"border:none;\" seamless=\"seamless\" src=\"https://plot.ly/~jomalla/146.embed\" height=\"525px\" width=\"100%\"></iframe>"
      ],
      "text/plain": [
       "<chart_studio.tools.PlotlyDisplay object>"
      ]
     },
     "execution_count": 42,
     "metadata": {},
     "output_type": "execute_result"
    }
   ],
   "source": [
    "box_plot_from_dict(d_page_rank_mean, 'Pagerank', 'Centrality study')"
   ]
  },
  {
   "cell_type": "code",
   "execution_count": 43,
   "metadata": {},
   "outputs": [
    {
     "data": {
      "text/html": [
       "<iframe id=\"igraph\" scrolling=\"no\" style=\"border:none;\" seamless=\"seamless\" src=\"https://plot.ly/~jomalla/148.embed\" height=\"525px\" width=\"100%\"></iframe>"
      ],
      "text/plain": [
       "<chart_studio.tools.PlotlyDisplay object>"
      ]
     },
     "execution_count": 43,
     "metadata": {},
     "output_type": "execute_result"
    }
   ],
   "source": [
    "box_plot_from_dict(d_page_rank, 'Pagerank', 'Centrality study')"
   ]
  }
 ],
 "metadata": {
  "kernelspec": {
   "display_name": "Python 3",
   "language": "python",
   "name": "python3"
  },
  "language_info": {
   "codemirror_mode": {
    "name": "ipython",
    "version": 3
   },
   "file_extension": ".py",
   "mimetype": "text/x-python",
   "name": "python",
   "nbconvert_exporter": "python",
   "pygments_lexer": "ipython3",
   "version": "3.7.3"
  }
 },
 "nbformat": 4,
 "nbformat_minor": 2
}
