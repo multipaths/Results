{
 "cells": [
  {
   "cell_type": "code",
   "execution_count": 2,
   "metadata": {},
   "outputs": [],
   "source": [
    "import numpy as np\n",
    "import math\n",
    "from scipy import stats\n",
    "import matplotlib.pyplot as plt\n",
    "import itertools \n",
    "from statsmodels.stats.multitest import fdrcorrection\n",
    "\n",
    "import matplotlib.pyplot as plt\n",
    "import numpy as np\n",
    "\n",
    "from diffupath.views import box_plot_from_dict"
   ]
  },
  {
   "cell_type": "code",
   "execution_count": 3,
   "metadata": {},
   "outputs": [
    {
     "ename": "FileNotFoundError",
     "evalue": "[Errno 2] No such file or directory: 'metrics_set1_kegg.txt'",
     "output_type": "error",
     "traceback": [
      "\u001b[0;31m---------------------------------------------------------------------------\u001b[0m",
      "\u001b[0;31mFileNotFoundError\u001b[0m                         Traceback (most recent call last)",
      "\u001b[0;32m<ipython-input-3-6cd75a0e4f41>\u001b[0m in \u001b[0;36m<module>\u001b[0;34m\u001b[0m\n\u001b[1;32m      1\u001b[0m \u001b[0;32mimport\u001b[0m \u001b[0mjson\u001b[0m\u001b[0;34m\u001b[0m\u001b[0;34m\u001b[0m\u001b[0m\n\u001b[1;32m      2\u001b[0m \u001b[0;34m\u001b[0m\u001b[0m\n\u001b[0;32m----> 3\u001b[0;31m \u001b[0;32mwith\u001b[0m \u001b[0mopen\u001b[0m\u001b[0;34m(\u001b[0m\u001b[0;34m'metrics_set1_kegg.txt'\u001b[0m\u001b[0;34m,\u001b[0m \u001b[0;34m'r'\u001b[0m\u001b[0;34m)\u001b[0m \u001b[0;32mas\u001b[0m \u001b[0moutfile\u001b[0m\u001b[0;34m:\u001b[0m\u001b[0;34m\u001b[0m\u001b[0;34m\u001b[0m\u001b[0m\n\u001b[0m\u001b[1;32m      4\u001b[0m     \u001b[0mmetrics_datset1_kegg\u001b[0m \u001b[0;34m=\u001b[0m \u001b[0mjson\u001b[0m\u001b[0;34m.\u001b[0m\u001b[0mload\u001b[0m\u001b[0;34m(\u001b[0m\u001b[0moutfile\u001b[0m\u001b[0;34m)\u001b[0m\u001b[0;34m\u001b[0m\u001b[0;34m\u001b[0m\u001b[0m\n\u001b[1;32m      5\u001b[0m \u001b[0;32mwith\u001b[0m \u001b[0mopen\u001b[0m\u001b[0;34m(\u001b[0m\u001b[0;34m'metrics_set2_kegg.txt'\u001b[0m\u001b[0;34m,\u001b[0m \u001b[0;34m'r'\u001b[0m\u001b[0;34m)\u001b[0m \u001b[0;32mas\u001b[0m \u001b[0moutfile\u001b[0m\u001b[0;34m:\u001b[0m\u001b[0;34m\u001b[0m\u001b[0;34m\u001b[0m\u001b[0m\n",
      "\u001b[0;31mFileNotFoundError\u001b[0m: [Errno 2] No such file or directory: 'metrics_set1_kegg.txt'"
     ]
    }
   ],
   "source": [
    "import json\n",
    "\n",
    "with open('metrics_set1_kegg.txt', 'r') as outfile:  \n",
    "    metrics_datset1_kegg = json.load(outfile)\n",
    "with open('metrics_set2_kegg.txt', 'r') as outfile:  \n",
    "    metrics_datset2_kegg = json.load(outfile)\n",
    "with open('metrics_set3_kegg.txt', 'r') as outfile:  \n",
    "    metrics_datset3_kegg = json.load(outfile)\n",
    "    \n",
    "    \n",
    "    \n",
    "with open('metrics_set1.txt', 'r') as outfile:  \n",
    "    metrics_datset1 = json.load(outfile)\n",
    "\n",
    "with open('metrics_set2.txt', 'r') as outfile:  \n",
    "    metrics_datset2 = json.load(outfile)\n",
    "    \n",
    "with open('metrics_set3.txt', 'r') as outfile:  \n",
    "    metrics_datset3 = json.load(outfile)\n",
    "    "
   ]
  },
  {
   "cell_type": "markdown",
   "metadata": {},
   "source": [
    "## FDR p-values"
   ]
  },
  {
   "cell_type": "code",
   "execution_count": 15,
   "metadata": {},
   "outputs": [],
   "source": [
    "def get_p_values(metrics):\n",
    "    p_values = {}\n",
    "\n",
    "    result_list = map(dict, itertools.combinations(\n",
    "        metrics.items(), 2))\n",
    "\n",
    "\n",
    "    for ch in result_list:\n",
    "        values = list(ch.values())\n",
    "        ttest = stats.ttest_rel(a=values[0], b=values[1])\n",
    "        p_values[str(tuple(ch.keys()))] = ttest.pvalue   \n",
    "        \n",
    "    return p_values\n",
    "\n",
    "def get_p_values_multiple(metrics):\n",
    "    p_values = {}\n",
    "    \n",
    "    print(metrics)\n",
    "    \n",
    "    for k, v in metrics[0].items():\n",
    "        ttest = stats.ttest_rel(a=v,b=metrics[1][k])\n",
    "        p_values[str(k)] = ttest.pvalue\n",
    "        \n",
    "    return p_values"
   ]
  },
  {
   "cell_type": "code",
   "execution_count": 4,
   "metadata": {},
   "outputs": [],
   "source": [
    "\n",
    "def get_normalized_p_values(p_values):\n",
    "    normalized_p_values = {}\n",
    "    \n",
    "    fdr = fdrcorrection(list(p_values.values()), alpha=0.05, method='indep', is_sorted=False)\n",
    "    \n",
    "    for k1, k2 in enumerate(p_values.keys()):\n",
    "        normalized_p_values[k2] = -math.log10(fdr[1][k1])\n",
    "    \n",
    "    return normalized_p_values\n",
    "        "
   ]
  },
  {
   "cell_type": "code",
   "execution_count": 5,
   "metadata": {},
   "outputs": [],
   "source": [
    "def fdr_plot(metrics, p_values_func, title):\n",
    "    p_values = p_values_func(metrics)\n",
    "    normalized_p_values = get_normalized_p_values(p_values)\n",
    "    \n",
    "    x = np.array(list(normalized_p_values.keys()))\n",
    "    y = np.array(list(normalized_p_values.values()))\n",
    "\n",
    "\n",
    "    markerline, stemlines, baseline = plt.stem(\n",
    "        x, y, linefmt='grey', markerfmt='D', bottom=-math.log10(0.05), use_line_collection=True)\n",
    "\n",
    "    plt.rcParams[\"figure.figsize\"] = (10, 5)\n",
    "    plt.xlabel(title)\n",
    "    plt.ylabel(\"normalized FDR p-value\")\n",
    "\n",
    "    plt.xticks(ha='left', rotation=-45)\n",
    "    plt.show()"
   ]
  },
  {
   "cell_type": "code",
   "execution_count": 6,
   "metadata": {},
   "outputs": [],
   "source": [
    "def fdr_three_plot(metrics, p_values_func, title):\n",
    "    normalized_p_values = []\n",
    "    \n",
    "    for metric in metrics:    \n",
    "        p_values = p_values_func(metric)\n",
    "        normalized_p_values.append(list(get_normalized_p_values(p_values).values()))\n",
    "        x = list(p_values.keys())\n",
    "        \n",
    "    \n",
    "    markerline, stemlines, baseline = plt.stem(\n",
    "        x, normalized_p_values[0], linefmt='forestgreen', markerfmt='gd', bottom=-math.log10(0.05), use_line_collection=True, label = 'Dataset 1')\n",
    "    markerline, stemlines, baseline = plt.stem(\n",
    "        x, normalized_p_values[1], linefmt='tomato', markerfmt='ro', bottom=-math.log10(0.05), use_line_collection=True, label = 'Dataset 2')\n",
    "    markerline, stemlines, baseline = plt.stem(\n",
    "        x, normalized_p_values[2], linefmt='dodgerblue', markerfmt='bo', bottom=-math.log10(0.05), use_line_collection=True, label = 'Dataset 3')\n",
    "\n",
    "    \n",
    "    plt.legend()\n",
    "\n",
    "    plt.rcParams[\"figure.figsize\"] = (10, 5)\n",
    "    plt.xlabel(title)\n",
    "    plt.ylabel(\"normalized FDR -log10(p-value)\")\n",
    "\n",
    "    plt.xticks(ha='left', rotation=-45)\n",
    "    plt.show()"
   ]
  },
  {
   "cell_type": "code",
   "execution_count": 27,
   "metadata": {},
   "outputs": [],
   "source": [
    "def fdr_barchart_three_plot(metrics, p_values_func, title):\n",
    "    normalized_p_values = []\n",
    "    \n",
    "    plt.rcParams.update({'font.size': 17})\n",
    "\n",
    "    \n",
    "    for metric in metrics:    \n",
    "        p_values = p_values_func(metric)\n",
    "        normalized_p_values.append(list(get_normalized_p_values(p_values).values()))\n",
    "        x = list(p_values.keys())\n",
    "        \n",
    "    \n",
    "    ind = np.arange(len(x))  # the x locations for the groups\n",
    "    width = 0.27       # the width of the bars\n",
    "\n",
    "    fig = plt.figure()\n",
    "    ax = fig.add_subplot(111)\n",
    "    \n",
    "    \n",
    "    fig.set_size_inches(18.5, 10.5)\n",
    "\n",
    "    yvals = [4, 9, 2]\n",
    "    rects1 = ax.bar(ind, normalized_p_values[0], width, color='forestgreen')\n",
    "    zvals = [1,2,3]\n",
    "    rects2 = ax.bar(ind+width, normalized_p_values[1], width, color='tomato')\n",
    "    kvals = [11,12,13]\n",
    "    rects3 = ax.bar(ind+width*2, normalized_p_values[2], width, color='steelblue')\n",
    "\n",
    "    ax.set_ylabel(\"normalized FDR -log10(p-value)\")\n",
    "    plt.xlabel(title)\n",
    "\n",
    "    ax.set_xticks(ind+width)\n",
    "    ax.set_xticklabels(x, ha='left', rotation=-45)\n",
    "    ax.legend( (rects1[0], rects2[0], rects3[0]), ('Dataset 1', 'Dataset 2', 'Dataset 3') )\n",
    "\n",
    "    ax.plot([-0.2, 4], [-math.log10(0.05), -math.log10(0.05)], \"k--\")\n",
    "\n",
    "\n",
    "\n",
    "    plt.show()\n",
    "    "
   ]
  },
  {
   "cell_type": "markdown",
   "metadata": {},
   "source": [
    "## Diffusion over background graph PathMeUniverse vs KEGG "
   ]
  },
  {
   "cell_type": "code",
   "execution_count": 33,
   "metadata": {},
   "outputs": [],
   "source": [
    "universe1 = [i for k, v in metrics_datset1['auroc_metrics_by_method'].items() for i in v]\n",
    "universe2 = [i for k, v in metrics_datset2['auroc_metrics_by_method'].items() for i in v]\n",
    "universe3 = [i for k, v in metrics_datset3['auroc_metrics_by_method'].items() for i in v]\n",
    "\n",
    "kegg1 = [i for k, v in metrics_datset1_kegg['auroc_metrics_by_method'].items() for i in v]\n",
    "kegg2 = [i for k, v in metrics_datset2_kegg['auroc_metrics_by_method'].items() for i in v]\n",
    "kegg3 = [i for k, v in metrics_datset3_kegg['auroc_metrics_by_method'].items() for i in v]"
   ]
  },
  {
   "cell_type": "code",
   "execution_count": 35,
   "metadata": {},
   "outputs": [
    {
     "name": "stderr",
     "output_type": "stream",
     "text": [
      "/usr/local/lib/python3.7/site-packages/plotly/tools.py:1108: UserWarning:\n",
      "\n",
      "Looks like you used a newline character: '\\n'.\n",
      "\n",
      "Plotly uses a subset of HTML escape characters\n",
      "to do things like newline (<br>), bold (<b></b>),\n",
      "italics (<i></i>), etc. Your newline characters \n",
      "have been converted to '<br>' so they will show \n",
      "up right on your Plotly figure!\n",
      "\n",
      "/usr/local/lib/python3.7/site-packages/plotly/tools.py:1108: UserWarning:\n",
      "\n",
      "Looks like you used a newline character: '\\n'.\n",
      "\n",
      "Plotly uses a subset of HTML escape characters\n",
      "to do things like newline (<br>), bold (<b></b>),\n",
      "italics (<i></i>), etc. Your newline characters \n",
      "have been converted to '<br>' so they will show \n",
      "up right on your Plotly figure!\n",
      "\n",
      "/usr/local/lib/python3.7/site-packages/plotly/tools.py:1108: UserWarning:\n",
      "\n",
      "Looks like you used a newline character: '\\n'.\n",
      "\n",
      "Plotly uses a subset of HTML escape characters\n",
      "to do things like newline (<br>), bold (<b></b>),\n",
      "italics (<i></i>), etc. Your newline characters \n",
      "have been converted to '<br>' so they will show \n",
      "up right on your Plotly figure!\n",
      "\n",
      "/usr/local/lib/python3.7/site-packages/plotly/tools.py:1108: UserWarning:\n",
      "\n",
      "Looks like you used a newline character: '\\n'.\n",
      "\n",
      "Plotly uses a subset of HTML escape characters\n",
      "to do things like newline (<br>), bold (<b></b>),\n",
      "italics (<i></i>), etc. Your newline characters \n",
      "have been converted to '<br>' so they will show \n",
      "up right on your Plotly figure!\n",
      "\n",
      "/usr/local/lib/python3.7/site-packages/plotly/tools.py:1108: UserWarning:\n",
      "\n",
      "Looks like you used a newline character: '\\n'.\n",
      "\n",
      "Plotly uses a subset of HTML escape characters\n",
      "to do things like newline (<br>), bold (<b></b>),\n",
      "italics (<i></i>), etc. Your newline characters \n",
      "have been converted to '<br>' so they will show \n",
      "up right on your Plotly figure!\n",
      "\n",
      "/usr/local/lib/python3.7/site-packages/plotly/tools.py:1108: UserWarning:\n",
      "\n",
      "Looks like you used a newline character: '\\n'.\n",
      "\n",
      "Plotly uses a subset of HTML escape characters\n",
      "to do things like newline (<br>), bold (<b></b>),\n",
      "italics (<i></i>), etc. Your newline characters \n",
      "have been converted to '<br>' so they will show \n",
      "up right on your Plotly figure!\n",
      "\n",
      "/usr/local/Cellar/ipython/7.2.0/libexec/lib/python3.7/site-packages/IPython/core/display.py:689: UserWarning:\n",
      "\n",
      "Consider using IPython.display.IFrame instead\n",
      "\n"
     ]
    },
    {
     "data": {
      "text/html": [
       "<iframe id=\"igraph\" scrolling=\"no\" style=\"border:none;\" seamless=\"seamless\" src=\"https://plot.ly/~jomalla/12.embed\" height=\"525px\" width=\"100%\"></iframe>"
      ],
      "text/plain": [
       "<chart_studio.tools.PlotlyDisplay object>"
      ]
     },
     "execution_count": 35,
     "metadata": {},
     "output_type": "execute_result"
    }
   ],
   "source": [
    "import plotly.plotly as py\n",
    "import plotly.graph_objs as go\n",
    "\n",
    "x = ['raw', 'raw', 'raw', 'raw',\n",
    "     'z', 'z', 'z', 'z',\n",
    "     'page_rank_baseline', 'page_rank_baseline', 'page_rank_baseline', 'page_rank_baseline',\n",
    "     'random_baseline', 'random_baseline', 'random_baseline', 'random_baseline',\n",
    "    ]\n",
    "\n",
    "trace0 = go.Box(\n",
    "    y=kegg1,\n",
    "    x=x,\n",
    "    name='Dataset1\\nKEGG',\n",
    "    marker=dict(\n",
    "        color='#85eabd'\n",
    "    )\n",
    ")\n",
    "trace1 = go.Box(\n",
    "    y=universe1,\n",
    "    x=x,\n",
    "    name='Dataset1\\nPathMeUniverse\\n(KEGG + Reactome + WP)\\n\\n',\n",
    "    marker=dict(\n",
    "        color='#3D9970'\n",
    "    )\n",
    ")\n",
    "\n",
    "trace01 = go.Box(\n",
    "    y=kegg2,\n",
    "    x=x,\n",
    "    name='Dataset2\\nKEGG',\n",
    "    marker=dict(\n",
    "        color='#ed8e89'\n",
    "    )\n",
    ")\n",
    "trace11 = go.Box(\n",
    "    y=universe2,\n",
    "    x=x,\n",
    "    name='Dataset2\\nPathMeUniverse\\n(KEGG + Reactome + WP)\\n\\n',\n",
    "    marker=dict(\n",
    "        color='#FF4136'\n",
    "    )\n",
    ")\n",
    "\n",
    "trace02 = go.Box(\n",
    "    y=kegg3,\n",
    "    x=x,\n",
    "    name='Dataset3\\nKEGG',\n",
    "    marker=dict(\n",
    "        color='#75b5d6'\n",
    "    )\n",
    ")\n",
    "trace12 = go.Box(\n",
    "    y=universe3,\n",
    "    x=x,\n",
    "    name='Dataset3\\nPathMeUniverse\\n(KEGG + Reactome + WP)\\n\\n',\n",
    "    marker=dict(\n",
    "        color='#0f6c9b'\n",
    "    )\n",
    ")\n",
    "\n",
    "\n",
    "\n",
    "data = [trace0, trace1, trace01, trace11, trace02, trace12]\n",
    "layout = go.Layout(\n",
    "    yaxis=dict(\n",
    "        title='AUROC',\n",
    "        zeroline=False\n",
    "    ),\n",
    "    boxmode='group'\n",
    ")\n",
    "fig = go.Figure(data=data, layout=layout)\n",
    "py.iplot(fig)"
   ]
  },
  {
   "cell_type": "code",
   "execution_count": 40,
   "metadata": {},
   "outputs": [],
   "source": [
    "universe1 = [i for k, v in metrics_datset1['auprc_metrics_by_method'].items() for i in v]\n",
    "universe2 = [i for k, v in metrics_datset2['auprc_metrics_by_method'].items() for i in v]\n",
    "universe3 = [i for k, v in metrics_datset3['auprc_metrics_by_method'].items() for i in v]\n",
    "\n",
    "kegg1 = [i for k, v in metrics_datset1_kegg['auprc_metrics_by_method'].items() for i in v]\n",
    "kegg2 = [i for k, v in metrics_datset2_kegg['auprc_metrics_by_method'].items() for i in v]\n",
    "kegg3 = [i for k, v in metrics_datset3_kegg['auprc_metrics_by_method'].items() for i in v]"
   ]
  },
  {
   "cell_type": "code",
   "execution_count": 41,
   "metadata": {},
   "outputs": [
    {
     "name": "stderr",
     "output_type": "stream",
     "text": [
      "/usr/local/lib/python3.7/site-packages/plotly/tools.py:1108: UserWarning:\n",
      "\n",
      "Looks like you used a newline character: '\\n'.\n",
      "\n",
      "Plotly uses a subset of HTML escape characters\n",
      "to do things like newline (<br>), bold (<b></b>),\n",
      "italics (<i></i>), etc. Your newline characters \n",
      "have been converted to '<br>' so they will show \n",
      "up right on your Plotly figure!\n",
      "\n",
      "/usr/local/lib/python3.7/site-packages/plotly/tools.py:1108: UserWarning:\n",
      "\n",
      "Looks like you used a newline character: '\\n'.\n",
      "\n",
      "Plotly uses a subset of HTML escape characters\n",
      "to do things like newline (<br>), bold (<b></b>),\n",
      "italics (<i></i>), etc. Your newline characters \n",
      "have been converted to '<br>' so they will show \n",
      "up right on your Plotly figure!\n",
      "\n",
      "/usr/local/lib/python3.7/site-packages/plotly/tools.py:1108: UserWarning:\n",
      "\n",
      "Looks like you used a newline character: '\\n'.\n",
      "\n",
      "Plotly uses a subset of HTML escape characters\n",
      "to do things like newline (<br>), bold (<b></b>),\n",
      "italics (<i></i>), etc. Your newline characters \n",
      "have been converted to '<br>' so they will show \n",
      "up right on your Plotly figure!\n",
      "\n",
      "/usr/local/lib/python3.7/site-packages/plotly/tools.py:1108: UserWarning:\n",
      "\n",
      "Looks like you used a newline character: '\\n'.\n",
      "\n",
      "Plotly uses a subset of HTML escape characters\n",
      "to do things like newline (<br>), bold (<b></b>),\n",
      "italics (<i></i>), etc. Your newline characters \n",
      "have been converted to '<br>' so they will show \n",
      "up right on your Plotly figure!\n",
      "\n",
      "/usr/local/lib/python3.7/site-packages/plotly/tools.py:1108: UserWarning:\n",
      "\n",
      "Looks like you used a newline character: '\\n'.\n",
      "\n",
      "Plotly uses a subset of HTML escape characters\n",
      "to do things like newline (<br>), bold (<b></b>),\n",
      "italics (<i></i>), etc. Your newline characters \n",
      "have been converted to '<br>' so they will show \n",
      "up right on your Plotly figure!\n",
      "\n",
      "/usr/local/lib/python3.7/site-packages/plotly/tools.py:1108: UserWarning:\n",
      "\n",
      "Looks like you used a newline character: '\\n'.\n",
      "\n",
      "Plotly uses a subset of HTML escape characters\n",
      "to do things like newline (<br>), bold (<b></b>),\n",
      "italics (<i></i>), etc. Your newline characters \n",
      "have been converted to '<br>' so they will show \n",
      "up right on your Plotly figure!\n",
      "\n",
      "/usr/local/Cellar/ipython/7.2.0/libexec/lib/python3.7/site-packages/IPython/core/display.py:689: UserWarning:\n",
      "\n",
      "Consider using IPython.display.IFrame instead\n",
      "\n"
     ]
    },
    {
     "data": {
      "text/html": [
       "<iframe id=\"igraph\" scrolling=\"no\" style=\"border:none;\" seamless=\"seamless\" src=\"https://plot.ly/~jomalla/16.embed\" height=\"525px\" width=\"100%\"></iframe>"
      ],
      "text/plain": [
       "<chart_studio.tools.PlotlyDisplay object>"
      ]
     },
     "execution_count": 41,
     "metadata": {},
     "output_type": "execute_result"
    }
   ],
   "source": [
    "import plotly.plotly as py\n",
    "import plotly.graph_objs as go\n",
    "\n",
    "x = ['raw', 'raw', 'raw', 'raw',\n",
    "     'z', 'z', 'z', 'z',\n",
    "     'page_rank_baseline', 'page_rank_baseline', 'page_rank_baseline', 'page_rank_baseline',\n",
    "     'random_baseline', 'random_baseline', 'random_baseline', 'random_baseline',\n",
    "    ]\n",
    "\n",
    "trace0 = go.Box(\n",
    "    y=kegg1,\n",
    "    x=x,\n",
    "    name='Dataset1\\nKEGG',\n",
    "    marker=dict(\n",
    "        color='#85eabd'\n",
    "    )\n",
    ")\n",
    "trace1 = go.Box(\n",
    "    y=universe1,\n",
    "    x=x,\n",
    "    name='Dataset1\\nPathMeUniverse\\n(KEGG + Reactome + WP)\\n\\n',\n",
    "    marker=dict(\n",
    "        color='#3D9970'\n",
    "    )\n",
    ")\n",
    "\n",
    "trace01 = go.Box(\n",
    "    y=kegg2,\n",
    "    x=x,\n",
    "    name='Dataset2\\nKEGG',\n",
    "    marker=dict(\n",
    "        color='#ed8e89'\n",
    "    )\n",
    ")\n",
    "trace11 = go.Box(\n",
    "    y=universe2,\n",
    "    x=x,\n",
    "    name='Dataset2\\nPathMeUniverse\\n(KEGG + Reactome + WP)\\n\\n',\n",
    "    marker=dict(\n",
    "        color='#FF4136'\n",
    "    )\n",
    ")\n",
    "\n",
    "trace02 = go.Box(\n",
    "    y=kegg3,\n",
    "    x=x,\n",
    "    name='Dataset3\\nKEGG',\n",
    "    marker=dict(\n",
    "        color='#75b5d6'\n",
    "    )\n",
    ")\n",
    "trace12 = go.Box(\n",
    "    y=universe3,\n",
    "    x=x,\n",
    "    name='Dataset3\\nPathMeUniverse\\n(KEGG + Reactome + WP)\\n\\n',\n",
    "    marker=dict(\n",
    "        color='#0f6c9b'\n",
    "    )\n",
    ")\n",
    "\n",
    "\n",
    "\n",
    "data = [trace0, trace1, trace01, trace11, trace02, trace12]\n",
    "layout = go.Layout(\n",
    "    yaxis=dict(\n",
    "        title='AUPRC',\n",
    "        zeroline=False\n",
    "    ),\n",
    "    boxmode='group'\n",
    ")\n",
    "fig = go.Figure(data=data, layout=layout)\n",
    "py.iplot(fig)"
   ]
  },
  {
   "cell_type": "code",
   "execution_count": 9,
   "metadata": {},
   "outputs": [
    {
     "name": "stderr",
     "output_type": "stream",
     "text": [
      "/usr/local/lib/python3.7/site-packages/plotly/tools.py:1108: UserWarning:\n",
      "\n",
      "Looks like you used a newline character: '\\n'.\n",
      "\n",
      "Plotly uses a subset of HTML escape characters\n",
      "to do things like newline (<br>), bold (<b></b>),\n",
      "italics (<i></i>), etc. Your newline characters \n",
      "have been converted to '<br>' so they will show \n",
      "up right on your Plotly figure!\n",
      "\n",
      "/usr/local/Cellar/ipython/7.2.0/libexec/lib/python3.7/site-packages/IPython/core/display.py:689: UserWarning:\n",
      "\n",
      "Consider using IPython.display.IFrame instead\n",
      "\n"
     ]
    },
    {
     "data": {
      "text/html": [
       "<iframe id=\"igraph\" scrolling=\"no\" style=\"border:none;\" seamless=\"seamless\" src=\"https://plot.ly/~jomalla/2.embed\" height=\"525px\" width=\"100%\"></iframe>"
      ],
      "text/plain": [
       "<chart_studio.tools.PlotlyDisplay object>"
      ]
     },
     "execution_count": 9,
     "metadata": {},
     "output_type": "execute_result"
    }
   ],
   "source": [
    "import plotly.plotly as py\n",
    "import plotly.graph_objs as go\n",
    "\n",
    "x = ['raw', 'raw', 'raw', 'raw',\n",
    "     'z', 'z', 'z', 'z',\n",
    "     'page_rank_baseline', 'page_rank_baseline', 'page_rank_baseline', 'page_rank_baseline',\n",
    "     'random_baseline', 'random_baseline', 'random_baseline', 'random_baseline',\n",
    "    ]\n",
    "\n",
    "trace0 = go.Box(\n",
    "    y=kegg1,\n",
    "    x=x,\n",
    "    name='KEGG',\n",
    "    marker=dict(\n",
    "        color='#FF4136'\n",
    "    )\n",
    ")\n",
    "trace1 = go.Box(\n",
    "    y=universe1,\n",
    "    x=x,\n",
    "    name='PathMeUniverse\\n(KEGG + Reactome + WP)',\n",
    "    marker=dict(\n",
    "        color='#3D9970'\n",
    "    )\n",
    ")\n",
    "\n",
    "\n",
    "trace01 = go.Box(\n",
    "    y=kegg1,\n",
    "    x=x,\n",
    "    name='KEGG',\n",
    "    marker=dict(\n",
    "        color='#FF4136'\n",
    "    )\n",
    ")\n",
    "trace11 = go.Box(\n",
    "    y=universe1,\n",
    "    x=x,\n",
    "    name='PathMeUniverse\\n(KEGG + Reactome + WP)',\n",
    "    marker=dict(\n",
    "        color='#3D9970'\n",
    "    )\n",
    ")\n",
    "\n",
    "\n",
    "\n",
    "trace02 = go.Box(\n",
    "    y=kegg1,\n",
    "    x=x,\n",
    "    name='KEGG',\n",
    "    marker=dict(\n",
    "        color='#FF4136'\n",
    "    )\n",
    ")\n",
    "trace12 = go.Box(\n",
    "    y=universe1,\n",
    "    x=x,\n",
    "    name='PathMeUniverse\\n(KEGG + Reactome + WP)',\n",
    "    marker=dict(\n",
    "        color='#3D9970'\n",
    "    )\n",
    ")\n",
    "\n",
    "\n",
    "\n",
    "data = [trace0, trace1]\n",
    "layout = go.Layout(\n",
    "    yaxis=dict(\n",
    "        title='AUROC',\n",
    "        zeroline=False\n",
    "    ),\n",
    "    boxmode='group'\n",
    ")\n",
    "fig = go.Figure(data=data, layout=layout)\n",
    "py.iplot(fig)"
   ]
  },
  {
   "cell_type": "code",
   "execution_count": 10,
   "metadata": {},
   "outputs": [
    {
     "name": "stderr",
     "output_type": "stream",
     "text": [
      "/usr/local/lib/python3.7/site-packages/plotly/tools.py:1108: UserWarning:\n",
      "\n",
      "Looks like you used a newline character: '\\n'.\n",
      "\n",
      "Plotly uses a subset of HTML escape characters\n",
      "to do things like newline (<br>), bold (<b></b>),\n",
      "italics (<i></i>), etc. Your newline characters \n",
      "have been converted to '<br>' so they will show \n",
      "up right on your Plotly figure!\n",
      "\n",
      "/usr/local/Cellar/ipython/7.2.0/libexec/lib/python3.7/site-packages/IPython/core/display.py:689: UserWarning:\n",
      "\n",
      "Consider using IPython.display.IFrame instead\n",
      "\n"
     ]
    },
    {
     "data": {
      "text/html": [
       "<iframe id=\"igraph\" scrolling=\"no\" style=\"border:none;\" seamless=\"seamless\" src=\"https://plot.ly/~jomalla/4.embed\" height=\"525px\" width=\"100%\"></iframe>"
      ],
      "text/plain": [
       "<chart_studio.tools.PlotlyDisplay object>"
      ]
     },
     "execution_count": 10,
     "metadata": {},
     "output_type": "execute_result"
    }
   ],
   "source": [
    "import plotly.plotly as py\n",
    "import plotly.graph_objs as go\n",
    "\n",
    "x = ['raw', 'raw', 'raw', 'raw',\n",
    "     'z', 'z', 'z', 'z',\n",
    "     'page_rank_baseline', 'page_rank_baseline', 'page_rank_baseline', 'page_rank_baseline',\n",
    "     'random_baseline', 'random_baseline', 'random_baseline', 'random_baseline',\n",
    "    ]\n",
    "\n",
    "trace0 = go.Box(\n",
    "    y=kegg2,\n",
    "    x=x,\n",
    "    name='KEGG',\n",
    "    marker=dict(\n",
    "        color='#FF4136'\n",
    "    )\n",
    ")\n",
    "trace1 = go.Box(\n",
    "    y=universe2,\n",
    "    x=x,\n",
    "    name='PathMeUniverse\\n(KEGG + Reactome + WP)',\n",
    "    marker=dict(\n",
    "        color='#3D9970'\n",
    "    )\n",
    ")\n",
    "\n",
    "data = [trace0, trace1]\n",
    "layout = go.Layout(\n",
    "    yaxis=dict(\n",
    "        title='AUROC',\n",
    "        zeroline=False\n",
    "    ),\n",
    "    boxmode='group'\n",
    ")\n",
    "fig = go.Figure(data=data, layout=layout)\n",
    "py.iplot(fig)"
   ]
  },
  {
   "cell_type": "code",
   "execution_count": 6,
   "metadata": {},
   "outputs": [],
   "source": [
    "dic = {\n",
    "    'miRNA': {\n",
    "        'raw': [0, 1, 2, 4],\n",
    "        'z': [0, 1, 2, 4],\n",
    "        'page_rank_baseline': [0, 1, 2, 4],\n",
    "        'random_baseline': [0, 1, 2, 4],\n",
    "         },\n",
    "    'metabolites': {\n",
    "        'raw': [0, 1, 2, 4],\n",
    "        'z': [0, 1, 2, 4],\n",
    "        'page_rank_baseline': [0, 1, 2, 4],\n",
    "        'random_baseline': [0, 1, 2, 4],\n",
    "         }\n",
    "}"
   ]
  },
  {
   "cell_type": "code",
   "execution_count": 8,
   "metadata": {},
   "outputs": [],
   "source": [
    "x = [k for k, v in dic.items() for i in range(len(list(v.values())[0]))]"
   ]
  },
  {
   "cell_type": "code",
   "execution_count": 9,
   "metadata": {},
   "outputs": [
    {
     "data": {
      "text/plain": [
       "['miRNA',\n",
       " 'miRNA',\n",
       " 'miRNA',\n",
       " 'miRNA',\n",
       " 'metabolites',\n",
       " 'metabolites',\n",
       " 'metabolites',\n",
       " 'metabolites']"
      ]
     },
     "execution_count": 9,
     "metadata": {},
     "output_type": "execute_result"
    }
   ],
   "source": [
    "x"
   ]
  },
  {
   "cell_type": "code",
   "execution_count": 11,
   "metadata": {
    "scrolled": false
   },
   "outputs": [
    {
     "name": "stderr",
     "output_type": "stream",
     "text": [
      "/usr/local/lib/python3.7/site-packages/plotly/tools.py:1108: UserWarning:\n",
      "\n",
      "Looks like you used a newline character: '\\n'.\n",
      "\n",
      "Plotly uses a subset of HTML escape characters\n",
      "to do things like newline (<br>), bold (<b></b>),\n",
      "italics (<i></i>), etc. Your newline characters \n",
      "have been converted to '<br>' so they will show \n",
      "up right on your Plotly figure!\n",
      "\n",
      "/usr/local/Cellar/ipython/7.2.0/libexec/lib/python3.7/site-packages/IPython/core/display.py:689: UserWarning:\n",
      "\n",
      "Consider using IPython.display.IFrame instead\n",
      "\n"
     ]
    },
    {
     "data": {
      "text/html": [
       "<iframe id=\"igraph\" scrolling=\"no\" style=\"border:none;\" seamless=\"seamless\" src=\"https://plot.ly/~jomalla/6.embed\" height=\"525px\" width=\"100%\"></iframe>"
      ],
      "text/plain": [
       "<chart_studio.tools.PlotlyDisplay object>"
      ]
     },
     "execution_count": 11,
     "metadata": {},
     "output_type": "execute_result"
    }
   ],
   "source": [
    "import plotly.plotly as py\n",
    "import plotly.graph_objs as go\n",
    "\n",
    "{\n",
    "    raw: len\n",
    "    x: ''\n",
    "}\n",
    "\n",
    "x = ['raw', 'raw', 'raw', 'raw',\n",
    "     'z', 'z', 'z', 'z',\n",
    "     'page_rank_baseline', 'page_rank_baseline', 'page_rank_baseline', 'page_rank_baseline',\n",
    "     'random_baseline', 'random_baseline', 'random_baseline', 'random_baseline',\n",
    "    ]\n",
    "\n",
    "trace0 = go.Box(\n",
    "    y=kegg3,\n",
    "    x=x,\n",
    "    name='KEGG',\n",
    "    marker=dict(\n",
    "        color='#FF4136'\n",
    "    )\n",
    ")\n",
    "trace1 = go.Box(\n",
    "    y=universe3,\n",
    "    x=x,\n",
    "    name='PathMeUniverse\\n(KEGG + Reactome + WP)',\n",
    "    marker=dict(\n",
    "        color='#3D9970'\n",
    "    )\n",
    ")\n",
    "\n",
    "\n",
    "data = [trace0, trace1]\n",
    "layout = go.Layout(\n",
    "    yaxis=dict(\n",
    "        title='AUROC',\n",
    "        zeroline=False\n",
    "    ),\n",
    "    boxmode='group'\n",
    ")\n",
    "fig = go.Figure(data=data, layout=layout)\n",
    "py.iplot(fig)"
   ]
  },
  {
   "cell_type": "code",
   "execution_count": 12,
   "metadata": {},
   "outputs": [],
   "source": [
    "auroc_dataset1_kegg = metrics_datset1_kegg['auroc_metrics_by_method']\n",
    "auroc_dataset1 = metrics_datset1['auroc_metrics_by_method']"
   ]
  },
  {
   "cell_type": "code",
   "execution_count": 38,
   "metadata": {},
   "outputs": [],
   "source": [
    "universe1 = metrics_datset1['auprc_metrics_by_method']\n",
    "universe2 = metrics_datset2['auprc_metrics_by_method']\n",
    "universe3 = metrics_datset3['auprc_metrics_by_method']\n",
    "\n",
    "kegg1 = metrics_datset1_kegg['auprc_metrics_by_method']\n",
    "kegg2 = metrics_datset2_kegg['auprc_metrics_by_method']\n",
    "kegg3 = metrics_datset3_kegg['auprc_metrics_by_method']"
   ]
  },
  {
   "cell_type": "code",
   "execution_count": 39,
   "metadata": {},
   "outputs": [
    {
     "name": "stdout",
     "output_type": "stream",
     "text": [
      "({'raw': [0.07181166696846186, 0.07037949774881609, 0.0717685587266827, 0.0732463121636453], 'z': [0.07382475247502145, 0.07389320420912997, 0.07547222218281317, 0.0760991548386354], 'page_rank_baseline': [0.06231896961870931, 0.056188535559665596, 0.05828139749151038, 0.05868865365585963], 'random_baseline': [0.06282317873495813, 0.06359762196387701, 0.05954783857817756, 0.06316267360538742]}, {'raw': [0.05008090973593042, 0.04905305229996644, 0.05027543487760094, 0.05124839139425783], 'z': [0.05180576794394885, 0.05055594885040604, 0.052799072423154965, 0.05282381348208484], 'page_rank_baseline': [0.035900112252959214, 0.03520091656848054, 0.0350019216447377, 0.03688380757390392], 'random_baseline': [0.026958512542151293, 0.027764391739946142, 0.027173648376951402, 0.027932496354575172]})\n",
      "({'raw': [0.021950922862984588, 0.015470551554088666, 0.012751558013932612, 0.01949773731811407], 'z': [0.015066605566788554, 0.012004858873394269, 0.010895165202610746, 0.014915378920471175], 'page_rank_baseline': [0.003694580657895246, 0.002570666372544525, 0.0041389522011153704, 0.0029480112104736654], 'random_baseline': [0.0044159710824644245, 0.001269328688911559, 0.0012478095656016503, 0.001315081889848123]}, {'raw': [0.008944841933994835, 0.014606635782610119, 0.007776799918985168, 0.009102918548801955], 'z': [0.014937066683138819, 0.018369069501902396, 0.011472212720791984, 0.008701912298297865], 'page_rank_baseline': [0.0022150715984291082, 0.0014040513015984247, 0.003762802445206253, 0.0027358941757811015], 'random_baseline': [0.0003700509890542085, 0.00039135457486526586, 0.00044304425917881195, 0.0003990360147081763]})\n",
      "({'raw': [0.004891569477737732, 0.009147500021182961, 0.006384908348950072, 0.00387624567626059], 'z': [0.0032428772786566593, 0.005613611940237609, 0.005425975922484693, 0.003264139715157195], 'page_rank_baseline': [0.0013465903626713575, 0.0011005761281712278, 0.001366406680444159, 0.0010655914892136484], 'random_baseline': [0.031331653907054356, 0.0009477803360775385, 0.0010462683827254754, 0.0010095683107348983]}, {'raw': [0.007162337494159444, 0.004375856958263396, 0.0032642064982333196, 0.005135467644750001], 'z': [0.007821749331831792, 0.004856210255961098, 0.003896834795337698, 0.006289772548871168], 'page_rank_baseline': [0.002235931190126127, 0.0015213910585310788, 0.00127025346666053, 0.003245567027568298], 'random_baseline': [0.0005800302556780209, 0.0003904265162550234, 0.0003573831519209017, 0.0007904622539147363]})\n"
     ]
    },
    {
     "data": {
      "image/png": "[encoded data removed]",
      "text/plain": [
       "<Figure size 1332x756 with 1 Axes>"
      ]
     },
     "metadata": {
      "needs_background": "light"
     },
     "output_type": "display_data"
    }
   ],
   "source": [
    "fdr_barchart_three_plot(((kegg1, universe1), (kegg2, universe2), (kegg3, universe3)), get_p_values_multiple, \"Validation of PathMeUniverse\")\n",
    "\n"
   ]
  },
  {
   "cell_type": "markdown",
   "metadata": {},
   "source": [
    "## Validation summary all datasets"
   ]
  },
  {
   "cell_type": "markdown",
   "metadata": {},
   "source": [
    "### AUROC"
   ]
  },
  {
   "cell_type": "code",
   "execution_count": null,
   "metadata": {},
   "outputs": [],
   "source": [
    "auroc_dataset1 = metrics_datset1['auroc_metrics_by_method']\n",
    "auroc_dataset2 = metrics_datset2['auroc_metrics_by_method']\n",
    "auroc_dataset3 = metrics_datset3['auroc_metrics_by_method']"
   ]
  },
  {
   "cell_type": "code",
   "execution_count": null,
   "metadata": {},
   "outputs": [],
   "source": [
    "dataset1 = [i for k, v in auroc_dataset1.items() for i in v]\n",
    "dataset2 = [i for k, v in auroc_dataset2.items() for i in v]\n",
    "dataset3 = [i for k, v in auroc_dataset3.items() for i in v]"
   ]
  },
  {
   "cell_type": "code",
   "execution_count": null,
   "metadata": {},
   "outputs": [],
   "source": [
    "import plotly.plotly as py\n",
    "import plotly.graph_objs as go\n",
    "\n",
    "x = ['raw', 'raw', 'raw', 'raw',\n",
    "     'z', 'z', 'z', 'z',\n",
    "     'page_rank_baseline', 'page_rank_baseline', 'page_rank_baseline', 'page_rank_baseline',\n",
    "     'random_baseline', 'random_baseline', 'random_baseline', 'random_baseline',\n",
    "    ]\n",
    "\n",
    "trace0 = go.Box(\n",
    "    y=dataset1,\n",
    "    x=x,\n",
    "    name='Dataset 1',\n",
    "    marker=dict(\n",
    "        color='#3D9970'\n",
    "    )\n",
    ")\n",
    "trace1 = go.Box(\n",
    "    y=dataset2,\n",
    "    x=x,\n",
    "    name='Dataset 2',\n",
    "    marker=dict(\n",
    "        color='#FF4136'\n",
    "    )\n",
    ")\n",
    "trace2 = go.Box(\n",
    "    y=dataset3,\n",
    "    x=x,\n",
    "    name='Dataset 3',\n",
    "    marker=dict(\n",
    "        color='#0f6c9b'\n",
    "    )\n",
    ")\n",
    "\n",
    "data = [trace0, trace1, trace2]\n",
    "layout = go.Layout(\n",
    "    yaxis=dict(\n",
    "        title='AUROC',\n",
    "        zeroline=False\n",
    "    ),\n",
    "    boxmode='group'\n",
    ")\n",
    "fig = go.Figure(data=data, layout=layout)\n",
    "py.iplot(fig)"
   ]
  },
  {
   "cell_type": "code",
   "execution_count": null,
   "metadata": {},
   "outputs": [],
   "source": [
    "fdr_barchart_three_plot((auroc_dataset1, auroc_dataset2, auroc_dataset3), get_p_values, \"Statistic Test AUROC Random Validation by Method \")\n"
   ]
  },
  {
   "cell_type": "code",
   "execution_count": null,
   "metadata": {},
   "outputs": [],
   "source": [
    "fdr_three_plot((auroc_dataset1, auroc_dataset2, auroc_dataset3), get_p_values, \"All Datasets Random Validation by Method AUROC\")\n"
   ]
  },
  {
   "cell_type": "markdown",
   "metadata": {},
   "source": [
    "### AUPRC"
   ]
  },
  {
   "cell_type": "code",
   "execution_count": null,
   "metadata": {},
   "outputs": [],
   "source": [
    "auprc_dataset1 = metrics_datset1['auprc_metrics_by_method']\n",
    "auprc_dataset2 = metrics_datset2['auprc_metrics_by_method']\n",
    "auprc_dataset3 = metrics_datset3['auprc_metrics_by_method']"
   ]
  },
  {
   "cell_type": "code",
   "execution_count": null,
   "metadata": {},
   "outputs": [],
   "source": [
    "dataset1 = [i for k, v in auprc_dataset1.items() for i in v]\n",
    "dataset2 = [i for k, v in auprc_dataset2.items() for i in v]\n",
    "dataset3 = [i for k, v in auprc_dataset3.items() for i in v]"
   ]
  },
  {
   "cell_type": "code",
   "execution_count": null,
   "metadata": {},
   "outputs": [],
   "source": [
    "import plotly.plotly as py\n",
    "import plotly.graph_objs as go\n",
    "\n",
    "x = ['raw', 'raw', 'raw', 'raw',\n",
    "     'z', 'z', 'z', 'z',\n",
    "     'page_rank_baseline', 'page_rank_baseline', 'page_rank_baseline', 'page_rank_baseline',\n",
    "     'random_baseline', 'random_baseline', 'random_baseline', 'random_baseline',\n",
    "    ]\n",
    "\n",
    "trace0 = go.Box(\n",
    "    y=dataset1,\n",
    "    x=x,\n",
    "    name='Dataset 1',\n",
    "    marker=dict(\n",
    "        color='#3D9970'\n",
    "    )\n",
    ")\n",
    "trace1 = go.Box(\n",
    "    y=dataset2,\n",
    "    x=x,\n",
    "    name='Dataset 2',\n",
    "    marker=dict(\n",
    "        color='#FF4136'\n",
    "    )\n",
    ")\n",
    "trace2 = go.Box(\n",
    "    y=dataset3,\n",
    "    x=x,\n",
    "    name='Dataset 3',\n",
    "    marker=dict(\n",
    "        color='#0f6c9b'\n",
    "    )\n",
    ")\n",
    "\n",
    "data = [trace0, trace1, trace2]\n",
    "layout = go.Layout(\n",
    "    yaxis=dict(\n",
    "        title='AUPRC',\n",
    "        zeroline=False\n",
    "    ),\n",
    "    boxmode='group'\n",
    ")\n",
    "fig = go.Figure(data=data, layout=layout)\n",
    "py.iplot(fig)"
   ]
  },
  {
   "cell_type": "code",
   "execution_count": null,
   "metadata": {},
   "outputs": [],
   "source": [
    "fdr_barchart_three_plot((auprc_dataset1, auprc_dataset2, auprc_dataset3), get_p_values, \"Statistic Test AUPRC Random Validation by Method \")\n"
   ]
  }
 ],
 "metadata": {
  "kernelspec": {
   "display_name": "Python 3",
   "language": "python",
   "name": "python3"
  },
  "language_info": {
   "codemirror_mode": {
    "name": "ipython",
    "version": 3
   },
   "file_extension": ".py",
   "mimetype": "text/x-python",
   "name": "python",
   "nbconvert_exporter": "python",
   "pygments_lexer": "ipython3",
   "version": "3.7.6"
  }
 },
 "nbformat": 4,
 "nbformat_minor": 2
}
