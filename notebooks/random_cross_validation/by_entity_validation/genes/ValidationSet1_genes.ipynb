{
 "cells": [
  {
   "cell_type": "markdown",
   "metadata": {},
   "source": [
    "# Validation Set 1: diffuPy + PathMe / Kegg "
   ]
  },
  {
   "cell_type": "code",
   "execution_count": 1,
   "metadata": {},
   "outputs": [],
   "source": [
    "import os\n",
    "import itertools\n",
    "\n",
    "import time\n",
    "\n",
    "dir_path = os.path.dirname(os.path.realpath('__file__'))"
   ]
  },
  {
   "cell_type": "code",
   "execution_count": 2,
   "metadata": {},
   "outputs": [],
   "source": [
    "from openpyxl import load_workbook\n",
    "from collections import defaultdict\n",
    "import networkx as nx"
   ]
  },
  {
   "cell_type": "code",
   "execution_count": 3,
   "metadata": {},
   "outputs": [
    {
     "data": {
      "text/plain": [
       "'0.13.2'"
      ]
     },
     "execution_count": 3,
     "metadata": {},
     "output_type": "execute_result"
    }
   ],
   "source": [
    "import pybel\n",
    "import pybel_tools as pbt\n",
    "\n",
    "from pybel import BELGraph\n",
    "from pybel.constants import RELATION, ANNOTATIONS\n",
    "from pybel.dsl import Abundance, BiologicalProcess, CentralDogma, ListAbundance, Reaction\n",
    "from pybel.struct import get_subgraph_by_annotation_value\n",
    "from pybel.struct.summary import count_functions\n",
    "\n",
    "pybel.get_version()"
   ]
  },
  {
   "cell_type": "code",
   "execution_count": 4,
   "metadata": {},
   "outputs": [],
   "source": [
    "from pathme.constants import REACTOME_BEL, KEGG_BEL, WIKIPATHWAYS_BEL, PATHME_DIR\n",
    "from pathme.export_utils import to_gml"
   ]
  },
  {
   "cell_type": "code",
   "execution_count": 5,
   "metadata": {},
   "outputs": [],
   "source": [
    "import diffupy"
   ]
  },
  {
   "cell_type": "code",
   "execution_count": 6,
   "metadata": {},
   "outputs": [],
   "source": [
    "from diffupy.diffuse import diffuse\n",
    "from diffupy.kernels import regularised_laplacian_kernel\n",
    "from diffupy.matrix import Matrix, LaplacianMatrix\n",
    "from diffupy.input_mapping import generate_categoric_input_from_labels, get_mapping, get_mapping_subsets, get_mapping_two_dim_subsets\n",
    "from diffupy.validation_datasets_parsers import parse_set1\n",
    "from diffupy.utils import print_dict_dimensions, get_labels_set_from_dict, reduce_dict_dimension, get_label_list_graph\n",
    "from diffupy.views import show_heatmap\n"
   ]
  },
  {
   "cell_type": "code",
   "execution_count": 7,
   "metadata": {},
   "outputs": [
    {
     "name": "stdout",
     "output_type": "stream",
     "text": [
      "Importing Jupyter notebook from global_database_comparison.ipynb\n"
     ]
    }
   ],
   "source": [
    "# TODO\n",
    "import nbimporter\n",
    "from global_database_comparison import get_set_database, calculate_database_sets_as_dict"
   ]
  },
  {
   "cell_type": "markdown",
   "metadata": {},
   "source": [
    "## 1. Load Data Set 1: Input Scores"
   ]
  },
  {
   "cell_type": "code",
   "execution_count": 8,
   "metadata": {
    "scrolled": true
   },
   "outputs": [],
   "source": [
    "dataset1_labels_by_omics = parse_set1(os.path.join(dir_path, 'validation', 'set1.xlsx'))"
   ]
  },
  {
   "cell_type": "code",
   "execution_count": 9,
   "metadata": {
    "scrolled": false
   },
   "outputs": [
    {
     "name": "stdout",
     "output_type": "stream",
     "text": [
      "Dataset1 imported labels:\n",
      "Total number of genes: 4941  \n",
      "Total number of micrornas: 100  \n",
      "Total number of metabolite: 21  \n",
      "Total: 5062 \n"
     ]
    }
   ],
   "source": [
    "print_dict_dimensions(dataset1_labels_by_omics, 'Dataset1 imported labels:')"
   ]
  },
  {
   "cell_type": "code",
   "execution_count": 10,
   "metadata": {
    "scrolled": true
   },
   "outputs": [],
   "source": [
    "dataset1_all_labels = get_labels_set_from_dict(dataset1_labels_by_omics)"
   ]
  },
  {
   "cell_type": "markdown",
   "metadata": {},
   "source": [
    "## 2. Load Backrgound Graph Universe"
   ]
  },
  {
   "cell_type": "markdown",
   "metadata": {},
   "source": [
    "### 2.1. PathMeUniverse import"
   ]
  },
  {
   "cell_type": "code",
   "execution_count": 11,
   "metadata": {
    "scrolled": true
   },
   "outputs": [],
   "source": [
    "pathme_universe_graph_no_flatten = pybel.from_pickle(os.path.join(PATHME_DIR, 'universe', 'pathme_universe_bel_graph_no_flatten.bel.pickle'))\n"
   ]
  },
  {
   "cell_type": "code",
   "execution_count": 12,
   "metadata": {
    "scrolled": true
   },
   "outputs": [
    {
     "name": "stdout",
     "output_type": "stream",
     "text": [
      "PathMe Universe v1.0.0\n",
      "Number of Nodes: 48643\n",
      "Number of Edges: 104713\n",
      "Number of Citations: 7696\n",
      "Number of Authors: 0\n",
      "Network Density: 4.43E-05\n",
      "Number of Components: 6860\n",
      "Number of Warnings: 0\n"
     ]
    }
   ],
   "source": [
    "pathme_universe_graph_no_flatten.summarize()"
   ]
  },
  {
   "cell_type": "code",
   "execution_count": 13,
   "metadata": {},
   "outputs": [
    {
     "data": {
      "image/png": "[encoded data removed]",
      "text/plain": [
       "<Figure size 720x288 with 2 Axes>"
      ]
     },
     "metadata": {
      "needs_background": "light"
     },
     "output_type": "display_data"
    }
   ],
   "source": [
    "import matplotlib.pyplot as plt\n",
    "from pybel_tools.summary import plot_summary, count_top_centrality\n",
    "plot_summary(pathme_universe_graph_no_flatten, plt, figsize=(10, 4))\n",
    "plt.show()"
   ]
  },
  {
   "cell_type": "markdown",
   "metadata": {},
   "source": [
    "##### Get Genes subgraph"
   ]
  },
  {
   "cell_type": "code",
   "execution_count": null,
   "metadata": {},
   "outputs": [],
   "source": [
    "from pybel.dsl import Abundance, BiologicalProcess, CentralDogma, ListAbundance, Reaction\n",
    "from pybel.struct import get_subgraph_by_annotation_value, remove_filtered_nodes\n",
    "\n",
    "from pybel import function_inclusion_filter_builder\n",
    "from pybel.constants import MIRNA, ABUNDANCE\n",
    "\n",
    "from pybel.struct.summary import count_functions"
   ]
  },
  {
   "cell_type": "code",
   "execution_count": null,
   "metadata": {
    "scrolled": true
   },
   "outputs": [
    {
     "name": "stdout",
     "output_type": "stream",
     "text": [
      "PathMe Universe v1.0.0\n",
      "Number of Nodes: 41597\n",
      "Number of Edges: 76313\n",
      "Number of Citations: 6794\n",
      "Number of Authors: 0\n",
      "Network Density: 4.41E-05\n",
      "Number of Components: 6836\n",
      "Number of Warnings: 0\n"
     ]
    }
   ],
   "source": [
    "remove_filtered_nodes(pathme_universe_graph_no_flatten, node_predicates=function_inclusion_filter_builder(MIRNA))\n",
    "remove_filtered_nodes(pathme_universe_graph_no_flatten, node_predicates=function_inclusion_filter_builder(ABUNDANCE))\n",
    "pathme_universe_graph_no_flatten.summarize()\n"
   ]
  },
  {
   "cell_type": "code",
   "execution_count": null,
   "metadata": {
    "scrolled": false
   },
   "outputs": [
    {
     "name": "stdout",
     "output_type": "stream",
     "text": [
      "PathMe Universe v1.0.0\n",
      "Number of Nodes: 41597\n",
      "Number of Edges: 76313\n",
      "Number of Citations: 6794\n",
      "Number of Authors: 0\n",
      "Network Density: 4.41E-05\n",
      "Number of Components: 6836\n",
      "Number of Warnings: 0\n"
     ]
    },
    {
     "data": {
      "image/png": "[encoded data removed]",
      "text/plain": [
       "<Figure size 720x288 with 2 Axes>"
      ]
     },
     "metadata": {
      "needs_background": "light"
     },
     "output_type": "display_data"
    }
   ],
   "source": [
    "pathme_universe_graph_no_flatten.summarize()\n",
    "count_functions(pathme_universe_graph_no_flatten)\n",
    "plot_summary(pathme_universe_graph_no_flatten, plt, figsize=(10, 4))\n",
    "plt.show()"
   ]
  },
  {
   "cell_type": "code",
   "execution_count": null,
   "metadata": {},
   "outputs": [],
   "source": [
    "#count_top_centrality(kegg_pathme_graph_no_flatten, number=30)"
   ]
  },
  {
   "cell_type": "code",
   "execution_count": null,
   "metadata": {},
   "outputs": [],
   "source": [
    "from pybel import from_pickle, to_pickle\n",
    "\n",
    "to_pickle(pathme_universe_graph_no_flatten, os.path.join(PATHME_DIR, 'pathme_universe_graph_no_flatten_genes.pickle'))"
   ]
  },
  {
   "cell_type": "markdown",
   "metadata": {},
   "source": [
    "### 2.2. Get labels subsets by entity type (omic) and database"
   ]
  },
  {
   "cell_type": "markdown",
   "metadata": {},
   "source": [
    "##### PathMe package subsets"
   ]
  },
  {
   "cell_type": "code",
   "execution_count": null,
   "metadata": {},
   "outputs": [],
   "source": [
    "def get_labels_by_db_and_omic_from_pathme(databases):\n",
    "    db_entites = defaultdict(dict)\n",
    "    entites_db = defaultdict(lambda: defaultdict(set))\n",
    "    \n",
    "    for db in databases:\n",
    "        genes, mirna, metabolites, bps = get_set_database(db)\n",
    "        db_entites[db] = {'genes': genes, 'mirna': mirna, 'metabolites': metabolites, 'bps': bps}\n",
    "        \n",
    "        for entity_type, entities in db_entites[db].items():\n",
    "            entites_db[entity_type][db] = entities\n",
    "            \n",
    "    return db_entites, entites_db"
   ]
  },
  {
   "cell_type": "code",
   "execution_count": null,
   "metadata": {
    "scrolled": true
   },
   "outputs": [
    {
     "name": "stdout",
     "output_type": "stream",
     "text": [
      "Entities in PathMe package :\n",
      "Total number of reactome: genes(8653), mirna(13), metabolites(2712), bps(2219),  \n",
      "Total number of kegg: genes(7656), mirna(149), metabolites(4421), bps(418),  \n",
      "Total number of wikipathways: genes(3361), mirna(91), metabolites(657), bps(135),  \n",
      "Total: 30485 \n"
     ]
    }
   ],
   "source": [
    "bg_labels_from_pathme_by_db_and_omic, bg_labels_from_pathme_by_omic_and_db = get_labels_by_db_and_omic_from_pathme(['reactome', 'kegg', 'wikipathways'])\n",
    "\n",
    "print_dict_dimensions(bg_labels_from_pathme_by_db_and_omic, 'Entities in PathMe package :')\n",
    "\n"
   ]
  },
  {
   "cell_type": "code",
   "execution_count": null,
   "metadata": {},
   "outputs": [],
   "source": [
    "bg_labels_from_pathme_by_omic = reduce_dict_dimension(bg_labels_from_pathme_by_omic_and_db)\n",
    "mirnas = bg_labels_from_pathme_by_omic['mirna']"
   ]
  },
  {
   "cell_type": "markdown",
   "metadata": {},
   "source": [
    "#####  PathMeUniverse Graph Subsets"
   ]
  },
  {
   "cell_type": "code",
   "execution_count": null,
   "metadata": {
    "scrolled": true
   },
   "outputs": [],
   "source": [
    "def get_labels_by_db_and_omic_from_graph(graph):\n",
    "    \n",
    "    db_subsets = defaultdict(set)\n",
    "    db_entites = defaultdict(dict)\n",
    "    entites_db = defaultdict(dict)\n",
    "\n",
    "    #entity_type_map = {'Gene':'genes', 'mirna_nodes':'mirna', 'Abundance':'metabolites', 'BiologicalProcess':'bps'}\n",
    "\n",
    "    for u, v, k in graph.edges(keys=True):\n",
    "        \n",
    "        if ANNOTATIONS not in graph[u][v][k]:\n",
    "            continue\n",
    "            \n",
    "        if 'database' not in graph[u][v][k][ANNOTATIONS]:\n",
    "            continue\n",
    "            \n",
    "        for database in graph[u][v][k][ANNOTATIONS]['database']:\n",
    "            db_subsets[database].add(u)\n",
    "            db_subsets[database].add(v)\n",
    "        \n",
    "    for database, nodes in db_subsets.items():\n",
    "        db_entites[database] = calculate_database_sets_as_dict(nodes, database)\n",
    "        \n",
    "        database_sets = calculate_database_sets_as_dict(nodes, database)\n",
    "        \n",
    "        db_entites[database] = database_sets\n",
    "    \n",
    "        for entity_type, entities in database_sets.items():\n",
    "            entites_db[entity_type][database] = entities\n",
    "        \n",
    "    return db_entites, entites_db"
   ]
  },
  {
   "cell_type": "code",
   "execution_count": null,
   "metadata": {
    "scrolled": false
   },
   "outputs": [
    {
     "name": "stdout",
     "output_type": "stream",
     "text": [
      "Entities in PathMeUniverse :\n",
      "Total number of kegg: gene_nodes(6002), mirna_nodes(122), metabolite_nodes(0), bp_nodes(112),  \n",
      "Total number of wikipathways: gene_nodes(2450), mirna_nodes(91), metabolite_nodes(0), bp_nodes(13),  \n",
      "Total number of reactome: gene_nodes(8582), mirna_nodes(13), metabolite_nodes(0), bp_nodes(5),  \n",
      "Total: 17390 \n"
     ]
    }
   ],
   "source": [
    "bg_labels_from_pathmeuniverse_by_db_and_omic, bg_labels_from_pathmeuniverse_by_omic_and_db =  get_labels_by_db_and_omic_from_graph(pathme_universe_graph_no_flatten)\n",
    "\n",
    "print_dict_dimensions(bg_labels_from_pathmeuniverse_by_db_and_omic, 'Entities in PathMeUniverse :')"
   ]
  },
  {
   "cell_type": "markdown",
   "metadata": {},
   "source": [
    "### Background  Matrix Kernels"
   ]
  },
  {
   "cell_type": "code",
   "execution_count": null,
   "metadata": {
    "scrolled": true
   },
   "outputs": [],
   "source": [
    "then = time.time()"
   ]
  },
  {
   "cell_type": "code",
   "execution_count": null,
   "metadata": {},
   "outputs": [],
   "source": [
    "import pickle\n",
    "input_path = os.path.join(PATHME_DIR, 'regularized_kernel_pathme_universe_genes.pickle')\n",
    "\n",
    "with open(input_path, 'rb') as f:\n",
    "    unpickler = pickle.Unpickler(f)\n",
    "    background_mat = unpickler.load()\n",
    "\n"
   ]
  },
  {
   "cell_type": "code",
   "execution_count": null,
   "metadata": {},
   "outputs": [
    {
     "name": "stdout",
     "output_type": "stream",
     "text": [
      "It took:  127.42420768737793  seconds\n"
     ]
    }
   ],
   "source": [
    "now = time.time()\n",
    "print(\"It took: \", now-then, \" seconds\")"
   ]
  },
  {
   "cell_type": "markdown",
   "metadata": {},
   "source": [
    "### Row labels"
   ]
  },
  {
   "cell_type": "code",
   "execution_count": null,
   "metadata": {},
   "outputs": [],
   "source": [
    "background_labels = background_mat.rows_labels"
   ]
  },
  {
   "cell_type": "code",
   "execution_count": null,
   "metadata": {},
   "outputs": [
    {
     "data": {
      "text/plain": [
       "48643"
      ]
     },
     "execution_count": 28,
     "metadata": {},
     "output_type": "execute_result"
    }
   ],
   "source": [
    "len(background_labels)"
   ]
  },
  {
   "cell_type": "code",
   "execution_count": null,
   "metadata": {},
   "outputs": [],
   "source": [
    "mirnas = dataset1_labels_by_omics['micrornas']"
   ]
  },
  {
   "cell_type": "markdown",
   "metadata": {},
   "source": [
    "## 3. Dataset label mapping to PathMeEntities"
   ]
  },
  {
   "cell_type": "markdown",
   "metadata": {},
   "source": [
    "### General mapping"
   ]
  },
  {
   "cell_type": "code",
   "execution_count": null,
   "metadata": {},
   "outputs": [
    {
     "name": "stdout",
     "output_type": "stream",
     "text": [
      "Global mapping:  (2673) 52.805215329909124%\n"
     ]
    }
   ],
   "source": [
    "all_labels_mapping = get_mapping(dataset1_all_labels, background_labels, title = 'Global mapping: ', mirnas=mirnas, print_percentage = True)\n"
   ]
  },
  {
   "cell_type": "markdown",
   "metadata": {},
   "source": [
    "### Mapping by subsets"
   ]
  },
  {
   "cell_type": "markdown",
   "metadata": {},
   "source": [
    "#### Mapping by entity type/omic"
   ]
  },
  {
   "cell_type": "code",
   "execution_count": null,
   "metadata": {
    "scrolled": true
   },
   "outputs": [
    {
     "name": "stdout",
     "output_type": "stream",
     "text": [
      "Mapping by entity type/omic:\n",
      "genes (2655) 53.73406193078324%\n",
      "micrornas (19) 19.0%\n",
      "metabolite (18) 85.71428571428571%\n",
      "Total (2692) 53.18056104306598% \n",
      "\n"
     ]
    }
   ],
   "source": [
    "mapping_by_entity, _, _ = get_mapping_subsets(dataset1_labels_by_omics, background_labels, 'entity type/omic', mirnas=mirnas)\n"
   ]
  },
  {
   "cell_type": "code",
   "execution_count": null,
   "metadata": {},
   "outputs": [
    {
     "data": {
      "text/plain": [
       "{'mir106b',\n",
       " 'mir140',\n",
       " 'mir15a',\n",
       " 'mir17',\n",
       " 'mir183',\n",
       " 'mir192',\n",
       " 'mir193b',\n",
       " 'mir21',\n",
       " 'mir222',\n",
       " 'mir27a',\n",
       " 'mir27b',\n",
       " 'mir30b',\n",
       " 'mir30d',\n",
       " 'mir30e',\n",
       " 'mir32',\n",
       " 'mir34a',\n",
       " 'mir421',\n",
       " 'mir429',\n",
       " 'mir96'}"
      ]
     },
     "execution_count": 32,
     "metadata": {},
     "output_type": "execute_result"
    }
   ],
   "source": [
    "micrornas_mapping = mapping_by_entity['micrornas'][0]\n",
    "micrornas_mapping"
   ]
  },
  {
   "cell_type": "markdown",
   "metadata": {},
   "source": [
    "#### Mapping by database"
   ]
  },
  {
   "cell_type": "code",
   "execution_count": null,
   "metadata": {
    "scrolled": false
   },
   "outputs": [
    {
     "name": "stdout",
     "output_type": "stream",
     "text": [
      "Mapping by database:\n",
      "kegg (1619) 31.983405768470963%\n",
      "wikipathways (772) 15.250888976689057%\n",
      "reactome (1262) 24.930857368629%\n",
      "Total (2393) 47.27380482022916% \n",
      "\n"
     ]
    }
   ],
   "source": [
    "background_entites_by_db = {db : set(itertools.chain.from_iterable(entities.values())) for db, entities in bg_labels_from_pathmeuniverse_by_db_and_omic.items()}\n",
    "mapping_by_db, _, _ = get_mapping_subsets(background_entites_by_db, dataset1_all_labels, 'database', mirnas=mirnas, submapping = background_labels, mirnas_mapping = micrornas_mapping, percentage_reference_labels = True)\n"
   ]
  },
  {
   "cell_type": "markdown",
   "metadata": {},
   "source": [
    "#### Mapping by entity type and database"
   ]
  },
  {
   "cell_type": "code",
   "execution_count": null,
   "metadata": {},
   "outputs": [
    {
     "name": "stdout",
     "output_type": "stream",
     "text": [
      "Mapping by Kegg:\n",
      "gene_nodes (1607) 32.5237806112123%\n",
      "mirna_nodes (12) 12.0%\n",
      "metabolite_nodes (0) 0.0%\n",
      "bp_nodes (0) 0%\n",
      "Total (1619) 25.96215522771007% \n",
      "\n",
      "Mapping by Wikipathways:\n",
      "gene_nodes (759) 15.361262902246509%\n",
      "mirna_nodes (13) 13.0%\n",
      "metabolite_nodes (0) 0.0%\n",
      "bp_nodes (0) 0%\n",
      "Total (772) 30.227094753328114% \n",
      "\n",
      "Mapping by Reactome:\n",
      "gene_nodes (1259) 25.480671928759364%\n",
      "mirna_nodes (3) 3.0%\n",
      "metabolite_nodes (0) 0.0%\n",
      "bp_nodes (0) 0%\n",
      "Total (1262) 14.674418604651162% \n",
      "\n",
      "Total (2393) 47.27380482022916% \n",
      "\n"
     ]
    }
   ],
   "source": [
    "mapping_by_database_and_entity, total_percentage, total_dimention = get_mapping_two_dim_subsets(bg_labels_from_pathmeuniverse_by_db_and_omic, dataset1_all_labels, relative_statistics = dataset1_labels_by_omics, mirnas_mapping = micrornas_mapping)\n"
   ]
  },
  {
   "cell_type": "markdown",
   "metadata": {},
   "source": [
    "### Mapping descriptive view"
   ]
  },
  {
   "cell_type": "code",
   "execution_count": null,
   "metadata": {},
   "outputs": [],
   "source": [
    "all_count = []\n",
    "all_percentage = []\n",
    "\n",
    "entity_type_map = {'metabolite_nodes': 'metabolite', 'mirna_nodes': 'micrornas', 'gene_nodes': 'genes',\n",
    "                    'bp_nodes': 'bps'}\n",
    "\n",
    "for db_name, entities_by_type in mapping_by_database_and_entity.items():\n",
    "    db_count = []\n",
    "    db_percentage = []\n",
    "\n",
    "    for entity_type, entities_tupple in entities_by_type[0].items():\n",
    "        db_count.append(len(entities_tupple[0]))\n",
    "        db_percentage.append(entities_tupple[1])\n",
    "        \n",
    "        \n",
    "    all_count.append(db_count)\n",
    "    all_percentage.append(db_percentage)\n",
    "\n",
    "db_count = []\n",
    "db_percentage = []\n",
    "for entity, entities_tupple in mapping_by_entity.items():\n",
    "    db_count.append(len(entities_tupple[0]))\n",
    "    db_percentage.append(entities_tupple[1])\n",
    "    \n"
   ]
  },
  {
   "cell_type": "code",
   "execution_count": null,
   "metadata": {},
   "outputs": [],
   "source": [
    "import numpy as np\n",
    "\n",
    "databases = list(mapping_by_database_and_entity.keys())\n",
    "databases.append('arreu')\n",
    "\n",
    "\n",
    "entity_types = mapping_by_database_and_entity['kegg'][0].keys()\n",
    "\n",
    "entity_number = np.array(all_percentage)\n",
    "entity_count = np.array(all_count)"
   ]
  },
  {
   "cell_type": "code",
   "execution_count": null,
   "metadata": {},
   "outputs": [],
   "source": [
    "databases = mapping_by_database_and_entity.keys()\n",
    "entity_types = mapping_by_database_and_entity['kegg'][0].keys()\n",
    "\n",
    "entity_number = np.array(all_percentage)\n",
    "entity_count = np.array(all_count)"
   ]
  },
  {
   "cell_type": "code",
   "execution_count": null,
   "metadata": {},
   "outputs": [
    {
     "data": {
      "image/png": "[encoded data removed]",
      "text/plain": [
       "<Figure size 1080x504 with 2 Axes>"
      ]
     },
     "metadata": {
      "needs_background": "light"
     },
     "output_type": "display_data"
    }
   ],
   "source": [
    "show_heatmap(entity_number, entity_count, databases, entity_types)"
   ]
  },
  {
   "cell_type": "code",
   "execution_count": null,
   "metadata": {},
   "outputs": [],
   "source": [
    "kegg_reactome = mapping_by_db['kegg'][0].intersection(mapping_by_db['reactome'][0])\n",
    "kegg_wikipathways = mapping_by_db['kegg'][0].intersection(mapping_by_db['wikipathways'][0])\n",
    "core = kegg_wikipathways.intersection(kegg_reactome)\n",
    "\n",
    "reactome_wikipathways = mapping_by_db['reactome'][0].intersection(mapping_by_db['wikipathways'][0]) - core\n",
    "\n",
    "unique_kegg = mapping_by_db['kegg'][0] - kegg_reactome - kegg_wikipathways\n",
    "unique_reactome = mapping_by_db['reactome'][0] - kegg_reactome - reactome_wikipathways\n",
    "unique_wikipathways = mapping_by_db['wikipathways'][0] - kegg_wikipathways - reactome_wikipathways\n",
    "\n"
   ]
  },
  {
   "cell_type": "code",
   "execution_count": null,
   "metadata": {},
   "outputs": [
    {
     "data": {
      "image/png": "[encoded data removed]",
      "text/plain": [
       "<Figure size 1224x576 with 1 Axes>"
      ]
     },
     "metadata": {},
     "output_type": "display_data"
    }
   ],
   "source": [
    "import matplotlib.pyplot as plt\n",
    "from matplotlib_venn import venn3\n",
    " \n",
    "plt.figure(figsize=(17,8)) \n",
    "v=venn3(subsets = (len(unique_kegg), len(unique_reactome), len(kegg_reactome), len(unique_wikipathways), len(kegg_wikipathways), len(reactome_wikipathways), len(core)), set_labels = ('Keeg', 'Reactome', 'Wikipathways'))\n",
    "\n",
    "plt.show()\n"
   ]
  },
  {
   "cell_type": "markdown",
   "metadata": {},
   "source": [
    "## 5. Cross-validation"
   ]
  },
  {
   "cell_type": "code",
   "execution_count": null,
   "metadata": {
    "scrolled": true
   },
   "outputs": [],
   "source": [
    "from diffupy.views import box_plot_from_dict\n",
    "from diffupy.cross_validation import cross_validation_by_method, cross_validation_by_method, cross_validation_one_x_in, cross_validation_by_subset_same_diff_input\n",
    "\n"
   ]
  },
  {
   "cell_type": "markdown",
   "metadata": {},
   "source": [
    "### 5.1. Random Scheme"
   ]
  },
  {
   "cell_type": "markdown",
   "metadata": {},
   "source": [
    "#### 5.1.1.  By method"
   ]
  },
  {
   "cell_type": "code",
   "execution_count": null,
   "metadata": {
    "scrolled": true
   },
   "outputs": [
    {
     "name": "stderr",
     "output_type": "stream",
     "text": [
      " 75%|███████▌  | 3/4 [49:34<16:44, 1004.77s/it]"
     ]
    }
   ],
   "source": [
    "auroc_metrics_by_method, auprc_metrics_by_method = cross_validation_by_method(all_labels_mapping, pathme_universe_graph_no_flatten, background_mat, k = 4)\n"
   ]
  },
  {
   "cell_type": "code",
   "execution_count": 46,
   "metadata": {
    "scrolled": false
   },
   "outputs": [
    {
     "data": {
      "text/html": [
       "<iframe id=\"igraph\" scrolling=\"no\" style=\"border:none;\" seamless=\"seamless\" src=\"https://plot.ly/~jomalla/28.embed\" height=\"525px\" width=\"100%\"></iframe>"
      ],
      "text/plain": [
       "<chart_studio.tools.PlotlyDisplay object>"
      ]
     },
     "execution_count": 46,
     "metadata": {},
     "output_type": "execute_result"
    }
   ],
   "source": [
    "box_plot_from_dict(auroc_metrics_by_method, 'Random Cross Validation', 'Method type', 'AUROC')"
   ]
  },
  {
   "cell_type": "code",
   "execution_count": 47,
   "metadata": {
    "scrolled": false
   },
   "outputs": [
    {
     "data": {
      "text/html": [
       "<iframe id=\"igraph\" scrolling=\"no\" style=\"border:none;\" seamless=\"seamless\" src=\"https://plot.ly/~jomalla/30.embed\" height=\"525px\" width=\"100%\"></iframe>"
      ],
      "text/plain": [
       "<chart_studio.tools.PlotlyDisplay object>"
      ]
     },
     "execution_count": 47,
     "metadata": {},
     "output_type": "execute_result"
    }
   ],
   "source": [
    "box_plot_from_dict(auprc_metrics_by_method, 'Random Cross Validation', 'Method type', 'AUPRC')"
   ]
  },
  {
   "cell_type": "code",
   "execution_count": null,
   "metadata": {},
   "outputs": [],
   "source": [
    "import json\n",
    "\n",
    "with open('metrics_set1_genes.txt', 'w') as outfile:  \n",
    "    json.dump({'auroc_metrics_by_method': auroc_metrics_by_method, 'auprc_metrics_by_method': auprc_metrics_by_method}, outfile)\n",
    "\n",
    "    "
   ]
  },
  {
   "cell_type": "markdown",
   "metadata": {},
   "source": [
    "#### 5.1.2.  By entity"
   ]
  },
  {
   "cell_type": "code",
   "execution_count": null,
   "metadata": {},
   "outputs": [],
   "source": [
    "mapping_by_entity.pop('micrornas')"
   ]
  },
  {
   "cell_type": "code",
   "execution_count": null,
   "metadata": {},
   "outputs": [],
   "source": [
    "auroc_metrics_by_entity, auprc_metrics_by_entity = cross_validation_by_subset_same_diff_input(mapping_by_entity, background_mat, k = 4)\n"
   ]
  },
  {
   "cell_type": "code",
   "execution_count": null,
   "metadata": {
    "scrolled": false
   },
   "outputs": [],
   "source": [
    "box_plot_from_dict(auroc_metrics_by_entity, 'Random Cross Validation', 'Entity type', 'AUROC')\n"
   ]
  },
  {
   "cell_type": "code",
   "execution_count": null,
   "metadata": {
    "scrolled": false
   },
   "outputs": [],
   "source": [
    "box_plot_from_dict(auprc_metrics_by_entity, 'Random Cross Validation', 'Entity type', 'AUPRC')"
   ]
  },
  {
   "cell_type": "code",
   "execution_count": null,
   "metadata": {},
   "outputs": [],
   "source": [
    "import json\n",
    "\n",
    "with open('metrics_set1_metabolites_by_entity.txt', 'w') as outfile:  \n",
    "    json.dump({'auroc_metrics_by_entity': auroc_metrics_by_entity, 'auprc_metrics_by_entity': auprc_metrics_by_entity}, outfile)\n"
   ]
  }
 ],
 "metadata": {
  "kernelspec": {
   "display_name": "Python 3",
   "language": "python",
   "name": "python3"
  },
  "language_info": {
   "codemirror_mode": {
    "name": "ipython",
    "version": 3
   },
   "file_extension": ".py",
   "mimetype": "text/x-python",
   "name": "python",
   "nbconvert_exporter": "python",
   "pygments_lexer": "ipython3",
   "version": "3.7.3"
  }
 },
 "nbformat": 4,
 "nbformat_minor": 2
}
