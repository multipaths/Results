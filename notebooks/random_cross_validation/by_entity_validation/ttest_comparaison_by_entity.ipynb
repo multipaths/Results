{
 "cells": [
  {
   "cell_type": "code",
   "execution_count": 1,
   "metadata": {},
   "outputs": [
    {
     "ename": "ModuleNotFoundError",
     "evalue": "No module named 'diffupy.views'",
     "output_type": "error",
     "traceback": [
      "\u001b[0;31m---------------------------------------------------------------------------\u001b[0m",
      "\u001b[0;31mModuleNotFoundError\u001b[0m                       Traceback (most recent call last)",
      "\u001b[0;32m<ipython-input-1-7d6b6b046af6>\u001b[0m in \u001b[0;36m<module>\u001b[0;34m\u001b[0m\n\u001b[1;32m      9\u001b[0m \u001b[0;32mimport\u001b[0m \u001b[0mnumpy\u001b[0m \u001b[0;32mas\u001b[0m \u001b[0mnp\u001b[0m\u001b[0;34m\u001b[0m\u001b[0;34m\u001b[0m\u001b[0m\n\u001b[1;32m     10\u001b[0m \u001b[0;34m\u001b[0m\u001b[0m\n\u001b[0;32m---> 11\u001b[0;31m \u001b[0;32mfrom\u001b[0m \u001b[0mdiffupy\u001b[0m\u001b[0;34m.\u001b[0m\u001b[0mviews\u001b[0m \u001b[0;32mimport\u001b[0m \u001b[0mbox_plot_from_dict\u001b[0m\u001b[0;34m\u001b[0m\u001b[0;34m\u001b[0m\u001b[0m\n\u001b[0m",
      "\u001b[0;31mModuleNotFoundError\u001b[0m: No module named 'diffupy.views'"
     ]
    }
   ],
   "source": [
    "import numpy as np\n",
    "import math\n",
    "from scipy import stats\n",
    "import matplotlib.pyplot as plt\n",
    "import itertools \n",
    "from statsmodels.stats.multitest import fdrcorrection\n",
    "\n",
    "import matplotlib.pyplot as plt\n",
    "import numpy as np\n",
    "\n",
    "from diffupy.views import box_plot_from_dict"
   ]
  },
  {
   "cell_type": "code",
   "execution_count": 3,
   "metadata": {},
   "outputs": [],
   "source": [
    "import json\n",
    "\n",
    "    \n",
    "with open('metrics_set1_genes.txt', 'r') as outfile:  \n",
    "    metrics_genes = json.load(outfile)\n",
    "\n",
    "with open('metrics_set1_metabolites.txt', 'r') as outfile:  \n",
    "    metrics_metabolites = json.load(outfile)\n",
    "    \n",
    "with open('metrics_set1_by_entity.txt', 'r') as outfile:  \n",
    "    metrics_set1_by_entity = json.load(outfile)\n",
    "    \n",
    "    \n",
    "with open('metrics_set2_by_entity.txt', 'r') as outfile:  \n",
    "    metrics_set2_by_entity = json.load(outfile)\n",
    "    \n",
    "with open('metrics_set3_by_entity.txt', 'r') as outfile:  \n",
    "    metrics_set3_by_entity = json.load(outfile)\n",
    "    "
   ]
  },
  {
   "cell_type": "code",
   "execution_count": 4,
   "metadata": {},
   "outputs": [
    {
     "data": {
      "text/plain": [
       "[0.0024510189301630357,\n",
       " 0.012315337500307253,\n",
       " 0.009529641670676013,\n",
       " 0.0023361638839828544]"
      ]
     },
     "execution_count": 4,
     "metadata": {},
     "output_type": "execute_result"
    }
   ],
   "source": [
    "metrics_set1_by_entity['auroc_metrics_by_entity'].pop('micrornas')\n",
    "metrics_set1_by_entity['auprc_metrics_by_entity'].pop('micrornas')"
   ]
  },
  {
   "cell_type": "code",
   "execution_count": 5,
   "metadata": {},
   "outputs": [
    {
     "data": {
      "text/plain": [
       "{'auroc_metrics_by_entity': {'genes': [0.9603418004682791,\n",
       "   0.9589842064018517,\n",
       "   0.9595750141005743,\n",
       "   0.9591372278716472],\n",
       "  'metabolite': [0.7947754885699533,\n",
       "   0.9041434204694475,\n",
       "   0.8090521948522523,\n",
       "   0.7071321846170717]},\n",
       " 'auprc_metrics_by_entity': {'genes': [0.23967052635018396,\n",
       "   0.23587598990646844,\n",
       "   0.2371683764533823,\n",
       "   0.23587934769095667],\n",
       "  'metabolite': [0.0008574668400439669,\n",
       "   0.0011331077398774563,\n",
       "   0.0009183298558147854,\n",
       "   0.000731213173756565]}}"
      ]
     },
     "execution_count": 5,
     "metadata": {},
     "output_type": "execute_result"
    }
   ],
   "source": [
    "metrics_set1_by_entity"
   ]
  },
  {
   "cell_type": "code",
   "execution_count": 6,
   "metadata": {},
   "outputs": [],
   "source": [
    "metrics_set1_by_entity_subnet = {'auroc_metrics_subnet':{'genes':metrics_genes['auroc_metrics_by_method']['z'], \n",
    "                                                         'metabolite':metrics_metabolites['auroc_metrics_by_method']['z'] \n",
    "                                                        },\n",
    "                                 \n",
    "                                 'auprc_metrics_subnet':{'genes':metrics_genes['auprc_metrics_by_method']['z'],\n",
    "                                                         'metabolite':metrics_metabolites['auprc_metrics_by_method']['z'] \n",
    "                                                        }\n",
    "                                }\n",
    "\n",
    "\n"
   ]
  },
  {
   "cell_type": "code",
   "execution_count": 7,
   "metadata": {
    "scrolled": true
   },
   "outputs": [
    {
     "data": {
      "text/plain": [
       "{'auroc_metrics_subnet': {'genes': [0.7154495986457906,\n",
       "   0.7068669248392863,\n",
       "   0.7186088940316678,\n",
       "   0.713923972319684],\n",
       "  'metabolite': [0.5103019761144784,\n",
       "   0.549289292161293,\n",
       "   0.6797122499970114,\n",
       "   0.5859364726416335]},\n",
       " 'auprc_metrics_subnet': {'genes': [0.05204047879742931,\n",
       "   0.05097810521769736,\n",
       "   0.05310842425987059,\n",
       "   0.05293633303566878],\n",
       "  'metabolite': [0.0030597084367979923,\n",
       "   0.009000555075299347,\n",
       "   0.01023310071220225,\n",
       "   0.006647504831542104]}}"
      ]
     },
     "execution_count": 7,
     "metadata": {},
     "output_type": "execute_result"
    }
   ],
   "source": [
    "metrics_set1_by_entity_subnet"
   ]
  },
  {
   "cell_type": "markdown",
   "metadata": {},
   "source": [
    "## FDR p-values"
   ]
  },
  {
   "cell_type": "code",
   "execution_count": 8,
   "metadata": {},
   "outputs": [],
   "source": [
    "def get_p_values(metrics):\n",
    "    p_values = {}\n",
    "\n",
    "    result_list = map(dict, itertools.combinations(\n",
    "        metrics.items(), 2))\n",
    "\n",
    "\n",
    "    for ch in result_list:\n",
    "        values = list(ch.values())\n",
    "        ttest = stats.ttest_rel(a=values[0], b=values[1])\n",
    "        p_values[str(tuple(ch.keys()))] = ttest.pvalue   \n",
    "        \n",
    "    return p_values\n",
    "\n",
    "def get_p_values_multiple(metrics):\n",
    "    p_values = {}\n",
    "    \n",
    "    print(metrics)\n",
    "    \n",
    "    for k, v in metrics[0].items():\n",
    "        ttest = stats.ttest_rel(a=v,b=metrics[1][k])\n",
    "        p_values[str(k)] = ttest.pvalue\n",
    "        \n",
    "    return p_values"
   ]
  },
  {
   "cell_type": "code",
   "execution_count": 9,
   "metadata": {},
   "outputs": [],
   "source": [
    "\n",
    "def get_normalized_p_values(p_values):\n",
    "    normalized_p_values = {}\n",
    "    \n",
    "    fdr = fdrcorrection(list(p_values.values()), alpha=0.05, method='indep', is_sorted=False)\n",
    "    \n",
    "    for k1, k2 in enumerate(p_values.keys()):\n",
    "        normalized_p_values[k2] = -math.log10(fdr[1][k1])\n",
    "    \n",
    "    return normalized_p_values\n",
    "        "
   ]
  },
  {
   "cell_type": "code",
   "execution_count": 10,
   "metadata": {},
   "outputs": [],
   "source": [
    "def fdr_plot(metrics, p_values_func, title):\n",
    "    p_values = p_values_func(metrics)\n",
    "    normalized_p_values = get_normalized_p_values(p_values)\n",
    "    \n",
    "    x = np.array(list(normalized_p_values.keys()))\n",
    "    y = np.array(list(normalized_p_values.values()))\n",
    "\n",
    "\n",
    "    markerline, stemlines, baseline = plt.stem(\n",
    "        x, y, linefmt='grey', markerfmt='D', bottom=-math.log10(0.05), use_line_collection=True)\n",
    "\n",
    "    plt.rcParams[\"figure.figsize\"] = (10, 5)\n",
    "    plt.xlabel(title)\n",
    "    plt.ylabel(\"normalized FDR p-value\")\n",
    "\n",
    "    plt.xticks(ha='left', rotation=-45)\n",
    "    plt.show()"
   ]
  },
  {
   "cell_type": "code",
   "execution_count": 27,
   "metadata": {},
   "outputs": [],
   "source": [
    "def fdr_three_plot(metrics, p_values_func, title):\n",
    "    normalized_p_values = []\n",
    "    \n",
    "    for metric in metrics:    \n",
    "        p_values = p_values_func(metric)\n",
    "        normalized_p_values.append(list(get_normalized_p_values(p_values).values()))\n",
    "        x = list(p_values.keys())\n",
    "        \n",
    "    \n",
    "    markerline, stemlines, baseline = plt.stem(\n",
    "        x, normalized_p_values[0], linefmt='forestgreen', markerfmt='gd', bottom=-math.log10(0.05), use_line_collection=True, label = 'Dataset 1')\n",
    "    markerline, stemlines, baseline = plt.stem(\n",
    "        x, normalized_p_values[1], linefmt='tomato', markerfmt='ro', bottom=-math.log10(0.05), use_line_collection=True, label = 'Dataset 2')\n",
    "    markerline, stemlines, baseline = plt.stem(\n",
    "        x, normalized_p_values[2], linefmt='dodgerblue', markerfmt='bo', bottom=-math.log10(0.05), use_line_collection=True, label = 'Dataset 3')\n",
    "\n",
    "    \n",
    "    plt.legend()\n",
    "\n",
    "    plt.rcParams[\"figure.figsize\"] = (10, 5)\n",
    "    plt.xlabel(title)\n",
    "    plt.ylabel(\"normalized FDR -log10(p-value)\")\n",
    "\n",
    "    plt.xticks(ha='left', rotation=-45)\n",
    "    plt.show()"
   ]
  },
  {
   "cell_type": "code",
   "execution_count": 62,
   "metadata": {},
   "outputs": [],
   "source": [
    "def fdr_barchart_three_plot(metrics, p_values_func, title):\n",
    "    normalized_p_values = []\n",
    "    \n",
    "    plt.rcParams.update({'font.size': 17})\n",
    "\n",
    "    \n",
    "    for metric in metrics:\n",
    "        print(metric)\n",
    "        p_values = p_values_func(metric)\n",
    "        normalized_p_values.append(list(get_normalized_p_values(p_values).values()))\n",
    "        x = list(p_values.keys())\n",
    "        \n",
    "    \n",
    "    ind = np.arange(len(x))  # the x locations for the groups\n",
    "    width = 0.27       # the width of the bars\n",
    "\n",
    "    fig = plt.figure()\n",
    "    ax = fig.add_subplot(111)\n",
    "    \n",
    "    \n",
    "    fig.set_size_inches(18.5, 10.5)\n",
    "\n",
    "    yvals = [4, 9, 2]\n",
    "    rects1 = ax.bar(ind, normalized_p_values[0], width, color='forestgreen')\n",
    "\n",
    "\n",
    "    ax.set_ylabel(\"normalized FDR -log10(p-value)\")\n",
    "    plt.xlabel(title)\n",
    "\n",
    "    ax.set_xticks(ind+width)\n",
    "    ax.set_xticklabels(x, ha='left', rotation=-45)\n",
    "    ax.legend( (rects1[0],), ('Dataset 1') )\n",
    "\n",
    "    ax.plot([-0.2, 2], [-math.log10(0.05), -math.log10(0.05)], \"k--\")\n",
    "\n",
    "\n",
    "\n",
    "    plt.show()\n",
    "    "
   ]
  },
  {
   "cell_type": "markdown",
   "metadata": {},
   "source": [
    "## Diffusion over background graph PathMeUniverse vs KEGG "
   ]
  },
  {
   "cell_type": "code",
   "execution_count": 13,
   "metadata": {},
   "outputs": [],
   "source": [
    "entity_subnet = [i for k, v in metrics_set1_by_entity_subnet['auroc_metrics_subnet'].items() for i in v]\n",
    "set1_by_entity = [i for k, v in metrics_set1_by_entity['auroc_metrics_by_entity'].items() for i in v]"
   ]
  },
  {
   "cell_type": "code",
   "execution_count": 14,
   "metadata": {
    "scrolled": false
   },
   "outputs": [
    {
     "name": "stderr",
     "output_type": "stream",
     "text": [
      "/usr/local/lib/python3.7/site-packages/plotly/tools.py:1108: UserWarning:\n",
      "\n",
      "Looks like you used a newline character: '\\n'.\n",
      "\n",
      "Plotly uses a subset of HTML escape characters\n",
      "to do things like newline (<br>), bold (<b></b>),\n",
      "italics (<i></i>), etc. Your newline characters \n",
      "have been converted to '<br>' so they will show \n",
      "up right on your Plotly figure!\n",
      "\n",
      "/usr/local/lib/python3.7/site-packages/plotly/tools.py:1108: UserWarning:\n",
      "\n",
      "Looks like you used a newline character: '\\n'.\n",
      "\n",
      "Plotly uses a subset of HTML escape characters\n",
      "to do things like newline (<br>), bold (<b></b>),\n",
      "italics (<i></i>), etc. Your newline characters \n",
      "have been converted to '<br>' so they will show \n",
      "up right on your Plotly figure!\n",
      "\n",
      "/usr/local/Cellar/ipython/7.2.0/libexec/lib/python3.7/site-packages/IPython/core/display.py:689: UserWarning:\n",
      "\n",
      "Consider using IPython.display.IFrame instead\n",
      "\n"
     ]
    },
    {
     "data": {
      "text/html": [
       "<iframe id=\"igraph\" scrolling=\"no\" style=\"border:none;\" seamless=\"seamless\" src=\"https://plot.ly/~jomalla/36.embed\" height=\"525px\" width=\"100%\"></iframe>"
      ],
      "text/plain": [
       "<chart_studio.tools.PlotlyDisplay object>"
      ]
     },
     "execution_count": 14,
     "metadata": {},
     "output_type": "execute_result"
    }
   ],
   "source": [
    "import plotly.plotly as py\n",
    "import plotly.graph_objs as go\n",
    "\n",
    "x = ['genes', 'genes', 'genes', 'genes',\n",
    "     'metabolites', 'metabolites', 'metabolites', 'metabolites'\n",
    "    ]\n",
    "\n",
    "trace0 = go.Box(\n",
    "    y=entity_subnet,\n",
    "    x=x,\n",
    "    name='Dataset1\\nPathMeUniverse subnetwork (only Metabolites or onlyGenes)\\n\\n',\n",
    "    marker=dict(\n",
    "        color='#85eabd'\n",
    "    )\n",
    ")\n",
    "trace1 = go.Box(\n",
    "    y=set1_by_entity,\n",
    "    x=x,\n",
    "    name='Dataset1\\nPathMeUniverse\\n(Metabolites + Genes + miRNAs)\\n\\n',\n",
    "    marker=dict(\n",
    "        color='#3D9970'\n",
    "    )\n",
    ")\n",
    "\n",
    "\n",
    "data = [trace0, trace1]\n",
    "layout = go.Layout(\n",
    "    yaxis=dict(\n",
    "        title='AUROC',\n",
    "        zeroline=False\n",
    "    ),\n",
    "    boxmode='group'\n",
    ")\n",
    "fig = go.Figure(data=data, layout=layout)\n",
    "py.iplot(fig)"
   ]
  },
  {
   "cell_type": "code",
   "execution_count": 35,
   "metadata": {},
   "outputs": [],
   "source": [
    "set1 = metrics_set1_by_entity['auprc_metrics_by_entity']\n",
    "subnet = metrics_set1_by_entity_subnet['auprc_metrics_subnet']"
   ]
  },
  {
   "cell_type": "code",
   "execution_count": 46,
   "metadata": {},
   "outputs": [
    {
     "data": {
      "text/plain": [
       "{'genes': [0.05204047879742931,\n",
       "  0.05097810521769736,\n",
       "  0.05310842425987059,\n",
       "  0.05293633303566878],\n",
       " 'metabolite': [0.0030597084367979923,\n",
       "  0.009000555075299347,\n",
       "  0.01023310071220225,\n",
       "  0.006647504831542104]}"
      ]
     },
     "execution_count": 46,
     "metadata": {},
     "output_type": "execute_result"
    }
   ],
   "source": [
    "subnet"
   ]
  },
  {
   "cell_type": "code",
   "execution_count": 63,
   "metadata": {},
   "outputs": [
    {
     "name": "stdout",
     "output_type": "stream",
     "text": [
      "({'genes': [0.23967052635018396, 0.23587598990646844, 0.2371683764533823, 0.23587934769095667], 'metabolite': [0.0008574668400439669, 0.0011331077398774563, 0.0009183298558147854, 0.000731213173756565]}, {'genes': [0.05204047879742931, 0.05097810521769736, 0.05310842425987059, 0.05293633303566878], 'metabolite': [0.0030597084367979923, 0.009000555075299347, 0.01023310071220225, 0.006647504831542104]})\n",
      "({'genes': [0.23967052635018396, 0.23587598990646844, 0.2371683764533823, 0.23587934769095667], 'metabolite': [0.0008574668400439669, 0.0011331077398774563, 0.0009183298558147854, 0.000731213173756565]}, {'genes': [0.05204047879742931, 0.05097810521769736, 0.05310842425987059, 0.05293633303566878], 'metabolite': [0.0030597084367979923, 0.009000555075299347, 0.01023310071220225, 0.006647504831542104]})\n"
     ]
    },
    {
     "data": {
      "image/png": "[encoded data removed]",
      "text/plain": [
       "<Figure size 1332x756 with 1 Axes>"
      ]
     },
     "metadata": {
      "needs_background": "light"
     },
     "output_type": "display_data"
    }
   ],
   "source": [
    "fdr_barchart_three_plot([(set1, subnet)], get_p_values_multiple, \"Validation of PathMeUniverse\")\n"
   ]
  },
  {
   "cell_type": "code",
   "execution_count": 11,
   "metadata": {},
   "outputs": [],
   "source": [
    "entity_subnet = [i for k, v in metrics_set1_by_entity_subnet['auprc_metrics_subnet'].items() for i in v]\n",
    "set1_by_entity = [i for k, v in metrics_set1_by_entity['auprc_metrics_by_entity'].items() for i in v]"
   ]
  },
  {
   "cell_type": "code",
   "execution_count": 12,
   "metadata": {},
   "outputs": [
    {
     "name": "stderr",
     "output_type": "stream",
     "text": [
      "/usr/local/lib/python3.7/site-packages/plotly/tools.py:1108: UserWarning:\n",
      "\n",
      "Looks like you used a newline character: '\\n'.\n",
      "\n",
      "Plotly uses a subset of HTML escape characters\n",
      "to do things like newline (<br>), bold (<b></b>),\n",
      "italics (<i></i>), etc. Your newline characters \n",
      "have been converted to '<br>' so they will show \n",
      "up right on your Plotly figure!\n",
      "\n",
      "/usr/local/lib/python3.7/site-packages/plotly/tools.py:1108: UserWarning:\n",
      "\n",
      "Looks like you used a newline character: '\\n'.\n",
      "\n",
      "Plotly uses a subset of HTML escape characters\n",
      "to do things like newline (<br>), bold (<b></b>),\n",
      "italics (<i></i>), etc. Your newline characters \n",
      "have been converted to '<br>' so they will show \n",
      "up right on your Plotly figure!\n",
      "\n",
      "/usr/local/Cellar/ipython/7.2.0/libexec/lib/python3.7/site-packages/IPython/core/display.py:689: UserWarning:\n",
      "\n",
      "Consider using IPython.display.IFrame instead\n",
      "\n"
     ]
    },
    {
     "data": {
      "text/html": [
       "<iframe id=\"igraph\" scrolling=\"no\" style=\"border:none;\" seamless=\"seamless\" src=\"https://plot.ly/~jomalla/40.embed\" height=\"525px\" width=\"100%\"></iframe>"
      ],
      "text/plain": [
       "<chart_studio.tools.PlotlyDisplay object>"
      ]
     },
     "execution_count": 12,
     "metadata": {},
     "output_type": "execute_result"
    }
   ],
   "source": [
    "import plotly.plotly as py\n",
    "import plotly.graph_objs as go\n",
    "\n",
    "x = ['genes', 'genes', 'genes', 'genes',\n",
    "     'metabolites', 'metabolites', 'metabolites', 'metabolites'\n",
    "    ]\n",
    "\n",
    "trace0 = go.Box(\n",
    "    y=entity_subnet,\n",
    "    x=x,\n",
    "    name='Dataset1\\nPathMeUniverse subnetwork (only Metabolites or onlyGenes)\\n\\n',\n",
    "    marker=dict(\n",
    "        color='#85eabd'\n",
    "    )\n",
    ")\n",
    "trace1 = go.Box(\n",
    "    y=set1_by_entity,\n",
    "    x=x,\n",
    "    name='Dataset1\\nPathMeUniverse\\n(Metabolites + Genes + miRNAs)\\n\\n',\n",
    "    marker=dict(\n",
    "        color='#3D9970'\n",
    "    )\n",
    ")\n",
    "\n",
    "\n",
    "data = [trace0, trace1]\n",
    "layout = go.Layout(\n",
    "    yaxis=dict(\n",
    "        title='AUPRC',\n",
    "        zeroline=False\n",
    "    ),\n",
    "    boxmode='group'\n",
    ")\n",
    "fig = go.Figure(data=data, layout=layout)\n",
    "py.iplot(fig)"
   ]
  },
  {
   "cell_type": "code",
   "execution_count": null,
   "metadata": {},
   "outputs": [],
   "source": []
  }
 ],
 "metadata": {
  "kernelspec": {
   "display_name": "Python 3",
   "language": "python",
   "name": "python3"
  },
  "language_info": {
   "codemirror_mode": {
    "name": "ipython",
    "version": 3
   },
   "file_extension": ".py",
   "mimetype": "text/x-python",
   "name": "python",
   "nbconvert_exporter": "python",
   "pygments_lexer": "ipython3",
   "version": "3.7.3"
  }
 },
 "nbformat": 4,
 "nbformat_minor": 2
}
