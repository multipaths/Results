{
 "cells": [
  {
   "cell_type": "markdown",
   "metadata": {},
   "source": [
    "# DiffuPath evaluation by Database"
   ]
  },
  {
   "cell_type": "code",
   "execution_count": 1,
   "metadata": {},
   "outputs": [],
   "source": [
    "import os \n",
    "\n",
    "import matplotlib.pyplot as plt\n",
    "\n",
    "import networkx as nx\n",
    "\n",
    "import pybel\n",
    "from pybel_tools.summary import plot_summary, count_top_centrality\n",
    "\n",
    "from diffupy.process_network import process_kernel_from_file\n",
    "from diffupy.utils import from_json, to_json\n",
    "\n",
    "from diffupath.constants import DEFAULT_DIFFUPATH_DIR, ROOT_RESULTS_DIR\n",
    "from diffupath.utils import reduce_dict_dimension"
   ]
  },
  {
   "cell_type": "code",
   "execution_count": 2,
   "metadata": {},
   "outputs": [
    {
     "data": {
      "text/plain": [
       "'/Users/josepmarin-llao/.diffupath'"
      ]
     },
     "execution_count": 2,
     "metadata": {},
     "output_type": "execute_result"
    }
   ],
   "source": [
    "DEFAULT_DIFFUPATH_DIR"
   ]
  },
  {
   "cell_type": "code",
   "execution_count": 3,
   "metadata": {},
   "outputs": [
    {
     "data": {
      "text/plain": [
       "'/Users/Projects/MultiPath/Results'"
      ]
     },
     "execution_count": 3,
     "metadata": {},
     "output_type": "execute_result"
    }
   ],
   "source": [
    "ROOT_RESULTS_DIR"
   ]
  },
  {
   "cell_type": "markdown",
   "metadata": {},
   "source": [
    "## 1. PathMeUniverse graph and kernel import"
   ]
  },
  {
   "cell_type": "markdown",
   "metadata": {},
   "source": [
    "##### Import graph"
   ]
  },
  {
   "cell_type": "code",
   "execution_count": 4,
   "metadata": {
    "scrolled": false
   },
   "outputs": [
    {
     "name": "stdout",
     "output_type": "stream",
     "text": [
      "PathMe Universe v1.0.0\n",
      "Number of Nodes: 42272\n",
      "Number of Edges: 105871\n",
      "Number of Citations: 7695\n",
      "Number of Authors: 0\n",
      "Network Density: 5.92E-05\n",
      "Number of Components: 435\n",
      "Number of Warnings: 0\n"
     ]
    },
    {
     "data": {
      "image/png": "[encoded data removed]",
      "text/plain": [
       "<Figure size 720x288 with 2 Axes>"
      ]
     },
     "metadata": {
      "needs_background": "light"
     },
     "output_type": "display_data"
    }
   ],
   "source": [
    "GRAPH_PATH = os.path.join(DEFAULT_DIFFUPATH_DIR, 'pickles', 'universe', 'pathme_universe_non_flatten_collapsed_names_no_isolates_16_03_2020.pickle')\n",
    "\n",
    "pathme_universe_graph_no_flatten = pybel.from_pickle(GRAPH_PATH)\n",
    "pathme_universe_graph_no_flatten.summarize()\n",
    "\n",
    "nx.number_of_isolates(pathme_universe_graph_no_flatten)\n",
    "pathme_universe_graph_no_flatten.remove_nodes_from({\n",
    "    node\n",
    "    for node in nx.isolates(pathme_universe_graph_no_flatten)\n",
    "})\n",
    "\n",
    "plot_summary(pathme_universe_graph_no_flatten, plt, figsize=(10, 4))\n",
    "plt.show()"
   ]
  },
  {
   "cell_type": "markdown",
   "metadata": {},
   "source": [
    "## 2. Load/import preprocessed datasets mapping "
   ]
  },
  {
   "cell_type": "markdown",
   "metadata": {},
   "source": [
    "##### Dataset 1"
   ]
  },
  {
   "cell_type": "code",
   "execution_count": 6,
   "metadata": {},
   "outputs": [],
   "source": [
    "MAPPING_PATH_DATASET_1 = os.path.join(ROOT_RESULTS_DIR, 'data', 'input_mappings', 'dataset_1_mapping.json')\n",
    "\n",
    "dataset1_mapping_by_database_and_entity = from_json(MAPPING_PATH_DATASET_1)"
   ]
  },
  {
   "cell_type": "code",
   "execution_count": 7,
   "metadata": {},
   "outputs": [],
   "source": [
    "dataset1_mapping_by_database = reduce_dict_dimension(dataset1_mapping_by_database_and_entity)\n",
    "\n",
    "dataset1_mapping_all_labels = {entity:entity_value for entity_type, entity_set in dataset1_mapping_by_database.items() for entity, entity_value in entity_set.items()}\n"
   ]
  },
  {
   "cell_type": "code",
   "execution_count": 8,
   "metadata": {},
   "outputs": [],
   "source": [
    "dataset1_mapping_kegg = dataset1_mapping_by_database['kegg']"
   ]
  },
  {
   "cell_type": "markdown",
   "metadata": {},
   "source": [
    "##### Dataset 2"
   ]
  },
  {
   "cell_type": "code",
   "execution_count": 9,
   "metadata": {},
   "outputs": [],
   "source": [
    "MAPPING_PATH_DATASET2 = os.path.join(ROOT_RESULTS_DIR, 'data', 'input_mappings', 'dataset_2_mapping.json')\n",
    "\n",
    "dataset2_mapping_by_database_and_entity = from_json(MAPPING_PATH_DATASET2)"
   ]
  },
  {
   "cell_type": "code",
   "execution_count": 10,
   "metadata": {},
   "outputs": [],
   "source": [
    "dataset2_mapping_by_database = reduce_dict_dimension(dataset2_mapping_by_database_and_entity)\n",
    "\n",
    "dataset2_mapping_all_labels = {entity:entity_value for entity_type, entity_set in dataset2_mapping_by_database.items() for entity, entity_value in entity_set.items()}"
   ]
  },
  {
   "cell_type": "code",
   "execution_count": 11,
   "metadata": {},
   "outputs": [],
   "source": [
    "dataset2_mapping_kegg = dataset2_mapping_by_database['kegg']"
   ]
  },
  {
   "cell_type": "markdown",
   "metadata": {},
   "source": [
    "##### Dataset 3"
   ]
  },
  {
   "cell_type": "code",
   "execution_count": 12,
   "metadata": {},
   "outputs": [],
   "source": [
    "MAPPING_PATH_DATASET3 = os.path.join(ROOT_RESULTS_DIR, 'data', 'input_mappings', 'dataset_3_mapping.json')\n",
    "\n",
    "dataset3_mapping_by_database_and_entity = from_json(MAPPING_PATH_DATASET3)"
   ]
  },
  {
   "cell_type": "code",
   "execution_count": 13,
   "metadata": {},
   "outputs": [],
   "source": [
    "dataset3_mapping_by_database = reduce_dict_dimension(dataset3_mapping_by_database_and_entity)\n",
    "\n",
    "dataset3_mapping_all_labels = {entity:entity_value for entity_type, entity_set in dataset3_mapping_by_database.items() for entity, entity_value in entity_set.items()}"
   ]
  },
  {
   "cell_type": "code",
   "execution_count": 14,
   "metadata": {},
   "outputs": [],
   "source": [
    "dataset3_mapping_kegg = dataset3_mapping_by_database['kegg']"
   ]
  },
  {
   "cell_type": "markdown",
   "metadata": {},
   "source": [
    "## 3. Evaluation: random cross-validation by method"
   ]
  },
  {
   "cell_type": "code",
   "execution_count": 3,
   "metadata": {},
   "outputs": [],
   "source": [
    "from diffupath.views import show_sb_box_plot, preprocess_for_sb_boxplot, fdr_barchart_three_plot, preprocess_for_sb_ttest\n",
    "\n",
    "from diffupath.cross_validation import cross_validation_by_method, get_p_values, get_wilcoxon_test\n",
    "\n",
    "from collections import defaultdict"
   ]
  },
  {
   "cell_type": "code",
   "execution_count": 17,
   "metadata": {
    "scrolled": true
   },
   "outputs": [
    {
     "name": "stderr",
     "output_type": "stream",
     "text": [
      "100%|██████████| 3/3 [00:41<00:00, 13.93s/it]\n"
     ]
    }
   ],
   "source": [
    "metrics_by_method['auroc']['Dataset 1'], metrics_by_method['auprc']['Dataset 1'] = cross_validation_by_method(dataset1_mapping_kegg, \n",
    "                                                                                                              kegg_pathme_graph_no_flatten, \n",
    "                                                                                                              kernel_kegg, \n",
    "                                                                                                              k = 3)"
   ]
  },
  {
   "cell_type": "code",
   "execution_count": 18,
   "metadata": {
    "scrolled": true
   },
   "outputs": [
    {
     "name": "stderr",
     "output_type": "stream",
     "text": [
      "100%|██████████| 3/3 [00:40<00:00, 13.42s/it]\n"
     ]
    }
   ],
   "source": [
    "metrics_by_method['auroc']['Dataset 2'], metrics_by_method['auprc']['Dataset 2'] = cross_validation_by_method(dataset2_mapping_kegg, \n",
    "                                                                                                               kegg_pathme_graph_no_flatten, \n",
    "                                                                                                               kernel_kegg, \n",
    "                                                                                                               k = 3)"
   ]
  },
  {
   "cell_type": "code",
   "execution_count": 19,
   "metadata": {
    "scrolled": true
   },
   "outputs": [
    {
     "name": "stderr",
     "output_type": "stream",
     "text": [
      "100%|██████████| 3/3 [00:41<00:00, 13.77s/it]\n"
     ]
    }
   ],
   "source": [
    "metrics_by_method['auroc']['Dataset 3'], metrics_by_method['auprc']['Dataset 3'] =  cross_validation_by_method(dataset3_mapping_kegg, \n",
    "                                                                                                               kegg_pathme_graph_no_flatten, \n",
    "                                                                                                               kernel_kegg, \n",
    "                                                                                                               k = 3)"
   ]
  },
  {
   "cell_type": "markdown",
   "metadata": {},
   "source": [
    "### 3.1. Result metrics AUROC"
   ]
  },
  {
   "cell_type": "code",
   "execution_count": 5,
   "metadata": {},
   "outputs": [
    {
     "data": {
      "image/png": "[encoded data removed]",
      "text/plain": [
       "<Figure size 1224x432 with 3 Axes>"
      ]
     },
     "metadata": {
      "needs_background": "light"
     },
     "output_type": "display_data"
    }
   ],
   "source": [
    "show_sb_box_plot(data_dict=preprocess_for_sb_boxplot(metrics_by_db['auroc']),\n",
    "                 color_palette = ['#87619e', '#a6bcd3'],\n",
    "                 x_label='Database',\n",
    "                 y_label='AUROC',\n",
    "                 y_lim = [0.35, 1]\n",
    "                )\n"
   ]
  },
  {
   "cell_type": "markdown",
   "metadata": {},
   "source": [
    "##### Wilcoxon test"
   ]
  },
  {
   "cell_type": "code",
   "execution_count": 6,
   "metadata": {},
   "outputs": [
    {
     "data": {
      "text/html": [
       "<style  type=\"text/css\" >\n",
       "</style><table id=\"T_310b1786_d898_11ea_8778_acde48001122\" ><thead>    <tr>        <th class=\"col_heading level0 col0\" >Dataset</th>        <th class=\"col_heading level0 col1\" >Comparison AUROC</th>        <th class=\"col_heading level0 col2\" >p_value</th>        <th class=\"col_heading level0 col3\" >Significant difference</th>    </tr></thead><tbody>\n",
       "                <tr>\n",
       "                                <td id=\"T_310b1786_d898_11ea_8778_acde48001122row0_col0\" class=\"data row0 col0\" >Dataset 1</td>\n",
       "                        <td id=\"T_310b1786_d898_11ea_8778_acde48001122row0_col1\" class=\"data row0 col1\" >('kegg_on_PathMeUniverse', 'reactome_on_PathMeUniverse')</td>\n",
       "                        <td id=\"T_310b1786_d898_11ea_8778_acde48001122row0_col2\" class=\"data row0 col2\" >3.89656e-18</td>\n",
       "                        <td id=\"T_310b1786_d898_11ea_8778_acde48001122row0_col3\" class=\"data row0 col3\" >True</td>\n",
       "            </tr>\n",
       "            <tr>\n",
       "                                <td id=\"T_310b1786_d898_11ea_8778_acde48001122row1_col0\" class=\"data row1 col0\" >Dataset 1</td>\n",
       "                        <td id=\"T_310b1786_d898_11ea_8778_acde48001122row1_col1\" class=\"data row1 col1\" >('kegg_on_PathMeUniverse', 'wikipathways_on_PathMeUniverse')</td>\n",
       "                        <td id=\"T_310b1786_d898_11ea_8778_acde48001122row1_col2\" class=\"data row1 col2\" >3.89656e-18</td>\n",
       "                        <td id=\"T_310b1786_d898_11ea_8778_acde48001122row1_col3\" class=\"data row1 col3\" >True</td>\n",
       "            </tr>\n",
       "            <tr>\n",
       "                                <td id=\"T_310b1786_d898_11ea_8778_acde48001122row2_col0\" class=\"data row2 col0\" >Dataset 1</td>\n",
       "                        <td id=\"T_310b1786_d898_11ea_8778_acde48001122row2_col1\" class=\"data row2 col1\" >('kegg_on_PathMeUniverse', 'kegg_on_subgraph')</td>\n",
       "                        <td id=\"T_310b1786_d898_11ea_8778_acde48001122row2_col2\" class=\"data row2 col2\" >3.89656e-18</td>\n",
       "                        <td id=\"T_310b1786_d898_11ea_8778_acde48001122row2_col3\" class=\"data row2 col3\" >True</td>\n",
       "            </tr>\n",
       "            <tr>\n",
       "                                <td id=\"T_310b1786_d898_11ea_8778_acde48001122row3_col0\" class=\"data row3 col0\" >Dataset 1</td>\n",
       "                        <td id=\"T_310b1786_d898_11ea_8778_acde48001122row3_col1\" class=\"data row3 col1\" >('kegg_on_PathMeUniverse', 'reactome_on_subgraph')</td>\n",
       "                        <td id=\"T_310b1786_d898_11ea_8778_acde48001122row3_col2\" class=\"data row3 col2\" >3.89656e-18</td>\n",
       "                        <td id=\"T_310b1786_d898_11ea_8778_acde48001122row3_col3\" class=\"data row3 col3\" >True</td>\n",
       "            </tr>\n",
       "            <tr>\n",
       "                                <td id=\"T_310b1786_d898_11ea_8778_acde48001122row4_col0\" class=\"data row4 col0\" >Dataset 1</td>\n",
       "                        <td id=\"T_310b1786_d898_11ea_8778_acde48001122row4_col1\" class=\"data row4 col1\" >('kegg_on_PathMeUniverse', 'wikipathways_on_subgraph')</td>\n",
       "                        <td id=\"T_310b1786_d898_11ea_8778_acde48001122row4_col2\" class=\"data row4 col2\" >3.89656e-18</td>\n",
       "                        <td id=\"T_310b1786_d898_11ea_8778_acde48001122row4_col3\" class=\"data row4 col3\" >True</td>\n",
       "            </tr>\n",
       "            <tr>\n",
       "                                <td id=\"T_310b1786_d898_11ea_8778_acde48001122row5_col0\" class=\"data row5 col0\" >Dataset 1</td>\n",
       "                        <td id=\"T_310b1786_d898_11ea_8778_acde48001122row5_col1\" class=\"data row5 col1\" >('reactome_on_PathMeUniverse', 'wikipathways_on_PathMeUniverse')</td>\n",
       "                        <td id=\"T_310b1786_d898_11ea_8778_acde48001122row5_col2\" class=\"data row5 col2\" >3.89656e-18</td>\n",
       "                        <td id=\"T_310b1786_d898_11ea_8778_acde48001122row5_col3\" class=\"data row5 col3\" >True</td>\n",
       "            </tr>\n",
       "            <tr>\n",
       "                                <td id=\"T_310b1786_d898_11ea_8778_acde48001122row6_col0\" class=\"data row6 col0\" >Dataset 1</td>\n",
       "                        <td id=\"T_310b1786_d898_11ea_8778_acde48001122row6_col1\" class=\"data row6 col1\" >('reactome_on_PathMeUniverse', 'kegg_on_subgraph')</td>\n",
       "                        <td id=\"T_310b1786_d898_11ea_8778_acde48001122row6_col2\" class=\"data row6 col2\" >3.89656e-18</td>\n",
       "                        <td id=\"T_310b1786_d898_11ea_8778_acde48001122row6_col3\" class=\"data row6 col3\" >True</td>\n",
       "            </tr>\n",
       "            <tr>\n",
       "                                <td id=\"T_310b1786_d898_11ea_8778_acde48001122row7_col0\" class=\"data row7 col0\" >Dataset 1</td>\n",
       "                        <td id=\"T_310b1786_d898_11ea_8778_acde48001122row7_col1\" class=\"data row7 col1\" >('reactome_on_PathMeUniverse', 'reactome_on_subgraph')</td>\n",
       "                        <td id=\"T_310b1786_d898_11ea_8778_acde48001122row7_col2\" class=\"data row7 col2\" >3.89656e-18</td>\n",
       "                        <td id=\"T_310b1786_d898_11ea_8778_acde48001122row7_col3\" class=\"data row7 col3\" >True</td>\n",
       "            </tr>\n",
       "            <tr>\n",
       "                                <td id=\"T_310b1786_d898_11ea_8778_acde48001122row8_col0\" class=\"data row8 col0\" >Dataset 1</td>\n",
       "                        <td id=\"T_310b1786_d898_11ea_8778_acde48001122row8_col1\" class=\"data row8 col1\" >('reactome_on_PathMeUniverse', 'wikipathways_on_subgraph')</td>\n",
       "                        <td id=\"T_310b1786_d898_11ea_8778_acde48001122row8_col2\" class=\"data row8 col2\" >3.89656e-18</td>\n",
       "                        <td id=\"T_310b1786_d898_11ea_8778_acde48001122row8_col3\" class=\"data row8 col3\" >True</td>\n",
       "            </tr>\n",
       "            <tr>\n",
       "                                <td id=\"T_310b1786_d898_11ea_8778_acde48001122row9_col0\" class=\"data row9 col0\" >Dataset 1</td>\n",
       "                        <td id=\"T_310b1786_d898_11ea_8778_acde48001122row9_col1\" class=\"data row9 col1\" >('wikipathways_on_PathMeUniverse', 'kegg_on_subgraph')</td>\n",
       "                        <td id=\"T_310b1786_d898_11ea_8778_acde48001122row9_col2\" class=\"data row9 col2\" >3.89656e-18</td>\n",
       "                        <td id=\"T_310b1786_d898_11ea_8778_acde48001122row9_col3\" class=\"data row9 col3\" >True</td>\n",
       "            </tr>\n",
       "            <tr>\n",
       "                                <td id=\"T_310b1786_d898_11ea_8778_acde48001122row10_col0\" class=\"data row10 col0\" >Dataset 1</td>\n",
       "                        <td id=\"T_310b1786_d898_11ea_8778_acde48001122row10_col1\" class=\"data row10 col1\" >('wikipathways_on_PathMeUniverse', 'reactome_on_subgraph')</td>\n",
       "                        <td id=\"T_310b1786_d898_11ea_8778_acde48001122row10_col2\" class=\"data row10 col2\" >3.89656e-18</td>\n",
       "                        <td id=\"T_310b1786_d898_11ea_8778_acde48001122row10_col3\" class=\"data row10 col3\" >True</td>\n",
       "            </tr>\n",
       "            <tr>\n",
       "                                <td id=\"T_310b1786_d898_11ea_8778_acde48001122row11_col0\" class=\"data row11 col0\" >Dataset 1</td>\n",
       "                        <td id=\"T_310b1786_d898_11ea_8778_acde48001122row11_col1\" class=\"data row11 col1\" >('wikipathways_on_PathMeUniverse', 'wikipathways_on_subgraph')</td>\n",
       "                        <td id=\"T_310b1786_d898_11ea_8778_acde48001122row11_col2\" class=\"data row11 col2\" >3.89656e-18</td>\n",
       "                        <td id=\"T_310b1786_d898_11ea_8778_acde48001122row11_col3\" class=\"data row11 col3\" >True</td>\n",
       "            </tr>\n",
       "            <tr>\n",
       "                                <td id=\"T_310b1786_d898_11ea_8778_acde48001122row12_col0\" class=\"data row12 col0\" >Dataset 1</td>\n",
       "                        <td id=\"T_310b1786_d898_11ea_8778_acde48001122row12_col1\" class=\"data row12 col1\" >('kegg_on_subgraph', 'reactome_on_subgraph')</td>\n",
       "                        <td id=\"T_310b1786_d898_11ea_8778_acde48001122row12_col2\" class=\"data row12 col2\" >4.67068e-18</td>\n",
       "                        <td id=\"T_310b1786_d898_11ea_8778_acde48001122row12_col3\" class=\"data row12 col3\" >True</td>\n",
       "            </tr>\n",
       "            <tr>\n",
       "                                <td id=\"T_310b1786_d898_11ea_8778_acde48001122row13_col0\" class=\"data row13 col0\" >Dataset 1</td>\n",
       "                        <td id=\"T_310b1786_d898_11ea_8778_acde48001122row13_col1\" class=\"data row13 col1\" >('kegg_on_subgraph', 'wikipathways_on_subgraph')</td>\n",
       "                        <td id=\"T_310b1786_d898_11ea_8778_acde48001122row13_col2\" class=\"data row13 col2\" >3.89656e-18</td>\n",
       "                        <td id=\"T_310b1786_d898_11ea_8778_acde48001122row13_col3\" class=\"data row13 col3\" >True</td>\n",
       "            </tr>\n",
       "            <tr>\n",
       "                                <td id=\"T_310b1786_d898_11ea_8778_acde48001122row14_col0\" class=\"data row14 col0\" >Dataset 1</td>\n",
       "                        <td id=\"T_310b1786_d898_11ea_8778_acde48001122row14_col1\" class=\"data row14 col1\" >('reactome_on_subgraph', 'wikipathways_on_subgraph')</td>\n",
       "                        <td id=\"T_310b1786_d898_11ea_8778_acde48001122row14_col2\" class=\"data row14 col2\" >3.89656e-18</td>\n",
       "                        <td id=\"T_310b1786_d898_11ea_8778_acde48001122row14_col3\" class=\"data row14 col3\" >True</td>\n",
       "            </tr>\n",
       "            <tr>\n",
       "                                <td id=\"T_310b1786_d898_11ea_8778_acde48001122row15_col0\" class=\"data row15 col0\" >Dataset 2</td>\n",
       "                        <td id=\"T_310b1786_d898_11ea_8778_acde48001122row15_col1\" class=\"data row15 col1\" >('kegg_on_PathMeUniverse', 'reactome_on_PathMeUniverse')</td>\n",
       "                        <td id=\"T_310b1786_d898_11ea_8778_acde48001122row15_col2\" class=\"data row15 col2\" >4.13937e-18</td>\n",
       "                        <td id=\"T_310b1786_d898_11ea_8778_acde48001122row15_col3\" class=\"data row15 col3\" >True</td>\n",
       "            </tr>\n",
       "            <tr>\n",
       "                                <td id=\"T_310b1786_d898_11ea_8778_acde48001122row16_col0\" class=\"data row16 col0\" >Dataset 2</td>\n",
       "                        <td id=\"T_310b1786_d898_11ea_8778_acde48001122row16_col1\" class=\"data row16 col1\" >('kegg_on_PathMeUniverse', 'wikipathways_on_PathMeUniverse')</td>\n",
       "                        <td id=\"T_310b1786_d898_11ea_8778_acde48001122row16_col2\" class=\"data row16 col2\" >0.956128</td>\n",
       "                        <td id=\"T_310b1786_d898_11ea_8778_acde48001122row16_col3\" class=\"data row16 col3\" >False</td>\n",
       "            </tr>\n",
       "            <tr>\n",
       "                                <td id=\"T_310b1786_d898_11ea_8778_acde48001122row17_col0\" class=\"data row17 col0\" >Dataset 2</td>\n",
       "                        <td id=\"T_310b1786_d898_11ea_8778_acde48001122row17_col1\" class=\"data row17 col1\" >('kegg_on_PathMeUniverse', 'kegg_on_subgraph')</td>\n",
       "                        <td id=\"T_310b1786_d898_11ea_8778_acde48001122row17_col2\" class=\"data row17 col2\" >2.92604e-16</td>\n",
       "                        <td id=\"T_310b1786_d898_11ea_8778_acde48001122row17_col3\" class=\"data row17 col3\" >True</td>\n",
       "            </tr>\n",
       "            <tr>\n",
       "                                <td id=\"T_310b1786_d898_11ea_8778_acde48001122row18_col0\" class=\"data row18 col0\" >Dataset 2</td>\n",
       "                        <td id=\"T_310b1786_d898_11ea_8778_acde48001122row18_col1\" class=\"data row18 col1\" >('kegg_on_PathMeUniverse', 'reactome_on_subgraph')</td>\n",
       "                        <td id=\"T_310b1786_d898_11ea_8778_acde48001122row18_col2\" class=\"data row18 col2\" >3.89656e-18</td>\n",
       "                        <td id=\"T_310b1786_d898_11ea_8778_acde48001122row18_col3\" class=\"data row18 col3\" >True</td>\n",
       "            </tr>\n",
       "            <tr>\n",
       "                                <td id=\"T_310b1786_d898_11ea_8778_acde48001122row19_col0\" class=\"data row19 col0\" >Dataset 2</td>\n",
       "                        <td id=\"T_310b1786_d898_11ea_8778_acde48001122row19_col1\" class=\"data row19 col1\" >('kegg_on_PathMeUniverse', 'wikipathways_on_subgraph')</td>\n",
       "                        <td id=\"T_310b1786_d898_11ea_8778_acde48001122row19_col2\" class=\"data row19 col2\" >3.89656e-18</td>\n",
       "                        <td id=\"T_310b1786_d898_11ea_8778_acde48001122row19_col3\" class=\"data row19 col3\" >True</td>\n",
       "            </tr>\n",
       "            <tr>\n",
       "                                <td id=\"T_310b1786_d898_11ea_8778_acde48001122row20_col0\" class=\"data row20 col0\" >Dataset 2</td>\n",
       "                        <td id=\"T_310b1786_d898_11ea_8778_acde48001122row20_col1\" class=\"data row20 col1\" >('reactome_on_PathMeUniverse', 'wikipathways_on_PathMeUniverse')</td>\n",
       "                        <td id=\"T_310b1786_d898_11ea_8778_acde48001122row20_col2\" class=\"data row20 col2\" >3.89656e-18</td>\n",
       "                        <td id=\"T_310b1786_d898_11ea_8778_acde48001122row20_col3\" class=\"data row20 col3\" >True</td>\n",
       "            </tr>\n",
       "            <tr>\n",
       "                                <td id=\"T_310b1786_d898_11ea_8778_acde48001122row21_col0\" class=\"data row21 col0\" >Dataset 2</td>\n",
       "                        <td id=\"T_310b1786_d898_11ea_8778_acde48001122row21_col1\" class=\"data row21 col1\" >('reactome_on_PathMeUniverse', 'kegg_on_subgraph')</td>\n",
       "                        <td id=\"T_310b1786_d898_11ea_8778_acde48001122row21_col2\" class=\"data row21 col2\" >9.03543e-14</td>\n",
       "                        <td id=\"T_310b1786_d898_11ea_8778_acde48001122row21_col3\" class=\"data row21 col3\" >True</td>\n",
       "            </tr>\n",
       "            <tr>\n",
       "                                <td id=\"T_310b1786_d898_11ea_8778_acde48001122row22_col0\" class=\"data row22 col0\" >Dataset 2</td>\n",
       "                        <td id=\"T_310b1786_d898_11ea_8778_acde48001122row22_col1\" class=\"data row22 col1\" >('reactome_on_PathMeUniverse', 'reactome_on_subgraph')</td>\n",
       "                        <td id=\"T_310b1786_d898_11ea_8778_acde48001122row22_col2\" class=\"data row22 col2\" >3.88952e-16</td>\n",
       "                        <td id=\"T_310b1786_d898_11ea_8778_acde48001122row22_col3\" class=\"data row22 col3\" >True</td>\n",
       "            </tr>\n",
       "            <tr>\n",
       "                                <td id=\"T_310b1786_d898_11ea_8778_acde48001122row23_col0\" class=\"data row23 col0\" >Dataset 2</td>\n",
       "                        <td id=\"T_310b1786_d898_11ea_8778_acde48001122row23_col1\" class=\"data row23 col1\" >('reactome_on_PathMeUniverse', 'wikipathways_on_subgraph')</td>\n",
       "                        <td id=\"T_310b1786_d898_11ea_8778_acde48001122row23_col2\" class=\"data row23 col2\" >0.000231007</td>\n",
       "                        <td id=\"T_310b1786_d898_11ea_8778_acde48001122row23_col3\" class=\"data row23 col3\" >True</td>\n",
       "            </tr>\n",
       "            <tr>\n",
       "                                <td id=\"T_310b1786_d898_11ea_8778_acde48001122row24_col0\" class=\"data row24 col0\" >Dataset 2</td>\n",
       "                        <td id=\"T_310b1786_d898_11ea_8778_acde48001122row24_col1\" class=\"data row24 col1\" >('wikipathways_on_PathMeUniverse', 'kegg_on_subgraph')</td>\n",
       "                        <td id=\"T_310b1786_d898_11ea_8778_acde48001122row24_col2\" class=\"data row24 col2\" >4.09513e-17</td>\n",
       "                        <td id=\"T_310b1786_d898_11ea_8778_acde48001122row24_col3\" class=\"data row24 col3\" >True</td>\n",
       "            </tr>\n",
       "            <tr>\n",
       "                                <td id=\"T_310b1786_d898_11ea_8778_acde48001122row25_col0\" class=\"data row25 col0\" >Dataset 2</td>\n",
       "                        <td id=\"T_310b1786_d898_11ea_8778_acde48001122row25_col1\" class=\"data row25 col1\" >('wikipathways_on_PathMeUniverse', 'reactome_on_subgraph')</td>\n",
       "                        <td id=\"T_310b1786_d898_11ea_8778_acde48001122row25_col2\" class=\"data row25 col2\" >3.89656e-18</td>\n",
       "                        <td id=\"T_310b1786_d898_11ea_8778_acde48001122row25_col3\" class=\"data row25 col3\" >True</td>\n",
       "            </tr>\n",
       "            <tr>\n",
       "                                <td id=\"T_310b1786_d898_11ea_8778_acde48001122row26_col0\" class=\"data row26 col0\" >Dataset 2</td>\n",
       "                        <td id=\"T_310b1786_d898_11ea_8778_acde48001122row26_col1\" class=\"data row26 col1\" >('wikipathways_on_PathMeUniverse', 'wikipathways_on_subgraph')</td>\n",
       "                        <td id=\"T_310b1786_d898_11ea_8778_acde48001122row26_col2\" class=\"data row26 col2\" >3.89656e-18</td>\n",
       "                        <td id=\"T_310b1786_d898_11ea_8778_acde48001122row26_col3\" class=\"data row26 col3\" >True</td>\n",
       "            </tr>\n",
       "            <tr>\n",
       "                                <td id=\"T_310b1786_d898_11ea_8778_acde48001122row27_col0\" class=\"data row27 col0\" >Dataset 2</td>\n",
       "                        <td id=\"T_310b1786_d898_11ea_8778_acde48001122row27_col1\" class=\"data row27 col1\" >('kegg_on_subgraph', 'reactome_on_subgraph')</td>\n",
       "                        <td id=\"T_310b1786_d898_11ea_8778_acde48001122row27_col2\" class=\"data row27 col2\" >3.89656e-18</td>\n",
       "                        <td id=\"T_310b1786_d898_11ea_8778_acde48001122row27_col3\" class=\"data row27 col3\" >True</td>\n",
       "            </tr>\n",
       "            <tr>\n",
       "                                <td id=\"T_310b1786_d898_11ea_8778_acde48001122row28_col0\" class=\"data row28 col0\" >Dataset 2</td>\n",
       "                        <td id=\"T_310b1786_d898_11ea_8778_acde48001122row28_col1\" class=\"data row28 col1\" >('kegg_on_subgraph', 'wikipathways_on_subgraph')</td>\n",
       "                        <td id=\"T_310b1786_d898_11ea_8778_acde48001122row28_col2\" class=\"data row28 col2\" >1.69063e-17</td>\n",
       "                        <td id=\"T_310b1786_d898_11ea_8778_acde48001122row28_col3\" class=\"data row28 col3\" >True</td>\n",
       "            </tr>\n",
       "            <tr>\n",
       "                                <td id=\"T_310b1786_d898_11ea_8778_acde48001122row29_col0\" class=\"data row29 col0\" >Dataset 2</td>\n",
       "                        <td id=\"T_310b1786_d898_11ea_8778_acde48001122row29_col1\" class=\"data row29 col1\" >('reactome_on_subgraph', 'wikipathways_on_subgraph')</td>\n",
       "                        <td id=\"T_310b1786_d898_11ea_8778_acde48001122row29_col2\" class=\"data row29 col2\" >1.02099e-12</td>\n",
       "                        <td id=\"T_310b1786_d898_11ea_8778_acde48001122row29_col3\" class=\"data row29 col3\" >True</td>\n",
       "            </tr>\n",
       "            <tr>\n",
       "                                <td id=\"T_310b1786_d898_11ea_8778_acde48001122row30_col0\" class=\"data row30 col0\" >Dataset 3</td>\n",
       "                        <td id=\"T_310b1786_d898_11ea_8778_acde48001122row30_col1\" class=\"data row30 col1\" >('kegg_on_PathMeUniverse', 'reactome_on_PathMeUniverse')</td>\n",
       "                        <td id=\"T_310b1786_d898_11ea_8778_acde48001122row30_col2\" class=\"data row30 col2\" >0.0533177</td>\n",
       "                        <td id=\"T_310b1786_d898_11ea_8778_acde48001122row30_col3\" class=\"data row30 col3\" >False</td>\n",
       "            </tr>\n",
       "            <tr>\n",
       "                                <td id=\"T_310b1786_d898_11ea_8778_acde48001122row31_col0\" class=\"data row31 col0\" >Dataset 3</td>\n",
       "                        <td id=\"T_310b1786_d898_11ea_8778_acde48001122row31_col1\" class=\"data row31 col1\" >('kegg_on_PathMeUniverse', 'wikipathways_on_PathMeUniverse')</td>\n",
       "                        <td id=\"T_310b1786_d898_11ea_8778_acde48001122row31_col2\" class=\"data row31 col2\" >1.85304e-09</td>\n",
       "                        <td id=\"T_310b1786_d898_11ea_8778_acde48001122row31_col3\" class=\"data row31 col3\" >True</td>\n",
       "            </tr>\n",
       "            <tr>\n",
       "                                <td id=\"T_310b1786_d898_11ea_8778_acde48001122row32_col0\" class=\"data row32 col0\" >Dataset 3</td>\n",
       "                        <td id=\"T_310b1786_d898_11ea_8778_acde48001122row32_col1\" class=\"data row32 col1\" >('kegg_on_PathMeUniverse', 'kegg_on_subgraph')</td>\n",
       "                        <td id=\"T_310b1786_d898_11ea_8778_acde48001122row32_col2\" class=\"data row32 col2\" >5.87765e-13</td>\n",
       "                        <td id=\"T_310b1786_d898_11ea_8778_acde48001122row32_col3\" class=\"data row32 col3\" >True</td>\n",
       "            </tr>\n",
       "            <tr>\n",
       "                                <td id=\"T_310b1786_d898_11ea_8778_acde48001122row33_col0\" class=\"data row33 col0\" >Dataset 3</td>\n",
       "                        <td id=\"T_310b1786_d898_11ea_8778_acde48001122row33_col1\" class=\"data row33 col1\" >('kegg_on_PathMeUniverse', 'reactome_on_subgraph')</td>\n",
       "                        <td id=\"T_310b1786_d898_11ea_8778_acde48001122row33_col2\" class=\"data row33 col2\" >3.76959e-08</td>\n",
       "                        <td id=\"T_310b1786_d898_11ea_8778_acde48001122row33_col3\" class=\"data row33 col3\" >True</td>\n",
       "            </tr>\n",
       "            <tr>\n",
       "                                <td id=\"T_310b1786_d898_11ea_8778_acde48001122row34_col0\" class=\"data row34 col0\" >Dataset 3</td>\n",
       "                        <td id=\"T_310b1786_d898_11ea_8778_acde48001122row34_col1\" class=\"data row34 col1\" >('kegg_on_PathMeUniverse', 'wikipathways_on_subgraph')</td>\n",
       "                        <td id=\"T_310b1786_d898_11ea_8778_acde48001122row34_col2\" class=\"data row34 col2\" >1.18577e-12</td>\n",
       "                        <td id=\"T_310b1786_d898_11ea_8778_acde48001122row34_col3\" class=\"data row34 col3\" >True</td>\n",
       "            </tr>\n",
       "            <tr>\n",
       "                                <td id=\"T_310b1786_d898_11ea_8778_acde48001122row35_col0\" class=\"data row35 col0\" >Dataset 3</td>\n",
       "                        <td id=\"T_310b1786_d898_11ea_8778_acde48001122row35_col1\" class=\"data row35 col1\" >('reactome_on_PathMeUniverse', 'wikipathways_on_PathMeUniverse')</td>\n",
       "                        <td id=\"T_310b1786_d898_11ea_8778_acde48001122row35_col2\" class=\"data row35 col2\" >5.3052e-06</td>\n",
       "                        <td id=\"T_310b1786_d898_11ea_8778_acde48001122row35_col3\" class=\"data row35 col3\" >True</td>\n",
       "            </tr>\n",
       "            <tr>\n",
       "                                <td id=\"T_310b1786_d898_11ea_8778_acde48001122row36_col0\" class=\"data row36 col0\" >Dataset 3</td>\n",
       "                        <td id=\"T_310b1786_d898_11ea_8778_acde48001122row36_col1\" class=\"data row36 col1\" >('reactome_on_PathMeUniverse', 'kegg_on_subgraph')</td>\n",
       "                        <td id=\"T_310b1786_d898_11ea_8778_acde48001122row36_col2\" class=\"data row36 col2\" >6.47331e-16</td>\n",
       "                        <td id=\"T_310b1786_d898_11ea_8778_acde48001122row36_col3\" class=\"data row36 col3\" >True</td>\n",
       "            </tr>\n",
       "            <tr>\n",
       "                                <td id=\"T_310b1786_d898_11ea_8778_acde48001122row37_col0\" class=\"data row37 col0\" >Dataset 3</td>\n",
       "                        <td id=\"T_310b1786_d898_11ea_8778_acde48001122row37_col1\" class=\"data row37 col1\" >('reactome_on_PathMeUniverse', 'reactome_on_subgraph')</td>\n",
       "                        <td id=\"T_310b1786_d898_11ea_8778_acde48001122row37_col2\" class=\"data row37 col2\" >2.88454e-12</td>\n",
       "                        <td id=\"T_310b1786_d898_11ea_8778_acde48001122row37_col3\" class=\"data row37 col3\" >True</td>\n",
       "            </tr>\n",
       "            <tr>\n",
       "                                <td id=\"T_310b1786_d898_11ea_8778_acde48001122row38_col0\" class=\"data row38 col0\" >Dataset 3</td>\n",
       "                        <td id=\"T_310b1786_d898_11ea_8778_acde48001122row38_col1\" class=\"data row38 col1\" >('reactome_on_PathMeUniverse', 'wikipathways_on_subgraph')</td>\n",
       "                        <td id=\"T_310b1786_d898_11ea_8778_acde48001122row38_col2\" class=\"data row38 col2\" >2.61031e-16</td>\n",
       "                        <td id=\"T_310b1786_d898_11ea_8778_acde48001122row38_col3\" class=\"data row38 col3\" >True</td>\n",
       "            </tr>\n",
       "            <tr>\n",
       "                                <td id=\"T_310b1786_d898_11ea_8778_acde48001122row39_col0\" class=\"data row39 col0\" >Dataset 3</td>\n",
       "                        <td id=\"T_310b1786_d898_11ea_8778_acde48001122row39_col1\" class=\"data row39 col1\" >('wikipathways_on_PathMeUniverse', 'kegg_on_subgraph')</td>\n",
       "                        <td id=\"T_310b1786_d898_11ea_8778_acde48001122row39_col2\" class=\"data row39 col2\" >1.082e-17</td>\n",
       "                        <td id=\"T_310b1786_d898_11ea_8778_acde48001122row39_col3\" class=\"data row39 col3\" >True</td>\n",
       "            </tr>\n",
       "            <tr>\n",
       "                                <td id=\"T_310b1786_d898_11ea_8778_acde48001122row40_col0\" class=\"data row40 col0\" >Dataset 3</td>\n",
       "                        <td id=\"T_310b1786_d898_11ea_8778_acde48001122row40_col1\" class=\"data row40 col1\" >('wikipathways_on_PathMeUniverse', 'reactome_on_subgraph')</td>\n",
       "                        <td id=\"T_310b1786_d898_11ea_8778_acde48001122row40_col2\" class=\"data row40 col2\" >2.87824e-17</td>\n",
       "                        <td id=\"T_310b1786_d898_11ea_8778_acde48001122row40_col3\" class=\"data row40 col3\" >True</td>\n",
       "            </tr>\n",
       "            <tr>\n",
       "                                <td id=\"T_310b1786_d898_11ea_8778_acde48001122row41_col0\" class=\"data row41 col0\" >Dataset 3</td>\n",
       "                        <td id=\"T_310b1786_d898_11ea_8778_acde48001122row41_col1\" class=\"data row41 col1\" >('wikipathways_on_PathMeUniverse', 'wikipathways_on_subgraph')</td>\n",
       "                        <td id=\"T_310b1786_d898_11ea_8778_acde48001122row41_col2\" class=\"data row41 col2\" >1.84789e-17</td>\n",
       "                        <td id=\"T_310b1786_d898_11ea_8778_acde48001122row41_col3\" class=\"data row41 col3\" >True</td>\n",
       "            </tr>\n",
       "            <tr>\n",
       "                                <td id=\"T_310b1786_d898_11ea_8778_acde48001122row42_col0\" class=\"data row42 col0\" >Dataset 3</td>\n",
       "                        <td id=\"T_310b1786_d898_11ea_8778_acde48001122row42_col1\" class=\"data row42 col1\" >('kegg_on_subgraph', 'reactome_on_subgraph')</td>\n",
       "                        <td id=\"T_310b1786_d898_11ea_8778_acde48001122row42_col2\" class=\"data row42 col2\" >0.00475967</td>\n",
       "                        <td id=\"T_310b1786_d898_11ea_8778_acde48001122row42_col3\" class=\"data row42 col3\" >True</td>\n",
       "            </tr>\n",
       "            <tr>\n",
       "                                <td id=\"T_310b1786_d898_11ea_8778_acde48001122row43_col0\" class=\"data row43 col0\" >Dataset 3</td>\n",
       "                        <td id=\"T_310b1786_d898_11ea_8778_acde48001122row43_col1\" class=\"data row43 col1\" >('kegg_on_subgraph', 'wikipathways_on_subgraph')</td>\n",
       "                        <td id=\"T_310b1786_d898_11ea_8778_acde48001122row43_col2\" class=\"data row43 col2\" >0.139279</td>\n",
       "                        <td id=\"T_310b1786_d898_11ea_8778_acde48001122row43_col3\" class=\"data row43 col3\" >False</td>\n",
       "            </tr>\n",
       "            <tr>\n",
       "                                <td id=\"T_310b1786_d898_11ea_8778_acde48001122row44_col0\" class=\"data row44 col0\" >Dataset 3</td>\n",
       "                        <td id=\"T_310b1786_d898_11ea_8778_acde48001122row44_col1\" class=\"data row44 col1\" >('reactome_on_subgraph', 'wikipathways_on_subgraph')</td>\n",
       "                        <td id=\"T_310b1786_d898_11ea_8778_acde48001122row44_col2\" class=\"data row44 col2\" >7.68318e-05</td>\n",
       "                        <td id=\"T_310b1786_d898_11ea_8778_acde48001122row44_col3\" class=\"data row44 col3\" >True</td>\n",
       "            </tr>\n",
       "    </tbody></table>"
      ],
      "text/plain": [
       "<pandas.io.formats.style.Styler at 0x1270cda90>"
      ]
     },
     "execution_count": 6,
     "metadata": {},
     "output_type": "execute_result"
    }
   ],
   "source": [
    "df_wilcoxon = get_wilcoxon_test(preprocess_for_sb_ttest(metrics_by_db['auroc']), True, \"AUROC\")\n",
    "df_wilcoxon.style.hide_index()"
   ]
  },
  {
   "cell_type": "markdown",
   "metadata": {},
   "source": [
    "### 3.2. Result metrics AUPRC"
   ]
  },
  {
   "cell_type": "code",
   "execution_count": 7,
   "metadata": {},
   "outputs": [
    {
     "data": {
      "image/png": "[encoded data removed]",
      "text/plain": [
       "<Figure size 1224x432 with 3 Axes>"
      ]
     },
     "metadata": {
      "needs_background": "light"
     },
     "output_type": "display_data"
    }
   ],
   "source": [
    "show_sb_box_plot(data_dict=preprocess_for_sb_boxplot(metrics_by_db['auprc']),\n",
    "                 color_palette = ['#87619e', '#a6bcd3'],\n",
    "                 x_label='Database',\n",
    "                 y_label='AUPRC',\n",
    "                 y_lim = [0, 0.08]\n",
    "                )\n"
   ]
  },
  {
   "cell_type": "markdown",
   "metadata": {},
   "source": [
    "##### Wilcoxon test"
   ]
  },
  {
   "cell_type": "code",
   "execution_count": 8,
   "metadata": {},
   "outputs": [
    {
     "data": {
      "text/html": [
       "<style  type=\"text/css\" >\n",
       "</style><table id=\"T_346309e8_d898_11ea_8778_acde48001122\" ><thead>    <tr>        <th class=\"col_heading level0 col0\" >Dataset</th>        <th class=\"col_heading level0 col1\" >Comparison AUPRC</th>        <th class=\"col_heading level0 col2\" >p_value</th>        <th class=\"col_heading level0 col3\" >Significant difference</th>    </tr></thead><tbody>\n",
       "                <tr>\n",
       "                                <td id=\"T_346309e8_d898_11ea_8778_acde48001122row0_col0\" class=\"data row0 col0\" >Dataset 1</td>\n",
       "                        <td id=\"T_346309e8_d898_11ea_8778_acde48001122row0_col1\" class=\"data row0 col1\" >('kegg_on_PathMeUniverse', 'reactome_on_PathMeUniverse')</td>\n",
       "                        <td id=\"T_346309e8_d898_11ea_8778_acde48001122row0_col2\" class=\"data row0 col2\" >3.89656e-18</td>\n",
       "                        <td id=\"T_346309e8_d898_11ea_8778_acde48001122row0_col3\" class=\"data row0 col3\" >True</td>\n",
       "            </tr>\n",
       "            <tr>\n",
       "                                <td id=\"T_346309e8_d898_11ea_8778_acde48001122row1_col0\" class=\"data row1 col0\" >Dataset 1</td>\n",
       "                        <td id=\"T_346309e8_d898_11ea_8778_acde48001122row1_col1\" class=\"data row1 col1\" >('kegg_on_PathMeUniverse', 'wikipathways_on_PathMeUniverse')</td>\n",
       "                        <td id=\"T_346309e8_d898_11ea_8778_acde48001122row1_col2\" class=\"data row1 col2\" >3.89656e-18</td>\n",
       "                        <td id=\"T_346309e8_d898_11ea_8778_acde48001122row1_col3\" class=\"data row1 col3\" >True</td>\n",
       "            </tr>\n",
       "            <tr>\n",
       "                                <td id=\"T_346309e8_d898_11ea_8778_acde48001122row2_col0\" class=\"data row2 col0\" >Dataset 1</td>\n",
       "                        <td id=\"T_346309e8_d898_11ea_8778_acde48001122row2_col1\" class=\"data row2 col1\" >('kegg_on_PathMeUniverse', 'kegg_on_subgraph')</td>\n",
       "                        <td id=\"T_346309e8_d898_11ea_8778_acde48001122row2_col2\" class=\"data row2 col2\" >3.89656e-18</td>\n",
       "                        <td id=\"T_346309e8_d898_11ea_8778_acde48001122row2_col3\" class=\"data row2 col3\" >True</td>\n",
       "            </tr>\n",
       "            <tr>\n",
       "                                <td id=\"T_346309e8_d898_11ea_8778_acde48001122row3_col0\" class=\"data row3 col0\" >Dataset 1</td>\n",
       "                        <td id=\"T_346309e8_d898_11ea_8778_acde48001122row3_col1\" class=\"data row3 col1\" >('kegg_on_PathMeUniverse', 'reactome_on_subgraph')</td>\n",
       "                        <td id=\"T_346309e8_d898_11ea_8778_acde48001122row3_col2\" class=\"data row3 col2\" >3.89656e-18</td>\n",
       "                        <td id=\"T_346309e8_d898_11ea_8778_acde48001122row3_col3\" class=\"data row3 col3\" >True</td>\n",
       "            </tr>\n",
       "            <tr>\n",
       "                                <td id=\"T_346309e8_d898_11ea_8778_acde48001122row4_col0\" class=\"data row4 col0\" >Dataset 1</td>\n",
       "                        <td id=\"T_346309e8_d898_11ea_8778_acde48001122row4_col1\" class=\"data row4 col1\" >('kegg_on_PathMeUniverse', 'wikipathways_on_subgraph')</td>\n",
       "                        <td id=\"T_346309e8_d898_11ea_8778_acde48001122row4_col2\" class=\"data row4 col2\" >3.89656e-18</td>\n",
       "                        <td id=\"T_346309e8_d898_11ea_8778_acde48001122row4_col3\" class=\"data row4 col3\" >True</td>\n",
       "            </tr>\n",
       "            <tr>\n",
       "                                <td id=\"T_346309e8_d898_11ea_8778_acde48001122row5_col0\" class=\"data row5 col0\" >Dataset 1</td>\n",
       "                        <td id=\"T_346309e8_d898_11ea_8778_acde48001122row5_col1\" class=\"data row5 col1\" >('reactome_on_PathMeUniverse', 'wikipathways_on_PathMeUniverse')</td>\n",
       "                        <td id=\"T_346309e8_d898_11ea_8778_acde48001122row5_col2\" class=\"data row5 col2\" >3.89656e-18</td>\n",
       "                        <td id=\"T_346309e8_d898_11ea_8778_acde48001122row5_col3\" class=\"data row5 col3\" >True</td>\n",
       "            </tr>\n",
       "            <tr>\n",
       "                                <td id=\"T_346309e8_d898_11ea_8778_acde48001122row6_col0\" class=\"data row6 col0\" >Dataset 1</td>\n",
       "                        <td id=\"T_346309e8_d898_11ea_8778_acde48001122row6_col1\" class=\"data row6 col1\" >('reactome_on_PathMeUniverse', 'kegg_on_subgraph')</td>\n",
       "                        <td id=\"T_346309e8_d898_11ea_8778_acde48001122row6_col2\" class=\"data row6 col2\" >3.89656e-18</td>\n",
       "                        <td id=\"T_346309e8_d898_11ea_8778_acde48001122row6_col3\" class=\"data row6 col3\" >True</td>\n",
       "            </tr>\n",
       "            <tr>\n",
       "                                <td id=\"T_346309e8_d898_11ea_8778_acde48001122row7_col0\" class=\"data row7 col0\" >Dataset 1</td>\n",
       "                        <td id=\"T_346309e8_d898_11ea_8778_acde48001122row7_col1\" class=\"data row7 col1\" >('reactome_on_PathMeUniverse', 'reactome_on_subgraph')</td>\n",
       "                        <td id=\"T_346309e8_d898_11ea_8778_acde48001122row7_col2\" class=\"data row7 col2\" >3.89656e-18</td>\n",
       "                        <td id=\"T_346309e8_d898_11ea_8778_acde48001122row7_col3\" class=\"data row7 col3\" >True</td>\n",
       "            </tr>\n",
       "            <tr>\n",
       "                                <td id=\"T_346309e8_d898_11ea_8778_acde48001122row8_col0\" class=\"data row8 col0\" >Dataset 1</td>\n",
       "                        <td id=\"T_346309e8_d898_11ea_8778_acde48001122row8_col1\" class=\"data row8 col1\" >('reactome_on_PathMeUniverse', 'wikipathways_on_subgraph')</td>\n",
       "                        <td id=\"T_346309e8_d898_11ea_8778_acde48001122row8_col2\" class=\"data row8 col2\" >3.89656e-18</td>\n",
       "                        <td id=\"T_346309e8_d898_11ea_8778_acde48001122row8_col3\" class=\"data row8 col3\" >True</td>\n",
       "            </tr>\n",
       "            <tr>\n",
       "                                <td id=\"T_346309e8_d898_11ea_8778_acde48001122row9_col0\" class=\"data row9 col0\" >Dataset 1</td>\n",
       "                        <td id=\"T_346309e8_d898_11ea_8778_acde48001122row9_col1\" class=\"data row9 col1\" >('wikipathways_on_PathMeUniverse', 'kegg_on_subgraph')</td>\n",
       "                        <td id=\"T_346309e8_d898_11ea_8778_acde48001122row9_col2\" class=\"data row9 col2\" >3.89656e-18</td>\n",
       "                        <td id=\"T_346309e8_d898_11ea_8778_acde48001122row9_col3\" class=\"data row9 col3\" >True</td>\n",
       "            </tr>\n",
       "            <tr>\n",
       "                                <td id=\"T_346309e8_d898_11ea_8778_acde48001122row10_col0\" class=\"data row10 col0\" >Dataset 1</td>\n",
       "                        <td id=\"T_346309e8_d898_11ea_8778_acde48001122row10_col1\" class=\"data row10 col1\" >('wikipathways_on_PathMeUniverse', 'reactome_on_subgraph')</td>\n",
       "                        <td id=\"T_346309e8_d898_11ea_8778_acde48001122row10_col2\" class=\"data row10 col2\" >3.89656e-18</td>\n",
       "                        <td id=\"T_346309e8_d898_11ea_8778_acde48001122row10_col3\" class=\"data row10 col3\" >True</td>\n",
       "            </tr>\n",
       "            <tr>\n",
       "                                <td id=\"T_346309e8_d898_11ea_8778_acde48001122row11_col0\" class=\"data row11 col0\" >Dataset 1</td>\n",
       "                        <td id=\"T_346309e8_d898_11ea_8778_acde48001122row11_col1\" class=\"data row11 col1\" >('wikipathways_on_PathMeUniverse', 'wikipathways_on_subgraph')</td>\n",
       "                        <td id=\"T_346309e8_d898_11ea_8778_acde48001122row11_col2\" class=\"data row11 col2\" >3.89656e-18</td>\n",
       "                        <td id=\"T_346309e8_d898_11ea_8778_acde48001122row11_col3\" class=\"data row11 col3\" >True</td>\n",
       "            </tr>\n",
       "            <tr>\n",
       "                                <td id=\"T_346309e8_d898_11ea_8778_acde48001122row12_col0\" class=\"data row12 col0\" >Dataset 1</td>\n",
       "                        <td id=\"T_346309e8_d898_11ea_8778_acde48001122row12_col1\" class=\"data row12 col1\" >('kegg_on_subgraph', 'reactome_on_subgraph')</td>\n",
       "                        <td id=\"T_346309e8_d898_11ea_8778_acde48001122row12_col2\" class=\"data row12 col2\" >3.89656e-18</td>\n",
       "                        <td id=\"T_346309e8_d898_11ea_8778_acde48001122row12_col3\" class=\"data row12 col3\" >True</td>\n",
       "            </tr>\n",
       "            <tr>\n",
       "                                <td id=\"T_346309e8_d898_11ea_8778_acde48001122row13_col0\" class=\"data row13 col0\" >Dataset 1</td>\n",
       "                        <td id=\"T_346309e8_d898_11ea_8778_acde48001122row13_col1\" class=\"data row13 col1\" >('kegg_on_subgraph', 'wikipathways_on_subgraph')</td>\n",
       "                        <td id=\"T_346309e8_d898_11ea_8778_acde48001122row13_col2\" class=\"data row13 col2\" >3.89656e-18</td>\n",
       "                        <td id=\"T_346309e8_d898_11ea_8778_acde48001122row13_col3\" class=\"data row13 col3\" >True</td>\n",
       "            </tr>\n",
       "            <tr>\n",
       "                                <td id=\"T_346309e8_d898_11ea_8778_acde48001122row14_col0\" class=\"data row14 col0\" >Dataset 1</td>\n",
       "                        <td id=\"T_346309e8_d898_11ea_8778_acde48001122row14_col1\" class=\"data row14 col1\" >('reactome_on_subgraph', 'wikipathways_on_subgraph')</td>\n",
       "                        <td id=\"T_346309e8_d898_11ea_8778_acde48001122row14_col2\" class=\"data row14 col2\" >3.89656e-18</td>\n",
       "                        <td id=\"T_346309e8_d898_11ea_8778_acde48001122row14_col3\" class=\"data row14 col3\" >True</td>\n",
       "            </tr>\n",
       "            <tr>\n",
       "                                <td id=\"T_346309e8_d898_11ea_8778_acde48001122row15_col0\" class=\"data row15 col0\" >Dataset 2</td>\n",
       "                        <td id=\"T_346309e8_d898_11ea_8778_acde48001122row15_col1\" class=\"data row15 col1\" >('kegg_on_PathMeUniverse', 'reactome_on_PathMeUniverse')</td>\n",
       "                        <td id=\"T_346309e8_d898_11ea_8778_acde48001122row15_col2\" class=\"data row15 col2\" >5.02646e-17</td>\n",
       "                        <td id=\"T_346309e8_d898_11ea_8778_acde48001122row15_col3\" class=\"data row15 col3\" >True</td>\n",
       "            </tr>\n",
       "            <tr>\n",
       "                                <td id=\"T_346309e8_d898_11ea_8778_acde48001122row16_col0\" class=\"data row16 col0\" >Dataset 2</td>\n",
       "                        <td id=\"T_346309e8_d898_11ea_8778_acde48001122row16_col1\" class=\"data row16 col1\" >('kegg_on_PathMeUniverse', 'wikipathways_on_PathMeUniverse')</td>\n",
       "                        <td id=\"T_346309e8_d898_11ea_8778_acde48001122row16_col2\" class=\"data row16 col2\" >0.0480375</td>\n",
       "                        <td id=\"T_346309e8_d898_11ea_8778_acde48001122row16_col3\" class=\"data row16 col3\" >False</td>\n",
       "            </tr>\n",
       "            <tr>\n",
       "                                <td id=\"T_346309e8_d898_11ea_8778_acde48001122row17_col0\" class=\"data row17 col0\" >Dataset 2</td>\n",
       "                        <td id=\"T_346309e8_d898_11ea_8778_acde48001122row17_col1\" class=\"data row17 col1\" >('kegg_on_PathMeUniverse', 'kegg_on_subgraph')</td>\n",
       "                        <td id=\"T_346309e8_d898_11ea_8778_acde48001122row17_col2\" class=\"data row17 col2\" >4.48243e-16</td>\n",
       "                        <td id=\"T_346309e8_d898_11ea_8778_acde48001122row17_col3\" class=\"data row17 col3\" >True</td>\n",
       "            </tr>\n",
       "            <tr>\n",
       "                                <td id=\"T_346309e8_d898_11ea_8778_acde48001122row18_col0\" class=\"data row18 col0\" >Dataset 2</td>\n",
       "                        <td id=\"T_346309e8_d898_11ea_8778_acde48001122row18_col1\" class=\"data row18 col1\" >('kegg_on_PathMeUniverse', 'reactome_on_subgraph')</td>\n",
       "                        <td id=\"T_346309e8_d898_11ea_8778_acde48001122row18_col2\" class=\"data row18 col2\" >3.89656e-18</td>\n",
       "                        <td id=\"T_346309e8_d898_11ea_8778_acde48001122row18_col3\" class=\"data row18 col3\" >True</td>\n",
       "            </tr>\n",
       "            <tr>\n",
       "                                <td id=\"T_346309e8_d898_11ea_8778_acde48001122row19_col0\" class=\"data row19 col0\" >Dataset 2</td>\n",
       "                        <td id=\"T_346309e8_d898_11ea_8778_acde48001122row19_col1\" class=\"data row19 col1\" >('kegg_on_PathMeUniverse', 'wikipathways_on_subgraph')</td>\n",
       "                        <td id=\"T_346309e8_d898_11ea_8778_acde48001122row19_col2\" class=\"data row19 col2\" >2.9173e-15</td>\n",
       "                        <td id=\"T_346309e8_d898_11ea_8778_acde48001122row19_col3\" class=\"data row19 col3\" >True</td>\n",
       "            </tr>\n",
       "            <tr>\n",
       "                                <td id=\"T_346309e8_d898_11ea_8778_acde48001122row20_col0\" class=\"data row20 col0\" >Dataset 2</td>\n",
       "                        <td id=\"T_346309e8_d898_11ea_8778_acde48001122row20_col1\" class=\"data row20 col1\" >('reactome_on_PathMeUniverse', 'wikipathways_on_PathMeUniverse')</td>\n",
       "                        <td id=\"T_346309e8_d898_11ea_8778_acde48001122row20_col2\" class=\"data row20 col2\" >3.23922e-14</td>\n",
       "                        <td id=\"T_346309e8_d898_11ea_8778_acde48001122row20_col3\" class=\"data row20 col3\" >True</td>\n",
       "            </tr>\n",
       "            <tr>\n",
       "                                <td id=\"T_346309e8_d898_11ea_8778_acde48001122row21_col0\" class=\"data row21 col0\" >Dataset 2</td>\n",
       "                        <td id=\"T_346309e8_d898_11ea_8778_acde48001122row21_col1\" class=\"data row21 col1\" >('reactome_on_PathMeUniverse', 'kegg_on_subgraph')</td>\n",
       "                        <td id=\"T_346309e8_d898_11ea_8778_acde48001122row21_col2\" class=\"data row21 col2\" >3.89656e-18</td>\n",
       "                        <td id=\"T_346309e8_d898_11ea_8778_acde48001122row21_col3\" class=\"data row21 col3\" >True</td>\n",
       "            </tr>\n",
       "            <tr>\n",
       "                                <td id=\"T_346309e8_d898_11ea_8778_acde48001122row22_col0\" class=\"data row22 col0\" >Dataset 2</td>\n",
       "                        <td id=\"T_346309e8_d898_11ea_8778_acde48001122row22_col1\" class=\"data row22 col1\" >('reactome_on_PathMeUniverse', 'reactome_on_subgraph')</td>\n",
       "                        <td id=\"T_346309e8_d898_11ea_8778_acde48001122row22_col2\" class=\"data row22 col2\" >4.45696e-10</td>\n",
       "                        <td id=\"T_346309e8_d898_11ea_8778_acde48001122row22_col3\" class=\"data row22 col3\" >True</td>\n",
       "            </tr>\n",
       "            <tr>\n",
       "                                <td id=\"T_346309e8_d898_11ea_8778_acde48001122row23_col0\" class=\"data row23 col0\" >Dataset 2</td>\n",
       "                        <td id=\"T_346309e8_d898_11ea_8778_acde48001122row23_col1\" class=\"data row23 col1\" >('reactome_on_PathMeUniverse', 'wikipathways_on_subgraph')</td>\n",
       "                        <td id=\"T_346309e8_d898_11ea_8778_acde48001122row23_col2\" class=\"data row23 col2\" >5.7672e-18</td>\n",
       "                        <td id=\"T_346309e8_d898_11ea_8778_acde48001122row23_col3\" class=\"data row23 col3\" >True</td>\n",
       "            </tr>\n",
       "            <tr>\n",
       "                                <td id=\"T_346309e8_d898_11ea_8778_acde48001122row24_col0\" class=\"data row24 col0\" >Dataset 2</td>\n",
       "                        <td id=\"T_346309e8_d898_11ea_8778_acde48001122row24_col1\" class=\"data row24 col1\" >('wikipathways_on_PathMeUniverse', 'kegg_on_subgraph')</td>\n",
       "                        <td id=\"T_346309e8_d898_11ea_8778_acde48001122row24_col2\" class=\"data row24 col2\" >3.9768e-17</td>\n",
       "                        <td id=\"T_346309e8_d898_11ea_8778_acde48001122row24_col3\" class=\"data row24 col3\" >True</td>\n",
       "            </tr>\n",
       "            <tr>\n",
       "                                <td id=\"T_346309e8_d898_11ea_8778_acde48001122row25_col0\" class=\"data row25 col0\" >Dataset 2</td>\n",
       "                        <td id=\"T_346309e8_d898_11ea_8778_acde48001122row25_col1\" class=\"data row25 col1\" >('wikipathways_on_PathMeUniverse', 'reactome_on_subgraph')</td>\n",
       "                        <td id=\"T_346309e8_d898_11ea_8778_acde48001122row25_col2\" class=\"data row25 col2\" >6.31161e-18</td>\n",
       "                        <td id=\"T_346309e8_d898_11ea_8778_acde48001122row25_col3\" class=\"data row25 col3\" >True</td>\n",
       "            </tr>\n",
       "            <tr>\n",
       "                                <td id=\"T_346309e8_d898_11ea_8778_acde48001122row26_col0\" class=\"data row26 col0\" >Dataset 2</td>\n",
       "                        <td id=\"T_346309e8_d898_11ea_8778_acde48001122row26_col1\" class=\"data row26 col1\" >('wikipathways_on_PathMeUniverse', 'wikipathways_on_subgraph')</td>\n",
       "                        <td id=\"T_346309e8_d898_11ea_8778_acde48001122row26_col2\" class=\"data row26 col2\" >2.27525e-15</td>\n",
       "                        <td id=\"T_346309e8_d898_11ea_8778_acde48001122row26_col3\" class=\"data row26 col3\" >True</td>\n",
       "            </tr>\n",
       "            <tr>\n",
       "                                <td id=\"T_346309e8_d898_11ea_8778_acde48001122row27_col0\" class=\"data row27 col0\" >Dataset 2</td>\n",
       "                        <td id=\"T_346309e8_d898_11ea_8778_acde48001122row27_col1\" class=\"data row27 col1\" >('kegg_on_subgraph', 'reactome_on_subgraph')</td>\n",
       "                        <td id=\"T_346309e8_d898_11ea_8778_acde48001122row27_col2\" class=\"data row27 col2\" >3.89656e-18</td>\n",
       "                        <td id=\"T_346309e8_d898_11ea_8778_acde48001122row27_col3\" class=\"data row27 col3\" >True</td>\n",
       "            </tr>\n",
       "            <tr>\n",
       "                                <td id=\"T_346309e8_d898_11ea_8778_acde48001122row28_col0\" class=\"data row28 col0\" >Dataset 2</td>\n",
       "                        <td id=\"T_346309e8_d898_11ea_8778_acde48001122row28_col1\" class=\"data row28 col1\" >('kegg_on_subgraph', 'wikipathways_on_subgraph')</td>\n",
       "                        <td id=\"T_346309e8_d898_11ea_8778_acde48001122row28_col2\" class=\"data row28 col2\" >0.10535</td>\n",
       "                        <td id=\"T_346309e8_d898_11ea_8778_acde48001122row28_col3\" class=\"data row28 col3\" >False</td>\n",
       "            </tr>\n",
       "            <tr>\n",
       "                                <td id=\"T_346309e8_d898_11ea_8778_acde48001122row29_col0\" class=\"data row29 col0\" >Dataset 2</td>\n",
       "                        <td id=\"T_346309e8_d898_11ea_8778_acde48001122row29_col1\" class=\"data row29 col1\" >('reactome_on_subgraph', 'wikipathways_on_subgraph')</td>\n",
       "                        <td id=\"T_346309e8_d898_11ea_8778_acde48001122row29_col2\" class=\"data row29 col2\" >3.89656e-18</td>\n",
       "                        <td id=\"T_346309e8_d898_11ea_8778_acde48001122row29_col3\" class=\"data row29 col3\" >True</td>\n",
       "            </tr>\n",
       "            <tr>\n",
       "                                <td id=\"T_346309e8_d898_11ea_8778_acde48001122row30_col0\" class=\"data row30 col0\" >Dataset 3</td>\n",
       "                        <td id=\"T_346309e8_d898_11ea_8778_acde48001122row30_col1\" class=\"data row30 col1\" >('kegg_on_PathMeUniverse', 'reactome_on_PathMeUniverse')</td>\n",
       "                        <td id=\"T_346309e8_d898_11ea_8778_acde48001122row30_col2\" class=\"data row30 col2\" >7.24546e-16</td>\n",
       "                        <td id=\"T_346309e8_d898_11ea_8778_acde48001122row30_col3\" class=\"data row30 col3\" >True</td>\n",
       "            </tr>\n",
       "            <tr>\n",
       "                                <td id=\"T_346309e8_d898_11ea_8778_acde48001122row31_col0\" class=\"data row31 col0\" >Dataset 3</td>\n",
       "                        <td id=\"T_346309e8_d898_11ea_8778_acde48001122row31_col1\" class=\"data row31 col1\" >('kegg_on_PathMeUniverse', 'wikipathways_on_PathMeUniverse')</td>\n",
       "                        <td id=\"T_346309e8_d898_11ea_8778_acde48001122row31_col2\" class=\"data row31 col2\" >0.0418018</td>\n",
       "                        <td id=\"T_346309e8_d898_11ea_8778_acde48001122row31_col3\" class=\"data row31 col3\" >False</td>\n",
       "            </tr>\n",
       "            <tr>\n",
       "                                <td id=\"T_346309e8_d898_11ea_8778_acde48001122row32_col0\" class=\"data row32 col0\" >Dataset 3</td>\n",
       "                        <td id=\"T_346309e8_d898_11ea_8778_acde48001122row32_col1\" class=\"data row32 col1\" >('kegg_on_PathMeUniverse', 'kegg_on_subgraph')</td>\n",
       "                        <td id=\"T_346309e8_d898_11ea_8778_acde48001122row32_col2\" class=\"data row32 col2\" >1.90345e-17</td>\n",
       "                        <td id=\"T_346309e8_d898_11ea_8778_acde48001122row32_col3\" class=\"data row32 col3\" >True</td>\n",
       "            </tr>\n",
       "            <tr>\n",
       "                                <td id=\"T_346309e8_d898_11ea_8778_acde48001122row33_col0\" class=\"data row33 col0\" >Dataset 3</td>\n",
       "                        <td id=\"T_346309e8_d898_11ea_8778_acde48001122row33_col1\" class=\"data row33 col1\" >('kegg_on_PathMeUniverse', 'reactome_on_subgraph')</td>\n",
       "                        <td id=\"T_346309e8_d898_11ea_8778_acde48001122row33_col2\" class=\"data row33 col2\" >4.17048e-15</td>\n",
       "                        <td id=\"T_346309e8_d898_11ea_8778_acde48001122row33_col3\" class=\"data row33 col3\" >True</td>\n",
       "            </tr>\n",
       "            <tr>\n",
       "                                <td id=\"T_346309e8_d898_11ea_8778_acde48001122row34_col0\" class=\"data row34 col0\" >Dataset 3</td>\n",
       "                        <td id=\"T_346309e8_d898_11ea_8778_acde48001122row34_col1\" class=\"data row34 col1\" >('kegg_on_PathMeUniverse', 'wikipathways_on_subgraph')</td>\n",
       "                        <td id=\"T_346309e8_d898_11ea_8778_acde48001122row34_col2\" class=\"data row34 col2\" >5.7672e-18</td>\n",
       "                        <td id=\"T_346309e8_d898_11ea_8778_acde48001122row34_col3\" class=\"data row34 col3\" >True</td>\n",
       "            </tr>\n",
       "            <tr>\n",
       "                                <td id=\"T_346309e8_d898_11ea_8778_acde48001122row35_col0\" class=\"data row35 col0\" >Dataset 3</td>\n",
       "                        <td id=\"T_346309e8_d898_11ea_8778_acde48001122row35_col1\" class=\"data row35 col1\" >('reactome_on_PathMeUniverse', 'wikipathways_on_PathMeUniverse')</td>\n",
       "                        <td id=\"T_346309e8_d898_11ea_8778_acde48001122row35_col2\" class=\"data row35 col2\" >3.09773e-16</td>\n",
       "                        <td id=\"T_346309e8_d898_11ea_8778_acde48001122row35_col3\" class=\"data row35 col3\" >True</td>\n",
       "            </tr>\n",
       "            <tr>\n",
       "                                <td id=\"T_346309e8_d898_11ea_8778_acde48001122row36_col0\" class=\"data row36 col0\" >Dataset 3</td>\n",
       "                        <td id=\"T_346309e8_d898_11ea_8778_acde48001122row36_col1\" class=\"data row36 col1\" >('reactome_on_PathMeUniverse', 'kegg_on_subgraph')</td>\n",
       "                        <td id=\"T_346309e8_d898_11ea_8778_acde48001122row36_col2\" class=\"data row36 col2\" >0.000147102</td>\n",
       "                        <td id=\"T_346309e8_d898_11ea_8778_acde48001122row36_col3\" class=\"data row36 col3\" >True</td>\n",
       "            </tr>\n",
       "            <tr>\n",
       "                                <td id=\"T_346309e8_d898_11ea_8778_acde48001122row37_col0\" class=\"data row37 col0\" >Dataset 3</td>\n",
       "                        <td id=\"T_346309e8_d898_11ea_8778_acde48001122row37_col1\" class=\"data row37 col1\" >('reactome_on_PathMeUniverse', 'reactome_on_subgraph')</td>\n",
       "                        <td id=\"T_346309e8_d898_11ea_8778_acde48001122row37_col2\" class=\"data row37 col2\" >0.852704</td>\n",
       "                        <td id=\"T_346309e8_d898_11ea_8778_acde48001122row37_col3\" class=\"data row37 col3\" >False</td>\n",
       "            </tr>\n",
       "            <tr>\n",
       "                                <td id=\"T_346309e8_d898_11ea_8778_acde48001122row38_col0\" class=\"data row38 col0\" >Dataset 3</td>\n",
       "                        <td id=\"T_346309e8_d898_11ea_8778_acde48001122row38_col1\" class=\"data row38 col1\" >('reactome_on_PathMeUniverse', 'wikipathways_on_subgraph')</td>\n",
       "                        <td id=\"T_346309e8_d898_11ea_8778_acde48001122row38_col2\" class=\"data row38 col2\" >2.9173e-15</td>\n",
       "                        <td id=\"T_346309e8_d898_11ea_8778_acde48001122row38_col3\" class=\"data row38 col3\" >True</td>\n",
       "            </tr>\n",
       "            <tr>\n",
       "                                <td id=\"T_346309e8_d898_11ea_8778_acde48001122row39_col0\" class=\"data row39 col0\" >Dataset 3</td>\n",
       "                        <td id=\"T_346309e8_d898_11ea_8778_acde48001122row39_col1\" class=\"data row39 col1\" >('wikipathways_on_PathMeUniverse', 'kegg_on_subgraph')</td>\n",
       "                        <td id=\"T_346309e8_d898_11ea_8778_acde48001122row39_col2\" class=\"data row39 col2\" >8.2678e-18</td>\n",
       "                        <td id=\"T_346309e8_d898_11ea_8778_acde48001122row39_col3\" class=\"data row39 col3\" >True</td>\n",
       "            </tr>\n",
       "            <tr>\n",
       "                                <td id=\"T_346309e8_d898_11ea_8778_acde48001122row40_col0\" class=\"data row40 col0\" >Dataset 3</td>\n",
       "                        <td id=\"T_346309e8_d898_11ea_8778_acde48001122row40_col1\" class=\"data row40 col1\" >('wikipathways_on_PathMeUniverse', 'reactome_on_subgraph')</td>\n",
       "                        <td id=\"T_346309e8_d898_11ea_8778_acde48001122row40_col2\" class=\"data row40 col2\" >6.29331e-16</td>\n",
       "                        <td id=\"T_346309e8_d898_11ea_8778_acde48001122row40_col3\" class=\"data row40 col3\" >True</td>\n",
       "            </tr>\n",
       "            <tr>\n",
       "                                <td id=\"T_346309e8_d898_11ea_8778_acde48001122row41_col0\" class=\"data row41 col0\" >Dataset 3</td>\n",
       "                        <td id=\"T_346309e8_d898_11ea_8778_acde48001122row41_col1\" class=\"data row41 col1\" >('wikipathways_on_PathMeUniverse', 'wikipathways_on_subgraph')</td>\n",
       "                        <td id=\"T_346309e8_d898_11ea_8778_acde48001122row41_col2\" class=\"data row41 col2\" >4.67068e-18</td>\n",
       "                        <td id=\"T_346309e8_d898_11ea_8778_acde48001122row41_col3\" class=\"data row41 col3\" >True</td>\n",
       "            </tr>\n",
       "            <tr>\n",
       "                                <td id=\"T_346309e8_d898_11ea_8778_acde48001122row42_col0\" class=\"data row42 col0\" >Dataset 3</td>\n",
       "                        <td id=\"T_346309e8_d898_11ea_8778_acde48001122row42_col1\" class=\"data row42 col1\" >('kegg_on_subgraph', 'reactome_on_subgraph')</td>\n",
       "                        <td id=\"T_346309e8_d898_11ea_8778_acde48001122row42_col2\" class=\"data row42 col2\" >0.000917924</td>\n",
       "                        <td id=\"T_346309e8_d898_11ea_8778_acde48001122row42_col3\" class=\"data row42 col3\" >True</td>\n",
       "            </tr>\n",
       "            <tr>\n",
       "                                <td id=\"T_346309e8_d898_11ea_8778_acde48001122row43_col0\" class=\"data row43 col0\" >Dataset 3</td>\n",
       "                        <td id=\"T_346309e8_d898_11ea_8778_acde48001122row43_col1\" class=\"data row43 col1\" >('kegg_on_subgraph', 'wikipathways_on_subgraph')</td>\n",
       "                        <td id=\"T_346309e8_d898_11ea_8778_acde48001122row43_col2\" class=\"data row43 col2\" >1.83621e-11</td>\n",
       "                        <td id=\"T_346309e8_d898_11ea_8778_acde48001122row43_col3\" class=\"data row43 col3\" >True</td>\n",
       "            </tr>\n",
       "            <tr>\n",
       "                                <td id=\"T_346309e8_d898_11ea_8778_acde48001122row44_col0\" class=\"data row44 col0\" >Dataset 3</td>\n",
       "                        <td id=\"T_346309e8_d898_11ea_8778_acde48001122row44_col1\" class=\"data row44 col1\" >('reactome_on_subgraph', 'wikipathways_on_subgraph')</td>\n",
       "                        <td id=\"T_346309e8_d898_11ea_8778_acde48001122row44_col2\" class=\"data row44 col2\" >2.83796e-15</td>\n",
       "                        <td id=\"T_346309e8_d898_11ea_8778_acde48001122row44_col3\" class=\"data row44 col3\" >True</td>\n",
       "            </tr>\n",
       "    </tbody></table>"
      ],
      "text/plain": [
       "<pandas.io.formats.style.Styler at 0x126fbe390>"
      ]
     },
     "execution_count": 8,
     "metadata": {},
     "output_type": "execute_result"
    }
   ],
   "source": [
    "df_wilcoxon = get_wilcoxon_test(preprocess_for_sb_ttest(metrics_by_db['auprc']), \n",
    "                                True, \n",
    "                                \"AUPRC\")\n",
    "df_wilcoxon.style.hide_index()"
   ]
  }
 ],
 "metadata": {
  "kernelspec": {
   "display_name": "Python 3",
   "language": "python",
   "name": "python3"
  },
  "language_info": {
   "codemirror_mode": {
    "name": "ipython",
    "version": 3
   },
   "file_extension": ".py",
   "mimetype": "text/x-python",
   "name": "python",
   "nbconvert_exporter": "python",
   "pygments_lexer": "ipython3",
   "version": "3.7.6"
  }
 },
 "nbformat": 4,
 "nbformat_minor": 2
}
