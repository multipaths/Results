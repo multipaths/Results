{
 "cells": [
  {
   "cell_type": "markdown",
   "id": "olive-singapore",
   "metadata": {},
   "source": [
    "# Metabolomic genes mining from *PathMeUniverse*"
   ]
  },
  {
   "cell_type": "markdown",
   "id": "acquired-freight",
   "metadata": {},
   "source": [
    "## 1.Importing Pathway-Datasets mappings from *ComPath*"
   ]
  },
  {
   "cell_type": "code",
   "execution_count": 1,
   "id": "posted-ozone",
   "metadata": {},
   "outputs": [],
   "source": [
    "import pandas as pd\n",
    "import requests\n",
    "import io"
   ]
  },
  {
   "cell_type": "markdown",
   "id": "particular-dutch",
   "metadata": {},
   "source": [
    "### 1.1. KEGG-Reactome Mapping"
   ]
  },
  {
   "cell_type": "code",
   "execution_count": 2,
   "id": "plastic-trainer",
   "metadata": {},
   "outputs": [
    {
     "data": {
      "text/html": [
       "<div>\n",
       "<style scoped>\n",
       "    .dataframe tbody tr th:only-of-type {\n",
       "        vertical-align: middle;\n",
       "    }\n",
       "\n",
       "    .dataframe tbody tr th {\n",
       "        vertical-align: top;\n",
       "    }\n",
       "\n",
       "    .dataframe thead th {\n",
       "        text-align: right;\n",
       "    }\n",
       "</style>\n",
       "<table border=\"1\" class=\"dataframe\">\n",
       "  <thead>\n",
       "    <tr style=\"text-align: right;\">\n",
       "      <th></th>\n",
       "      <th>Source Resource</th>\n",
       "      <th>Source ID</th>\n",
       "      <th>Source Name</th>\n",
       "      <th>Mapping Type</th>\n",
       "      <th>Target Resource</th>\n",
       "      <th>Target ID</th>\n",
       "      <th>Target Name</th>\n",
       "    </tr>\n",
       "  </thead>\n",
       "  <tbody>\n",
       "    <tr>\n",
       "      <th>0</th>\n",
       "      <td>reactome</td>\n",
       "      <td>R-HSA-2978092</td>\n",
       "      <td>Abnormal conversion of 2-oxoglutarate to 2-hyd...</td>\n",
       "      <td>isPartOf</td>\n",
       "      <td>kegg.pathway</td>\n",
       "      <td>path:hsa01210</td>\n",
       "      <td>2-Oxocarboxylic acid metabolism - Homo sapiens...</td>\n",
       "    </tr>\n",
       "    <tr>\n",
       "      <th>1</th>\n",
       "      <td>reactome</td>\n",
       "      <td>R-HSA-71406</td>\n",
       "      <td>Pyruvate metabolism and Citric Acid (TCA) cycle</td>\n",
       "      <td>isPartOf</td>\n",
       "      <td>kegg.pathway</td>\n",
       "      <td>path:hsa01210</td>\n",
       "      <td>2-Oxocarboxylic acid metabolism - Homo sapiens...</td>\n",
       "    </tr>\n",
       "    <tr>\n",
       "      <th>2</th>\n",
       "      <td>kegg.pathway</td>\n",
       "      <td>path:hsa02010</td>\n",
       "      <td>ABC transporters - Homo sapiens (human)</td>\n",
       "      <td>equivalentTo</td>\n",
       "      <td>reactome</td>\n",
       "      <td>R-HSA-1369007</td>\n",
       "      <td>Mitochondrial ABC transporters</td>\n",
       "    </tr>\n",
       "    <tr>\n",
       "      <th>3</th>\n",
       "      <td>reactome</td>\n",
       "      <td>R-HSA-5683177</td>\n",
       "      <td>Defective ABCC8 can cause hypoglycemias and hy...</td>\n",
       "      <td>isPartOf</td>\n",
       "      <td>kegg.pathway</td>\n",
       "      <td>path:hsa02010</td>\n",
       "      <td>ABC transporters - Homo sapiens (human)</td>\n",
       "    </tr>\n",
       "    <tr>\n",
       "      <th>4</th>\n",
       "      <td>reactome</td>\n",
       "      <td>R-HSA-5679001</td>\n",
       "      <td>Defective ABCC2 causes Dubin-Johnson syndrome</td>\n",
       "      <td>isPartOf</td>\n",
       "      <td>kegg.pathway</td>\n",
       "      <td>path:hsa02010</td>\n",
       "      <td>ABC transporters - Homo sapiens (human)</td>\n",
       "    </tr>\n",
       "  </tbody>\n",
       "</table>\n",
       "</div>"
      ],
      "text/plain": [
       "  Source Resource      Source ID  \\\n",
       "0        reactome  R-HSA-2978092   \n",
       "1        reactome    R-HSA-71406   \n",
       "2    kegg.pathway  path:hsa02010   \n",
       "3        reactome  R-HSA-5683177   \n",
       "4        reactome  R-HSA-5679001   \n",
       "\n",
       "                                         Source Name  Mapping Type  \\\n",
       "0  Abnormal conversion of 2-oxoglutarate to 2-hyd...      isPartOf   \n",
       "1    Pyruvate metabolism and Citric Acid (TCA) cycle      isPartOf   \n",
       "2            ABC transporters - Homo sapiens (human)  equivalentTo   \n",
       "3  Defective ABCC8 can cause hypoglycemias and hy...      isPartOf   \n",
       "4      Defective ABCC2 causes Dubin-Johnson syndrome      isPartOf   \n",
       "\n",
       "  Target Resource      Target ID  \\\n",
       "0    kegg.pathway  path:hsa01210   \n",
       "1    kegg.pathway  path:hsa01210   \n",
       "2        reactome  R-HSA-1369007   \n",
       "3    kegg.pathway  path:hsa02010   \n",
       "4    kegg.pathway  path:hsa02010   \n",
       "\n",
       "                                         Target Name  \n",
       "0  2-Oxocarboxylic acid metabolism - Homo sapiens...  \n",
       "1  2-Oxocarboxylic acid metabolism - Homo sapiens...  \n",
       "2                     Mitochondrial ABC transporters  \n",
       "3            ABC transporters - Homo sapiens (human)  \n",
       "4            ABC transporters - Homo sapiens (human)  "
      ]
     },
     "execution_count": 2,
     "metadata": {},
     "output_type": "execute_result"
    }
   ],
   "source": [
    "# Downloading the csv file from ComPath GitHub repository \n",
    "url = \"https://raw.githubusercontent.com/ComPath/compath-resources/master/mappings/kegg_reactome.csv\" # Make sure the url is the raw version of the file on GitHub\n",
    "download = requests.get(url).content\n",
    "\n",
    "# Reading and retrieving it into a pandas dataframe\n",
    "\n",
    "kegg2reactome = pd.read_csv(io.StringIO(download.decode('utf-8')))\n",
    "kegg2reactome.head()"
   ]
  },
  {
   "cell_type": "markdown",
   "id": "subsequent-company",
   "metadata": {},
   "source": [
    "### 1.2. WikiPathways-Reactome Mapping"
   ]
  },
  {
   "cell_type": "code",
   "execution_count": 3,
   "id": "optical-outreach",
   "metadata": {},
   "outputs": [
    {
     "data": {
      "text/html": [
       "<div>\n",
       "<style scoped>\n",
       "    .dataframe tbody tr th:only-of-type {\n",
       "        vertical-align: middle;\n",
       "    }\n",
       "\n",
       "    .dataframe tbody tr th {\n",
       "        vertical-align: top;\n",
       "    }\n",
       "\n",
       "    .dataframe thead th {\n",
       "        text-align: right;\n",
       "    }\n",
       "</style>\n",
       "<table border=\"1\" class=\"dataframe\">\n",
       "  <thead>\n",
       "    <tr style=\"text-align: right;\">\n",
       "      <th></th>\n",
       "      <th>Source Resource</th>\n",
       "      <th>Source ID</th>\n",
       "      <th>Source Name</th>\n",
       "      <th>Mapping Type</th>\n",
       "      <th>Target Resource</th>\n",
       "      <th>Target ID</th>\n",
       "      <th>Target Name</th>\n",
       "    </tr>\n",
       "  </thead>\n",
       "  <tbody>\n",
       "    <tr>\n",
       "      <th>0</th>\n",
       "      <td>reactome</td>\n",
       "      <td>R-HSA-163680</td>\n",
       "      <td>AMPK inhibits chREBP transcriptional activatio...</td>\n",
       "      <td>isPartOf</td>\n",
       "      <td>wikipathways</td>\n",
       "      <td>WP1403</td>\n",
       "      <td>AMP-activated Protein Kinase (AMPK) Signaling</td>\n",
       "    </tr>\n",
       "    <tr>\n",
       "      <th>1</th>\n",
       "      <td>reactome</td>\n",
       "      <td>R-HSA-176187</td>\n",
       "      <td>Activation of ATR in response to replication s...</td>\n",
       "      <td>isPartOf</td>\n",
       "      <td>wikipathways</td>\n",
       "      <td>WP3875</td>\n",
       "      <td>ATR Signaling</td>\n",
       "    </tr>\n",
       "    <tr>\n",
       "      <th>2</th>\n",
       "      <td>wikipathways</td>\n",
       "      <td>WP528</td>\n",
       "      <td>Acetylcholine Synthesis</td>\n",
       "      <td>isPartOf</td>\n",
       "      <td>reactome</td>\n",
       "      <td>R-HSA-1430728</td>\n",
       "      <td>Metabolism</td>\n",
       "    </tr>\n",
       "    <tr>\n",
       "      <th>3</th>\n",
       "      <td>wikipathways</td>\n",
       "      <td>WP699</td>\n",
       "      <td>Aflatoxin B1 metabolism</td>\n",
       "      <td>isPartOf</td>\n",
       "      <td>reactome</td>\n",
       "      <td>R-HSA-1430728</td>\n",
       "      <td>Metabolism</td>\n",
       "    </tr>\n",
       "    <tr>\n",
       "      <th>4</th>\n",
       "      <td>reactome</td>\n",
       "      <td>R-HSA-5423646</td>\n",
       "      <td>Aflatoxin activation and detoxification</td>\n",
       "      <td>isPartOf</td>\n",
       "      <td>wikipathways</td>\n",
       "      <td>WP699</td>\n",
       "      <td>Aflatoxin B1 metabolism</td>\n",
       "    </tr>\n",
       "  </tbody>\n",
       "</table>\n",
       "</div>"
      ],
      "text/plain": [
       "  Source Resource      Source ID  \\\n",
       "0        reactome   R-HSA-163680   \n",
       "1        reactome   R-HSA-176187   \n",
       "2    wikipathways          WP528   \n",
       "3    wikipathways          WP699   \n",
       "4        reactome  R-HSA-5423646   \n",
       "\n",
       "                                         Source Name Mapping Type  \\\n",
       "0  AMPK inhibits chREBP transcriptional activatio...     isPartOf   \n",
       "1  Activation of ATR in response to replication s...     isPartOf   \n",
       "2                            Acetylcholine Synthesis     isPartOf   \n",
       "3                            Aflatoxin B1 metabolism     isPartOf   \n",
       "4            Aflatoxin activation and detoxification     isPartOf   \n",
       "\n",
       "  Target Resource      Target ID  \\\n",
       "0    wikipathways         WP1403   \n",
       "1    wikipathways         WP3875   \n",
       "2        reactome  R-HSA-1430728   \n",
       "3        reactome  R-HSA-1430728   \n",
       "4    wikipathways          WP699   \n",
       "\n",
       "                                     Target Name  \n",
       "0  AMP-activated Protein Kinase (AMPK) Signaling  \n",
       "1                                  ATR Signaling  \n",
       "2                                     Metabolism  \n",
       "3                                     Metabolism  \n",
       "4                        Aflatoxin B1 metabolism  "
      ]
     },
     "execution_count": 3,
     "metadata": {},
     "output_type": "execute_result"
    }
   ],
   "source": [
    "# Downloading the csv file from GitHub\n",
    "url = \"https://raw.githubusercontent.com/ComPath/compath-resources/master/mappings/wikipathways_reactome.csv\" # Make sure the url is the raw version of the file on GitHub\n",
    "download = requests.get(url).content\n",
    "\n",
    "# Reading and retrieving it into a pandas dataframe\n",
    "\n",
    "wp2reactome = pd.read_csv(io.StringIO(download.decode('utf-8')))\n",
    "wp2reactome.head()"
   ]
  },
  {
   "cell_type": "markdown",
   "id": "flying-locking",
   "metadata": {},
   "source": [
    "## 2. Metabolomic pathways filtering"
   ]
  },
  {
   "cell_type": "markdown",
   "id": "appointed-practitioner",
   "metadata": {},
   "source": [
    "### 2.1. KEGG pathways"
   ]
  },
  {
   "cell_type": "markdown",
   "id": "authorized-anchor",
   "metadata": {},
   "source": [
    "#### 2.1.1. `Metabolism` exact match"
   ]
  },
  {
   "cell_type": "code",
   "execution_count": 4,
   "id": "appropriate-april",
   "metadata": {
    "scrolled": true
   },
   "outputs": [
    {
     "data": {
      "text/html": [
       "<div>\n",
       "<style scoped>\n",
       "    .dataframe tbody tr th:only-of-type {\n",
       "        vertical-align: middle;\n",
       "    }\n",
       "\n",
       "    .dataframe tbody tr th {\n",
       "        vertical-align: top;\n",
       "    }\n",
       "\n",
       "    .dataframe thead th {\n",
       "        text-align: right;\n",
       "    }\n",
       "</style>\n",
       "<table border=\"1\" class=\"dataframe\">\n",
       "  <thead>\n",
       "    <tr style=\"text-align: right;\">\n",
       "      <th></th>\n",
       "      <th>Source Resource</th>\n",
       "      <th>Source ID</th>\n",
       "      <th>Source Name</th>\n",
       "      <th>Mapping Type</th>\n",
       "      <th>Target Resource</th>\n",
       "      <th>Target ID</th>\n",
       "      <th>Target Name</th>\n",
       "    </tr>\n",
       "  </thead>\n",
       "  <tbody>\n",
       "    <tr>\n",
       "      <th>24</th>\n",
       "      <td>kegg.pathway</td>\n",
       "      <td>path:hsa04920</td>\n",
       "      <td>Adipocytokine signaling pathway - Homo sapiens...</td>\n",
       "      <td>isPartOf</td>\n",
       "      <td>reactome</td>\n",
       "      <td>R-HSA-1430728</td>\n",
       "      <td>Metabolism</td>\n",
       "    </tr>\n",
       "    <tr>\n",
       "      <th>26</th>\n",
       "      <td>kegg.pathway</td>\n",
       "      <td>path:hsa00250</td>\n",
       "      <td>Alanine, aspartate and glutamate metabolism - ...</td>\n",
       "      <td>isPartOf</td>\n",
       "      <td>reactome</td>\n",
       "      <td>R-HSA-1430728</td>\n",
       "      <td>Metabolism</td>\n",
       "    </tr>\n",
       "    <tr>\n",
       "      <th>27</th>\n",
       "      <td>kegg.pathway</td>\n",
       "      <td>path:hsa04925</td>\n",
       "      <td>Aldosterone synthesis and secretion - Homo sap...</td>\n",
       "      <td>isPartOf</td>\n",
       "      <td>reactome</td>\n",
       "      <td>R-HSA-1430728</td>\n",
       "      <td>Metabolism</td>\n",
       "    </tr>\n",
       "    <tr>\n",
       "      <th>31</th>\n",
       "      <td>kegg.pathway</td>\n",
       "      <td>path:hsa00520</td>\n",
       "      <td>Amino sugar and nucleotide sugar metabolism - ...</td>\n",
       "      <td>isPartOf</td>\n",
       "      <td>reactome</td>\n",
       "      <td>R-HSA-1430728</td>\n",
       "      <td>Metabolism</td>\n",
       "    </tr>\n",
       "    <tr>\n",
       "      <th>32</th>\n",
       "      <td>kegg.pathway</td>\n",
       "      <td>path:hsa00970</td>\n",
       "      <td>Aminoacyl-tRNA biosynthesis - Homo sapiens (hu...</td>\n",
       "      <td>isPartOf</td>\n",
       "      <td>reactome</td>\n",
       "      <td>R-HSA-1430728</td>\n",
       "      <td>Metabolism</td>\n",
       "    </tr>\n",
       "  </tbody>\n",
       "</table>\n",
       "</div>"
      ],
      "text/plain": [
       "   Source Resource      Source ID  \\\n",
       "24    kegg.pathway  path:hsa04920   \n",
       "26    kegg.pathway  path:hsa00250   \n",
       "27    kegg.pathway  path:hsa04925   \n",
       "31    kegg.pathway  path:hsa00520   \n",
       "32    kegg.pathway  path:hsa00970   \n",
       "\n",
       "                                          Source Name Mapping Type  \\\n",
       "24  Adipocytokine signaling pathway - Homo sapiens...     isPartOf   \n",
       "26  Alanine, aspartate and glutamate metabolism - ...     isPartOf   \n",
       "27  Aldosterone synthesis and secretion - Homo sap...     isPartOf   \n",
       "31  Amino sugar and nucleotide sugar metabolism - ...     isPartOf   \n",
       "32  Aminoacyl-tRNA biosynthesis - Homo sapiens (hu...     isPartOf   \n",
       "\n",
       "   Target Resource      Target ID Target Name  \n",
       "24        reactome  R-HSA-1430728  Metabolism  \n",
       "26        reactome  R-HSA-1430728  Metabolism  \n",
       "27        reactome  R-HSA-1430728  Metabolism  \n",
       "31        reactome  R-HSA-1430728  Metabolism  \n",
       "32        reactome  R-HSA-1430728  Metabolism  "
      ]
     },
     "execution_count": 4,
     "metadata": {},
     "output_type": "execute_result"
    }
   ],
   "source": [
    "kegg_match_met_pw = kegg2reactome[(kegg2reactome['Target Name'] =='Metabolism') & kegg2reactome['Source Resource'].isin(['kegg.pathway'])]\n",
    "kegg_match_met_pw.head()"
   ]
  },
  {
   "cell_type": "code",
   "execution_count": 5,
   "id": "thermal-benjamin",
   "metadata": {},
   "outputs": [
    {
     "data": {
      "text/plain": [
       "24    path:hsa04920\n",
       "26    path:hsa00250\n",
       "27    path:hsa04925\n",
       "31    path:hsa00520\n",
       "32    path:hsa00970\n",
       "Name: Source ID, dtype: object"
      ]
     },
     "execution_count": 5,
     "metadata": {},
     "output_type": "execute_result"
    }
   ],
   "source": [
    "kegg_match_met_pw = kegg_match_met_pw['Source ID']\n",
    "kegg_match_met_pw[:5]"
   ]
  },
  {
   "cell_type": "markdown",
   "id": "strange-amplifier",
   "metadata": {},
   "source": [
    "#### 2.1.2. `Metabolism` contained"
   ]
  },
  {
   "cell_type": "code",
   "execution_count": 6,
   "id": "central-animation",
   "metadata": {
    "scrolled": true
   },
   "outputs": [
    {
     "data": {
      "text/html": [
       "<div>\n",
       "<style scoped>\n",
       "    .dataframe tbody tr th:only-of-type {\n",
       "        vertical-align: middle;\n",
       "    }\n",
       "\n",
       "    .dataframe tbody tr th {\n",
       "        vertical-align: top;\n",
       "    }\n",
       "\n",
       "    .dataframe thead th {\n",
       "        text-align: right;\n",
       "    }\n",
       "</style>\n",
       "<table border=\"1\" class=\"dataframe\">\n",
       "  <thead>\n",
       "    <tr style=\"text-align: right;\">\n",
       "      <th></th>\n",
       "      <th>Source Resource</th>\n",
       "      <th>Source ID</th>\n",
       "      <th>Source Name</th>\n",
       "      <th>Mapping Type</th>\n",
       "      <th>Target Resource</th>\n",
       "      <th>Target ID</th>\n",
       "      <th>Target Name</th>\n",
       "    </tr>\n",
       "  </thead>\n",
       "  <tbody>\n",
       "    <tr>\n",
       "      <th>24</th>\n",
       "      <td>kegg.pathway</td>\n",
       "      <td>path:hsa04920</td>\n",
       "      <td>Adipocytokine signaling pathway - Homo sapiens...</td>\n",
       "      <td>isPartOf</td>\n",
       "      <td>reactome</td>\n",
       "      <td>R-HSA-1430728</td>\n",
       "      <td>Metabolism</td>\n",
       "    </tr>\n",
       "    <tr>\n",
       "      <th>25</th>\n",
       "      <td>kegg.pathway</td>\n",
       "      <td>path:hsa00250</td>\n",
       "      <td>Alanine, aspartate and glutamate metabolism - ...</td>\n",
       "      <td>isPartOf</td>\n",
       "      <td>reactome</td>\n",
       "      <td>R-HSA-71291</td>\n",
       "      <td>Metabolism of amino acids and derivatives</td>\n",
       "    </tr>\n",
       "    <tr>\n",
       "      <th>26</th>\n",
       "      <td>kegg.pathway</td>\n",
       "      <td>path:hsa00250</td>\n",
       "      <td>Alanine, aspartate and glutamate metabolism - ...</td>\n",
       "      <td>isPartOf</td>\n",
       "      <td>reactome</td>\n",
       "      <td>R-HSA-1430728</td>\n",
       "      <td>Metabolism</td>\n",
       "    </tr>\n",
       "    <tr>\n",
       "      <th>27</th>\n",
       "      <td>kegg.pathway</td>\n",
       "      <td>path:hsa04925</td>\n",
       "      <td>Aldosterone synthesis and secretion - Homo sap...</td>\n",
       "      <td>isPartOf</td>\n",
       "      <td>reactome</td>\n",
       "      <td>R-HSA-1430728</td>\n",
       "      <td>Metabolism</td>\n",
       "    </tr>\n",
       "    <tr>\n",
       "      <th>31</th>\n",
       "      <td>kegg.pathway</td>\n",
       "      <td>path:hsa00520</td>\n",
       "      <td>Amino sugar and nucleotide sugar metabolism - ...</td>\n",
       "      <td>isPartOf</td>\n",
       "      <td>reactome</td>\n",
       "      <td>R-HSA-1430728</td>\n",
       "      <td>Metabolism</td>\n",
       "    </tr>\n",
       "  </tbody>\n",
       "</table>\n",
       "</div>"
      ],
      "text/plain": [
       "   Source Resource      Source ID  \\\n",
       "24    kegg.pathway  path:hsa04920   \n",
       "25    kegg.pathway  path:hsa00250   \n",
       "26    kegg.pathway  path:hsa00250   \n",
       "27    kegg.pathway  path:hsa04925   \n",
       "31    kegg.pathway  path:hsa00520   \n",
       "\n",
       "                                          Source Name Mapping Type  \\\n",
       "24  Adipocytokine signaling pathway - Homo sapiens...     isPartOf   \n",
       "25  Alanine, aspartate and glutamate metabolism - ...     isPartOf   \n",
       "26  Alanine, aspartate and glutamate metabolism - ...     isPartOf   \n",
       "27  Aldosterone synthesis and secretion - Homo sap...     isPartOf   \n",
       "31  Amino sugar and nucleotide sugar metabolism - ...     isPartOf   \n",
       "\n",
       "   Target Resource      Target ID                                Target Name  \n",
       "24        reactome  R-HSA-1430728                                 Metabolism  \n",
       "25        reactome    R-HSA-71291  Metabolism of amino acids and derivatives  \n",
       "26        reactome  R-HSA-1430728                                 Metabolism  \n",
       "27        reactome  R-HSA-1430728                                 Metabolism  \n",
       "31        reactome  R-HSA-1430728                                 Metabolism  "
      ]
     },
     "execution_count": 6,
     "metadata": {},
     "output_type": "execute_result"
    }
   ],
   "source": [
    "kegg_cont_met_pw = kegg2reactome[kegg2reactome[\"Target Name\"].str.lower().str.contains(\"metabolism\") & kegg2reactome['Source Resource'].isin(['kegg.pathway'])]\n",
    "kegg_cont_met_pw.head()"
   ]
  },
  {
   "cell_type": "code",
   "execution_count": 7,
   "id": "recreational-holocaust",
   "metadata": {},
   "outputs": [
    {
     "data": {
      "text/plain": [
       "24    path:hsa04920\n",
       "25    path:hsa00250\n",
       "26    path:hsa00250\n",
       "27    path:hsa04925\n",
       "31    path:hsa00520\n",
       "Name: Source ID, dtype: object"
      ]
     },
     "execution_count": 7,
     "metadata": {},
     "output_type": "execute_result"
    }
   ],
   "source": [
    "kegg_cont_met_pw = kegg_cont_met_pw['Source ID']\n",
    "kegg_cont_met_pw[:5]"
   ]
  },
  {
   "cell_type": "markdown",
   "id": "recognized-carol",
   "metadata": {},
   "source": [
    "### 2.2. Reactome pathways"
   ]
  },
  {
   "cell_type": "code",
   "execution_count": 8,
   "id": "composed-cursor",
   "metadata": {
    "scrolled": true
   },
   "outputs": [
    {
     "data": {
      "text/html": [
       "<div>\n",
       "<style scoped>\n",
       "    .dataframe tbody tr th:only-of-type {\n",
       "        vertical-align: middle;\n",
       "    }\n",
       "\n",
       "    .dataframe tbody tr th {\n",
       "        vertical-align: top;\n",
       "    }\n",
       "\n",
       "    .dataframe thead th {\n",
       "        text-align: right;\n",
       "    }\n",
       "</style>\n",
       "<table border=\"1\" class=\"dataframe\">\n",
       "  <thead>\n",
       "    <tr style=\"text-align: right;\">\n",
       "      <th></th>\n",
       "      <th>Source Resource</th>\n",
       "      <th>Source ID</th>\n",
       "      <th>Source Name</th>\n",
       "      <th>Mapping Type</th>\n",
       "      <th>Target Resource</th>\n",
       "      <th>Target ID</th>\n",
       "      <th>Target Name</th>\n",
       "    </tr>\n",
       "  </thead>\n",
       "  <tbody>\n",
       "    <tr>\n",
       "      <th>24</th>\n",
       "      <td>kegg.pathway</td>\n",
       "      <td>path:hsa04920</td>\n",
       "      <td>Adipocytokine signaling pathway - Homo sapiens...</td>\n",
       "      <td>isPartOf</td>\n",
       "      <td>reactome</td>\n",
       "      <td>R-HSA-1430728</td>\n",
       "      <td>Metabolism</td>\n",
       "    </tr>\n",
       "    <tr>\n",
       "      <th>26</th>\n",
       "      <td>kegg.pathway</td>\n",
       "      <td>path:hsa00250</td>\n",
       "      <td>Alanine, aspartate and glutamate metabolism - ...</td>\n",
       "      <td>isPartOf</td>\n",
       "      <td>reactome</td>\n",
       "      <td>R-HSA-1430728</td>\n",
       "      <td>Metabolism</td>\n",
       "    </tr>\n",
       "    <tr>\n",
       "      <th>27</th>\n",
       "      <td>kegg.pathway</td>\n",
       "      <td>path:hsa04925</td>\n",
       "      <td>Aldosterone synthesis and secretion - Homo sap...</td>\n",
       "      <td>isPartOf</td>\n",
       "      <td>reactome</td>\n",
       "      <td>R-HSA-1430728</td>\n",
       "      <td>Metabolism</td>\n",
       "    </tr>\n",
       "    <tr>\n",
       "      <th>31</th>\n",
       "      <td>kegg.pathway</td>\n",
       "      <td>path:hsa00520</td>\n",
       "      <td>Amino sugar and nucleotide sugar metabolism - ...</td>\n",
       "      <td>isPartOf</td>\n",
       "      <td>reactome</td>\n",
       "      <td>R-HSA-1430728</td>\n",
       "      <td>Metabolism</td>\n",
       "    </tr>\n",
       "    <tr>\n",
       "      <th>32</th>\n",
       "      <td>kegg.pathway</td>\n",
       "      <td>path:hsa00970</td>\n",
       "      <td>Aminoacyl-tRNA biosynthesis - Homo sapiens (hu...</td>\n",
       "      <td>isPartOf</td>\n",
       "      <td>reactome</td>\n",
       "      <td>R-HSA-1430728</td>\n",
       "      <td>Metabolism</td>\n",
       "    </tr>\n",
       "  </tbody>\n",
       "</table>\n",
       "</div>"
      ],
      "text/plain": [
       "   Source Resource      Source ID  \\\n",
       "24    kegg.pathway  path:hsa04920   \n",
       "26    kegg.pathway  path:hsa00250   \n",
       "27    kegg.pathway  path:hsa04925   \n",
       "31    kegg.pathway  path:hsa00520   \n",
       "32    kegg.pathway  path:hsa00970   \n",
       "\n",
       "                                          Source Name Mapping Type  \\\n",
       "24  Adipocytokine signaling pathway - Homo sapiens...     isPartOf   \n",
       "26  Alanine, aspartate and glutamate metabolism - ...     isPartOf   \n",
       "27  Aldosterone synthesis and secretion - Homo sap...     isPartOf   \n",
       "31  Amino sugar and nucleotide sugar metabolism - ...     isPartOf   \n",
       "32  Aminoacyl-tRNA biosynthesis - Homo sapiens (hu...     isPartOf   \n",
       "\n",
       "   Target Resource      Target ID Target Name  \n",
       "24        reactome  R-HSA-1430728  Metabolism  \n",
       "26        reactome  R-HSA-1430728  Metabolism  \n",
       "27        reactome  R-HSA-1430728  Metabolism  \n",
       "31        reactome  R-HSA-1430728  Metabolism  \n",
       "32        reactome  R-HSA-1430728  Metabolism  "
      ]
     },
     "execution_count": 8,
     "metadata": {},
     "output_type": "execute_result"
    }
   ],
   "source": [
    "reactome_match_met_pw = kegg2reactome[(kegg2reactome['Target Name'] =='Metabolism') & kegg2reactome['Target Resource'].isin(['reactome'])]\n",
    "reactome_match_met_pw.head()"
   ]
  },
  {
   "cell_type": "code",
   "execution_count": 9,
   "id": "future-paradise",
   "metadata": {},
   "outputs": [
    {
     "data": {
      "text/plain": [
       "24    R-HSA-1430728\n",
       "26    R-HSA-1430728\n",
       "27    R-HSA-1430728\n",
       "31    R-HSA-1430728\n",
       "32    R-HSA-1430728\n",
       "Name: Target ID, dtype: object"
      ]
     },
     "execution_count": 9,
     "metadata": {},
     "output_type": "execute_result"
    }
   ],
   "source": [
    "reactome_match_met_pw = reactome_match_met_pw['Target ID']\n",
    "reactome_match_met_pw[:5]"
   ]
  },
  {
   "cell_type": "markdown",
   "id": "abstract-carrier",
   "metadata": {},
   "source": [
    "#### 1.1.2. `Metabolism` contained"
   ]
  },
  {
   "cell_type": "code",
   "execution_count": 10,
   "id": "absolute-necessity",
   "metadata": {
    "scrolled": true
   },
   "outputs": [
    {
     "data": {
      "text/html": [
       "<div>\n",
       "<style scoped>\n",
       "    .dataframe tbody tr th:only-of-type {\n",
       "        vertical-align: middle;\n",
       "    }\n",
       "\n",
       "    .dataframe tbody tr th {\n",
       "        vertical-align: top;\n",
       "    }\n",
       "\n",
       "    .dataframe thead th {\n",
       "        text-align: right;\n",
       "    }\n",
       "</style>\n",
       "<table border=\"1\" class=\"dataframe\">\n",
       "  <thead>\n",
       "    <tr style=\"text-align: right;\">\n",
       "      <th></th>\n",
       "      <th>Source Resource</th>\n",
       "      <th>Source ID</th>\n",
       "      <th>Source Name</th>\n",
       "      <th>Mapping Type</th>\n",
       "      <th>Target Resource</th>\n",
       "      <th>Target ID</th>\n",
       "      <th>Target Name</th>\n",
       "    </tr>\n",
       "  </thead>\n",
       "  <tbody>\n",
       "    <tr>\n",
       "      <th>24</th>\n",
       "      <td>kegg.pathway</td>\n",
       "      <td>path:hsa04920</td>\n",
       "      <td>Adipocytokine signaling pathway - Homo sapiens...</td>\n",
       "      <td>isPartOf</td>\n",
       "      <td>reactome</td>\n",
       "      <td>R-HSA-1430728</td>\n",
       "      <td>Metabolism</td>\n",
       "    </tr>\n",
       "    <tr>\n",
       "      <th>25</th>\n",
       "      <td>kegg.pathway</td>\n",
       "      <td>path:hsa00250</td>\n",
       "      <td>Alanine, aspartate and glutamate metabolism - ...</td>\n",
       "      <td>isPartOf</td>\n",
       "      <td>reactome</td>\n",
       "      <td>R-HSA-71291</td>\n",
       "      <td>Metabolism of amino acids and derivatives</td>\n",
       "    </tr>\n",
       "    <tr>\n",
       "      <th>26</th>\n",
       "      <td>kegg.pathway</td>\n",
       "      <td>path:hsa00250</td>\n",
       "      <td>Alanine, aspartate and glutamate metabolism - ...</td>\n",
       "      <td>isPartOf</td>\n",
       "      <td>reactome</td>\n",
       "      <td>R-HSA-1430728</td>\n",
       "      <td>Metabolism</td>\n",
       "    </tr>\n",
       "    <tr>\n",
       "      <th>27</th>\n",
       "      <td>kegg.pathway</td>\n",
       "      <td>path:hsa04925</td>\n",
       "      <td>Aldosterone synthesis and secretion - Homo sap...</td>\n",
       "      <td>isPartOf</td>\n",
       "      <td>reactome</td>\n",
       "      <td>R-HSA-1430728</td>\n",
       "      <td>Metabolism</td>\n",
       "    </tr>\n",
       "    <tr>\n",
       "      <th>31</th>\n",
       "      <td>kegg.pathway</td>\n",
       "      <td>path:hsa00520</td>\n",
       "      <td>Amino sugar and nucleotide sugar metabolism - ...</td>\n",
       "      <td>isPartOf</td>\n",
       "      <td>reactome</td>\n",
       "      <td>R-HSA-1430728</td>\n",
       "      <td>Metabolism</td>\n",
       "    </tr>\n",
       "  </tbody>\n",
       "</table>\n",
       "</div>"
      ],
      "text/plain": [
       "   Source Resource      Source ID  \\\n",
       "24    kegg.pathway  path:hsa04920   \n",
       "25    kegg.pathway  path:hsa00250   \n",
       "26    kegg.pathway  path:hsa00250   \n",
       "27    kegg.pathway  path:hsa04925   \n",
       "31    kegg.pathway  path:hsa00520   \n",
       "\n",
       "                                          Source Name Mapping Type  \\\n",
       "24  Adipocytokine signaling pathway - Homo sapiens...     isPartOf   \n",
       "25  Alanine, aspartate and glutamate metabolism - ...     isPartOf   \n",
       "26  Alanine, aspartate and glutamate metabolism - ...     isPartOf   \n",
       "27  Aldosterone synthesis and secretion - Homo sap...     isPartOf   \n",
       "31  Amino sugar and nucleotide sugar metabolism - ...     isPartOf   \n",
       "\n",
       "   Target Resource      Target ID                                Target Name  \n",
       "24        reactome  R-HSA-1430728                                 Metabolism  \n",
       "25        reactome    R-HSA-71291  Metabolism of amino acids and derivatives  \n",
       "26        reactome  R-HSA-1430728                                 Metabolism  \n",
       "27        reactome  R-HSA-1430728                                 Metabolism  \n",
       "31        reactome  R-HSA-1430728                                 Metabolism  "
      ]
     },
     "execution_count": 10,
     "metadata": {},
     "output_type": "execute_result"
    }
   ],
   "source": [
    "reactome_cont_met_pw = kegg2reactome[kegg2reactome[\"Target Name\"].str.lower().str.contains(\"metabolism\") & kegg2reactome['Target Resource'].isin(['reactome'])]\n",
    "reactome_cont_met_pw.head()\n"
   ]
  },
  {
   "cell_type": "code",
   "execution_count": 11,
   "id": "anticipated-uzbekistan",
   "metadata": {},
   "outputs": [
    {
     "data": {
      "text/plain": [
       "24    R-HSA-1430728\n",
       "25      R-HSA-71291\n",
       "26    R-HSA-1430728\n",
       "27    R-HSA-1430728\n",
       "31    R-HSA-1430728\n",
       "Name: Target ID, dtype: object"
      ]
     },
     "execution_count": 11,
     "metadata": {},
     "output_type": "execute_result"
    }
   ],
   "source": [
    "reactome_cont_met_pw = reactome_cont_met_pw['Target ID']\n",
    "reactome_cont_met_pw[:5]"
   ]
  },
  {
   "cell_type": "markdown",
   "id": "incident-immune",
   "metadata": {},
   "source": [
    "### 2.3. Wikipathways pathways"
   ]
  },
  {
   "cell_type": "markdown",
   "id": "secondary-creature",
   "metadata": {},
   "source": [
    "#### 2.3.1. `Metabolism` exact match"
   ]
  },
  {
   "cell_type": "code",
   "execution_count": 12,
   "id": "wound-north",
   "metadata": {
    "scrolled": true
   },
   "outputs": [
    {
     "data": {
      "text/html": [
       "<div>\n",
       "<style scoped>\n",
       "    .dataframe tbody tr th:only-of-type {\n",
       "        vertical-align: middle;\n",
       "    }\n",
       "\n",
       "    .dataframe tbody tr th {\n",
       "        vertical-align: top;\n",
       "    }\n",
       "\n",
       "    .dataframe thead th {\n",
       "        text-align: right;\n",
       "    }\n",
       "</style>\n",
       "<table border=\"1\" class=\"dataframe\">\n",
       "  <thead>\n",
       "    <tr style=\"text-align: right;\">\n",
       "      <th></th>\n",
       "      <th>Source Resource</th>\n",
       "      <th>Source ID</th>\n",
       "      <th>Source Name</th>\n",
       "      <th>Mapping Type</th>\n",
       "      <th>Target Resource</th>\n",
       "      <th>Target ID</th>\n",
       "      <th>Target Name</th>\n",
       "    </tr>\n",
       "  </thead>\n",
       "  <tbody>\n",
       "    <tr>\n",
       "      <th>2</th>\n",
       "      <td>wikipathways</td>\n",
       "      <td>WP528</td>\n",
       "      <td>Acetylcholine Synthesis</td>\n",
       "      <td>isPartOf</td>\n",
       "      <td>reactome</td>\n",
       "      <td>R-HSA-1430728</td>\n",
       "      <td>Metabolism</td>\n",
       "    </tr>\n",
       "    <tr>\n",
       "      <th>3</th>\n",
       "      <td>wikipathways</td>\n",
       "      <td>WP699</td>\n",
       "      <td>Aflatoxin B1 metabolism</td>\n",
       "      <td>isPartOf</td>\n",
       "      <td>reactome</td>\n",
       "      <td>R-HSA-1430728</td>\n",
       "      <td>Metabolism</td>\n",
       "    </tr>\n",
       "    <tr>\n",
       "      <th>7</th>\n",
       "      <td>wikipathways</td>\n",
       "      <td>WP106</td>\n",
       "      <td>Alanine and aspartate metabolism</td>\n",
       "      <td>isPartOf</td>\n",
       "      <td>reactome</td>\n",
       "      <td>R-HSA-1430728</td>\n",
       "      <td>Metabolism</td>\n",
       "    </tr>\n",
       "    <tr>\n",
       "      <th>14</th>\n",
       "      <td>wikipathways</td>\n",
       "      <td>WP3925</td>\n",
       "      <td>Amino Acid metabolism</td>\n",
       "      <td>isPartOf</td>\n",
       "      <td>reactome</td>\n",
       "      <td>R-HSA-1430728</td>\n",
       "      <td>Metabolism</td>\n",
       "    </tr>\n",
       "    <tr>\n",
       "      <th>16</th>\n",
       "      <td>wikipathways</td>\n",
       "      <td>WP521</td>\n",
       "      <td>Amino acid conjugation of benzoic acid</td>\n",
       "      <td>isPartOf</td>\n",
       "      <td>reactome</td>\n",
       "      <td>R-HSA-1430728</td>\n",
       "      <td>Metabolism</td>\n",
       "    </tr>\n",
       "  </tbody>\n",
       "</table>\n",
       "</div>"
      ],
      "text/plain": [
       "   Source Resource Source ID                             Source Name  \\\n",
       "2     wikipathways     WP528                 Acetylcholine Synthesis   \n",
       "3     wikipathways     WP699                 Aflatoxin B1 metabolism   \n",
       "7     wikipathways     WP106        Alanine and aspartate metabolism   \n",
       "14    wikipathways    WP3925                   Amino Acid metabolism   \n",
       "16    wikipathways     WP521  Amino acid conjugation of benzoic acid   \n",
       "\n",
       "   Mapping Type Target Resource      Target ID Target Name  \n",
       "2      isPartOf        reactome  R-HSA-1430728  Metabolism  \n",
       "3      isPartOf        reactome  R-HSA-1430728  Metabolism  \n",
       "7      isPartOf        reactome  R-HSA-1430728  Metabolism  \n",
       "14     isPartOf        reactome  R-HSA-1430728  Metabolism  \n",
       "16     isPartOf        reactome  R-HSA-1430728  Metabolism  "
      ]
     },
     "execution_count": 12,
     "metadata": {},
     "output_type": "execute_result"
    }
   ],
   "source": [
    "wp_match_met_pw = wp2reactome[(wp2reactome['Target Name'] =='Metabolism') & wp2reactome['Source Resource'].isin(['wikipathways'])]\n",
    "wp_match_met_pw.head()"
   ]
  },
  {
   "cell_type": "code",
   "execution_count": 13,
   "id": "vulnerable-timing",
   "metadata": {},
   "outputs": [
    {
     "data": {
      "text/plain": [
       "2      WP528\n",
       "3      WP699\n",
       "7      WP106\n",
       "14    WP3925\n",
       "16     WP521\n",
       "Name: Source ID, dtype: object"
      ]
     },
     "execution_count": 13,
     "metadata": {},
     "output_type": "execute_result"
    }
   ],
   "source": [
    "wp_match_met_pw = wp_match_met_pw['Source ID']\n",
    "wp_match_met_pw[:5]"
   ]
  },
  {
   "cell_type": "markdown",
   "id": "statistical-partition",
   "metadata": {},
   "source": [
    "#### 2.1.2. `Metabolism` contained"
   ]
  },
  {
   "cell_type": "code",
   "execution_count": 14,
   "id": "found-canon",
   "metadata": {},
   "outputs": [
    {
     "data": {
      "text/html": [
       "<div>\n",
       "<style scoped>\n",
       "    .dataframe tbody tr th:only-of-type {\n",
       "        vertical-align: middle;\n",
       "    }\n",
       "\n",
       "    .dataframe tbody tr th {\n",
       "        vertical-align: top;\n",
       "    }\n",
       "\n",
       "    .dataframe thead th {\n",
       "        text-align: right;\n",
       "    }\n",
       "</style>\n",
       "<table border=\"1\" class=\"dataframe\">\n",
       "  <thead>\n",
       "    <tr style=\"text-align: right;\">\n",
       "      <th></th>\n",
       "      <th>Source Resource</th>\n",
       "      <th>Source ID</th>\n",
       "      <th>Source Name</th>\n",
       "      <th>Mapping Type</th>\n",
       "      <th>Target Resource</th>\n",
       "      <th>Target ID</th>\n",
       "      <th>Target Name</th>\n",
       "    </tr>\n",
       "  </thead>\n",
       "  <tbody>\n",
       "    <tr>\n",
       "      <th>2</th>\n",
       "      <td>wikipathways</td>\n",
       "      <td>WP528</td>\n",
       "      <td>Acetylcholine Synthesis</td>\n",
       "      <td>isPartOf</td>\n",
       "      <td>reactome</td>\n",
       "      <td>R-HSA-1430728</td>\n",
       "      <td>Metabolism</td>\n",
       "    </tr>\n",
       "    <tr>\n",
       "      <th>3</th>\n",
       "      <td>wikipathways</td>\n",
       "      <td>WP699</td>\n",
       "      <td>Aflatoxin B1 metabolism</td>\n",
       "      <td>isPartOf</td>\n",
       "      <td>reactome</td>\n",
       "      <td>R-HSA-1430728</td>\n",
       "      <td>Metabolism</td>\n",
       "    </tr>\n",
       "    <tr>\n",
       "      <th>5</th>\n",
       "      <td>wikipathways</td>\n",
       "      <td>WP106</td>\n",
       "      <td>Alanine and aspartate metabolism</td>\n",
       "      <td>isPartOf</td>\n",
       "      <td>reactome</td>\n",
       "      <td>R-HSA-71291</td>\n",
       "      <td>Metabolism of amino acids and derivatives</td>\n",
       "    </tr>\n",
       "    <tr>\n",
       "      <th>7</th>\n",
       "      <td>wikipathways</td>\n",
       "      <td>WP106</td>\n",
       "      <td>Alanine and aspartate metabolism</td>\n",
       "      <td>isPartOf</td>\n",
       "      <td>reactome</td>\n",
       "      <td>R-HSA-1430728</td>\n",
       "      <td>Metabolism</td>\n",
       "    </tr>\n",
       "    <tr>\n",
       "      <th>12</th>\n",
       "      <td>wikipathways</td>\n",
       "      <td>WP3925</td>\n",
       "      <td>Amino Acid metabolism</td>\n",
       "      <td>equivalentTo</td>\n",
       "      <td>reactome</td>\n",
       "      <td>R-HSA-71291</td>\n",
       "      <td>Metabolism of amino acids and derivatives</td>\n",
       "    </tr>\n",
       "  </tbody>\n",
       "</table>\n",
       "</div>"
      ],
      "text/plain": [
       "   Source Resource Source ID                       Source Name  Mapping Type  \\\n",
       "2     wikipathways     WP528           Acetylcholine Synthesis      isPartOf   \n",
       "3     wikipathways     WP699           Aflatoxin B1 metabolism      isPartOf   \n",
       "5     wikipathways     WP106  Alanine and aspartate metabolism      isPartOf   \n",
       "7     wikipathways     WP106  Alanine and aspartate metabolism      isPartOf   \n",
       "12    wikipathways    WP3925             Amino Acid metabolism  equivalentTo   \n",
       "\n",
       "   Target Resource      Target ID                                Target Name  \n",
       "2         reactome  R-HSA-1430728                                 Metabolism  \n",
       "3         reactome  R-HSA-1430728                                 Metabolism  \n",
       "5         reactome    R-HSA-71291  Metabolism of amino acids and derivatives  \n",
       "7         reactome  R-HSA-1430728                                 Metabolism  \n",
       "12        reactome    R-HSA-71291  Metabolism of amino acids and derivatives  "
      ]
     },
     "execution_count": 14,
     "metadata": {},
     "output_type": "execute_result"
    }
   ],
   "source": [
    "wp_cont_met_pw = wp2reactome[wp2reactome['Target Name'].str.lower().str.contains(\"metabolism\") & wp2reactome['Source Resource'].isin(['wikipathways'])]\n",
    "wp_cont_met_pw.head()"
   ]
  },
  {
   "cell_type": "code",
   "execution_count": 15,
   "id": "bottom-pioneer",
   "metadata": {},
   "outputs": [
    {
     "data": {
      "text/plain": [
       "2      WP528\n",
       "3      WP699\n",
       "5      WP106\n",
       "7      WP106\n",
       "12    WP3925\n",
       "Name: Source ID, dtype: object"
      ]
     },
     "execution_count": 15,
     "metadata": {},
     "output_type": "execute_result"
    }
   ],
   "source": [
    "wp_cont_met_pw = wp_cont_met_pw['Source ID']\n",
    "wp_cont_met_pw[:5]"
   ]
  },
  {
   "cell_type": "markdown",
   "id": "atlantic-falls",
   "metadata": {},
   "source": [
    "## 3. Gene enties mining from metabolomic pathways"
   ]
  },
  {
   "cell_type": "code",
   "execution_count": null,
   "id": "previous-earth",
   "metadata": {},
   "outputs": [],
   "source": []
  }
 ],
 "metadata": {
  "kernelspec": {
   "display_name": "Python 3",
   "language": "python",
   "name": "python3"
  },
  "language_info": {
   "codemirror_mode": {
    "name": "ipython",
    "version": 3
   },
   "file_extension": ".py",
   "mimetype": "text/x-python",
   "name": "python",
   "nbconvert_exporter": "python",
   "pygments_lexer": "ipython3",
   "version": "3.7.10"
  }
 },
 "nbformat": 4,
 "nbformat_minor": 5
}
