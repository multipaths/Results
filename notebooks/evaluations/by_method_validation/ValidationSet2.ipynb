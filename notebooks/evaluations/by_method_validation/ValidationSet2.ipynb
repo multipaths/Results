{
 "cells": [
  {
   "cell_type": "markdown",
   "metadata": {},
   "source": [
    "# Validation Set 1.2: diffuPy + PathMe  "
   ]
  },
  {
   "cell_type": "code",
   "execution_count": 1,
   "metadata": {},
   "outputs": [],
   "source": [
    "import os\n",
    "import itertools\n",
    "\n",
    "import time\n",
    "\n",
    "dir_path = os.path.dirname(os.path.realpath('__file__'))"
   ]
  },
  {
   "cell_type": "code",
   "execution_count": 2,
   "metadata": {},
   "outputs": [],
   "source": [
    "from openpyxl import load_workbook\n",
    "from collections import defaultdict\n",
    "import networkx as nx"
   ]
  },
  {
   "cell_type": "code",
   "execution_count": 3,
   "metadata": {},
   "outputs": [
    {
     "data": {
      "text/plain": [
       "'0.13.2'"
      ]
     },
     "execution_count": 3,
     "metadata": {},
     "output_type": "execute_result"
    }
   ],
   "source": [
    "import pybel\n",
    "import pybel_tools as pbt\n",
    "\n",
    "from pybel import BELGraph\n",
    "from pybel.constants import RELATION, ANNOTATIONS\n",
    "from pybel.dsl import Abundance, BiologicalProcess, CentralDogma, ListAbundance, Reaction\n",
    "from pybel.struct import get_subgraph_by_annotation_value\n",
    "from pybel.struct.summary import count_functions\n",
    "\n",
    "pybel.get_version()"
   ]
  },
  {
   "cell_type": "code",
   "execution_count": 4,
   "metadata": {},
   "outputs": [],
   "source": [
    "from pathme.constants import REACTOME_BEL, KEGG_BEL, WIKIPATHWAYS_BEL, PATHME_DIR\n",
    "from pathme.export_utils import to_gml"
   ]
  },
  {
   "cell_type": "code",
   "execution_count": 5,
   "metadata": {},
   "outputs": [],
   "source": [
    "import diffupy"
   ]
  },
  {
   "cell_type": "code",
   "execution_count": 6,
   "metadata": {},
   "outputs": [],
   "source": [
    "from diffupy.diffuse import diffuse\n",
    "from diffupy.kernels import regularised_laplacian_kernel\n",
    "from diffupy.matrix import Matrix, LaplacianMatrix\n",
    "from diffupy.input_mapping import generate_categoric_input_from_labels, get_mapping, get_mapping_subsets, get_mapping_two_dim_subsets\n",
    "from diffupy.validation_datasets_parsers import parse_set2\n",
    "from diffupy.utils import print_dict_dimensions, get_labels_set_from_dict, reduce_dict_dimension, get_label_list_graph\n",
    "from diffupy.views import show_heatmap\n"
   ]
  },
  {
   "cell_type": "code",
   "execution_count": 7,
   "metadata": {},
   "outputs": [
    {
     "name": "stdout",
     "output_type": "stream",
     "text": [
      "Importing Jupyter notebook from global_database_comparison.ipynb\n"
     ]
    }
   ],
   "source": [
    "# TODO\n",
    "import nbimporter\n",
    "from global_database_comparison import get_set_database, calculate_database_sets_as_dict"
   ]
  },
  {
   "cell_type": "markdown",
   "metadata": {},
   "source": [
    "## 1. Load Data Set 2: Input Scores"
   ]
  },
  {
   "cell_type": "code",
   "execution_count": 8,
   "metadata": {
    "scrolled": false
   },
   "outputs": [],
   "source": [
    "dataset2_labels_by_omics = parse_set2(os.path.join(dir_path, 'validation', 'set2.xlsx'))"
   ]
  },
  {
   "cell_type": "code",
   "execution_count": 9,
   "metadata": {
    "scrolled": true
   },
   "outputs": [
    {
     "data": {
      "text/plain": [
       "defaultdict(<function diffupy.validation_datasets_parsers.parse_set2.<locals>.<lambda>()>,\n",
       "            {'metabolite': {('nεtrimethyllysine', 'nε'),\n",
       "              '2aminoadipicacid',\n",
       "              '5methylthioadenosine',\n",
       "              'adenosine',\n",
       "              'alanylglycine',\n",
       "              'alanylleucine',\n",
       "              'bilirubin',\n",
       "              'biliverdine',\n",
       "              'carnitine',\n",
       "              'carnitinec10:0',\n",
       "              'carnitinec14:1',\n",
       "              'carnitinec14:2',\n",
       "              'carnitinec16:1',\n",
       "              'carnitinec16:2',\n",
       "              'carnitinec18:0',\n",
       "              'carnitinec4:0oh',\n",
       "              'carnitinec5:0oh',\n",
       "              'carnitinec6:0',\n",
       "              'carnitinec6:0oh',\n",
       "              'carnitinec8:0',\n",
       "              'carnitinec8:1',\n",
       "              'cdca',\n",
       "              'cdpcholine',\n",
       "              'choline',\n",
       "              'cholineglycerophosphate',\n",
       "              'dheasulfate',\n",
       "              'dpantothenicacid',\n",
       "              'etiocholanolonesulfate',\n",
       "              'fumaricacid',\n",
       "              'gcdca',\n",
       "              'glcn6p',\n",
       "              'glcnac',\n",
       "              'glcnac6p',\n",
       "              'glycatedvaline',\n",
       "              'glycerol3phosphate',\n",
       "              'glycyltyrosine',\n",
       "              'homoserine',\n",
       "              'lacticacid',\n",
       "              'lhomoserinelactone',\n",
       "              'lsaccharopine',\n",
       "              'nacetylasparticacid',\n",
       "              'nacetylglutamicacid',\n",
       "              'nacetyllmethionine',\n",
       "              'nad',\n",
       "              'nadp',\n",
       "              'nmn',\n",
       "              'nonanoicacid',\n",
       "              'osuccinylhomoserine',\n",
       "              'pcresolsulfate',\n",
       "              'phenylacetyllglutamine',\n",
       "              'sah',\n",
       "              'sam',\n",
       "              'sphingosine',\n",
       "              'succinicacid',\n",
       "              'trigonelline',\n",
       "              'tryptophan',\n",
       "              'udpglcnac',\n",
       "              'udpglucose',\n",
       "              'uricacid',\n",
       "              'uridine'},\n",
       "             'genes': {'aadat',\n",
       "              'aasdh',\n",
       "              'aass',\n",
       "              'acad10',\n",
       "              'acad8',\n",
       "              'acad9',\n",
       "              'acadsb',\n",
       "              'acat1',\n",
       "              'ahcy',\n",
       "              'aldh7a1',\n",
       "              'bhmt2',\n",
       "              'cbs',\n",
       "              'chdh',\n",
       "              'cpt1a',\n",
       "              'cpt1c',\n",
       "              'cpt2',\n",
       "              'dnmt1',\n",
       "              'dnmt3a',\n",
       "              'dnmt3b',\n",
       "              'gfpt1',\n",
       "              'gnmt',\n",
       "              'gnpnat1',\n",
       "              'hk2',\n",
       "              'nadk2',\n",
       "              'nampt',\n",
       "              'none',\n",
       "              'ogt',\n",
       "              'pgm3',\n",
       "              'pnp',\n",
       "              'tmlhe',\n",
       "              'uap1'},\n",
       "             'micrornas': {('hsamir106b3p', 'hsamir6153p'),\n",
       "              ('hsamir152', 'hsamir1005p', 'hsamir148a3p', 'hsamir26a5p'),\n",
       "              ('hsamir29c3p', 'hsamir1433p'),\n",
       "              ('hsamir935p', 'hsamir375', 'hsamir29c3p', 'hsamir148a3p'),\n",
       "              ('hsamir944', 'hsalet7e5p', 'hsalet7d5p', 'hsamir713p'),\n",
       "              'hsalet7a5p',\n",
       "              'hsamir1',\n",
       "              'hsamir1005p',\n",
       "              'hsamir125a5p，hsamir4553p',\n",
       "              'hsamir1433p',\n",
       "              'hsamir23b3p',\n",
       "              'hsamir26a5p',\n",
       "              'hsamir26a5p，hsamir125a5p',\n",
       "              'hsamir378a3p',\n",
       "              'hsamir6153p',\n",
       "              'none'}})"
      ]
     },
     "execution_count": 9,
     "metadata": {},
     "output_type": "execute_result"
    }
   ],
   "source": [
    "dataset2_labels_by_omics"
   ]
  },
  {
   "cell_type": "code",
   "execution_count": 10,
   "metadata": {
    "scrolled": false
   },
   "outputs": [
    {
     "name": "stdout",
     "output_type": "stream",
     "text": [
      "Dataset1 imported labels:\n",
      "Total number of metabolite: 60  \n",
      "Total number of genes: 31  \n",
      "Total number of micrornas: 16  \n",
      "Total: 107 \n"
     ]
    }
   ],
   "source": [
    "print_dict_dimensions(dataset2_labels_by_omics, 'Dataset1 imported labels:')"
   ]
  },
  {
   "cell_type": "code",
   "execution_count": 11,
   "metadata": {
    "scrolled": true
   },
   "outputs": [],
   "source": [
    "dataset2_all_labels = get_labels_set_from_dict(dataset2_labels_by_omics)"
   ]
  },
  {
   "cell_type": "markdown",
   "metadata": {},
   "source": [
    "## 2. Load Backrgound Graph Universe"
   ]
  },
  {
   "cell_type": "markdown",
   "metadata": {},
   "source": [
    "### 2.1. PathMeUniverse import"
   ]
  },
  {
   "cell_type": "code",
   "execution_count": 12,
   "metadata": {
    "scrolled": true
   },
   "outputs": [],
   "source": [
    "pathme_universe_graph_no_flatten = pybel.from_pickle(os.path.join(PATHME_DIR, 'universe', 'pathme_universe_bel_graph_no_flatten.bel.pickle'))\n",
    "\n"
   ]
  },
  {
   "cell_type": "code",
   "execution_count": 13,
   "metadata": {
    "scrolled": true
   },
   "outputs": [
    {
     "name": "stdout",
     "output_type": "stream",
     "text": [
      "PathMe Universe v1.0.0\n",
      "Number of Nodes: 48643\n",
      "Number of Edges: 104713\n",
      "Number of Citations: 7696\n",
      "Number of Authors: 0\n",
      "Network Density: 4.43E-05\n",
      "Number of Components: 6860\n",
      "Number of Warnings: 0\n"
     ]
    },
    {
     "data": {
      "text/plain": [
       "Counter({'Composite': 1605,\n",
       "         'Abundance': 7046,\n",
       "         'BiologicalProcess': 2857,\n",
       "         'Complex': 9048,\n",
       "         'Reaction': 13576,\n",
       "         'Gene': 14511})"
      ]
     },
     "execution_count": 13,
     "metadata": {},
     "output_type": "execute_result"
    }
   ],
   "source": [
    "pathme_universe_graph_no_flatten.summarize()\n",
    "count_functions(pathme_universe_graph_no_flatten)\n"
   ]
  },
  {
   "cell_type": "markdown",
   "metadata": {},
   "source": [
    "##### Get KEGG subgraph"
   ]
  },
  {
   "cell_type": "code",
   "execution_count": 14,
   "metadata": {
    "scrolled": true
   },
   "outputs": [
    {
     "name": "stdout",
     "output_type": "stream",
     "text": [
      "None vNone\n",
      "Number of Nodes: 13162\n",
      "Number of Edges: 35122\n",
      "Number of Citations: 2\n",
      "Number of Authors: 0\n",
      "Network Density: 2.03E-04\n",
      "Number of Components: 65\n",
      "Number of Warnings: 0\n"
     ]
    },
    {
     "data": {
      "text/plain": [
       "Counter({'Composite': 1596,\n",
       "         'Complex': 406,\n",
       "         'Gene': 6149,\n",
       "         'Abundance': 1762,\n",
       "         'Reaction': 3137,\n",
       "         'BiologicalProcess': 112})"
      ]
     },
     "execution_count": 14,
     "metadata": {},
     "output_type": "execute_result"
    }
   ],
   "source": [
    "kegg_pathme_graph_no_flatten = get_subgraph_by_annotation_value(pathme_universe_graph_no_flatten, 'database', 'kegg')\n",
    "kegg_pathme_graph_no_flatten.summarize()\n",
    "count_functions(kegg_pathme_graph_no_flatten)"
   ]
  },
  {
   "cell_type": "markdown",
   "metadata": {},
   "source": [
    "##### Check isolates / Unconnected nodes"
   ]
  },
  {
   "cell_type": "code",
   "execution_count": 15,
   "metadata": {},
   "outputs": [
    {
     "data": {
      "text/plain": [
       "6426"
      ]
     },
     "execution_count": 15,
     "metadata": {},
     "output_type": "execute_result"
    }
   ],
   "source": [
    "nx.number_of_isolates(pathme_universe_graph_no_flatten)"
   ]
  },
  {
   "cell_type": "code",
   "execution_count": 16,
   "metadata": {},
   "outputs": [],
   "source": [
    "pathme_universe_graph_no_flatten.remove_nodes_from({\n",
    "    node\n",
    "    for node in nx.isolates(pathme_universe_graph_no_flatten)\n",
    "})"
   ]
  },
  {
   "cell_type": "code",
   "execution_count": 17,
   "metadata": {},
   "outputs": [
    {
     "data": {
      "text/plain": [
       "0"
      ]
     },
     "execution_count": 17,
     "metadata": {},
     "output_type": "execute_result"
    }
   ],
   "source": [
    "nx.number_of_isolates(pathme_universe_graph_no_flatten)"
   ]
  },
  {
   "cell_type": "markdown",
   "metadata": {},
   "source": [
    "### 2.2. Get labels subsets by entity type (omic) and database"
   ]
  },
  {
   "cell_type": "markdown",
   "metadata": {},
   "source": [
    "##### PathMe package subsets"
   ]
  },
  {
   "cell_type": "code",
   "execution_count": 18,
   "metadata": {},
   "outputs": [],
   "source": [
    "def get_labels_by_db_and_omic_from_pathme(databases):\n",
    "    db_entites = defaultdict(dict)\n",
    "    entites_db = defaultdict(lambda: defaultdict(set))\n",
    "    \n",
    "    for db in databases:\n",
    "        genes, mirna, metabolites, bps = get_set_database(db)\n",
    "        db_entites[db] = {'genes': genes, 'mirna': mirna, 'metabolites': metabolites, 'bps': bps}\n",
    "        \n",
    "        for entity_type, entities in db_entites[db].items():\n",
    "            entites_db[entity_type][db] = entities\n",
    "            \n",
    "    return db_entites, entites_db"
   ]
  },
  {
   "cell_type": "code",
   "execution_count": 19,
   "metadata": {},
   "outputs": [
    {
     "name": "stdout",
     "output_type": "stream",
     "text": [
      "Entities in PathMe package :\n",
      "Total number of reactome: genes(8653), mirna(13), metabolites(2712), bps(2219),  \n",
      "Total number of kegg: genes(7656), mirna(149), metabolites(4421), bps(418),  \n",
      "Total number of wikipathways: genes(3361), mirna(91), metabolites(657), bps(135),  \n",
      "Total: 30485 \n"
     ]
    }
   ],
   "source": [
    "bg_labels_from_pathme_by_db_and_omic, bg_labels_from_pathme_by_omic_and_db = get_labels_by_db_and_omic_from_pathme(['reactome', 'kegg', 'wikipathways'])\n",
    "\n",
    "print_dict_dimensions(bg_labels_from_pathme_by_db_and_omic, 'Entities in PathMe package :')\n",
    "\n"
   ]
  },
  {
   "cell_type": "code",
   "execution_count": 20,
   "metadata": {},
   "outputs": [],
   "source": [
    "bg_labels_from_pathme_by_omic = reduce_dict_dimension(bg_labels_from_pathme_by_omic_and_db)\n",
    "mirnas = bg_labels_from_pathme_by_omic['mirna']"
   ]
  },
  {
   "cell_type": "markdown",
   "metadata": {},
   "source": [
    "#####  PathMeUniverse Graph Subsets"
   ]
  },
  {
   "cell_type": "code",
   "execution_count": 21,
   "metadata": {
    "scrolled": true
   },
   "outputs": [],
   "source": [
    "def get_labels_by_db_and_omic_from_graph(graph):\n",
    "    \n",
    "    db_subsets = defaultdict(set)\n",
    "    db_entites = defaultdict(dict)\n",
    "    entites_db = defaultdict(dict)\n",
    "\n",
    "    #entity_type_map = {'Gene':'genes', 'mirna_nodes':'mirna', 'Abundance':'metabolites', 'BiologicalProcess':'bps'}\n",
    "\n",
    "    for u, v, k in graph.edges(keys=True):\n",
    "        if ANNOTATIONS not in graph[u][v][k]:\n",
    "            continue\n",
    "            \n",
    "        if 'database' not in graph[u][v][k][ANNOTATIONS]:\n",
    "            continue\n",
    "            \n",
    "        for database in graph[u][v][k][ANNOTATIONS]['database']:\n",
    "            db_subsets[database].add(u)\n",
    "            db_subsets[database].add(v)\n",
    "        \n",
    "    for database, nodes in db_subsets.items():\n",
    "        db_entites[database] = calculate_database_sets_as_dict(nodes, database)\n",
    "        \n",
    "        database_sets = calculate_database_sets_as_dict(nodes, database)\n",
    "        \n",
    "        db_entites[database] = database_sets\n",
    "    \n",
    "        for entity_type, entities in database_sets.items():\n",
    "            entites_db[entity_type][database] = entities\n",
    "        \n",
    "    return db_entites, entites_db"
   ]
  },
  {
   "cell_type": "code",
   "execution_count": 22,
   "metadata": {
    "scrolled": false
   },
   "outputs": [
    {
     "name": "stdout",
     "output_type": "stream",
     "text": [
      "Entities in PathMeUniverse :\n",
      "Total number of kegg: gene_nodes(6027), mirna_nodes(122), metabolite_nodes(1762), bp_nodes(112),  \n",
      "Total number of reactome: gene_nodes(8615), mirna_nodes(13), metabolite_nodes(2684), bp_nodes(5),  \n",
      "Total number of wikipathways: gene_nodes(2549), mirna_nodes(91), metabolite_nodes(618), bp_nodes(152),  \n",
      "Total: 22750 \n"
     ]
    }
   ],
   "source": [
    "bg_labels_from_pathmeuniverse_by_db_and_omic, bg_labels_from_pathmeuniverse_by_omic_and_db =  get_labels_by_db_and_omic_from_graph(pathme_universe_graph_no_flatten)\n",
    "\n",
    "print_dict_dimensions(bg_labels_from_pathmeuniverse_by_db_and_omic, 'Entities in PathMeUniverse :')"
   ]
  },
  {
   "cell_type": "markdown",
   "metadata": {},
   "source": [
    "### Background  Matrix Kernels"
   ]
  },
  {
   "cell_type": "code",
   "execution_count": 23,
   "metadata": {
    "scrolled": true
   },
   "outputs": [],
   "source": [
    "then = time.time()"
   ]
  },
  {
   "cell_type": "code",
   "execution_count": 24,
   "metadata": {
    "scrolled": false
   },
   "outputs": [],
   "source": [
    "#background_mat = regularised_laplacian_kernel(pathme_universe_graph_no_flatten)"
   ]
  },
  {
   "cell_type": "code",
   "execution_count": 25,
   "metadata": {},
   "outputs": [],
   "source": [
    "import pickle\n",
    "input_path = os.path.join(PATHME_DIR, 'regularized_kernel_pathme_universe.pickle')\n",
    "\n",
    "with open(input_path, 'rb') as f:\n",
    "    unpickler = pickle.Unpickler(f)\n",
    "    background_mat = unpickler.load()"
   ]
  },
  {
   "cell_type": "code",
   "execution_count": 26,
   "metadata": {},
   "outputs": [
    {
     "name": "stdout",
     "output_type": "stream",
     "text": [
      "It took:  121.44590401649475  seconds\n"
     ]
    }
   ],
   "source": [
    "now = time.time()\n",
    "print(\"It took: \", now-then, \" seconds\")"
   ]
  },
  {
   "cell_type": "markdown",
   "metadata": {},
   "source": [
    "### Row labels"
   ]
  },
  {
   "cell_type": "code",
   "execution_count": 27,
   "metadata": {},
   "outputs": [],
   "source": [
    "background_labels = background_mat.rows_labels"
   ]
  },
  {
   "cell_type": "code",
   "execution_count": 28,
   "metadata": {},
   "outputs": [],
   "source": [
    "mirnas = dataset2_labels_by_omics['micrornas']"
   ]
  },
  {
   "cell_type": "markdown",
   "metadata": {},
   "source": [
    "## 3. Dataset label mapping to PathMeEntities"
   ]
  },
  {
   "cell_type": "markdown",
   "metadata": {},
   "source": [
    "### General mapping"
   ]
  },
  {
   "cell_type": "code",
   "execution_count": 29,
   "metadata": {},
   "outputs": [
    {
     "name": "stdout",
     "output_type": "stream",
     "text": [
      "Global mapping:  (39) 36.79245283018868%\n"
     ]
    }
   ],
   "source": [
    "all_labels_mapping = get_mapping(dataset2_all_labels, background_labels, title = 'Global mapping: ', mirnas=mirnas, print_percentage = True)\n"
   ]
  },
  {
   "cell_type": "markdown",
   "metadata": {},
   "source": [
    "### Mapping by subsets"
   ]
  },
  {
   "cell_type": "markdown",
   "metadata": {},
   "source": [
    "#### Mapping by entity type/omic"
   ]
  },
  {
   "cell_type": "code",
   "execution_count": 30,
   "metadata": {
    "scrolled": true
   },
   "outputs": [
    {
     "name": "stdout",
     "output_type": "stream",
     "text": [
      "Mapping by entity type/omic:\n",
      "metabolite (11) 18.333333333333332%\n",
      "genes (28) 90.32258064516128%\n",
      "micrornas (1) 6.25%\n",
      "Total (40) 37.735849056603776% \n",
      "\n"
     ]
    }
   ],
   "source": [
    "mapping_by_entity, _, _ = get_mapping_subsets(dataset2_labels_by_omics, background_labels, 'entity type/omic', mirnas=mirnas)\n"
   ]
  },
  {
   "cell_type": "code",
   "execution_count": 31,
   "metadata": {},
   "outputs": [
    {
     "data": {
      "text/plain": [
       "{'mir106b'}"
      ]
     },
     "execution_count": 31,
     "metadata": {},
     "output_type": "execute_result"
    }
   ],
   "source": [
    "micrornas_mapping = mapping_by_entity['micrornas'][0]\n",
    "micrornas_mapping"
   ]
  },
  {
   "cell_type": "markdown",
   "metadata": {},
   "source": [
    "#### Mapping by database"
   ]
  },
  {
   "cell_type": "code",
   "execution_count": 32,
   "metadata": {
    "scrolled": true
   },
   "outputs": [
    {
     "name": "stdout",
     "output_type": "stream",
     "text": [
      "Mapping by database:\n",
      "kegg (32) 30.18867924528302%\n",
      "reactome (15) 14.150943396226415%\n",
      "wikipathways (22) 20.754716981132077%\n",
      "Total (40) 37.735849056603776% \n",
      "\n"
     ]
    }
   ],
   "source": [
    "background_entites_by_db = {db : set(itertools.chain.from_iterable(entities.values())) for db, entities in bg_labels_from_pathmeuniverse_by_db_and_omic.items()}\n",
    "mapping_by_db, _, _ = get_mapping_subsets(background_entites_by_db, dataset2_all_labels, 'database', mirnas=mirnas, submapping = background_labels, mirnas_mapping = micrornas_mapping, percentage_reference_labels = True)\n"
   ]
  },
  {
   "cell_type": "markdown",
   "metadata": {},
   "source": [
    "#### Mapping by entity type and database"
   ]
  },
  {
   "cell_type": "code",
   "execution_count": 33,
   "metadata": {},
   "outputs": [
    {
     "name": "stdout",
     "output_type": "stream",
     "text": [
      "Mapping by Kegg:\n",
      "gene_nodes (26) 83.87096774193549%\n",
      "mirna_nodes (1) 6.25%\n",
      "metabolite_nodes (5) 8.333333333333332%\n",
      "bp_nodes (0) 0%\n",
      "Total (32) 0.39885329677178116% \n",
      "\n",
      "Mapping by Reactome:\n",
      "gene_nodes (9) 29.03225806451613%\n",
      "mirna_nodes (0) 0.0%\n",
      "metabolite_nodes (6) 10.0%\n",
      "bp_nodes (0) 0%\n",
      "Total (15) 0.13254396041353717% \n",
      "\n",
      "Mapping by Wikipathways:\n",
      "gene_nodes (12) 38.70967741935484%\n",
      "mirna_nodes (1) 6.25%\n",
      "metabolite_nodes (9) 15.0%\n",
      "bp_nodes (0) 0%\n",
      "Total (22) 0.6451612903225806% \n",
      "\n",
      "Total (40) 37.735849056603776% \n",
      "\n"
     ]
    }
   ],
   "source": [
    "mapping_by_database_and_entity, total_percentage, total_dimention = get_mapping_two_dim_subsets(bg_labels_from_pathmeuniverse_by_db_and_omic, dataset2_all_labels, relative_statistics = dataset2_labels_by_omics, mirnas_mapping = micrornas_mapping)\n"
   ]
  },
  {
   "cell_type": "markdown",
   "metadata": {},
   "source": [
    "### Mapping descriptive view"
   ]
  },
  {
   "cell_type": "code",
   "execution_count": 34,
   "metadata": {},
   "outputs": [],
   "source": [
    "# TODO\n",
    "\n",
    "all_count = []\n",
    "all_percentage = []\n",
    "\n",
    "entity_type_map = {'metabolite_nodes': 'metabolite', 'mirna_nodes': 'micrornas', 'gene_nodes': 'genes',\n",
    "                    'bp_nodes': 'bps'}\n",
    "\n",
    "for db_name, entities_by_type in mapping_by_database_and_entity.items():\n",
    "    db_count = []\n",
    "    db_percentage = []\n",
    "\n",
    "    for entity_type, entities_tupple in entities_by_type[0].items():\n",
    "        db_count.append(len(entities_tupple[0]))\n",
    "        db_percentage.append(entities_tupple[1])\n",
    "        \n",
    "        \n",
    "    all_count.append(db_count)\n",
    "    all_percentage.append(db_percentage)\n",
    "\n",
    "db_count = []\n",
    "db_percentage = []\n",
    "for entity, entities_tupple in mapping_by_entity.items():\n",
    "    db_count.append(len(entities_tupple[0]))\n",
    "    db_percentage.append(entities_tupple[1])\n",
    "    \n"
   ]
  },
  {
   "cell_type": "code",
   "execution_count": 35,
   "metadata": {},
   "outputs": [],
   "source": [
    "import numpy as np\n",
    "\n",
    "databases = list(mapping_by_database_and_entity.keys())\n",
    "databases.append('arreu')\n",
    "\n",
    "\n",
    "entity_types = mapping_by_database_and_entity['kegg'][0].keys()\n",
    "\n",
    "entity_number = np.array(all_percentage)\n",
    "entity_count = np.array(all_count)"
   ]
  },
  {
   "cell_type": "code",
   "execution_count": 36,
   "metadata": {},
   "outputs": [],
   "source": [
    "databases = mapping_by_database_and_entity.keys()\n",
    "entity_types = mapping_by_database_and_entity['kegg'][0].keys()\n",
    "\n",
    "entity_number = np.array(all_percentage)\n",
    "entity_count = np.array(all_count)"
   ]
  },
  {
   "cell_type": "code",
   "execution_count": 37,
   "metadata": {},
   "outputs": [
    {
     "data": {
      "image/png": "[encoded data removed]",
      "text/plain": [
       "<Figure size 1080x504 with 2 Axes>"
      ]
     },
     "metadata": {
      "needs_background": "light"
     },
     "output_type": "display_data"
    }
   ],
   "source": [
    "show_heatmap(entity_number, entity_count, databases, entity_types)"
   ]
  },
  {
   "cell_type": "code",
   "execution_count": 38,
   "metadata": {},
   "outputs": [],
   "source": [
    "from diffupy.utils import get_three_venn_intersections\n",
    "db_intersections = get_three_venn_intersections(mapping_by_db['kegg'][0], mapping_by_db['reactome'][0], mapping_by_db['wikipathways'][0])\n",
    "\n"
   ]
  },
  {
   "cell_type": "code",
   "execution_count": 39,
   "metadata": {
    "scrolled": false
   },
   "outputs": [
    {
     "data": {
      "image/png": "[encoded data removed]",
      "text/plain": [
       "<Figure size 1224x576 with 1 Axes>"
      ]
     },
     "metadata": {},
     "output_type": "display_data"
    }
   ],
   "source": [
    "from diffupy.views import show_venn_diagram\n",
    "\n",
    "show_venn_diagram(db_intersections)"
   ]
  },
  {
   "cell_type": "code",
   "execution_count": 40,
   "metadata": {
    "scrolled": false
   },
   "outputs": [],
   "source": [
    "from diffupy.utils import random_disjoint_intersection_three_subsets\n",
    "disjoint_db_mapping = random_disjoint_intersection_three_subsets(mapping_by_db)\n"
   ]
  },
  {
   "cell_type": "code",
   "execution_count": 41,
   "metadata": {},
   "outputs": [
    {
     "data": {
      "image/png": "[encoded data removed]",
      "text/plain": [
       "<Figure size 1224x576 with 1 Axes>"
      ]
     },
     "metadata": {},
     "output_type": "display_data"
    }
   ],
   "source": [
    "show_venn_diagram(get_three_venn_intersections(*list(disjoint_db_mapping.values())))\n"
   ]
  },
  {
   "cell_type": "code",
   "execution_count": 42,
   "metadata": {},
   "outputs": [
    {
     "data": {
      "image/png": "[encoded data removed]",
      "text/plain": [
       "<Figure size 1224x576 with 1 Axes>"
      ]
     },
     "metadata": {},
     "output_type": "display_data"
    }
   ],
   "source": [
    "show_venn_diagram(get_three_venn_intersections(*(i[0] for i in mapping_by_entity.values())), \n",
    "                  set_labels = ('Genes', 'Metabolites', 'mirnas'))\n"
   ]
  },
  {
   "cell_type": "markdown",
   "metadata": {},
   "source": [
    "## 5. Cross-validation"
   ]
  },
  {
   "cell_type": "code",
   "execution_count": 49,
   "metadata": {},
   "outputs": [],
   "source": [
    "from diffupy.views import box_plot_from_dict\n",
    "from diffupy.cross_validation import cross_validation_by_method, cross_validation_by_method, cross_validation_by_subset_same_diff_input, cross_validation_one_x_in\n",
    "\n"
   ]
  },
  {
   "cell_type": "markdown",
   "metadata": {},
   "source": [
    "### 5.1. Random-validation Scheme"
   ]
  },
  {
   "cell_type": "markdown",
   "metadata": {},
   "source": [
    "#### 5.1.1.  By method"
   ]
  },
  {
   "cell_type": "code",
   "execution_count": 44,
   "metadata": {},
   "outputs": [
    {
     "name": "stderr",
     "output_type": "stream",
     "text": [
      "100%|██████████| 4/4 [51:17<00:00, 774.21s/it]\n"
     ]
    }
   ],
   "source": [
    "auroc_metrics_by_method, auprc_metrics_by_method = cross_validation_by_method(all_labels_mapping, pathme_universe_graph_no_flatten, background_mat, k = 4)\n",
    "\n"
   ]
  },
  {
   "cell_type": "code",
   "execution_count": 46,
   "metadata": {
    "scrolled": false
   },
   "outputs": [
    {
     "name": "stderr",
     "output_type": "stream",
     "text": [
      "/usr/local/Cellar/ipython/7.2.0/libexec/lib/python3.7/site-packages/IPython/core/display.py:689: UserWarning:\n",
      "\n",
      "Consider using IPython.display.IFrame instead\n",
      "\n"
     ]
    },
    {
     "data": {
      "text/html": [
       "<iframe id=\"igraph\" scrolling=\"no\" style=\"border:none;\" seamless=\"seamless\" src=\"https://plot.ly/~jmarinllao/378.embed\" height=\"525px\" width=\"100%\"></iframe>"
      ],
      "text/plain": [
       "<chart_studio.tools.PlotlyDisplay object>"
      ]
     },
     "execution_count": 46,
     "metadata": {},
     "output_type": "execute_result"
    }
   ],
   "source": [
    "box_plot_from_dict(auroc_metrics_by_method, 'Random Cross Validation', 'Method type', 'AUROC')"
   ]
  },
  {
   "cell_type": "code",
   "execution_count": 47,
   "metadata": {
    "scrolled": false
   },
   "outputs": [
    {
     "data": {
      "text/html": [
       "<iframe id=\"igraph\" scrolling=\"no\" style=\"border:none;\" seamless=\"seamless\" src=\"https://plot.ly/~jmarinllao/380.embed\" height=\"525px\" width=\"100%\"></iframe>"
      ],
      "text/plain": [
       "<chart_studio.tools.PlotlyDisplay object>"
      ]
     },
     "execution_count": 47,
     "metadata": {},
     "output_type": "execute_result"
    }
   ],
   "source": [
    "box_plot_from_dict(auprc_metrics_by_method, 'Random Cross Validation', 'Method type', 'AUPRC')"
   ]
  },
  {
   "cell_type": "markdown",
   "metadata": {},
   "source": [
    "#### 5.1.2.  By entity"
   ]
  },
  {
   "cell_type": "code",
   "execution_count": 50,
   "metadata": {},
   "outputs": [
    {
     "name": "stderr",
     "output_type": "stream",
     "text": [
      "100%|██████████| 4/4 [39:17<00:00, 594.89s/it]\n"
     ]
    }
   ],
   "source": [
    "auroc_metrics_by_entity, auprc_metrics_by_entity = cross_validation_by_subset_same_diff_input(mapping_by_entity, background_mat, k = 4)\n"
   ]
  },
  {
   "cell_type": "code",
   "execution_count": 48,
   "metadata": {},
   "outputs": [],
   "source": [
    "import json\n",
    "\n",
    "with open('metrics_set2_by_entity.txt', 'w') as outfile:  \n",
    "    json.dump({'auroc_metrics_by_entity': auroc_metrics_by_method, 'auprc_metrics_by_entity': auprc_metrics_by_method}, outfile)\n",
    "\n",
    "    "
   ]
  },
  {
   "cell_type": "markdown",
   "metadata": {},
   "source": [
    "### 5.2. Leave Two DB Out (LTOO)"
   ]
  },
  {
   "cell_type": "code",
   "execution_count": null,
   "metadata": {},
   "outputs": [],
   "source": [
    "mapping_by_db"
   ]
  },
  {
   "cell_type": "code",
   "execution_count": null,
   "metadata": {
    "scrolled": true
   },
   "outputs": [],
   "source": [
    "auroc_metrics_by_db, auprc_metrics_by_db = cross_validation_one_x_in_disjoint(mapping_by_db,\n",
    "                                                                              disjoint = True,\n",
    "                                                                              background_mat, \n",
    "                                                                              k = 1)"
   ]
  },
  {
   "cell_type": "code",
   "execution_count": null,
   "metadata": {
    "scrolled": false
   },
   "outputs": [],
   "source": [
    "box_plot_from_dict(auroc_metrics_by_entity, 'Leave Two DB Out Validation', 'DB', 'AUROC')"
   ]
  },
  {
   "cell_type": "code",
   "execution_count": null,
   "metadata": {},
   "outputs": [],
   "source": [
    "auroc_metrics_by_db, auprc_metrics_by_db = cross_validation_one_x_in_disjoint(mapping_by_db, \n",
    "                                                                              background_mat, \n",
    "                                                                              k = 1)"
   ]
  },
  {
   "cell_type": "code",
   "execution_count": null,
   "metadata": {},
   "outputs": [],
   "source": [
    "box_plot_from_dict(auprc_metrics_by_entity, 'Random Cross Validation', 'Entity type', 'AUPRC')"
   ]
  },
  {
   "cell_type": "markdown",
   "metadata": {},
   "source": [
    "### 5.3. Leave Two DataBases Out (LTDBO)"
   ]
  },
  {
   "cell_type": "code",
   "execution_count": null,
   "metadata": {},
   "outputs": [],
   "source": [
    "auroc_metrics_by_db, auprc_metrics_by_db = cross_validation_one_x_in(mapping_by_entity, background_mat, k = 1 )"
   ]
  },
  {
   "cell_type": "code",
   "execution_count": null,
   "metadata": {},
   "outputs": [],
   "source": [
    "box_plot_from_dict(auroc_metrics_by_db, 'Leave Two Omics Out Validation', 'Entity type', 'AUPRC')"
   ]
  }
 ],
 "metadata": {
  "kernelspec": {
   "display_name": "Python 3",
   "language": "python",
   "name": "python3"
  },
  "language_info": {
   "codemirror_mode": {
    "name": "ipython",
    "version": 3
   },
   "file_extension": ".py",
   "mimetype": "text/x-python",
   "name": "python",
   "nbconvert_exporter": "python",
   "pygments_lexer": "ipython3",
   "version": "3.7.3"
  }
 },
 "nbformat": 4,
 "nbformat_minor": 2
}
