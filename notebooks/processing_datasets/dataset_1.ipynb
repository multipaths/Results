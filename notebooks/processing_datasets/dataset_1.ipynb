{
 "cells": [
  {
   "cell_type": "markdown",
   "metadata": {},
   "source": [
    "# Dataset 1 processing and descriptive analysis\n",
    "\n",
    "This notebooks loads and processes the Dataset 1 and analyzes its mapping with PathMe, stratificating it by omic and by database.\n",
    "\n",
    "Finally, it exports to the format ready to be used by DiffuPy/DiffuPath"
   ]
  },
  {
   "cell_type": "code",
   "execution_count": 1,
   "metadata": {},
   "outputs": [],
   "source": [
    "import os \n",
    "import pybel\n",
    "from pybel_tools.summary import plot_summary, count_top_centrality\n",
    "import matplotlib.pyplot as plt\n",
    "\n",
    "import json\n",
    "import networkx as nx\n",
    "\n",
    "from diffupath.constants import DEFAULT_DIFFUPATH_DIR, ROOT_RESULTS_DIR\n",
    "from diffupath.pathme_processing import get_labels_by_db_and_omic_from_pathme, get_labels_by_db_and_omic_from_graph\n",
    "from diffupath.utils import print_dict_dimensions, get_labels_set_from_dict, reduce_dict_dimension, get_count_and_labels_from_two_dim_dict, from_pickle, to_pickle, get_three_venn_intersections, random_disjoint_intersection_three_subsets\n",
    "from diffupath.views import show_heatmap\n",
    "\n",
    "from diffupy.process_input import process_input_data\n",
    "from diffupy.utils import lists_combinations, parse_xls_to_df, to_json\n",
    "from diffupy.constants import *"
   ]
  },
  {
   "cell_type": "markdown",
   "metadata": {},
   "source": [
    "## 1. Load and process dataset"
   ]
  },
  {
   "cell_type": "markdown",
   "metadata": {},
   "source": [
    "### 1.1. Dataset excel file parsing"
   ]
  },
  {
   "cell_type": "code",
   "execution_count": 3,
   "metadata": {},
   "outputs": [],
   "source": [
    "VALIDATION_PATH = os.path.join(ROOT_RESULTS_DIR, 'data', 'validation_datasets')\n",
    "VALSET_1_PATH = os.path.join(VALIDATION_PATH, 'set1.xlsx')"
   ]
  },
  {
   "cell_type": "markdown",
   "metadata": {},
   "source": [
    "##### Parsing parameters"
   ]
  },
  {
   "cell_type": "code",
   "execution_count": 4,
   "metadata": {},
   "outputs": [
    {
     "data": {
      "text/plain": [
       "['Genes 3µM 12h',\n",
       " 'Genes 3µM 48h',\n",
       " 'Genes 3µM 72h',\n",
       " 'Genes 20µM 12h',\n",
       " 'Genes 20µM 48h',\n",
       " 'Genes 20µM 72h',\n",
       " 'microRNA 3µM 12h',\n",
       " 'microRNA 3µM 48h',\n",
       " 'microRNA 3µM 72h',\n",
       " 'microRNA 20µM 12h',\n",
       " 'microRNA 20µM 48h',\n",
       " 'microRNA 20µM 72h',\n",
       " 'Metabolite 3µM 12h',\n",
       " 'Metabolite 3µM 48h',\n",
       " 'Metabolite 3µM 72h',\n",
       " 'Metabolite 20µM 12h',\n",
       " 'Metabolite 20µM 48h',\n",
       " 'Metabolite 20µM 72h']"
      ]
     },
     "execution_count": 4,
     "metadata": {},
     "output_type": "execute_result"
    }
   ],
   "source": [
    "set_entity_type = ['Genes', 'microRNA', 'Metabolite']\n",
    "set_concentration = ['3µM', '20µM']\n",
    "set_time_points = ['12h', '48h', '72h']\n",
    "\n",
    "relevant_sheets = lists_combinations(set_entity_type, \n",
    "                                     lists_combinations(set_concentration, \n",
    "                                                        set_time_points)\n",
    "                                    )\n",
    "relevant_sheets"
   ]
  },
  {
   "cell_type": "code",
   "execution_count": 5,
   "metadata": {},
   "outputs": [],
   "source": [
    "relevant_cols = ['hgnc symbol', \n",
    "                 'MicroRNA', \n",
    "                 'Metabolite', \n",
    "                 'Mean p-value', \n",
    "                 'Mean FC', \n",
    "                 'Mean p-value', \n",
    "                 'FC', \n",
    "                 'fc', \n",
    "                 't.test', \n",
    "                 'Q.value'\n",
    "                ]\n",
    "\n",
    "cols_titles_mapping = {'hgnc symbol':NODE, \n",
    "                       'MicroRNA': NODE, \n",
    "                       'Metabolite': NODE, \n",
    "                       'Mean p-value': P_VALUE, \n",
    "                       'Mean FC': LOG_FC, \n",
    "                       'Mean p-value':P_VALUE, \n",
    "                       'FC': LOG_FC, \n",
    "                       'fc': LOG_FC\n",
    "                      }"
   ]
  },
  {
   "cell_type": "markdown",
   "metadata": {},
   "source": [
    "##### Dataset excel parsing"
   ]
  },
  {
   "cell_type": "code",
   "execution_count": 6,
   "metadata": {
    "scrolled": true
   },
   "outputs": [],
   "source": [
    "parsed_xls = parse_xls_to_df(VALSET_1_PATH,\n",
    "                             min_row = 4,\n",
    "                             relevant_sheets = relevant_sheets,\n",
    "                             relevant_cols = relevant_cols\n",
    "                            )"
   ]
  },
  {
   "cell_type": "markdown",
   "metadata": {},
   "source": [
    "### 1.2. Process input data"
   ]
  },
  {
   "cell_type": "code",
   "execution_count": 7,
   "metadata": {},
   "outputs": [],
   "source": [
    "processed_input_data = process_input_data(parsed_xls,\n",
    "                                          cols_titles_mapping = cols_titles_mapping\n",
    "                                          )\n",
    "merged_processed_input_data = {label:score for subtype, entities in processed_input_data.items() for label, score in entities.items()}\n"
   ]
  },
  {
   "cell_type": "markdown",
   "metadata": {},
   "source": [
    "## 2. Load background network graph"
   ]
  },
  {
   "cell_type": "code",
   "execution_count": 9,
   "metadata": {},
   "outputs": [],
   "source": [
    "GRAPH_PATH = os.path.join(DEFAULT_DIFFUPATH_DIR, 'pickles', 'universe', 'pathme_universe_non_flatten_collapsed_names_no_isolates_16_03_2020.pickle')\n"
   ]
  },
  {
   "cell_type": "code",
   "execution_count": 10,
   "metadata": {
    "scrolled": false
   },
   "outputs": [
    {
     "name": "stdout",
     "output_type": "stream",
     "text": [
      "PathMe Universe v1.0.0\n",
      "Number of Nodes: 42272\n",
      "Number of Edges: 105871\n",
      "Number of Citations: 7695\n",
      "Number of Authors: 0\n",
      "Network Density: 5.92E-05\n",
      "Number of Components: 435\n",
      "Number of Warnings: 0\n"
     ]
    },
    {
     "data": {
      "image/png": "[encoded data removed]",
      "text/plain": [
       "<Figure size 720x288 with 2 Axes>"
      ]
     },
     "metadata": {
      "needs_background": "light"
     },
     "output_type": "display_data"
    }
   ],
   "source": [
    "pathme_universe_graph_no_flatten = pybel.from_pickle(GRAPH_PATH)\n",
    "pathme_universe_graph_no_flatten.summarize()\n",
    "\n",
    "nx.number_of_isolates(pathme_universe_graph_no_flatten)\n",
    "pathme_universe_graph_no_flatten.remove_nodes_from({\n",
    "    node\n",
    "    for node in nx.isolates(pathme_universe_graph_no_flatten)\n",
    "})\n",
    "\n",
    "plot_summary(pathme_universe_graph_no_flatten, plt, figsize=(10, 4))\n",
    "plt.show()"
   ]
  },
  {
   "cell_type": "code",
   "execution_count": 11,
   "metadata": {},
   "outputs": [
    {
     "name": "stdout",
     "output_type": "stream",
     "text": [
      "Total number of  wikipathways: gene_nodes(2555), mirna_nodes(91), metabolite_nodes(637), bp_nodes(138),  \n",
      "Total number of  kegg: gene_nodes(6048), mirna_nodes(122), metabolite_nodes(1770), bp_nodes(107),  \n",
      "Total number of  reactome: gene_nodes(8617), mirna_nodes(13), metabolite_nodes(2682), bp_nodes(3),  \n",
      "Total: 18001 \n"
     ]
    }
   ],
   "source": [
    "bg_labels_from_pathmeuniverse_by_db_and_omic, bg_labels_from_pathmeuniverse_by_omic_and_db =  get_labels_by_db_and_omic_from_graph(pathme_universe_graph_no_flatten)\n",
    "\n",
    "print_dict_dimensions(bg_labels_from_pathmeuniverse_by_db_and_omic, 'Entities in PathMeUniverse :')\n"
   ]
  },
  {
   "cell_type": "code",
   "execution_count": 12,
   "metadata": {},
   "outputs": [
    {
     "name": "stdout",
     "output_type": "stream",
     "text": [
      "Total number of  wikipathways: 3421  \n",
      "Total number of  kegg: 8047  \n",
      "Total number of  reactome: 11315  \n",
      "Total: 18001 \n"
     ]
    }
   ],
   "source": [
    "bg_labels_from_pathmeuniverse_by_db = reduce_dict_dimension(bg_labels_from_pathmeuniverse_by_db_and_omic)\n",
    "print_dict_dimensions(bg_labels_from_pathmeuniverse_by_db, 'Entities in PathMeUniverse :')"
   ]
  },
  {
   "cell_type": "code",
   "execution_count": 13,
   "metadata": {},
   "outputs": [
    {
     "name": "stdout",
     "output_type": "stream",
     "text": [
      "Total number of  gene_nodes: 13282  \n",
      "Total number of  mirna_nodes: 171  \n",
      "Total number of  metabolite_nodes: 4306  \n",
      "Total number of  bp_nodes: 248  \n",
      "Total: 18001 \n"
     ]
    }
   ],
   "source": [
    "bg_labels_from_pathmeuniverse_by_omic = reduce_dict_dimension(bg_labels_from_pathmeuniverse_by_omic_and_db)\n",
    "print_dict_dimensions(bg_labels_from_pathmeuniverse_by_omic, 'Entities in PathMeUniverse :')"
   ]
  },
  {
   "cell_type": "markdown",
   "metadata": {},
   "source": [
    "## 3. Mapping"
   ]
  },
  {
   "cell_type": "code",
   "execution_count": 14,
   "metadata": {},
   "outputs": [],
   "source": [
    "from diffupy.process_input import map_labels_input\n",
    "from diffupy.process_input import mapping_statistics"
   ]
  },
  {
   "cell_type": "markdown",
   "metadata": {},
   "source": [
    "##### Quantitative"
   ]
  },
  {
   "cell_type": "code",
   "execution_count": 21,
   "metadata": {},
   "outputs": [
    {
     "name": "stdout",
     "output_type": "stream",
     "text": [
      "Mapping descriptive statistics\n",
      "\n",
      "wikipathways:\n",
      "gene_nodes  ((929, 0.3342929111191076))\n",
      "mirna_nodes  ((16, 0.6153846153846154))\n",
      "metabolite_nodes  ((92, 0.37398373983739835))\n",
      "bp_nodes  ((14, 0.4))\n",
      "total  ((1051, 0.2171039041520347))\n",
      "\n",
      "kegg:\n",
      "gene_nodes  ((1780, 0.6405181720043182))\n",
      "mirna_nodes  ((17, 0.6538461538461539))\n",
      "metabolite_nodes  ((69, 0.2804878048780488))\n",
      "bp_nodes  ((20, 0.5714285714285714))\n",
      "total  ((1886, 0.38958892790745714))\n",
      "\n",
      "reactome:\n",
      "gene_nodes  ((1413, 0.5084562792371357))\n",
      "mirna_nodes  ((5, 0.19230769230769232))\n",
      "metabolite_nodes  ((124, 0.5040650406504065))\n",
      "bp_nodes  ((1, 0.02857142857142857))\n",
      "total  ((1543, 0.31873579838876265))\n",
      "\n",
      "total:\n",
      "gene_nodes  ((2779, 0.5740549473249329))\n",
      "mirna_nodes  ((26, 0.005370791158851477))\n",
      "metabolite_nodes  ((246, 0.05081594711836397))\n",
      "bp_nodes  ((35, 0.007229911175376988))\n",
      "total  ((3086, 0.6374715967775253))\n",
      "\n",
      "\n",
      "\n"
     ]
    }
   ],
   "source": [
    "mapping_by_database_and_entity = map_labels_input(input_labels=merged_processed_input_data,\n",
    "                                                  background_labels=bg_labels_from_pathmeuniverse_by_db_and_omic,\n",
    "                                                  show_descriptive_stat= True,\n",
    "                                                  check_substrings = ['mirna_nodes']\n",
    "                                                  )\n",
    "\n",
    "mapping_by_database_and_entity_statistics = mapping_statistics(merged_processed_input_data, \n",
    "                                                               mapping_by_database_and_entity)"
   ]
  },
  {
   "cell_type": "markdown",
   "metadata": {},
   "source": [
    "##### Descriptive data view"
   ]
  },
  {
   "cell_type": "code",
   "execution_count": 17,
   "metadata": {
    "scrolled": false
   },
   "outputs": [
    {
     "data": {
      "image/png": "[encoded data removed]",
      "text/plain": [
       "<Figure size 1080x504 with 2 Axes>"
      ]
     },
     "metadata": {
      "needs_background": "light"
     },
     "output_type": "display_data"
    }
   ],
   "source": [
    "count, percentage, db_labels, entity_labels  = get_count_and_labels_from_two_dim_dict(mapping_by_database_and_entity_statistics)\n",
    "\n",
    "show_heatmap(count, percentage, db_labels, entity_labels, 'Dataset 2 DiffuPath Mapping')"
   ]
  },
  {
   "cell_type": "markdown",
   "metadata": {},
   "source": [
    "##### Save mapping by_db_and_entity to exportable .json file"
   ]
  },
  {
   "cell_type": "code",
   "execution_count": 23,
   "metadata": {},
   "outputs": [],
   "source": [
    "MAPPING_OUTPUT_PATH = os.path.join(ROOT_RESULTS_DIR, 'data', 'input_mappings', 'dataset_1_mapping.json')\n",
    "to_json(mapping_by_database_and_entity, MAPPING_OUTPUT_PATH)"
   ]
  }
 ],
 "metadata": {
  "kernelspec": {
   "display_name": "Python 3",
   "language": "python",
   "name": "python3"
  },
  "language_info": {
   "codemirror_mode": {
    "name": "ipython",
    "version": 3
   },
   "file_extension": ".py",
   "mimetype": "text/x-python",
   "name": "python",
   "nbconvert_exporter": "python",
   "pygments_lexer": "ipython3",
   "version": "3.7.6"
  }
 },
 "nbformat": 4,
 "nbformat_minor": 4
}
