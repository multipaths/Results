{
 "cells": [
  {
   "cell_type": "markdown",
   "metadata": {},
   "source": [
    "# Dataset 1 processing and descriptive analysis\n",
    "\n",
    "This notebooks loads and processes the Dataset 1 and analyzes its mapping with PathMe, stratificating it by omic and by database.\n",
    "\n",
    "Finally, it exports to the format ready to be used by DiffuPy/DiffuPath"
   ]
  },
  {
   "cell_type": "code",
   "execution_count": 1,
   "metadata": {},
   "outputs": [],
   "source": [
    "import os \n",
    "import pybel\n",
    "from pybel_tools.summary import plot_summary, count_top_centrality\n",
    "import matplotlib.pyplot as plt\n",
    "\n",
    "import json\n",
    "import networkx as nx\n",
    "\n",
    "from diffupath.constants import DEFAULT_DIFFUPATH_DIR, ROOT_RESULTS_DIR\n",
    "from diffupath.pathme_processing import get_labels_by_db_and_omic_from_pathme, get_labels_by_db_and_omic_from_graph\n",
    "from diffupath.utils import print_dict_dimensions, get_labels_set_from_dict, reduce_dict_dimension, get_count_and_labels_from_two_dim_dict, from_pickle, to_pickle, get_three_venn_intersections, random_disjoint_intersection_three_subsets\n",
    "from diffupath.views import show_heatmap\n",
    "\n",
    "from diffupy.process_network import process_graph_from_file\n",
    "from diffupy.process_input import process_input_data\n",
    "from diffupy.utils import lists_combinations, parse_xls_to_df, to_json\n",
    "from diffupy.constants import *"
   ]
  },
  {
   "cell_type": "markdown",
   "metadata": {},
   "source": [
    "## 1. Load and process dataset"
   ]
  },
  {
   "cell_type": "markdown",
   "metadata": {},
   "source": [
    "### 1.1. Dataset excel file parsing"
   ]
  },
  {
   "cell_type": "code",
   "execution_count": 2,
   "metadata": {},
   "outputs": [],
   "source": [
    "VALIDATION_PATH = os.path.join(ROOT_RESULTS_DIR, 'data', 'validation_datasets')\n",
    "VALSET_1_PATH = os.path.join(VALIDATION_PATH, 'set1.xlsx')"
   ]
  },
  {
   "cell_type": "markdown",
   "metadata": {},
   "source": [
    "##### Parsing parameters"
   ]
  },
  {
   "cell_type": "code",
   "execution_count": 3,
   "metadata": {
    "scrolled": true
   },
   "outputs": [
    {
     "data": {
      "text/plain": [
       "['Genes 3µM 12h',\n",
       " 'Genes 3µM 48h',\n",
       " 'Genes 3µM 72h',\n",
       " 'Genes 20µM 12h',\n",
       " 'Genes 20µM 48h',\n",
       " 'Genes 20µM 72h',\n",
       " 'microRNA 3µM 12h',\n",
       " 'microRNA 3µM 48h',\n",
       " 'microRNA 3µM 72h',\n",
       " 'microRNA 20µM 12h',\n",
       " 'microRNA 20µM 48h',\n",
       " 'microRNA 20µM 72h',\n",
       " 'Metabolite 3µM 12h',\n",
       " 'Metabolite 3µM 48h',\n",
       " 'Metabolite 3µM 72h',\n",
       " 'Metabolite 20µM 12h',\n",
       " 'Metabolite 20µM 48h',\n",
       " 'Metabolite 20µM 72h']"
      ]
     },
     "execution_count": 3,
     "metadata": {},
     "output_type": "execute_result"
    }
   ],
   "source": [
    "set_entity_type = ['Genes', 'microRNA', 'Metabolite']\n",
    "set_concentration = ['3µM', '20µM']\n",
    "set_time_points = ['12h', '48h', '72h']\n",
    "\n",
    "relevant_sheets = lists_combinations(set_entity_type, \n",
    "                                     lists_combinations(set_concentration, \n",
    "                                                        set_time_points)\n",
    "                                    )\n",
    "relevant_sheets"
   ]
  },
  {
   "cell_type": "code",
   "execution_count": 4,
   "metadata": {},
   "outputs": [],
   "source": [
    "relevant_cols = ['hgnc symbol', \n",
    "                 'MicroRNA', \n",
    "                 'Metabolite', \n",
    "                 'Mean p-value', \n",
    "                 'Mean FC', \n",
    "                 'Mean p-value', \n",
    "                 'FC', \n",
    "                 'fc', \n",
    "                 't.test', \n",
    "                 'Q.value'\n",
    "                ]\n",
    "\n",
    "cols_titles_mapping = {'hgnc symbol':NODE, \n",
    "                       'MicroRNA': NODE, \n",
    "                       'Metabolite': NODE, \n",
    "                       'Mean p-value': P_VALUE, \n",
    "                       'Mean FC': LOG_FC, \n",
    "                       'FC': LOG_FC, \n",
    "                       'fc': LOG_FC\n",
    "                      }"
   ]
  },
  {
   "cell_type": "markdown",
   "metadata": {},
   "source": [
    "##### Dataset excel parsing"
   ]
  },
  {
   "cell_type": "code",
   "execution_count": 5,
   "metadata": {
    "scrolled": true
   },
   "outputs": [],
   "source": [
    "parsed_xls = parse_xls_to_df(VALSET_1_PATH,\n",
    "                             min_row = 4,\n",
    "                             relevant_sheets = relevant_sheets,\n",
    "                             relevant_cols = relevant_cols\n",
    "                            )"
   ]
  },
  {
   "cell_type": "markdown",
   "metadata": {},
   "source": [
    "### 1.2. Process input data"
   ]
  },
  {
   "cell_type": "code",
   "execution_count": 6,
   "metadata": {},
   "outputs": [
    {
     "data": {
      "text/plain": [
       "{'gene_nodes': 3080, 'mirna_nodes': 43, 'metabolite_nodes': 16}"
      ]
     },
     "execution_count": 6,
     "metadata": {},
     "output_type": "execute_result"
    }
   ],
   "source": [
    "processed_input_data = process_input_data(parsed_xls,\n",
    "                                          cols_titles_mapping = cols_titles_mapping\n",
    "                                          )\n",
    "selected_input  = {'gene_nodes': processed_input_data['genes 20µm 72h'],\n",
    "                   'mirna_nodes': processed_input_data['microrna 20µm 72h'],\n",
    "                   'metabolite_nodes': processed_input_data['metabolite 20µm 72h'],\n",
    "                    }\n",
    "selected_input_size  = {'gene_nodes': len(processed_input_data['genes 20µm 72h']),\n",
    "                   'mirna_nodes': len(processed_input_data['microrna 20µm 72h']),\n",
    "                   'metabolite_nodes': len(processed_input_data['metabolite 20µm 72h']),\n",
    "                    }\n",
    "\n",
    "selected_input_size"
   ]
  },
  {
   "cell_type": "code",
   "execution_count": 7,
   "metadata": {},
   "outputs": [],
   "source": [
    "merged_processed_input_data = {label:score for subtype, entities in processed_input_data.items() for label, score in entities.items()}\n"
   ]
  },
  {
   "cell_type": "markdown",
   "metadata": {},
   "source": [
    "## 2. Load background network graph"
   ]
  },
  {
   "cell_type": "code",
   "execution_count": 8,
   "metadata": {},
   "outputs": [],
   "source": [
    "GRAPH_PATH = os.path.join(DEFAULT_DIFFUPATH_DIR, 'pickles', 'universe', 'pathme_universe_non_flatten_collapsed_names_no_isolates_16_03_2020.pickle')\n"
   ]
  },
  {
   "cell_type": "code",
   "execution_count": 9,
   "metadata": {
    "scrolled": false
   },
   "outputs": [
    {
     "name": "stdout",
     "output_type": "stream",
     "text": [
      "PathMe Universe v1.0.0\n",
      "Number of Nodes: 42272\n",
      "Number of Edges: 105871\n",
      "Number of Citations: 7695\n",
      "Number of Authors: 0\n",
      "Network Density: 5.92E-05\n",
      "Number of Components: 435\n",
      "Number of Warnings: 0\n"
     ]
    },
    {
     "data": {
      "image/png": "[encoded data removed]",
      "text/plain": [
       "<Figure size 720x288 with 2 Axes>"
      ]
     },
     "metadata": {
      "needs_background": "light"
     },
     "output_type": "display_data"
    }
   ],
   "source": [
    "pathme_universe_graph_no_flatten = process_graph_from_file(GRAPH_PATH)\n",
    "\n",
    "pathme_universe_graph_no_flatten.summarize()\n",
    "plot_summary(pathme_universe_graph_no_flatten, plt, figsize=(10, 4))\n",
    "plt.show()"
   ]
  },
  {
   "cell_type": "code",
   "execution_count": 10,
   "metadata": {},
   "outputs": [
    {
     "name": "stdout",
     "output_type": "stream",
     "text": [
      "Total number of  wikipathways: gene_nodes(2555), mirna_nodes(91), metabolite_nodes(637), bp_nodes(138),  \n",
      "Total number of  kegg: gene_nodes(6048), mirna_nodes(122), metabolite_nodes(1770), bp_nodes(107),  \n",
      "Total number of  reactome: gene_nodes(8617), mirna_nodes(13), metabolite_nodes(2682), bp_nodes(3),  \n",
      "Total: 18001 \n"
     ]
    }
   ],
   "source": [
    "bg_labels_from_pathmeuniverse_by_db_and_omic, bg_labels_from_pathmeuniverse_by_omic_and_db =  get_labels_by_db_and_omic_from_graph(pathme_universe_graph_no_flatten)\n",
    "\n",
    "print_dict_dimensions(bg_labels_from_pathmeuniverse_by_db_and_omic, 'Entities in PathMeUniverse :')\n"
   ]
  },
  {
   "cell_type": "code",
   "execution_count": 11,
   "metadata": {},
   "outputs": [
    {
     "name": "stdout",
     "output_type": "stream",
     "text": [
      "Total number of  wikipathways: 3421  \n",
      "Total number of  kegg: 8047  \n",
      "Total number of  reactome: 11315  \n",
      "Total: 18001 \n"
     ]
    }
   ],
   "source": [
    "bg_labels_from_pathmeuniverse_by_db = reduce_dict_dimension(bg_labels_from_pathmeuniverse_by_db_and_omic)\n",
    "print_dict_dimensions(bg_labels_from_pathmeuniverse_by_db, 'Entities in PathMeUniverse :')"
   ]
  },
  {
   "cell_type": "code",
   "execution_count": 12,
   "metadata": {},
   "outputs": [
    {
     "name": "stdout",
     "output_type": "stream",
     "text": [
      "Total number of  gene_nodes: 13282  \n",
      "Total number of  mirna_nodes: 171  \n",
      "Total number of  metabolite_nodes: 4306  \n",
      "Total number of  bp_nodes: 248  \n",
      "Total: 18001 \n"
     ]
    }
   ],
   "source": [
    "bg_labels_from_pathmeuniverse_by_omic = reduce_dict_dimension(bg_labels_from_pathmeuniverse_by_omic_and_db)\n",
    "print_dict_dimensions(bg_labels_from_pathmeuniverse_by_omic, 'Entities in PathMeUniverse :')"
   ]
  },
  {
   "cell_type": "markdown",
   "metadata": {},
   "source": [
    "## 3. Mapping"
   ]
  },
  {
   "cell_type": "code",
   "execution_count": 13,
   "metadata": {},
   "outputs": [],
   "source": [
    "from diffupy.process_input import map_labels_input\n",
    "from diffupy.process_input import mapping_statistics"
   ]
  },
  {
   "cell_type": "markdown",
   "metadata": {},
   "source": [
    "##### Quantitative"
   ]
  },
  {
   "cell_type": "code",
   "execution_count": 14,
   "metadata": {},
   "outputs": [
    {
     "name": "stdout",
     "output_type": "stream",
     "text": [
      "Mapping descriptive statistics\n",
      "\n",
      "wikipathways:\n",
      "gene_nodes  (474, 0.1538961038961039)\n",
      "mirna_nodes  (2, 0.046511627906976744)\n",
      "metabolite_nodes  (12, 0.75)\n",
      "total  (488, 0.15546352341510036)\n",
      "\n",
      "kegg:\n",
      "gene_nodes  (1041, 0.337987012987013)\n",
      "mirna_nodes  (3, 0.06976744186046512)\n",
      "metabolite_nodes  (6, 0.375)\n",
      "total  (1050, 0.33450143357757245)\n",
      "\n",
      "reactome:\n",
      "gene_nodes  (709, 0.2301948051948052)\n",
      "mirna_nodes  (1, 0.023255813953488372)\n",
      "metabolite_nodes  (6, 0.375)\n",
      "total  (716, 0.22809812042051608)\n",
      "\n",
      "total:\n",
      "gene_nodes  (1461, 0.46543485186365086)\n",
      "mirna_nodes  (4, 0.0012742911755336094)\n",
      "metabolite_nodes  (13, 0.00414144632048423)\n",
      "total  (1478, 0.47085058935966867)\n",
      "\n",
      "\n"
     ]
    }
   ],
   "source": [
    "mapping_by_database_and_entity = map_labels_input(input_labels=selected_input,\n",
    "                                                  background_labels=bg_labels_from_pathmeuniverse_by_db_and_omic,\n",
    "                                                  show_descriptive_stat = True\n",
    "                                                 ) \n"
   ]
  },
  {
   "cell_type": "markdown",
   "metadata": {},
   "source": [
    "##### Descriptive data view"
   ]
  },
  {
   "cell_type": "code",
   "execution_count": 15,
   "metadata": {},
   "outputs": [],
   "source": [
    "mapping_by_database_and_entity_statistics = mapping_statistics(selected_input, \n",
    "                                                               mapping_by_database_and_entity)"
   ]
  },
  {
   "cell_type": "code",
   "execution_count": 18,
   "metadata": {
    "scrolled": false
   },
   "outputs": [
    {
     "data": {
      "image/png": "[encoded data removed]",
      "text/plain": [
       "<Figure size 1080x504 with 2 Axes>"
      ]
     },
     "metadata": {
      "needs_background": "light"
     },
     "output_type": "display_data"
    }
   ],
   "source": [
    "count, percentage, db_labels, entity_labels  = get_count_and_labels_from_two_dim_dict(mapping_by_database_and_entity_statistics)\n",
    "\n",
    "show_heatmap(count, percentage, db_labels, entity_labels, 'Dataset 1 DiffuPath Mapping')"
   ]
  },
  {
   "cell_type": "markdown",
   "metadata": {},
   "source": [
    "##### Save mapping by_db_and_entity to exportable .json file"
   ]
  },
  {
   "cell_type": "code",
   "execution_count": 17,
   "metadata": {},
   "outputs": [],
   "source": [
    "MAPPING_OUTPUT_PATH = os.path.join(ROOT_RESULTS_DIR, 'data', 'input_mappings', 'dataset_1_mapping.json')\n",
    "to_json(mapping_by_database_and_entity, MAPPING_OUTPUT_PATH)"
   ]
  }
 ],
 "metadata": {
  "kernelspec": {
   "display_name": "Python 3",
   "language": "python",
   "name": "python3"
  },
  "language_info": {
   "codemirror_mode": {
    "name": "ipython",
    "version": 3
   },
   "file_extension": ".py",
   "mimetype": "text/x-python",
   "name": "python",
   "nbconvert_exporter": "python",
   "pygments_lexer": "ipython3",
   "version": "3.7.6"
  }
 },
 "nbformat": 4,
 "nbformat_minor": 4
}
