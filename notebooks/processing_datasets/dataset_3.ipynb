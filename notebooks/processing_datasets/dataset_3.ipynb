{
 "cells": [
  {
   "cell_type": "markdown",
   "metadata": {},
   "source": [
    "# Dataset 3 processing and descriptive analysis\n",
    "\n",
    "This notebooks loads and processes the Dataset 3 and analyzes its mapping with PathMe, stratificating it by omic and by database.\n",
    "\n",
    "Finally, it exports to the format ready to be used by DiffuPy/DiffuPath"
   ]
  },
  {
   "cell_type": "code",
   "execution_count": 1,
   "metadata": {},
   "outputs": [],
   "source": [
    "import os \n",
    "import pybel\n",
    "from pybel_tools.summary import plot_summary, count_top_centrality\n",
    "import matplotlib.pyplot as plt\n",
    "\n",
    "import json\n",
    "import networkx as nx\n",
    "\n",
    "from diffupath.constants import DEFAULT_DIFFUPATH_DIR, ROOT_RESULTS_DIR\n",
    "from diffupath.pathme_processing import get_labels_by_db_and_omic_from_pathme, get_labels_by_db_and_omic_from_graph\n",
    "from diffupath.utils import print_dict_dimensions, get_labels_set_from_dict, reduce_dict_dimension, get_count_and_labels_from_two_dim_dict, from_pickle, to_pickle, get_three_venn_intersections, random_disjoint_intersection_three_subsets\n",
    "from diffupath.views import show_heatmap\n",
    "\n",
    "from diffupy.process_network import process_graph_from_file\n",
    "from diffupy.process_input import process_input_data\n",
    "from diffupy.utils import lists_combinations, parse_xls_to_df, to_json\n",
    "from diffupy.constants import *"
   ]
  },
  {
   "cell_type": "markdown",
   "metadata": {},
   "source": [
    "## 1. Load and process dataset"
   ]
  },
  {
   "cell_type": "markdown",
   "metadata": {},
   "source": [
    "### 1.1. Dataset excel file parsing"
   ]
  },
  {
   "cell_type": "code",
   "execution_count": 2,
   "metadata": {},
   "outputs": [],
   "source": [
    "VALIDATION_PATH = os.path.join(ROOT_RESULTS_DIR, 'data', 'validation_datasets')\n",
    "VALSET_3_PATH = os.path.join(VALIDATION_PATH, 'set3.xlsx')"
   ]
  },
  {
   "cell_type": "markdown",
   "metadata": {},
   "source": [
    "##### Parsing parameters"
   ]
  },
  {
   "cell_type": "code",
   "execution_count": 3,
   "metadata": {
    "scrolled": true
   },
   "outputs": [],
   "source": [
    "relevant_sheets = ['metabolites', \n",
    "                 'genes', \n",
    "                 'mirnas']\n",
    "\n",
    "relevant_cols = ['miRNA', \n",
    "                 'Gene name', \n",
    "                 'Name',\n",
    "                 'Abbreviation',\n",
    "                 'p-value',\n",
    "                 'P-value'\n",
    "                ]\n",
    "\n",
    "cols_titles_mapping = {'miRNA': NODE, \n",
    "                       'Abbreviation': NODE, \n",
    "                       'Name': NODE, \n",
    "                       'p-value': P_VALUE, \n",
    "                       'P-value':P_VALUE, \n",
    "                      }"
   ]
  },
  {
   "cell_type": "markdown",
   "metadata": {},
   "source": [
    "##### Dataset excel parsing"
   ]
  },
  {
   "cell_type": "code",
   "execution_count": 4,
   "metadata": {
    "scrolled": true
   },
   "outputs": [],
   "source": [
    "parsed_xls = parse_xls_to_df(VALSET_3_PATH,\n",
    "                             min_row = 2,\n",
    "                             relevant_sheets = relevant_sheets,\n",
    "                             relevant_cols = relevant_cols\n",
    "                            )"
   ]
  },
  {
   "cell_type": "markdown",
   "metadata": {},
   "source": [
    "### 1.2. Process input data"
   ]
  },
  {
   "cell_type": "code",
   "execution_count": 5,
   "metadata": {},
   "outputs": [],
   "source": [
    "processed_input_data = process_input_data(parsed_xls,\n",
    "                                          cols_titles_mapping = cols_titles_mapping\n",
    "                                          )\n",
    "merged_processed_input_data = {label:score for subtype, entities in processed_input_data.items() for label, score in entities.items()}\n"
   ]
  },
  {
   "cell_type": "code",
   "execution_count": 24,
   "metadata": {},
   "outputs": [
    {
     "data": {
      "text/plain": [
       "{'gene_nodes': 56, 'metabolite_nodes': 15, 'mirnas_nodes': 17}"
      ]
     },
     "execution_count": 24,
     "metadata": {},
     "output_type": "execute_result"
    }
   ],
   "source": [
    "selected_input  = {'gene_nodes': processed_input_data['genes'],\n",
    "                   'metabolite_nodes': processed_input_data['metabolites'],\n",
    "                   'mirnas_nodes': processed_input_data['mirnas'],\n",
    "                    }\n",
    "selected_input_size  = {'gene_nodes': len(processed_input_data['genes']),\n",
    "                   'metabolite_nodes': len(processed_input_data['metabolites']),\n",
    "                        'mirnas_nodes': len(processed_input_data['mirnas']),\n",
    "                    }\n",
    "selected_input_size"
   ]
  },
  {
   "cell_type": "code",
   "execution_count": 7,
   "metadata": {},
   "outputs": [],
   "source": [
    "merged_processed_input_data = {label:score for subtype, entities in processed_input_data.items() for label, score in entities.items()}\n"
   ]
  },
  {
   "cell_type": "markdown",
   "metadata": {},
   "source": [
    "## 2. Load background network graph"
   ]
  },
  {
   "cell_type": "code",
   "execution_count": 8,
   "metadata": {},
   "outputs": [],
   "source": [
    "GRAPH_PATH = os.path.join(DEFAULT_DIFFUPATH_DIR, 'pickles', 'universe', 'pathme_universe_non_flatten_collapsed_names_no_isolates_16_03_2020.pickle')\n"
   ]
  },
  {
   "cell_type": "code",
   "execution_count": 9,
   "metadata": {
    "scrolled": false
   },
   "outputs": [
    {
     "name": "stdout",
     "output_type": "stream",
     "text": [
      "PathMe Universe v1.0.0\n",
      "Number of Nodes: 42272\n",
      "Number of Edges: 105871\n",
      "Number of Citations: 7695\n",
      "Number of Authors: 0\n",
      "Network Density: 5.92E-05\n",
      "Number of Components: 435\n",
      "Number of Warnings: 0\n"
     ]
    },
    {
     "data": {
      "image/png": "[encoded data removed]",
      "text/plain": [
       "<Figure size 720x288 with 2 Axes>"
      ]
     },
     "metadata": {
      "needs_background": "light"
     },
     "output_type": "display_data"
    }
   ],
   "source": [
    "pathme_universe_graph_no_flatten = process_graph_from_file(GRAPH_PATH)\n",
    "\n",
    "pathme_universe_graph_no_flatten.summarize()\n",
    "plot_summary(pathme_universe_graph_no_flatten, plt, figsize=(10, 4))\n",
    "plt.show()"
   ]
  },
  {
   "cell_type": "code",
   "execution_count": 10,
   "metadata": {},
   "outputs": [
    {
     "name": "stdout",
     "output_type": "stream",
     "text": [
      "Total number of  wikipathways: gene_nodes(2555), mirna_nodes(91), metabolite_nodes(637), bp_nodes(138),  \n",
      "Total number of  kegg: gene_nodes(6048), mirna_nodes(122), metabolite_nodes(1770), bp_nodes(107),  \n",
      "Total number of  reactome: gene_nodes(8617), mirna_nodes(13), metabolite_nodes(2682), bp_nodes(3),  \n",
      "Total: 18001 \n"
     ]
    }
   ],
   "source": [
    "bg_labels_from_pathmeuniverse_by_db_and_omic, bg_labels_from_pathmeuniverse_by_omic_and_db =  get_labels_by_db_and_omic_from_graph(pathme_universe_graph_no_flatten)\n",
    "\n",
    "print_dict_dimensions(bg_labels_from_pathmeuniverse_by_db_and_omic, 'Entities in PathMeUniverse :')\n"
   ]
  },
  {
   "cell_type": "code",
   "execution_count": 11,
   "metadata": {},
   "outputs": [
    {
     "name": "stdout",
     "output_type": "stream",
     "text": [
      "Total number of  wikipathways: 3421  \n",
      "Total number of  kegg: 8047  \n",
      "Total number of  reactome: 11315  \n",
      "Total: 18001 \n"
     ]
    }
   ],
   "source": [
    "bg_labels_from_pathmeuniverse_by_db = reduce_dict_dimension(bg_labels_from_pathmeuniverse_by_db_and_omic)\n",
    "print_dict_dimensions(bg_labels_from_pathmeuniverse_by_db, 'Entities in PathMeUniverse :')"
   ]
  },
  {
   "cell_type": "code",
   "execution_count": 12,
   "metadata": {},
   "outputs": [
    {
     "name": "stdout",
     "output_type": "stream",
     "text": [
      "Total number of  gene_nodes: 13282  \n",
      "Total number of  mirna_nodes: 171  \n",
      "Total number of  metabolite_nodes: 4306  \n",
      "Total number of  bp_nodes: 248  \n",
      "Total: 18001 \n"
     ]
    }
   ],
   "source": [
    "bg_labels_from_pathmeuniverse_by_omic = reduce_dict_dimension(bg_labels_from_pathmeuniverse_by_omic_and_db)\n",
    "print_dict_dimensions(bg_labels_from_pathmeuniverse_by_omic, 'Entities in PathMeUniverse :')"
   ]
  },
  {
   "cell_type": "markdown",
   "metadata": {},
   "source": [
    "## 3. Mapping"
   ]
  },
  {
   "cell_type": "code",
   "execution_count": 13,
   "metadata": {},
   "outputs": [],
   "source": [
    "from diffupy.process_input import map_labels_input\n",
    "from diffupy.process_input import mapping_statistics"
   ]
  },
  {
   "cell_type": "markdown",
   "metadata": {},
   "source": [
    "##### Quantitative"
   ]
  },
  {
   "cell_type": "code",
   "execution_count": 15,
   "metadata": {},
   "outputs": [
    {
     "name": "stdout",
     "output_type": "stream",
     "text": [
      "Mapping descriptive statistics\n",
      "\n",
      "wikipathways:\n",
      "gene_nodes  (12, 0.21428571428571427)\n",
      "metabolite_nodes  (6, 0.4)\n",
      "total  (18, 0.2571428571428571)\n",
      "\n",
      "kegg:\n",
      "gene_nodes  (20, 0.35714285714285715)\n",
      "mirna_nodes  (1, 1.0)\n",
      "metabolite_nodes  (5, 0.3333333333333333)\n",
      "total  (26, 0.3561643835616438)\n",
      "\n",
      "reactome:\n",
      "gene_nodes  (23, 0.4107142857142857)\n",
      "metabolite_nodes  (5, 0.3333333333333333)\n",
      "total  (28, 0.4)\n",
      "\n",
      "total:\n",
      "gene_nodes  (33, 0.4520547945205479)\n",
      "metabolite_nodes  (8, 0.1095890410958904)\n",
      "mirna_nodes  (1, 0.0136986301369863)\n",
      "total  (42, 0.5753424657534246)\n",
      "\n",
      "\n"
     ]
    }
   ],
   "source": [
    "mapping_by_database_and_entity = map_labels_input(input_labels=selected_input,\n",
    "                                                  background_labels=bg_labels_from_pathmeuniverse_by_db_and_omic,\n",
    "                                                  show_descriptive_stat = True\n",
    "                                                 ) \n"
   ]
  },
  {
   "cell_type": "markdown",
   "metadata": {},
   "source": [
    "##### Descriptive data view"
   ]
  },
  {
   "cell_type": "code",
   "execution_count": 16,
   "metadata": {},
   "outputs": [],
   "source": [
    "mapping_by_database_and_entity_statistics = mapping_statistics(selected_input, \n",
    "                                                               mapping_by_database_and_entity)"
   ]
  },
  {
   "cell_type": "code",
   "execution_count": 18,
   "metadata": {},
   "outputs": [
    {
     "data": {
      "text/plain": [
       "{'wikipathways': {'gene_nodes': (12, 0.21428571428571427),\n",
       "  'metabolite_nodes': (6, 0.4),\n",
       "  'total': (18, 0.2571428571428571)},\n",
       " 'kegg': {'gene_nodes': (20, 0.35714285714285715),\n",
       "  'mirna_nodes': (1, 1.0),\n",
       "  'metabolite_nodes': (5, 0.3333333333333333),\n",
       "  'total': (26, 0.3561643835616438)},\n",
       " 'reactome': {'gene_nodes': (23, 0.4107142857142857),\n",
       "  'metabolite_nodes': (5, 0.3333333333333333),\n",
       "  'total': (28, 0.4)},\n",
       " 'total': {'gene_nodes': (33, 0.4520547945205479),\n",
       "  'metabolite_nodes': (8, 0.1095890410958904),\n",
       "  'mirna_nodes': (1, 0.0136986301369863),\n",
       "  'total': (42, 0.5753424657534246)}}"
      ]
     },
     "execution_count": 18,
     "metadata": {},
     "output_type": "execute_result"
    }
   ],
   "source": [
    "mapping_by_database_and_entity_statistics"
   ]
  },
  {
   "cell_type": "code",
   "execution_count": 23,
   "metadata": {
    "scrolled": false
   },
   "outputs": [
    {
     "data": {
      "image/png": "[encoded data removed]",
      "text/plain": [
       "<Figure size 1080x504 with 2 Axes>"
      ]
     },
     "metadata": {
      "needs_background": "light"
     },
     "output_type": "display_data"
    }
   ],
   "source": [
    "count, percentage, db_labels, entity_labels  = get_count_and_labels_from_two_dim_dict(mapping_by_database_and_entity_statistics)\n",
    "\n",
    "show_heatmap(count, percentage, db_labels, entity_labels, 'Dataset 3 DiffuPath Mapping')"
   ]
  },
  {
   "cell_type": "markdown",
   "metadata": {},
   "source": [
    "##### Save mapping by_db_and_entity to exportable .json file"
   ]
  },
  {
   "cell_type": "code",
   "execution_count": 22,
   "metadata": {},
   "outputs": [],
   "source": [
    "MAPPING_OUTPUT_PATH = os.path.join(ROOT_RESULTS_DIR, 'data', 'input_mappings', 'dataset_3_mapping.json')\n",
    "to_json(mapping_by_database_and_entity, MAPPING_OUTPUT_PATH)"
   ]
  }
 ],
 "metadata": {
  "kernelspec": {
   "display_name": "Python 3",
   "language": "python",
   "name": "python3"
  },
  "language_info": {
   "codemirror_mode": {
    "name": "ipython",
    "version": 3
   },
   "file_extension": ".py",
   "mimetype": "text/x-python",
   "name": "python",
   "nbconvert_exporter": "python",
   "pygments_lexer": "ipython3",
   "version": "3.7.6"
  }
 },
 "nbformat": 4,
 "nbformat_minor": 4
}
