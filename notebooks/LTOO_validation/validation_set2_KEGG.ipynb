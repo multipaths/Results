{
 "cells": [
  {
   "cell_type": "markdown",
   "metadata": {},
   "source": [
    "# Validation Set 2 LTOO"
   ]
  },
  {
   "cell_type": "code",
   "execution_count": 5,
   "metadata": {},
   "outputs": [],
   "source": [
    "import os\n",
    "import time\n",
    "\n",
    "import itertools\n",
    "from collections import defaultdict\n",
    "\n",
    "\n",
    "from openpyxl import load_workbook\n",
    "import networkx as nx"
   ]
  },
  {
   "cell_type": "markdown",
   "metadata": {},
   "source": [
    "##### PyBEL imports"
   ]
  },
  {
   "cell_type": "code",
   "execution_count": 6,
   "metadata": {},
   "outputs": [
    {
     "data": {
      "text/plain": [
       "'0.13.2'"
      ]
     },
     "execution_count": 6,
     "metadata": {},
     "output_type": "execute_result"
    }
   ],
   "source": [
    "import pybel\n",
    "import pybel_tools as pbt\n",
    "\n",
    "from pybel import BELGraph\n",
    "from pybel.constants import RELATION, ANNOTATIONS\n",
    "from pybel.dsl import Abundance, BiologicalProcess, CentralDogma, ListAbundance, Reaction\n",
    "from pybel.struct import get_subgraph_by_annotation_value\n",
    "from pybel.struct.summary import count_functions\n",
    "\n",
    "pybel.get_version()"
   ]
  },
  {
   "cell_type": "markdown",
   "metadata": {},
   "source": [
    "##### PathMe import "
   ]
  },
  {
   "cell_type": "code",
   "execution_count": 7,
   "metadata": {},
   "outputs": [],
   "source": [
    "from pathme.constants import REACTOME_BEL, KEGG_BEL, WIKIPATHWAYS_BEL, PATHME_DIR\n",
    "from pathme.export_utils import to_gml"
   ]
  },
  {
   "cell_type": "markdown",
   "metadata": {},
   "source": [
    "##### DiffuPath import "
   ]
  },
  {
   "cell_type": "code",
   "execution_count": 23,
   "metadata": {},
   "outputs": [],
   "source": [
    "import diffupath\n",
    "\n",
    "from diffupath.constants import DATA_DIR\n",
    "from diffupath.validation_datasets_parsers import parse_set2\n",
    "\n",
    "from diffupath.pathme_importer import get_labels_by_db_and_omic_from_pathme, get_labels_by_db_and_omic_from_graph\n",
    "from diffupath.input_mapping import get_mapping, get_mapping_subsets, get_mapping_two_dim_subsets\n",
    "from diffupath.utils import print_dict_dimensions, get_labels_set_from_dict, reduce_dict_dimension, get_count_and_labels_from_two_dim_dict, from_pickle, to_pickle, get_three_venn_intersections, random_disjoint_intersection_three_subsets\n",
    "from diffupath.views import show_heatmap, show_venn_diagram\n"
   ]
  },
  {
   "cell_type": "markdown",
   "metadata": {},
   "source": [
    "## 1. Load Data Set 1: Input Scores"
   ]
  },
  {
   "cell_type": "code",
   "execution_count": 9,
   "metadata": {
    "scrolled": true
   },
   "outputs": [
    {
     "name": "stdout",
     "output_type": "stream",
     "text": [
      "Dataset1 imported labels:\n",
      "Total number of genes: 4941  \n",
      "Total number of micrornas: 100  \n",
      "Total number of metabolite: 21  \n",
      "Total: 5062 \n"
     ]
    }
   ],
   "source": [
    "dataset2_labels_by_omics = parse_set2(os.path.join(DATA_DIR, 'validation_datasets', 'set2.xlsx'))\n",
    "dataset2_all_labels = get_labels_set_from_dict(dataset2_labels_by_omics)\n",
    "print_dict_dimensions(dataset2_labels_by_omics, 'Dataset2 imported labels:')"
   ]
  },
  {
   "cell_type": "code",
   "execution_count": 10,
   "metadata": {},
   "outputs": [],
   "source": [
    "mirnas_dataset =  dataset2_labels_by_omics['micrornas']"
   ]
  },
  {
   "cell_type": "markdown",
   "metadata": {},
   "source": [
    "## 2. Load Backrgound Network and Kernel matrix"
   ]
  },
  {
   "cell_type": "markdown",
   "metadata": {},
   "source": [
    "### 2.1. Import PathMeUniverse network graph"
   ]
  },
  {
   "cell_type": "code",
   "execution_count": 11,
   "metadata": {
    "scrolled": true
   },
   "outputs": [
    {
     "name": "stdout",
     "output_type": "stream",
     "text": [
      "PathMe Universe v1.0.0\n",
      "Number of Nodes: 48643\n",
      "Number of Edges: 104713\n",
      "Number of Citations: 7696\n",
      "Number of Authors: 0\n",
      "Network Density: 4.43E-05\n",
      "Number of Components: 6860\n",
      "Number of Warnings: 0\n"
     ]
    },
    {
     "data": {
      "text/plain": [
       "Counter({'Composite': 1605,\n",
       "         'Abundance': 7046,\n",
       "         'BiologicalProcess': 2857,\n",
       "         'Complex': 9048,\n",
       "         'Reaction': 13576,\n",
       "         'Gene': 14511})"
      ]
     },
     "execution_count": 11,
     "metadata": {},
     "output_type": "execute_result"
    }
   ],
   "source": [
    "pathme_universe_graph_no_flatten = pybel.from_pickle(os.path.join(DATA_DIR, 'pickles', 'universe', 'pathme_universe_bel_graph_no_flatten.bel.pickle'))\n",
    "pathme_universe_graph_no_flatten.summarize()\n",
    "count_functions(pathme_universe_graph_no_flatten)\n"
   ]
  },
  {
   "cell_type": "code",
   "execution_count": 12,
   "metadata": {},
   "outputs": [
    {
     "data": {
      "text/plain": [
       "<Figure size 1000x400 with 2 Axes>"
      ]
     },
     "metadata": {},
     "output_type": "display_data"
    }
   ],
   "source": [
    "import matplotlib.pyplot as plt\n",
    "from pybel_tools.summary import plot_summary, count_top_centrality\n",
    "plot_summary(pathme_universe_graph_no_flatten, plt, figsize=(10, 4))\n",
    "plt.show()"
   ]
  },
  {
   "cell_type": "markdown",
   "metadata": {},
   "source": [
    "##### Check and filter isolates / Unconnected nodes"
   ]
  },
  {
   "cell_type": "code",
   "execution_count": 13,
   "metadata": {},
   "outputs": [
    {
     "data": {
      "text/plain": [
       "6426"
      ]
     },
     "execution_count": 13,
     "metadata": {},
     "output_type": "execute_result"
    }
   ],
   "source": [
    "nx.number_of_isolates(pathme_universe_graph_no_flatten)"
   ]
  },
  {
   "cell_type": "code",
   "execution_count": 14,
   "metadata": {},
   "outputs": [],
   "source": [
    "pathme_universe_graph_no_flatten.remove_nodes_from({\n",
    "    node\n",
    "    for node in nx.isolates(pathme_universe_graph_no_flatten)\n",
    "})"
   ]
  },
  {
   "cell_type": "markdown",
   "metadata": {},
   "source": [
    "### 2.2. Get KEGG subgraph from PathMeUniverse graph"
   ]
  },
  {
   "cell_type": "code",
   "execution_count": 15,
   "metadata": {},
   "outputs": [
    {
     "name": "stdout",
     "output_type": "stream",
     "text": [
      "None vNone\n",
      "Number of Nodes: 13162\n",
      "Number of Edges: 35122\n",
      "Number of Citations: 2\n",
      "Number of Authors: 0\n",
      "Network Density: 2.03E-04\n",
      "Number of Components: 65\n",
      "Number of Warnings: 0\n"
     ]
    },
    {
     "data": {
      "text/plain": [
       "Counter({'Composite': 1596,\n",
       "         'Complex': 406,\n",
       "         'Gene': 6149,\n",
       "         'Abundance': 1762,\n",
       "         'Reaction': 3137,\n",
       "         'BiologicalProcess': 112})"
      ]
     },
     "execution_count": 15,
     "metadata": {},
     "output_type": "execute_result"
    }
   ],
   "source": [
    "kegg_pathme_graph_no_flatten = get_subgraph_by_annotation_value(pathme_universe_graph_no_flatten, 'database', 'kegg')\n",
    "kegg_pathme_graph_no_flatten.summarize()\n",
    "count_functions(kegg_pathme_graph_no_flatten)"
   ]
  },
  {
   "cell_type": "code",
   "execution_count": 16,
   "metadata": {},
   "outputs": [
    {
     "data": {
      "image/png": "[encoded data removed]",
      "text/plain": [
       "<Figure size 720x288 with 2 Axes>"
      ]
     },
     "metadata": {
      "needs_background": "light"
     },
     "output_type": "display_data"
    }
   ],
   "source": [
    "import matplotlib.pyplot as plt\n",
    "from pybel_tools.summary import plot_summary, count_top_centrality\n",
    "plot_summary(kegg_pathme_graph_no_flatten, plt, figsize=(10, 4))\n",
    "plt.show()"
   ]
  },
  {
   "cell_type": "markdown",
   "metadata": {},
   "source": [
    "### 2.3. Get entity labels subsets by entity type (omic) and by database"
   ]
  },
  {
   "cell_type": "markdown",
   "metadata": {},
   "source": [
    "#####  2.3.2.  From PathMeUniverse KEGG subgraph"
   ]
  },
  {
   "cell_type": "code",
   "execution_count": 17,
   "metadata": {
    "scrolled": false
   },
   "outputs": [
    {
     "name": "stdout",
     "output_type": "stream",
     "text": [
      "Entities in PathMeUniverse :\n",
      "Total number of kegg: gene_nodes(6027), mirna_nodes(122), metabolite_nodes(1762), bp_nodes(112),  \n",
      "Total: 8023 \n"
     ]
    }
   ],
   "source": [
    "bg_labels_from_pathmeuniverse_by_db_and_omic, bg_labels_from_pathmeuniverse_by_omic_and_db =  get_labels_by_db_and_omic_from_graph(kegg_pathme_graph_no_flatten)\n",
    "\n",
    "print_dict_dimensions(bg_labels_from_pathmeuniverse_by_db_and_omic, 'Entities in PathMeUniverse :')"
   ]
  },
  {
   "cell_type": "code",
   "execution_count": 18,
   "metadata": {},
   "outputs": [],
   "source": [
    "bg_labels_from_pathmeuniverse_by_omic = reduce_dict_dimension(bg_labels_from_pathmeuniverse_by_omic_and_db)"
   ]
  },
  {
   "cell_type": "markdown",
   "metadata": {},
   "source": [
    "### 2.4. Get Background  Matrix Kernel"
   ]
  },
  {
   "cell_type": "code",
   "execution_count": 19,
   "metadata": {},
   "outputs": [],
   "source": [
    "kernel_path = os.path.join(DATA_DIR, 'pickles', 'by_db_validation', 'regularised_laplacian_kernel_kegg.pickle')"
   ]
  },
  {
   "cell_type": "markdown",
   "metadata": {},
   "source": [
    "##### Generate kernel OR load from pickle"
   ]
  },
  {
   "cell_type": "markdown",
   "metadata": {},
   "source": [
    "DiffuPy to generate laplacian_kernel"
   ]
  },
  {
   "cell_type": "code",
   "execution_count": 20,
   "metadata": {},
   "outputs": [],
   "source": [
    "#import diffupy\n",
    "#from diffupy.kernels import regularised_laplacian_kernel"
   ]
  },
  {
   "cell_type": "code",
   "execution_count": 21,
   "metadata": {
    "scrolled": false
   },
   "outputs": [],
   "source": [
    "#background_mat = regularised_laplacian_kernel(kegg_pathme_graph_no_flatten)\n",
    "#to_pickle(regularised_laplacian_kernel, kernel_path)"
   ]
  },
  {
   "cell_type": "markdown",
   "metadata": {},
   "source": [
    "Import kernel from pickle"
   ]
  },
  {
   "cell_type": "code",
   "execution_count": 24,
   "metadata": {},
   "outputs": [],
   "source": [
    "background_mat = from_pickle(kernel_path)"
   ]
  },
  {
   "cell_type": "markdown",
   "metadata": {},
   "source": [
    "## 3. Dataset label mapping to PathMeEntities"
   ]
  },
  {
   "cell_type": "markdown",
   "metadata": {},
   "source": [
    "##### All kernel matrix (background network) row labels for the mapping"
   ]
  },
  {
   "cell_type": "code",
   "execution_count": 25,
   "metadata": {},
   "outputs": [],
   "source": [
    "background_labels = background_mat.rows_labels"
   ]
  },
  {
   "cell_type": "markdown",
   "metadata": {},
   "source": [
    "### 3.1. General mapping"
   ]
  },
  {
   "cell_type": "code",
   "execution_count": 26,
   "metadata": {},
   "outputs": [
    {
     "name": "stdout",
     "output_type": "stream",
     "text": [
      "Global mapping:  (1627) 32.141446068747534%\n"
     ]
    }
   ],
   "source": [
    "all_labels_mapping = get_mapping(dataset2_all_labels, background_labels, title = 'Global mapping: ', mirnas = mirnas_dataset, print_percentage = True)\n"
   ]
  },
  {
   "cell_type": "markdown",
   "metadata": {},
   "source": [
    "### 3.2. Mapping by subsets"
   ]
  },
  {
   "cell_type": "markdown",
   "metadata": {},
   "source": [
    "#### 3.2.1. Mapping by entity type/omic"
   ]
  },
  {
   "cell_type": "code",
   "execution_count": 27,
   "metadata": {
    "scrolled": true
   },
   "outputs": [
    {
     "name": "stdout",
     "output_type": "stream",
     "text": [
      "Mapping by entity type/omic:\n",
      "genes (1619) 32.76664642784861%\n",
      "micrornas (14) 14.000000000000002%\n",
      "metabolite (8) 38.095238095238095%\n",
      "Total (1641) 32.41801659423153% \n",
      "\n"
     ]
    }
   ],
   "source": [
    "mapping_by_entity, _, _ = get_mapping_subsets(dataset2_labels_by_omics, background_labels, 'entity type/omic', mirnas = mirnas_dataset)\n"
   ]
  },
  {
   "cell_type": "code",
   "execution_count": 28,
   "metadata": {},
   "outputs": [],
   "source": [
    "micrornas_mapping = mapping_by_entity['micrornas'][0]"
   ]
  },
  {
   "cell_type": "markdown",
   "metadata": {},
   "source": [
    "#### 3.2.2. Mapping by database"
   ]
  },
  {
   "cell_type": "code",
   "execution_count": 29,
   "metadata": {
    "scrolled": false
   },
   "outputs": [
    {
     "name": "stdout",
     "output_type": "stream",
     "text": [
      "Mapping by database:\n",
      "kegg (1641) 32.41801659423153%\n",
      "Total (1641) 32.41801659423153% \n",
      "\n"
     ]
    }
   ],
   "source": [
    "background_entites_by_db = {db : set(itertools.chain.from_iterable(entities.values())) for db, entities in bg_labels_from_pathmeuniverse_by_db_and_omic.items()}\n",
    "mapping_by_db, _, _ = get_mapping_subsets(background_entites_by_db, dataset2_all_labels, 'database', mirnas = mirnas_dataset, submapping = background_labels, mirnas_mapping = micrornas_mapping, percentage_reference_labels = True)\n"
   ]
  },
  {
   "cell_type": "markdown",
   "metadata": {},
   "source": [
    "#### 3.2.3. Mapping by entity type and database (two dimentions)"
   ]
  },
  {
   "cell_type": "code",
   "execution_count": 30,
   "metadata": {},
   "outputs": [
    {
     "name": "stdout",
     "output_type": "stream",
     "text": [
      "Mapping by Kegg:\n",
      "gene_nodes (1615) 32.68569115563651%\n",
      "mirna_nodes (14) 14.000000000000002%\n",
      "metabolite_nodes (12) 57.14285714285714%\n",
      "bp_nodes (0) 0%\n",
      "Total (1641) 20.4536956250779% \n",
      "\n",
      "Total (1641) 32.41801659423153% \n",
      "\n"
     ]
    }
   ],
   "source": [
    "mapping_by_database_and_entity, total_percentage, total_dimention = get_mapping_two_dim_subsets(bg_labels_from_pathmeuniverse_by_db_and_omic, dataset2_all_labels, relative_statistics = dataset2_labels_by_omics, mirnas_mapping = micrornas_mapping)\n"
   ]
  },
  {
   "cell_type": "markdown",
   "metadata": {},
   "source": [
    "### 3.3. Mapping descriptive view"
   ]
  },
  {
   "cell_type": "code",
   "execution_count": 31,
   "metadata": {
    "scrolled": false
   },
   "outputs": [
    {
     "data": {
      "image/png": "[encoded data removed]",
      "text/plain": [
       "<Figure size 1080x504 with 2 Axes>"
      ]
     },
     "metadata": {
      "needs_background": "light"
     },
     "output_type": "display_data"
    }
   ],
   "source": [
    "count, percentage, db_labels, entity_labels  = get_count_and_labels_from_two_dim_dict(mapping_by_database_and_entity)\n",
    "\n",
    "show_heatmap(count, percentage, db_labels, entity_labels)\n"
   ]
  },
  {
   "cell_type": "markdown",
   "metadata": {},
   "source": [
    "## 4. Cross-validation"
   ]
  },
  {
   "cell_type": "code",
   "execution_count": 32,
   "metadata": {
    "scrolled": true
   },
   "outputs": [],
   "source": [
    "from diffupath.views import box_plot_from_dict, box_plot_from_two_dimension_dict\n",
    "from diffupath.cross_validation import cross_validation_one_x_in"
   ]
  },
  {
   "cell_type": "markdown",
   "metadata": {},
   "source": [
    "### 4.1. Random Scheme"
   ]
  },
  {
   "cell_type": "markdown",
   "metadata": {},
   "source": [
    "#### 4.1.1.  By method"
   ]
  },
  {
   "cell_type": "code",
   "execution_count": 33,
   "metadata": {},
   "outputs": [],
   "source": [
    "mapping_by_entity_sets = {entity:set_ent[0] for entity, set_ent in mapping_by_entity.items()}"
   ]
  },
  {
   "cell_type": "code",
   "execution_count": 37,
   "metadata": {},
   "outputs": [],
   "source": [
    "#del mapping_by_entity['bps']"
   ]
  },
  {
   "cell_type": "code",
   "execution_count": 38,
   "metadata": {},
   "outputs": [],
   "source": [
    "auroc_metrics_by_method = {}\n",
    "auprc_metrics_by_method = {}"
   ]
  },
  {
   "cell_type": "code",
   "execution_count": 39,
   "metadata": {},
   "outputs": [
    {
     "data": {
      "text/plain": [
       "{'genes': {'znf189',\n",
       "  'lipc',\n",
       "  'nudt2',\n",
       "  'mylk',\n",
       "  'hmgcl',\n",
       "  'ldlr',\n",
       "  'agxt',\n",
       "  'arhgef26',\n",
       "  'socs2',\n",
       "  'got1',\n",
       "  'vav3',\n",
       "  'fut8',\n",
       "  'socs7',\n",
       "  'oas3',\n",
       "  'ash2l',\n",
       "  'amotl2',\n",
       "  'gart',\n",
       "  'atp1a1',\n",
       "  'klc1',\n",
       "  'nr1d1',\n",
       "  'alg8',\n",
       "  'sat1',\n",
       "  'phlpp1',\n",
       "  'reck',\n",
       "  'cstf2',\n",
       "  'atf2',\n",
       "  'ywhab',\n",
       "  'nmnat1',\n",
       "  'sort1',\n",
       "  'ccdc6',\n",
       "  'apoc3',\n",
       "  'cyp19a1',\n",
       "  'smg7',\n",
       "  'spp1',\n",
       "  'rassf1',\n",
       "  'akr1d1',\n",
       "  'sema4g',\n",
       "  'znf195',\n",
       "  'enpp1',\n",
       "  'st3gal6',\n",
       "  'flcn',\n",
       "  'micb',\n",
       "  'mlx',\n",
       "  'ctu2',\n",
       "  'znf25',\n",
       "  'atg5',\n",
       "  'gpx7',\n",
       "  'fkrp',\n",
       "  'cpt2',\n",
       "  'il22ra1',\n",
       "  'eif2ak2',\n",
       "  'pgm2',\n",
       "  'ddit3',\n",
       "  'arg2',\n",
       "  'amt',\n",
       "  'znf816',\n",
       "  'mtmr2',\n",
       "  'proc',\n",
       "  'slc9a1',\n",
       "  'znf101',\n",
       "  'tomm40l',\n",
       "  'fgfr3',\n",
       "  'cdc14b',\n",
       "  'alcam',\n",
       "  'strap',\n",
       "  'rras2',\n",
       "  'eprs',\n",
       "  'tnfsf9',\n",
       "  'sik1',\n",
       "  'ephb4',\n",
       "  'il1r2',\n",
       "  'aldh7a1',\n",
       "  'mad2l1',\n",
       "  'auh',\n",
       "  'pcf11',\n",
       "  'lif',\n",
       "  'b4galt6',\n",
       "  'pcbp2',\n",
       "  'znf223',\n",
       "  'dlg1',\n",
       "  'apob',\n",
       "  'foxa3',\n",
       "  'ganab',\n",
       "  'rasd1',\n",
       "  'il1r1',\n",
       "  'lmna',\n",
       "  'cyb5r4',\n",
       "  'hsd3b7',\n",
       "  'vasp',\n",
       "  'ftcd',\n",
       "  'acaa2',\n",
       "  'plxna2',\n",
       "  'cir1',\n",
       "  'arpc5',\n",
       "  'neu4',\n",
       "  'znf721',\n",
       "  'maml2',\n",
       "  'klb',\n",
       "  'klf2',\n",
       "  'fxr2',\n",
       "  'cpb2',\n",
       "  'cyp17a1',\n",
       "  'znf554',\n",
       "  'cyba',\n",
       "  'dbi',\n",
       "  'tfpi',\n",
       "  'cdca5',\n",
       "  'rmi2',\n",
       "  'ggps1',\n",
       "  'c5ar1',\n",
       "  'plk3',\n",
       "  'eef2k',\n",
       "  'hmgcr',\n",
       "  'znf124',\n",
       "  'pcna',\n",
       "  'ada',\n",
       "  'gamt',\n",
       "  'rfk',\n",
       "  'glud1',\n",
       "  'lrp6',\n",
       "  'fzd3',\n",
       "  'prnp',\n",
       "  'nrbf2',\n",
       "  'upf3b',\n",
       "  'bmpr1a',\n",
       "  'mlxipl',\n",
       "  'gtse1',\n",
       "  'cfb',\n",
       "  'tax1bp1',\n",
       "  'cyth3',\n",
       "  'st3gal1',\n",
       "  'umps',\n",
       "  'ears2',\n",
       "  'chuk',\n",
       "  'mpi',\n",
       "  'ppif',\n",
       "  'pros1',\n",
       "  'eif3a',\n",
       "  'ripk2',\n",
       "  'sepsecs',\n",
       "  'cyld',\n",
       "  'cmbl',\n",
       "  'pgf',\n",
       "  'gsk3b',\n",
       "  'smox',\n",
       "  'pck2',\n",
       "  'lrp1',\n",
       "  'anapc11',\n",
       "  'plxnb3',\n",
       "  'pabpc1l',\n",
       "  'mcm5',\n",
       "  'hat1',\n",
       "  'il17b',\n",
       "  'pts',\n",
       "  'lpin1',\n",
       "  'xiap',\n",
       "  'ippk',\n",
       "  'blvrb',\n",
       "  'tp53bp2',\n",
       "  'stk3',\n",
       "  'lcat',\n",
       "  'eif3i',\n",
       "  'tnfrsf1a',\n",
       "  'abcb1',\n",
       "  'eif5',\n",
       "  'aldh2',\n",
       "  'etnk1',\n",
       "  'aqp7',\n",
       "  'prph',\n",
       "  'lats1',\n",
       "  'ak3',\n",
       "  'tfe3',\n",
       "  'hsd11b2',\n",
       "  'cps1',\n",
       "  'aldh1a1',\n",
       "  'bub1b',\n",
       "  'hif1a',\n",
       "  'mylip',\n",
       "  'jag1',\n",
       "  'uvrag',\n",
       "  'ndufb6',\n",
       "  'rragc',\n",
       "  'ndufa5',\n",
       "  'xpot',\n",
       "  'znf107',\n",
       "  'sts',\n",
       "  'ilk',\n",
       "  'pik3ap1',\n",
       "  'ywhah',\n",
       "  'inhbe',\n",
       "  'acyp2',\n",
       "  'fos',\n",
       "  'cdk2',\n",
       "  'parp2',\n",
       "  'p2rx5',\n",
       "  'maged1',\n",
       "  'nedd4',\n",
       "  'prdm4',\n",
       "  'galnt1',\n",
       "  'p4ha2',\n",
       "  'fmo5',\n",
       "  'u2af1l4',\n",
       "  'tpm4',\n",
       "  'traf6',\n",
       "  'kat2b',\n",
       "  'gale',\n",
       "  'pank1',\n",
       "  'ucn',\n",
       "  'hmga2',\n",
       "  'ggh',\n",
       "  'atg3',\n",
       "  'sdc1',\n",
       "  'pde2a',\n",
       "  'znf561',\n",
       "  'nfkbiz',\n",
       "  'znf26',\n",
       "  'thbs1',\n",
       "  'hars2',\n",
       "  'atg13',\n",
       "  'chmp2a',\n",
       "  'hsd17b2',\n",
       "  'prkar1a',\n",
       "  'igf1r',\n",
       "  'sdhc',\n",
       "  'shank2',\n",
       "  'chpf2',\n",
       "  'mtr',\n",
       "  'cyp8b1',\n",
       "  'casc3',\n",
       "  'ap2s1',\n",
       "  'eif2ak4',\n",
       "  'anpep',\n",
       "  'acox2',\n",
       "  'l1cam',\n",
       "  'gls2',\n",
       "  'ppp2r3c',\n",
       "  'rgl1',\n",
       "  'sptlc3',\n",
       "  'reln',\n",
       "  'slc33a1',\n",
       "  'fgg',\n",
       "  'cd58',\n",
       "  'ppia',\n",
       "  'dut',\n",
       "  'entpd4',\n",
       "  'alg10',\n",
       "  'e2f3',\n",
       "  'adcy9',\n",
       "  'nars2',\n",
       "  'ppp1r15a',\n",
       "  'cp',\n",
       "  'tfrc',\n",
       "  'krt19',\n",
       "  'pip4k2c',\n",
       "  'marcks',\n",
       "  'ehhadh',\n",
       "  'f13b',\n",
       "  'pgm3',\n",
       "  'tnfrsf10b',\n",
       "  'znf333',\n",
       "  'pnpla4',\n",
       "  'eif3j',\n",
       "  'aldoc',\n",
       "  'cstf2t',\n",
       "  'allc',\n",
       "  'hnf4a',\n",
       "  'mthfd2l',\n",
       "  'plod2',\n",
       "  'rangap1',\n",
       "  'stt3a',\n",
       "  'adh4',\n",
       "  'bcar1',\n",
       "  'mcm7',\n",
       "  'ak2',\n",
       "  'olah',\n",
       "  'cyp27a1',\n",
       "  'dhrs11',\n",
       "  'rps6ka3',\n",
       "  'eif2ak3',\n",
       "  'gls',\n",
       "  'cacna1h',\n",
       "  'nfkb2',\n",
       "  'tgif1',\n",
       "  'lipt1',\n",
       "  'smarce1',\n",
       "  'a2m',\n",
       "  'rapgef5',\n",
       "  'il12a',\n",
       "  'gcdh',\n",
       "  'ccnb2',\n",
       "  'pi4k2a',\n",
       "  'pmm2',\n",
       "  'aifm2',\n",
       "  'gstm4',\n",
       "  'cers4',\n",
       "  'plch2',\n",
       "  'stam',\n",
       "  'med13',\n",
       "  'orai3',\n",
       "  'sec24c',\n",
       "  'skp2',\n",
       "  'birc7',\n",
       "  'rnps1',\n",
       "  'acp2',\n",
       "  'efna1',\n",
       "  'mmab',\n",
       "  'dnajb1',\n",
       "  'ralb',\n",
       "  'rfxap',\n",
       "  'hmgcs1',\n",
       "  'myl6b',\n",
       "  'klf4',\n",
       "  'calml4',\n",
       "  'clcf1',\n",
       "  'akr1b1',\n",
       "  'foxo4',\n",
       "  'slc3a2',\n",
       "  'sphk1',\n",
       "  'cdkn2b',\n",
       "  'p4ha1',\n",
       "  'erbb3',\n",
       "  'plcd3',\n",
       "  'atp6v0e2',\n",
       "  'adcy7',\n",
       "  'phgdh',\n",
       "  'irak2',\n",
       "  'mcm2',\n",
       "  'btd',\n",
       "  'znf570',\n",
       "  'rdx',\n",
       "  'ctnna1',\n",
       "  'hspa5',\n",
       "  'sirt1',\n",
       "  'ndufc1',\n",
       "  'srsf6',\n",
       "  'afp',\n",
       "  'rnf43',\n",
       "  'nup54',\n",
       "  'znf83',\n",
       "  'c5',\n",
       "  'dars2',\n",
       "  'pde9a',\n",
       "  'hmox1',\n",
       "  'tf',\n",
       "  'glb1',\n",
       "  'slc2a2',\n",
       "  'ppp2cb',\n",
       "  'qdpr',\n",
       "  'sgk1',\n",
       "  'shc1',\n",
       "  'nxt1',\n",
       "  'hdac1',\n",
       "  'glyctk',\n",
       "  'retsat',\n",
       "  'sqle',\n",
       "  'aldh4a1',\n",
       "  'ctsk',\n",
       "  'dusp4',\n",
       "  'rbks',\n",
       "  'gcnt2',\n",
       "  'scp2',\n",
       "  'mdh1',\n",
       "  'naga',\n",
       "  'dkk1',\n",
       "  'sap18',\n",
       "  'adh5',\n",
       "  'mbl2',\n",
       "  'fosl2',\n",
       "  'axl',\n",
       "  'gng4',\n",
       "  'fut1',\n",
       "  'timp1',\n",
       "  'nsf',\n",
       "  'akr1c1',\n",
       "  'erbb2',\n",
       "  'sox4',\n",
       "  'dolk',\n",
       "  'bhmt',\n",
       "  'kdsr',\n",
       "  'gsn',\n",
       "  'srebf1',\n",
       "  'chsy1',\n",
       "  'wasf2',\n",
       "  'wars2',\n",
       "  'prkcz',\n",
       "  'bcl2l1',\n",
       "  'foxa2',\n",
       "  'znf44',\n",
       "  'men1',\n",
       "  'gars',\n",
       "  'tgfbr1',\n",
       "  'shmt1',\n",
       "  'neu1',\n",
       "  'aoc2',\n",
       "  'sqstm1',\n",
       "  'dusp1',\n",
       "  'col4a5',\n",
       "  'rchy1',\n",
       "  'pik3r1',\n",
       "  'cacybp',\n",
       "  'shmt2',\n",
       "  'mknk2',\n",
       "  'il6st',\n",
       "  'muc2',\n",
       "  'sco2',\n",
       "  'ppp1r3c',\n",
       "  'fut6',\n",
       "  'ank2',\n",
       "  'gadd45a',\n",
       "  'il7',\n",
       "  'oas1',\n",
       "  'ttf1',\n",
       "  'msi2',\n",
       "  'pfkp',\n",
       "  'nnt',\n",
       "  'plod3',\n",
       "  'ezr',\n",
       "  'map3k11',\n",
       "  'siva1',\n",
       "  'alad',\n",
       "  'ehd1',\n",
       "  'nup214',\n",
       "  'blvra',\n",
       "  'cd14',\n",
       "  'znf275',\n",
       "  'marcksl1',\n",
       "  'mgst1',\n",
       "  'man1a1',\n",
       "  'atf6',\n",
       "  'chka',\n",
       "  'eif3h',\n",
       "  'trim5',\n",
       "  'gclc',\n",
       "  'smurf2',\n",
       "  'lmnb1',\n",
       "  'myl12b',\n",
       "  'homer1',\n",
       "  'mt1x',\n",
       "  'myh10',\n",
       "  'ap1s1',\n",
       "  'papss1',\n",
       "  'cd36',\n",
       "  'slc7a11',\n",
       "  'slc29a1',\n",
       "  'cdc23',\n",
       "  'nsdhl',\n",
       "  'st6gal1',\n",
       "  'tubb3',\n",
       "  'mdm2',\n",
       "  'adam17',\n",
       "  'maml1',\n",
       "  'fance',\n",
       "  'fn1',\n",
       "  'skp1',\n",
       "  'abat',\n",
       "  'pim1',\n",
       "  'ap2m1',\n",
       "  'gphn',\n",
       "  'calcoco2',\n",
       "  'agpat3',\n",
       "  'ccnh',\n",
       "  'gspt1',\n",
       "  'cyp2u1',\n",
       "  'hdac4',\n",
       "  'pdhx',\n",
       "  'slc27a5',\n",
       "  'chpt1',\n",
       "  'dgat2',\n",
       "  'traf3ip2',\n",
       "  'mdm4',\n",
       "  'ncoa4',\n",
       "  'ranbp2',\n",
       "  'csnk1g3',\n",
       "  'tjp1',\n",
       "  'lmnb2',\n",
       "  'idi1',\n",
       "  'nkd2',\n",
       "  'upp1',\n",
       "  'tnfsf10',\n",
       "  'smarcd2',\n",
       "  'deptor',\n",
       "  'prickle3',\n",
       "  'tfdp1',\n",
       "  'pdhb',\n",
       "  'dffa',\n",
       "  'atm',\n",
       "  'cyp2j2',\n",
       "  'cox10',\n",
       "  'fgb',\n",
       "  'slc1a5',\n",
       "  'onecut1',\n",
       "  'inhbb',\n",
       "  'nudt16',\n",
       "  'chrd',\n",
       "  'hnmt',\n",
       "  'ndufc2',\n",
       "  'xylt2',\n",
       "  'ctnnbip1',\n",
       "  'aldoa',\n",
       "  'nags',\n",
       "  'eda',\n",
       "  'ern1',\n",
       "  'rbbp4',\n",
       "  'akt1',\n",
       "  'cbr1',\n",
       "  'dab2ip',\n",
       "  'tgm2',\n",
       "  'rnd1',\n",
       "  'aars',\n",
       "  'hgsnat',\n",
       "  'fbxo32',\n",
       "  'bnip3',\n",
       "  'brca1',\n",
       "  'sorbs1',\n",
       "  'cbs',\n",
       "  'bik',\n",
       "  'cdc25a',\n",
       "  'cldn11',\n",
       "  'znf780a',\n",
       "  'pemt',\n",
       "  'afmid',\n",
       "  'serpinf2',\n",
       "  'abhd5',\n",
       "  'sdc4',\n",
       "  'cnot8',\n",
       "  'mcl1',\n",
       "  'plekhm2',\n",
       "  'gpx8',\n",
       "  'acyp1',\n",
       "  'pmaip1',\n",
       "  'gnpda1',\n",
       "  'elovl7',\n",
       "  'gsta4',\n",
       "  'csnk2a2',\n",
       "  'ampd3',\n",
       "  'hspa9',\n",
       "  'brcc3',\n",
       "  'pnp',\n",
       "  'gsr',\n",
       "  'hbegf',\n",
       "  'pgm2l1',\n",
       "  'hspa4',\n",
       "  'tnfrsf10a',\n",
       "  'lin37',\n",
       "  'cpeb4',\n",
       "  'brap',\n",
       "  'enosf1',\n",
       "  'bcl10',\n",
       "  'ndufb8',\n",
       "  'pdgfa',\n",
       "  'vmp1',\n",
       "  'fhl2',\n",
       "  'ly96',\n",
       "  'minpp1',\n",
       "  'palb2',\n",
       "  'mthfs',\n",
       "  'dkk4',\n",
       "  'glud2',\n",
       "  'wwtr1',\n",
       "  'ppp3cc',\n",
       "  'f10',\n",
       "  'synj2',\n",
       "  'znf792',\n",
       "  'eno1',\n",
       "  'znf566',\n",
       "  'cdk4',\n",
       "  'aass',\n",
       "  'fancd2',\n",
       "  'galm',\n",
       "  'uckl1',\n",
       "  'rhoq',\n",
       "  'gnai3',\n",
       "  'lpcat1',\n",
       "  'col9a3',\n",
       "  'azi2',\n",
       "  'ca13',\n",
       "  'nfe2l2',\n",
       "  'dnm1l',\n",
       "  'cfi',\n",
       "  'mtap',\n",
       "  'csad',\n",
       "  'plk2',\n",
       "  'ezh1',\n",
       "  'elovl6',\n",
       "  'tuba4a',\n",
       "  'znf823',\n",
       "  'ticam1',\n",
       "  'pign',\n",
       "  'enoph1',\n",
       "  'ccl16',\n",
       "  'hibch',\n",
       "  'kiss1r',\n",
       "  'srgap1',\n",
       "  'fabp1',\n",
       "  'f7',\n",
       "  'aldh3a2',\n",
       "  'slc22a3',\n",
       "  'srsf3',\n",
       "  'pdgfrb',\n",
       "  'fosl1',\n",
       "  'med1',\n",
       "  'bub1',\n",
       "  'jak1',\n",
       "  'pip4k2b',\n",
       "  'tnfsf14',\n",
       "  'dpm2',\n",
       "  'chek1',\n",
       "  'ube2t',\n",
       "  'arpc2',\n",
       "  'sipa1',\n",
       "  'rfng',\n",
       "  'h2afy2',\n",
       "  'sec23b',\n",
       "  'sema3b',\n",
       "  'pah',\n",
       "  'pnpla3',\n",
       "  'eif3d',\n",
       "  'csnk1e',\n",
       "  'pigv',\n",
       "  'znf77',\n",
       "  'gdpd3',\n",
       "  'traf4',\n",
       "  'slc9a3r1',\n",
       "  'maob',\n",
       "  'itpr3',\n",
       "  'acsm3',\n",
       "  'slc44a1',\n",
       "  'akr1c3',\n",
       "  'rpa3',\n",
       "  'hk2',\n",
       "  'cdkn1b',\n",
       "  'amacr',\n",
       "  'ppt2',\n",
       "  'ap1s2',\n",
       "  'socs4',\n",
       "  'marveld2',\n",
       "  'znf516',\n",
       "  'dusp3',\n",
       "  'nfya',\n",
       "  'hkdc1',\n",
       "  'rnf7',\n",
       "  'asgr2',\n",
       "  'plk1',\n",
       "  'aoc3',\n",
       "  'f12',\n",
       "  'csgalnact2',\n",
       "  'znf571',\n",
       "  'pxn',\n",
       "  'gstm3',\n",
       "  'hras',\n",
       "  'ncf2',\n",
       "  'yars',\n",
       "  'znf114',\n",
       "  'gnai2',\n",
       "  'dync1li1',\n",
       "  'tbc1d4',\n",
       "  'znf140',\n",
       "  'fgfr1',\n",
       "  'tusc3',\n",
       "  'fktn',\n",
       "  'map4k4',\n",
       "  'stx3',\n",
       "  'aldh6a1',\n",
       "  'spr',\n",
       "  'flad1',\n",
       "  'cdc6',\n",
       "  'uap1l1',\n",
       "  'bpnt1',\n",
       "  'lpgat1',\n",
       "  'tbk1',\n",
       "  'fbxo25',\n",
       "  'acadsb',\n",
       "  'pik3cb',\n",
       "  'hes4',\n",
       "  'agt',\n",
       "  'plod1',\n",
       "  'shank3',\n",
       "  'fst',\n",
       "  'prkab2',\n",
       "  'smurf1',\n",
       "  'topbp1',\n",
       "  'sec13',\n",
       "  'pc',\n",
       "  'gyg1',\n",
       "  'gmppb',\n",
       "  'tars',\n",
       "  'creb3l2',\n",
       "  'mica',\n",
       "  'eno2',\n",
       "  'gpc3',\n",
       "  'cth',\n",
       "  'soat2',\n",
       "  'ssu72',\n",
       "  'znf606',\n",
       "  'rad51c',\n",
       "  'agpat2',\n",
       "  'ctnnb1',\n",
       "  'aldh18a1',\n",
       "  'pip5k1b',\n",
       "  'uros',\n",
       "  'fer',\n",
       "  'psph',\n",
       "  'hipk1',\n",
       "  'mocs2',\n",
       "  'fbxo5',\n",
       "  'cul4a',\n",
       "  'slc1a2',\n",
       "  'tubb',\n",
       "  'cat',\n",
       "  'il10rb',\n",
       "  'braf',\n",
       "  'tbc1d7',\n",
       "  'synj1',\n",
       "  'pomgnt1',\n",
       "  'btg1',\n",
       "  'bcat1',\n",
       "  'csnk2a1',\n",
       "  'relb',\n",
       "  'il11',\n",
       "  'dnmt1',\n",
       "  'lpar6',\n",
       "  'med13l',\n",
       "  'rhog',\n",
       "  'ndufb2',\n",
       "  'pdia3',\n",
       "  'nudt21',\n",
       "  'lss',\n",
       "  'tspo',\n",
       "  'csnk1d',\n",
       "  'slc44a4',\n",
       "  'atox1',\n",
       "  'wee1',\n",
       "  'atg16l1',\n",
       "  'b3gnt3',\n",
       "  'bnip1',\n",
       "  'shc2',\n",
       "  'cd55',\n",
       "  'rmi1',\n",
       "  'adss',\n",
       "  'tubb1',\n",
       "  'dnmt3b',\n",
       "  'il1rn',\n",
       "  'fzd4',\n",
       "  'dck',\n",
       "  'cdkn2c',\n",
       "  'b4galt3',\n",
       "  'cx3cl1',\n",
       "  'serpinb9',\n",
       "  'ndufa9',\n",
       "  'hamp',\n",
       "  'dbt',\n",
       "  'hoga1',\n",
       "  'myc',\n",
       "  'foxp1',\n",
       "  'eif4a2',\n",
       "  'foxm1',\n",
       "  'arg1',\n",
       "  'tff1',\n",
       "  'serpinf1',\n",
       "  'rap1a',\n",
       "  'apoa5',\n",
       "  'ppa2',\n",
       "  'aip',\n",
       "  'csf3r',\n",
       "  'tgif2',\n",
       "  'aox1',\n",
       "  'cbr4',\n",
       "  'akt1s1',\n",
       "  'slc44a5',\n",
       "  'ifih1',\n",
       "  'nat8',\n",
       "  'mlh1',\n",
       "  'dgkd',\n",
       "  'taldo1',\n",
       "  'sema3g',\n",
       "  'epha2',\n",
       "  'ebp',\n",
       "  'phospho2',\n",
       "  'slc2a1',\n",
       "  'daam1',\n",
       "  'rcan1',\n",
       "  'vdac3',\n",
       "  'f5',\n",
       "  'pafah1b1',\n",
       "  'eif2b1',\n",
       "  'flna',\n",
       "  'znf627',\n",
       "  'lats2',\n",
       "  'mgat4a',\n",
       "  'il17rb',\n",
       "  'znf274',\n",
       "  'h2afv',\n",
       "  'hadh',\n",
       "  'stx1a',\n",
       "  'gpam',\n",
       "  'irak4',\n",
       "  'epas1',\n",
       "  'atg4a',\n",
       "  'serpine1',\n",
       "  'pdgfb',\n",
       "  'pycard',\n",
       "  'hes6',\n",
       "  'ids',\n",
       "  'btg3',\n",
       "  'ndufs1',\n",
       "  'hmgb1',\n",
       "  'wasf3',\n",
       "  'cdc45',\n",
       "  'tnfrsf11a',\n",
       "  'ogt',\n",
       "  'cdc27',\n",
       "  'scd',\n",
       "  'pcyt1b',\n",
       "  'rictor',\n",
       "  'pgk1',\n",
       "  'hbs1l',\n",
       "  'nfkbib',\n",
       "  'cyp24a1',\n",
       "  'esam',\n",
       "  'kynu',\n",
       "  'ephx2',\n",
       "  'coq5',\n",
       "  'dapk3',\n",
       "  'abca1',\n",
       "  'setd7',\n",
       "  'h2afz',\n",
       "  'stmn1',\n",
       "  'slc44a3',\n",
       "  'gclm',\n",
       "  'srsf5',\n",
       "  'pias3',\n",
       "  'iars2',\n",
       "  'fdft1',\n",
       "  'mthfd1l',\n",
       "  'spata13',\n",
       "  'trip10',\n",
       "  'rras',\n",
       "  'ndufa8',\n",
       "  'pin1',\n",
       "  'fahd1',\n",
       "  'actg1',\n",
       "  'gtf2ird1',\n",
       "  'odc1',\n",
       "  'map3k14',\n",
       "  'idh2',\n",
       "  'ugt2a3',\n",
       "  'hars',\n",
       "  'hmmr',\n",
       "  'il17d',\n",
       "  'pygl',\n",
       "  'enpp2',\n",
       "  'gyg2',\n",
       "  'znf354a',\n",
       "  'dusp16',\n",
       "  'ugt2b4',\n",
       "  'pvr',\n",
       "  'nme4',\n",
       "  'cycs',\n",
       "  'rbbp8',\n",
       "  'alg14',\n",
       "  'trpc1',\n",
       "  'ahr',\n",
       "  'idh1',\n",
       "  'npas2',\n",
       "  'serpind1',\n",
       "  'eif4ebp2',\n",
       "  'smarca4',\n",
       "  'tars2',\n",
       "  'socs1',\n",
       "  'fanci',\n",
       "  'nfyb',\n",
       "  'cdk1',\n",
       "  'ppargc1a',\n",
       "  'wipi1',\n",
       "  'acvr2b',\n",
       "  'hgd',\n",
       "  'impa1',\n",
       "  'pank4',\n",
       "  'bnip3l',\n",
       "  'pygb',\n",
       "  'siah1',\n",
       "  'gadd45b',\n",
       "  'bckdhb',\n",
       "  'axin1',\n",
       "  'pcyox1',\n",
       "  'map3k8',\n",
       "  'chpf',\n",
       "  'pigf',\n",
       "  'vamp4',\n",
       "  'ccr6',\n",
       "  'atp6v1d',\n",
       "  'hexa',\n",
       "  'mcm4',\n",
       "  'gmppa',\n",
       "  'ndufa7',\n",
       "  'znf180',\n",
       "  'dusp6',\n",
       "  'cyth2',\n",
       "  'nkd1',\n",
       "  'tgfb1',\n",
       "  'sh2b3',\n",
       "  'sat2',\n",
       "  'bst2',\n",
       "  'gk',\n",
       "  'chmp5',\n",
       "  'dgat1',\n",
       "  'apobec3g',\n",
       "  'elmo3',\n",
       "  'pak1',\n",
       "  'znf764',\n",
       "  'ndufb3',\n",
       "  'neo1',\n",
       "  'isyna1',\n",
       "  'acvr2a',\n",
       "  'cyp2s1',\n",
       "  'mars',\n",
       "  'aldh5a1',\n",
       "  'hexb',\n",
       "  'grb10',\n",
       "  'cldn4',\n",
       "  'tbc1d15',\n",
       "  'insr',\n",
       "  'b3gnt2',\n",
       "  'vars',\n",
       "  'spata2l',\n",
       "  'dusp9',\n",
       "  'tubb2b',\n",
       "  'ablim3',\n",
       "  'fnta',\n",
       "  'ei24',\n",
       "  'wdr82',\n",
       "  'cited2',\n",
       "  'rasa2',\n",
       "  'ndufa11',\n",
       "  'bambi',\n",
       "  'preb',\n",
       "  'cdk5',\n",
       "  'dhdds',\n",
       "  'agpat1',\n",
       "  'dock4',\n",
       "  'osmr',\n",
       "  'lifr',\n",
       "  'il4r',\n",
       "  'comp',\n",
       "  'cd63',\n",
       "  'acadm',\n",
       "  'ddb2',\n",
       "  'bhlhe40',\n",
       "  'dera',\n",
       "  'svip',\n",
       "  'il6r',\n",
       "  'cda',\n",
       "  'lclat1',\n",
       "  'galt',\n",
       "  'tyms',\n",
       "  'bet1',\n",
       "  'vcl',\n",
       "  'cry1',\n",
       "  'cbl',\n",
       "  'ppt1',\n",
       "  'diaph3',\n",
       "  'prlr',\n",
       "  'pfkfb4',\n",
       "  'mgst2',\n",
       "  'asap2',\n",
       "  'sult2a1',\n",
       "  'eif4ebp1',\n",
       "  'pard3',\n",
       "  'cgnl1',\n",
       "  'anapc10',\n",
       "  'ahcyl2',\n",
       "  'pmvk',\n",
       "  'mmachc',\n",
       "  'aldh1l2',\n",
       "  'ppara',\n",
       "  'adi1',\n",
       "  'icmt',\n",
       "  'map3k13',\n",
       "  'fth1',\n",
       "  'b4galnt1',\n",
       "  'acy1',\n",
       "  'znf184',\n",
       "  'ndufb1',\n",
       "  'sdhd',\n",
       "  'tfg',\n",
       "  'optn',\n",
       "  'hyal1',\n",
       "  'dhrs3',\n",
       "  'frat1',\n",
       "  'znf559',\n",
       "  'mtfmt',\n",
       "  'rab11fip5',\n",
       "  'atp2b1',\n",
       "  'pdia4',\n",
       "  'lrp5',\n",
       "  'cltb',\n",
       "  'trpv1',\n",
       "  'zeb1',\n",
       "  'znf268',\n",
       "  'gbe1',\n",
       "  ...},\n",
       " 'micrornas': {'mir106b',\n",
       "  'mir15a',\n",
       "  'mir17',\n",
       "  'mir183',\n",
       "  'mir193b',\n",
       "  'mir21',\n",
       "  'mir222',\n",
       "  'mir30b',\n",
       "  'mir30d',\n",
       "  'mir30e',\n",
       "  'mir31',\n",
       "  'mir32',\n",
       "  'mir331',\n",
       "  'mir34a'},\n",
       " 'metabolite': {'adenine',\n",
       "  'adp',\n",
       "  'choline',\n",
       "  'glutathione',\n",
       "  'glycine',\n",
       "  'inosine',\n",
       "  'nadph',\n",
       "  'tyramine'}}"
      ]
     },
     "execution_count": 39,
     "metadata": {},
     "output_type": "execute_result"
    }
   ],
   "source": [
    "mapping_by_entity_sets"
   ]
  },
  {
   "cell_type": "code",
   "execution_count": 40,
   "metadata": {},
   "outputs": [
    {
     "name": "stderr",
     "output_type": "stream",
     "text": [
      "  0%|          | 0/1 [00:00<?, ?it/s]\n",
      "  0%|          | 0/3 [00:00<?, ?it/s]\u001b[A\n",
      " 33%|███▎      | 1/3 [00:06<00:12,  6.22s/it]\u001b[A\n",
      " 67%|██████▋   | 2/3 [00:12<00:06,  6.16s/it]\u001b[A\n",
      "100%|██████████| 1/1 [00:17<00:00, 17.98s/it]\u001b[A\n"
     ]
    }
   ],
   "source": [
    "auroc_metrics_by_method['raw'], auprc_metrics_by_method['raw'], scores_raw = cross_validation_one_x_in(mapping_by_entity_sets, background_mat, k = 1, missing_value = 0)\n"
   ]
  },
  {
   "cell_type": "code",
   "execution_count": 41,
   "metadata": {},
   "outputs": [
    {
     "name": "stderr",
     "output_type": "stream",
     "text": [
      "  0%|          | 0/1 [00:00<?, ?it/s]\n",
      "  0%|          | 0/3 [00:00<?, ?it/s]\u001b[A\n",
      " 33%|███▎      | 1/3 [00:05<00:11,  5.79s/it]\u001b[A\n",
      " 67%|██████▋   | 2/3 [00:11<00:05,  5.80s/it]\u001b[A\n",
      "100%|██████████| 1/1 [00:17<00:00, 17.80s/it]\u001b[A\n"
     ]
    }
   ],
   "source": [
    "auroc_metrics_by_method['ml'], auprc_metrics_by_method['ml'], scores_ml = cross_validation_one_x_in(mapping_by_entity_sets, background_mat, k = 1, rows_unlabeled = True)\n"
   ]
  },
  {
   "cell_type": "code",
   "execution_count": 42,
   "metadata": {},
   "outputs": [
    {
     "name": "stderr",
     "output_type": "stream",
     "text": [
      "  0%|          | 0/1 [00:00<?, ?it/s]\n",
      "  0%|          | 0/3 [00:00<?, ?it/s]\u001b[A\n",
      " 33%|███▎      | 1/3 [00:08<00:17,  8.81s/it]\u001b[A\n",
      " 67%|██████▋   | 2/3 [00:17<00:08,  8.75s/it]\u001b[A\n",
      "100%|██████████| 1/1 [00:26<00:00, 26.65s/it]\u001b[A\n"
     ]
    }
   ],
   "source": [
    "auroc_metrics_by_method['z /ml'], auprc_metrics_by_method['z /ml'], scores_z = cross_validation_one_x_in(mapping_by_entity_sets, background_mat, k = 1, rows_unlabeled = True, z = True)\n"
   ]
  },
  {
   "cell_type": "code",
   "execution_count": 43,
   "metadata": {},
   "outputs": [
    {
     "name": "stderr",
     "output_type": "stream",
     "text": [
      "  0%|          | 0/1 [00:00<?, ?it/s]\n",
      "  0%|          | 0/3 [00:00<?, ?it/s]\u001b[A\n",
      " 33%|███▎      | 1/3 [00:08<00:17,  8.74s/it]\u001b[A\n",
      " 67%|██████▋   | 2/3 [00:17<00:08,  8.86s/it]\u001b[A\n",
      "100%|██████████| 1/1 [00:27<00:00, 27.01s/it]\u001b[A\n"
     ]
    }
   ],
   "source": [
    "auroc_metrics_by_method['z /raw'], auprc_metrics_by_method['z /raw'], scores_z = cross_validation_one_x_in(mapping_by_entity_sets, background_mat, k = 1, rows_unlabeled = False, z = True)\n"
   ]
  },
  {
   "cell_type": "code",
   "execution_count": 44,
   "metadata": {},
   "outputs": [],
   "source": [
    "def subvert_two_dim_dict(d):\n",
    "    d2 = defaultdict(dict)\n",
    "    for k1, v1 in d.items():\n",
    "        for k2, v2 in v1.items():\n",
    "            d2[k2][k1] = v2\n",
    "\n",
    "    return dict(d2)"
   ]
  },
  {
   "cell_type": "code",
   "execution_count": 45,
   "metadata": {},
   "outputs": [],
   "source": [
    "s_auroc_metrics_by_method = subvert_two_dim_dict(auroc_metrics_by_method)\n",
    "s_auprc_metrics_by_method = subvert_two_dim_dict(auprc_metrics_by_method)"
   ]
  },
  {
   "cell_type": "code",
   "execution_count": 104,
   "metadata": {},
   "outputs": [
    {
     "data": {
      "text/html": [
       "<iframe id=\"igraph\" scrolling=\"no\" style=\"border:none;\" seamless=\"seamless\" src=\"https://plot.ly/~jomalla/90.embed\" height=\"525px\" width=\"100%\"></iframe>"
      ],
      "text/plain": [
       "<chart_studio.tools.PlotlyDisplay object>"
      ]
     },
     "execution_count": 104,
     "metadata": {},
     "output_type": "execute_result"
    }
   ],
   "source": [
    "box_plot_from_two_dimension_dict(s_auroc_metrics_by_method['genes'], 'Genes', 'AUROC')"
   ]
  },
  {
   "cell_type": "code",
   "execution_count": 105,
   "metadata": {},
   "outputs": [
    {
     "data": {
      "text/html": [
       "<iframe id=\"igraph\" scrolling=\"no\" style=\"border:none;\" seamless=\"seamless\" src=\"https://plot.ly/~jomalla/92.embed\" height=\"525px\" width=\"100%\"></iframe>"
      ],
      "text/plain": [
       "<chart_studio.tools.PlotlyDisplay object>"
      ]
     },
     "execution_count": 105,
     "metadata": {},
     "output_type": "execute_result"
    }
   ],
   "source": [
    "box_plot_from_two_dimension_dictr(s_auroc_metrics_by_method['metabolite'], 'Metabolites', 'AUROC')"
   ]
  },
  {
   "cell_type": "code",
   "execution_count": 109,
   "metadata": {},
   "outputs": [
    {
     "data": {
      "text/html": [
       "<iframe id=\"igraph\" scrolling=\"no\" style=\"border:none;\" seamless=\"seamless\" src=\"https://plot.ly/~jomalla/100.embed\" height=\"525px\" width=\"100%\"></iframe>"
      ],
      "text/plain": [
       "<chart_studio.tools.PlotlyDisplay object>"
      ]
     },
     "execution_count": 109,
     "metadata": {},
     "output_type": "execute_result"
    }
   ],
   "source": [
    "box_plot_from_two_dimension_dictr(s_auroc_metrics_by_method['micrornas'], 'Mirnas', 'AUROC')"
   ]
  },
  {
   "cell_type": "code",
   "execution_count": 118,
   "metadata": {},
   "outputs": [
    {
     "data": {
      "text/html": [
       "<iframe id=\"igraph\" scrolling=\"no\" style=\"border:none;\" seamless=\"seamless\" src=\"https://plot.ly/~jomalla/108.embed\" height=\"525px\" width=\"100%\"></iframe>"
      ],
      "text/plain": [
       "<chart_studio.tools.PlotlyDisplay object>"
      ]
     },
     "execution_count": 118,
     "metadata": {},
     "output_type": "execute_result"
    }
   ],
   "source": [
    "box_plot_from_two_dimension_dictr(s_auprc_metrics_by_method['micrornas'], 'Mirnas', 'AUPRC')"
   ]
  },
  {
   "cell_type": "code",
   "execution_count": 120,
   "metadata": {},
   "outputs": [
    {
     "data": {
      "text/html": [
       "<iframe id=\"igraph\" scrolling=\"no\" style=\"border:none;\" seamless=\"seamless\" src=\"https://plot.ly/~jomalla/110.embed\" height=\"525px\" width=\"100%\"></iframe>"
      ],
      "text/plain": [
       "<chart_studio.tools.PlotlyDisplay object>"
      ]
     },
     "execution_count": 120,
     "metadata": {},
     "output_type": "execute_result"
    }
   ],
   "source": [
    "box_plot_from_two_dimension_dictr(s_auprc_metrics_by_method['metabolite'], 'Metabolite', 'AUPRC')"
   ]
  },
  {
   "cell_type": "code",
   "execution_count": 121,
   "metadata": {},
   "outputs": [
    {
     "data": {
      "text/html": [
       "<iframe id=\"igraph\" scrolling=\"no\" style=\"border:none;\" seamless=\"seamless\" src=\"https://plot.ly/~jomalla/112.embed\" height=\"525px\" width=\"100%\"></iframe>"
      ],
      "text/plain": [
       "<chart_studio.tools.PlotlyDisplay object>"
      ]
     },
     "execution_count": 121,
     "metadata": {},
     "output_type": "execute_result"
    }
   ],
   "source": [
    "box_plot_from_two_dimension_dictr(s_auprc_metrics_by_method['genes'], 'Genes', 'AUPRC')"
   ]
  },
  {
   "cell_type": "code",
   "execution_count": null,
   "metadata": {},
   "outputs": [],
   "source": [
    "scores_genes_micrornas = scores_raw['genes']['micrornas'][0].order_rows(reverse=True, col_ref_idx = 0)\n",
    "scores_micrornas_genes = scores_raw['micrornas']['genes'][0].order_rows(reverse=True, col_ref_idx = 1)\n",
    "scores_micrornas_metabolite = scores_raw['micrornas']['metabolite'][0].order_rows(reverse=True, col_ref_idx = 1)"
   ]
  },
  {
   "cell_type": "code",
   "execution_count": null,
   "metadata": {
    "scrolled": true
   },
   "outputs": [],
   "source": [
    "print(scores_genes_micrornas)"
   ]
  },
  {
   "cell_type": "code",
   "execution_count": null,
   "metadata": {},
   "outputs": [],
   "source": [
    "print(scores_micrornas_genes)"
   ]
  },
  {
   "cell_type": "code",
   "execution_count": null,
   "metadata": {},
   "outputs": [],
   "source": [
    "box_plot_from_dict(auroc_metrics_by_method, 'Random Cross Validation', 'Method type', 'AUROC')"
   ]
  },
  {
   "cell_type": "code",
   "execution_count": null,
   "metadata": {
    "scrolled": false
   },
   "outputs": [],
   "source": [
    "box_plot_from_dict(auprc_metrics_by_method, 'Random Cross Validation', 'Method type', 'AUROC')"
   ]
  },
  {
   "cell_type": "markdown",
   "metadata": {},
   "source": [
    "#### 5.1.2.  By entity"
   ]
  },
  {
   "cell_type": "code",
   "execution_count": null,
   "metadata": {},
   "outputs": [],
   "source": [
    "auroc_metrics_by_entity, auprc_metrics_by_entity = cross_validation_by_subset_same_diff_input(mapping_by_entity, background_mat, k = 10)\n"
   ]
  },
  {
   "cell_type": "code",
   "execution_count": null,
   "metadata": {
    "scrolled": false
   },
   "outputs": [],
   "source": [
    "box_plot_from_dict(auroc_metrics_by_entity, 'Random Cross Validation', 'Entity type', 'AUROC')\n"
   ]
  },
  {
   "cell_type": "code",
   "execution_count": null,
   "metadata": {
    "scrolled": false
   },
   "outputs": [],
   "source": [
    "box_plot_from_dict(auprc_metrics_by_entity, 'Random Cross Validation', 'Entity type', 'AUPRC')"
   ]
  },
  {
   "cell_type": "markdown",
   "metadata": {},
   "source": [
    "### 5.2. Leave Two Omics Out (LTOO)"
   ]
  },
  {
   "cell_type": "code",
   "execution_count": null,
   "metadata": {},
   "outputs": [],
   "source": [
    "mapping_by_db"
   ]
  },
  {
   "cell_type": "code",
   "execution_count": null,
   "metadata": {},
   "outputs": [],
   "source": [
    "auroc_metrics_by_db, auprc_metrics_by_db = cross_validation_one_x_in_disjoint(mapping_by_db,\n",
    "                                                                              disjoint = True,\n",
    "                                                                              background_mat, \n",
    "                                                                              k = 1)"
   ]
  },
  {
   "cell_type": "code",
   "execution_count": null,
   "metadata": {},
   "outputs": [],
   "source": [
    "box_plot_from_dict(auroc_metrics_by_entity, 'Leave Two DB Out Validation', 'DB', 'AUROC')"
   ]
  }
 ],
 "metadata": {
  "kernelspec": {
   "display_name": "Python 3",
   "language": "python",
   "name": "python3"
  },
  "language_info": {
   "codemirror_mode": {
    "name": "ipython",
    "version": 3
   },
   "file_extension": ".py",
   "mimetype": "text/x-python",
   "name": "python",
   "nbconvert_exporter": "python",
   "pygments_lexer": "ipython3",
   "version": "3.7.3"
  }
 },
 "nbformat": 4,
 "nbformat_minor": 2
}
