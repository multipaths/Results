{
 "cells": [
  {
   "cell_type": "markdown",
   "metadata": {},
   "source": [
    "# Validation Set 1: diffuPy + PathMe / Kegg "
   ]
  },
  {
   "cell_type": "code",
   "execution_count": 1,
   "metadata": {},
   "outputs": [],
   "source": [
    "import os\n",
    "import itertools\n",
    "\n",
    "import time\n",
    "\n",
    "dir_path = os.path.dirname(os.path.realpath('__file__'))"
   ]
  },
  {
   "cell_type": "code",
   "execution_count": 2,
   "metadata": {},
   "outputs": [],
   "source": [
    "from openpyxl import load_workbook\n",
    "from collections import defaultdict\n",
    "import networkx as nx"
   ]
  },
  {
   "cell_type": "code",
   "execution_count": 3,
   "metadata": {},
   "outputs": [
    {
     "data": {
      "text/plain": [
       "'0.13.2'"
      ]
     },
     "execution_count": 3,
     "metadata": {},
     "output_type": "execute_result"
    }
   ],
   "source": [
    "import pybel\n",
    "import pybel_tools as pbt\n",
    "\n",
    "from pybel import BELGraph\n",
    "from pybel.constants import RELATION, ANNOTATIONS\n",
    "from pybel.dsl import Abundance, BiologicalProcess, CentralDogma, ListAbundance, Reaction\n",
    "from pybel.struct import get_subgraph_by_annotation_value\n",
    "from pybel.struct.summary import count_functions\n",
    "\n",
    "pybel.get_version()"
   ]
  },
  {
   "cell_type": "code",
   "execution_count": 4,
   "metadata": {},
   "outputs": [],
   "source": [
    "from pathme.constants import REACTOME_BEL, KEGG_BEL, WIKIPATHWAYS_BEL, PATHME_DIR\n",
    "from pathme.export_utils import to_gml"
   ]
  },
  {
   "cell_type": "code",
   "execution_count": 5,
   "metadata": {},
   "outputs": [],
   "source": [
    "import diffupy\n",
    "\n",
    "from diffupy.process_input import generate_categoric_input_from_labels"
   ]
  },
  {
   "cell_type": "code",
   "execution_count": 6,
   "metadata": {},
   "outputs": [],
   "source": [
    "import diffupath\n",
    "\n",
    "from diffupath.validation_datasets_parsers import parse_set1\n",
    "from diffupath.input_mapping import get_mapping, get_mapping_subsets, get_mapping_two_dim_subsets\n",
    "from diffupath.utils import print_dict_dimensions, get_labels_set_from_dict, reduce_dict_dimension\n",
    "from diffupath.views import show_heatmap"
   ]
  },
  {
   "cell_type": "code",
   "execution_count": 7,
   "metadata": {},
   "outputs": [
    {
     "name": "stdout",
     "output_type": "stream",
     "text": [
      "Importing Jupyter notebook from global_database_comparison.ipynb\n"
     ]
    }
   ],
   "source": [
    "# TODO\n",
    "import nbimporter\n",
    "from global_database_comparison import get_set_database, calculate_database_sets_as_dict"
   ]
  },
  {
   "cell_type": "markdown",
   "metadata": {},
   "source": [
    "## 1. Load Data Set 1: Input Scores"
   ]
  },
  {
   "cell_type": "code",
   "execution_count": 8,
   "metadata": {
    "scrolled": true
   },
   "outputs": [],
   "source": [
    "dataset1_labels_by_omics = parse_set1(os.path.join(dir_path, 'validation', 'set1.xlsx'))"
   ]
  },
  {
   "cell_type": "code",
   "execution_count": 9,
   "metadata": {
    "scrolled": false
   },
   "outputs": [
    {
     "name": "stdout",
     "output_type": "stream",
     "text": [
      "Dataset1 imported labels:\n",
      "Total number of genes: 4941  \n",
      "Total number of micrornas: 100  \n",
      "Total number of metabolite: 21  \n",
      "Total: 5062 \n"
     ]
    }
   ],
   "source": [
    "print_dict_dimensions(dataset1_labels_by_omics, 'Dataset1 imported labels:')"
   ]
  },
  {
   "cell_type": "code",
   "execution_count": 10,
   "metadata": {
    "scrolled": true
   },
   "outputs": [],
   "source": [
    "dataset1_all_labels = get_labels_set_from_dict(dataset1_labels_by_omics)"
   ]
  },
  {
   "cell_type": "markdown",
   "metadata": {},
   "source": [
    "## 2. Load Backrgound Graph Universe"
   ]
  },
  {
   "cell_type": "markdown",
   "metadata": {},
   "source": [
    "### 2.1. PathMeUniverse import"
   ]
  },
  {
   "cell_type": "code",
   "execution_count": 11,
   "metadata": {
    "scrolled": true
   },
   "outputs": [],
   "source": [
    "pathme_universe_graph_no_flatten = pybel.from_pickle(os.path.join(PATHME_DIR, 'universe', 'pathme_universe_bel_graph_no_flatten.bel.pickle'))\n"
   ]
  },
  {
   "cell_type": "code",
   "execution_count": 12,
   "metadata": {
    "scrolled": true
   },
   "outputs": [
    {
     "name": "stdout",
     "output_type": "stream",
     "text": [
      "PathMe Universe v1.0.0\n",
      "Number of Nodes: 48643\n",
      "Number of Edges: 104713\n",
      "Number of Citations: 7696\n",
      "Number of Authors: 0\n",
      "Network Density: 4.43E-05\n",
      "Number of Components: 6860\n",
      "Number of Warnings: 0\n"
     ]
    }
   ],
   "source": [
    "pathme_universe_graph_no_flatten.summarize()"
   ]
  },
  {
   "cell_type": "markdown",
   "metadata": {},
   "source": [
    "##### Get KEGG subgraph"
   ]
  },
  {
   "cell_type": "code",
   "execution_count": 13,
   "metadata": {
    "scrolled": true
   },
   "outputs": [
    {
     "name": "stdout",
     "output_type": "stream",
     "text": [
      "None vNone\n",
      "Number of Nodes: 13162\n",
      "Number of Edges: 35122\n",
      "Number of Citations: 2\n",
      "Number of Authors: 0\n",
      "Network Density: 2.03E-04\n",
      "Number of Components: 65\n",
      "Number of Warnings: 0\n"
     ]
    },
    {
     "data": {
      "text/plain": [
       "Counter({'Composite': 1596,\n",
       "         'Complex': 406,\n",
       "         'Gene': 6149,\n",
       "         'Abundance': 1762,\n",
       "         'Reaction': 3137,\n",
       "         'BiologicalProcess': 112})"
      ]
     },
     "execution_count": 13,
     "metadata": {},
     "output_type": "execute_result"
    }
   ],
   "source": [
    "kegg_pathme_graph_no_flatten = get_subgraph_by_annotation_value(pathme_universe_graph_no_flatten, 'database', 'kegg')\n",
    "kegg_pathme_graph_no_flatten.summarize()\n",
    "count_functions(kegg_pathme_graph_no_flatten)"
   ]
  },
  {
   "cell_type": "markdown",
   "metadata": {},
   "source": [
    "##### Check isolates / Unconnected nodes"
   ]
  },
  {
   "cell_type": "code",
   "execution_count": 14,
   "metadata": {},
   "outputs": [
    {
     "data": {
      "text/plain": [
       "6426"
      ]
     },
     "execution_count": 14,
     "metadata": {},
     "output_type": "execute_result"
    }
   ],
   "source": [
    "nx.number_of_isolates(pathme_universe_graph_no_flatten)"
   ]
  },
  {
   "cell_type": "code",
   "execution_count": 15,
   "metadata": {},
   "outputs": [],
   "source": [
    "pathme_universe_graph_no_flatten.remove_nodes_from({\n",
    "    node\n",
    "    for node in nx.isolates(pathme_universe_graph_no_flatten)\n",
    "})"
   ]
  },
  {
   "cell_type": "code",
   "execution_count": 16,
   "metadata": {},
   "outputs": [
    {
     "data": {
      "text/plain": [
       "0"
      ]
     },
     "execution_count": 16,
     "metadata": {},
     "output_type": "execute_result"
    }
   ],
   "source": [
    "nx.number_of_isolates(pathme_universe_graph_no_flatten)"
   ]
  },
  {
   "cell_type": "markdown",
   "metadata": {},
   "source": [
    "### 2.2. Get labels subsets by entity type (omic) and database"
   ]
  },
  {
   "cell_type": "markdown",
   "metadata": {},
   "source": [
    "##### PathMe package subsets"
   ]
  },
  {
   "cell_type": "code",
   "execution_count": 17,
   "metadata": {},
   "outputs": [],
   "source": [
    "def get_labels_by_db_and_omic_from_pathme(databases):\n",
    "    db_entites = defaultdict(dict)\n",
    "    entites_db = defaultdict(lambda: defaultdict(set))\n",
    "    \n",
    "    for db in databases:\n",
    "        genes, mirna, metabolites, bps = get_set_database(db)\n",
    "        db_entites[db] = {'genes': genes, 'mirna': mirna, 'metabolites': metabolites, 'bps': bps}\n",
    "        \n",
    "        for entity_type, entities in db_entites[db].items():\n",
    "            entites_db[entity_type][db] = entities\n",
    "            \n",
    "    return db_entites, entites_db"
   ]
  },
  {
   "cell_type": "code",
   "execution_count": 18,
   "metadata": {},
   "outputs": [
    {
     "name": "stdout",
     "output_type": "stream",
     "text": [
      "Entities in PathMe package :\n",
      "Total number of reactome: genes(8653), mirna(13), metabolites(2712), bps(2219),  \n",
      "Total number of kegg: genes(7656), mirna(149), metabolites(4421), bps(418),  \n",
      "Total number of wikipathways: genes(3361), mirna(91), metabolites(657), bps(135),  \n",
      "Total: 30485 \n"
     ]
    }
   ],
   "source": [
    "bg_labels_from_pathme_by_db_and_omic, bg_labels_from_pathme_by_omic_and_db = get_labels_by_db_and_omic_from_pathme(['reactome', 'kegg', 'wikipathways'])\n",
    "\n",
    "print_dict_dimensions(bg_labels_from_pathme_by_db_and_omic, 'Entities in PathMe package :')\n",
    "\n"
   ]
  },
  {
   "cell_type": "code",
   "execution_count": 19,
   "metadata": {},
   "outputs": [],
   "source": [
    "bg_labels_from_pathme_by_omic = reduce_dict_dimension(bg_labels_from_pathme_by_omic_and_db)\n",
    "mirnas = bg_labels_from_pathme_by_omic['mirna']"
   ]
  },
  {
   "cell_type": "markdown",
   "metadata": {},
   "source": [
    "#####  PathMeUniverse Graph Subsets"
   ]
  },
  {
   "cell_type": "code",
   "execution_count": 20,
   "metadata": {
    "scrolled": true
   },
   "outputs": [],
   "source": [
    "def get_labels_by_db_and_omic_from_graph(graph):\n",
    "    \n",
    "    db_subsets = defaultdict(set)\n",
    "    db_entites = defaultdict(dict)\n",
    "    entites_db = defaultdict(dict)\n",
    "\n",
    "    #entity_type_map = {'Gene':'genes', 'mirna_nodes':'mirna', 'Abundance':'metabolites', 'BiologicalProcess':'bps'}\n",
    "\n",
    "    for u, v, k in graph.edges(keys=True):\n",
    "        if ANNOTATIONS not in graph[u][v][k]:\n",
    "            continue\n",
    "            \n",
    "        if 'database' not in graph[u][v][k][ANNOTATIONS]:\n",
    "            continue\n",
    "            \n",
    "        for database in graph[u][v][k][ANNOTATIONS]['database']:\n",
    "            db_subsets[database].add(u)\n",
    "            db_subsets[database].add(v)\n",
    "        \n",
    "    for database, nodes in db_subsets.items():\n",
    "        db_entites[database] = calculate_database_sets_as_dict(nodes, database)\n",
    "        \n",
    "        database_sets = calculate_database_sets_as_dict(nodes, database)\n",
    "        \n",
    "        db_entites[database] = database_sets\n",
    "    \n",
    "        for entity_type, entities in database_sets.items():\n",
    "            entites_db[entity_type][database] = entities\n",
    "        \n",
    "    return db_entites, entites_db"
   ]
  },
  {
   "cell_type": "code",
   "execution_count": 21,
   "metadata": {
    "scrolled": false
   },
   "outputs": [
    {
     "name": "stdout",
     "output_type": "stream",
     "text": [
      "Entities in PathMeUniverse :\n",
      "Total number of kegg: gene_nodes(6027), mirna_nodes(122), metabolite_nodes(1762), bp_nodes(112),  \n",
      "Total number of reactome: gene_nodes(8615), mirna_nodes(13), metabolite_nodes(2684), bp_nodes(5),  \n",
      "Total number of wikipathways: gene_nodes(2549), mirna_nodes(91), metabolite_nodes(618), bp_nodes(152),  \n",
      "Total: 22750 \n"
     ]
    }
   ],
   "source": [
    "bg_labels_from_pathmeuniverse_by_db_and_omic, bg_labels_from_pathmeuniverse_by_omic_and_db =  get_labels_by_db_and_omic_from_graph(pathme_universe_graph_no_flatten)\n",
    "\n",
    "print_dict_dimensions(bg_labels_from_pathmeuniverse_by_db_and_omic, 'Entities in PathMeUniverse :')"
   ]
  },
  {
   "cell_type": "markdown",
   "metadata": {},
   "source": [
    "### Background  Matrix Kernels"
   ]
  },
  {
   "cell_type": "code",
   "execution_count": 22,
   "metadata": {
    "scrolled": true
   },
   "outputs": [],
   "source": [
    "then = time.time()"
   ]
  },
  {
   "cell_type": "code",
   "execution_count": 23,
   "metadata": {
    "scrolled": false
   },
   "outputs": [],
   "source": [
    "#background_mat = regularised_laplacian_kernel(kegg_pathme_graph_no_flatten)"
   ]
  },
  {
   "cell_type": "code",
   "execution_count": 24,
   "metadata": {},
   "outputs": [],
   "source": [
    "# import pickle\n",
    "# output = os.path.join(PATHME_DIR, 'regularised_laplacian_kernel_kegg.pickle')\n",
    "\n",
    "# with open(output, 'wb') as file:\n",
    "#     pickle.dump(background_mat, file)"
   ]
  },
  {
   "cell_type": "code",
   "execution_count": 25,
   "metadata": {},
   "outputs": [],
   "source": [
    "import pickle\n",
    "input_path = os.path.join(PATHME_DIR, 'regularised_laplacian_kernel_kegg.pickle')\n",
    "\n",
    "with open(input_path, 'rb') as f:\n",
    "    unpickler = pickle.Unpickler(f)\n",
    "    background_mat = unpickler.load()\n",
    "\n",
    "    background_mat"
   ]
  },
  {
   "cell_type": "code",
   "execution_count": 26,
   "metadata": {},
   "outputs": [
    {
     "name": "stdout",
     "output_type": "stream",
     "text": [
      "It took:  2.3426029682159424  seconds\n"
     ]
    }
   ],
   "source": [
    "now = time.time()\n",
    "print(\"It took: \", now-then, \" seconds\")"
   ]
  },
  {
   "cell_type": "markdown",
   "metadata": {},
   "source": [
    "### Row labels"
   ]
  },
  {
   "cell_type": "code",
   "execution_count": 27,
   "metadata": {},
   "outputs": [],
   "source": [
    "background_labels = background_mat.rows_labels"
   ]
  },
  {
   "cell_type": "code",
   "execution_count": 28,
   "metadata": {},
   "outputs": [],
   "source": [
    "mirnas = dataset1_labels_by_omics['micrornas']"
   ]
  },
  {
   "cell_type": "markdown",
   "metadata": {},
   "source": [
    "## 3. Dataset label mapping to PathMeEntities"
   ]
  },
  {
   "cell_type": "markdown",
   "metadata": {},
   "source": [
    "### General mapping"
   ]
  },
  {
   "cell_type": "code",
   "execution_count": 29,
   "metadata": {},
   "outputs": [
    {
     "name": "stdout",
     "output_type": "stream",
     "text": [
      "Global mapping:  (1627) 32.141446068747534%\n"
     ]
    }
   ],
   "source": [
    "all_labels_mapping = get_mapping(dataset1_all_labels, background_labels, title = 'Global mapping: ', mirnas=mirnas, print_percentage = True)\n"
   ]
  },
  {
   "cell_type": "markdown",
   "metadata": {},
   "source": [
    "### Mapping by subsets"
   ]
  },
  {
   "cell_type": "markdown",
   "metadata": {},
   "source": [
    "#### Mapping by entity type/omic"
   ]
  },
  {
   "cell_type": "code",
   "execution_count": 30,
   "metadata": {
    "scrolled": true
   },
   "outputs": [
    {
     "name": "stdout",
     "output_type": "stream",
     "text": [
      "Mapping by entity type/omic:\n",
      "genes (1619) 32.76664642784861%\n",
      "micrornas (14) 14.000000000000002%\n",
      "metabolite (8) 38.095238095238095%\n",
      "Total (1641) 32.41801659423153% \n",
      "\n"
     ]
    }
   ],
   "source": [
    "mapping_by_entity, _, _ = get_mapping_subsets(dataset1_labels_by_omics, background_labels, 'entity type/omic', mirnas=mirnas)\n"
   ]
  },
  {
   "cell_type": "code",
   "execution_count": 31,
   "metadata": {},
   "outputs": [
    {
     "data": {
      "text/plain": [
       "{'mir106b',\n",
       " 'mir15a',\n",
       " 'mir17',\n",
       " 'mir183',\n",
       " 'mir193b',\n",
       " 'mir21',\n",
       " 'mir222',\n",
       " 'mir30b',\n",
       " 'mir30d',\n",
       " 'mir30e',\n",
       " 'mir31',\n",
       " 'mir32',\n",
       " 'mir331',\n",
       " 'mir34a'}"
      ]
     },
     "execution_count": 31,
     "metadata": {},
     "output_type": "execute_result"
    }
   ],
   "source": [
    "micrornas_mapping = mapping_by_entity['micrornas'][0]\n",
    "micrornas_mapping"
   ]
  },
  {
   "cell_type": "markdown",
   "metadata": {},
   "source": [
    "#### Mapping by database"
   ]
  },
  {
   "cell_type": "code",
   "execution_count": 32,
   "metadata": {
    "scrolled": false
   },
   "outputs": [
    {
     "name": "stdout",
     "output_type": "stream",
     "text": [
      "Mapping by database:\n",
      "kegg (1641) 32.41801659423153%\n",
      "reactome (628) 12.406163571710787%\n",
      "wikipathways (604) 11.932042670881076%\n",
      "Total (1641) 32.41801659423153% \n",
      "\n"
     ]
    }
   ],
   "source": [
    "background_entites_by_db = {db : set(itertools.chain.from_iterable(entities.values())) for db, entities in bg_labels_from_pathmeuniverse_by_db_and_omic.items()}\n",
    "mapping_by_db, _, _ = get_mapping_subsets(background_entites_by_db, dataset1_all_labels, 'database', mirnas=mirnas, submapping = background_labels, mirnas_mapping = micrornas_mapping, percentage_reference_labels = True)\n"
   ]
  },
  {
   "cell_type": "markdown",
   "metadata": {},
   "source": [
    "#### Mapping by entity type and database"
   ]
  },
  {
   "cell_type": "code",
   "execution_count": 33,
   "metadata": {},
   "outputs": [
    {
     "name": "stdout",
     "output_type": "stream",
     "text": [
      "Mapping by Kegg:\n",
      "gene_nodes (1615) 32.68569115563651%\n",
      "mirna_nodes (14) 14.000000000000002%\n",
      "metabolite_nodes (12) 57.14285714285714%\n",
      "bp_nodes (0) 0%\n",
      "Total (1641) 20.4536956250779% \n",
      "\n",
      "Mapping by Reactome:\n",
      "gene_nodes (1259) 25.480671928759364%\n",
      "mirna_nodes (2) 2.0%\n",
      "metabolite_nodes (12) 57.14285714285714%\n",
      "bp_nodes (0) 0%\n",
      "Total (1273) 11.24856410709552% \n",
      "\n",
      "Mapping by Wikipathways:\n",
      "gene_nodes (775) 15.68508399109492%\n",
      "mirna_nodes (9) 9.0%\n",
      "metabolite_nodes (18) 85.71428571428571%\n",
      "bp_nodes (1) 0%\n",
      "Total (803) 23.548387096774192% \n",
      "\n",
      "Total (2420) 47.80719083366258% \n",
      "\n"
     ]
    }
   ],
   "source": [
    "mapping_by_database_and_entity, total_percentage, total_dimention = get_mapping_two_dim_subsets(bg_labels_from_pathmeuniverse_by_db_and_omic, dataset1_all_labels, relative_statistics = dataset1_labels_by_omics, mirnas_mapping = micrornas_mapping)\n"
   ]
  },
  {
   "cell_type": "markdown",
   "metadata": {},
   "source": [
    "### Mapping descriptive view"
   ]
  },
  {
   "cell_type": "code",
   "execution_count": 34,
   "metadata": {},
   "outputs": [],
   "source": [
    "all_count = []\n",
    "all_percentage = []\n",
    "\n",
    "entity_type_map = {'metabolite_nodes': 'metabolite', 'mirna_nodes': 'micrornas', 'gene_nodes': 'genes',\n",
    "                    'bp_nodes': 'bps'}\n",
    "\n",
    "for db_name, entities_by_type in mapping_by_database_and_entity.items():\n",
    "    db_count = []\n",
    "    db_percentage = []\n",
    "\n",
    "    for entity_type, entities_tupple in entities_by_type[0].items():\n",
    "        db_count.append(len(entities_tupple[0]))\n",
    "        db_percentage.append(entities_tupple[1])\n",
    "        \n",
    "        \n",
    "    all_count.append(db_count)\n",
    "    all_percentage.append(db_percentage)\n",
    "\n",
    "db_count = []\n",
    "db_percentage = []\n",
    "for entity, entities_tupple in mapping_by_entity.items():\n",
    "    db_count.append(len(entities_tupple[0]))\n",
    "    db_percentage.append(entities_tupple[1])\n",
    "    \n"
   ]
  },
  {
   "cell_type": "code",
   "execution_count": 35,
   "metadata": {},
   "outputs": [],
   "source": [
    "import numpy as np\n",
    "\n",
    "databases = list(mapping_by_database_and_entity.keys())\n",
    "databases.append('arreu')\n",
    "\n",
    "\n",
    "entity_types = mapping_by_database_and_entity['kegg'][0].keys()\n",
    "\n",
    "entity_number = np.array(all_percentage)\n",
    "entity_count = np.array(all_count)"
   ]
  },
  {
   "cell_type": "code",
   "execution_count": 36,
   "metadata": {},
   "outputs": [],
   "source": [
    "databases = mapping_by_database_and_entity.keys()\n",
    "entity_types = mapping_by_database_and_entity['kegg'][0].keys()\n",
    "\n",
    "entity_number = np.array(all_percentage)\n",
    "entity_count = np.array(all_count)"
   ]
  },
  {
   "cell_type": "code",
   "execution_count": 37,
   "metadata": {},
   "outputs": [
    {
     "data": {
      "image/png": "[encoded data removed]",
      "text/plain": [
       "<Figure size 1080x504 with 2 Axes>"
      ]
     },
     "metadata": {
      "needs_background": "light"
     },
     "output_type": "display_data"
    }
   ],
   "source": [
    "show_heatmap(entity_number, entity_count, databases, entity_types)"
   ]
  },
  {
   "cell_type": "code",
   "execution_count": 96,
   "metadata": {},
   "outputs": [],
   "source": [
    "kegg_reactome = mapping_by_db['kegg'][0].intersection(mapping_by_db['reactome'][0])\n",
    "kegg_wikipathways = mapping_by_db['kegg'][0].intersection(mapping_by_db['wikipathways'][0])\n",
    "core = kegg_wikipathways.intersection(kegg_reactome)\n",
    "\n",
    "reactome_wikipathways = mapping_by_db['reactome'][0].intersection(mapping_by_db['wikipathways'][0]) - core\n",
    "\n",
    "unique_kegg = mapping_by_db['kegg'][0] - kegg_reactome - kegg_wikipathways\n",
    "unique_reactome = mapping_by_db['reactome'][0] - kegg_reactome - reactome_wikipathways\n",
    "unique_wikipathways = mapping_by_db['wikipathways'][0] - kegg_wikipathways - reactome_wikipathways\n",
    "\n"
   ]
  },
  {
   "cell_type": "code",
   "execution_count": 97,
   "metadata": {},
   "outputs": [
    {
     "data": {
      "image/png": "[encoded data removed]",
      "text/plain": [
       "<Figure size 1224x576 with 1 Axes>"
      ]
     },
     "metadata": {},
     "output_type": "display_data"
    }
   ],
   "source": [
    "import matplotlib.pyplot as plt\n",
    "from matplotlib_venn import venn3\n",
    " \n",
    "plt.figure(figsize=(17,8)) \n",
    "v=venn3(subsets = (len(unique_kegg), len(unique_reactome), len(kegg_reactome), len(unique_wikipathways), len(kegg_wikipathways), len(reactome_wikipathways), len(core)), set_labels = ('Keeg', 'Reactome', 'Wikipathways'))\n",
    "\n",
    "plt.show()\n"
   ]
  },
  {
   "cell_type": "markdown",
   "metadata": {},
   "source": [
    "## 4. Score Diffusion with diffuPy"
   ]
  },
  {
   "cell_type": "markdown",
   "metadata": {},
   "source": [
    "### Input elements: Dataset input + Background matrix"
   ]
  },
  {
   "cell_type": "code",
   "execution_count": 38,
   "metadata": {},
   "outputs": [],
   "source": [
    "input_mat = generate_categoric_input_from_labels(all_labels_mapping, 'Dataset 1', background_mat)\n"
   ]
  },
  {
   "cell_type": "markdown",
   "metadata": {},
   "source": [
    "### Compute diffusion scores"
   ]
  },
  {
   "cell_type": "markdown",
   "metadata": {},
   "source": [
    "#### Raw scores"
   ]
  },
  {
   "cell_type": "code",
   "execution_count": 39,
   "metadata": {},
   "outputs": [],
   "source": [
    "then = time.time()"
   ]
  },
  {
   "cell_type": "code",
   "execution_count": 40,
   "metadata": {},
   "outputs": [],
   "source": [
    "raw_scores = diffuse(input_mat, 'ml', K = background_mat)"
   ]
  },
  {
   "cell_type": "code",
   "execution_count": 41,
   "metadata": {},
   "outputs": [
    {
     "name": "stdout",
     "output_type": "stream",
     "text": [
      "It took:  3.178299903869629  seconds\n"
     ]
    }
   ],
   "source": [
    "now = time.time()\n",
    "print(\"It took: \", now-then, \" seconds\")"
   ]
  },
  {
   "cell_type": "markdown",
   "metadata": {},
   "source": [
    "#### Normalized z-scores"
   ]
  },
  {
   "cell_type": "code",
   "execution_count": 42,
   "metadata": {},
   "outputs": [],
   "source": [
    "then = time.time()"
   ]
  },
  {
   "cell_type": "code",
   "execution_count": 43,
   "metadata": {},
   "outputs": [],
   "source": [
    "z_scores = diffuse(input_mat, 'ml', K = background_mat, z = True)"
   ]
  },
  {
   "cell_type": "code",
   "execution_count": 44,
   "metadata": {
    "scrolled": true
   },
   "outputs": [
    {
     "name": "stdout",
     "output_type": "stream",
     "text": [
      "It took:  4.448575973510742  seconds\n"
     ]
    }
   ],
   "source": [
    "now = time.time()\n",
    "print(\"It took: \", now-then, \" seconds\")"
   ]
  },
  {
   "cell_type": "markdown",
   "metadata": {},
   "source": [
    "## 5. Cross-validation"
   ]
  },
  {
   "cell_type": "code",
   "execution_count": 45,
   "metadata": {},
   "outputs": [],
   "source": [
    "from diffupy.views import box_plot_from_dict\n",
    "from diffupy.cross_validation import cross_validation_by_subset_same_diff_input, cross_validation_by_method"
   ]
  },
  {
   "cell_type": "markdown",
   "metadata": {},
   "source": [
    "### 5.1. Random Scheme"
   ]
  },
  {
   "cell_type": "markdown",
   "metadata": {},
   "source": [
    "#### 5.1.1.  By method"
   ]
  },
  {
   "cell_type": "code",
   "execution_count": 46,
   "metadata": {},
   "outputs": [
    {
     "name": "stderr",
     "output_type": "stream",
     "text": [
      "100%|██████████| 3/3 [00:22<00:00,  7.53s/it]\n"
     ]
    }
   ],
   "source": [
    "auroc_metrics_by_method, auprc_metrics_by_method = cross_validation_by_method(all_labels_mapping, kegg_pathme_graph_no_flatten, background_mat, k=10)\n"
   ]
  },
  {
   "cell_type": "code",
   "execution_count": 47,
   "metadata": {
    "scrolled": false
   },
   "outputs": [
    {
     "name": "stderr",
     "output_type": "stream",
     "text": [
      "/usr/local/Cellar/ipython/7.2.0/libexec/lib/python3.7/site-packages/IPython/core/display.py:689: UserWarning:\n",
      "\n",
      "Consider using IPython.display.IFrame instead\n",
      "\n"
     ]
    },
    {
     "data": {
      "text/html": [
       "<iframe id=\"igraph\" scrolling=\"no\" style=\"border:none;\" seamless=\"seamless\" src=\"https://plot.ly/~jmarinllao/122.embed\" height=\"525px\" width=\"100%\"></iframe>"
      ],
      "text/plain": [
       "<chart_studio.tools.PlotlyDisplay object>"
      ]
     },
     "execution_count": 47,
     "metadata": {},
     "output_type": "execute_result"
    }
   ],
   "source": [
    "box_plot_from_dict(auroc_metrics_by_method, 'Random Cross Validation', 'Method type', 'AUROC')"
   ]
  },
  {
   "cell_type": "code",
   "execution_count": 48,
   "metadata": {
    "scrolled": false
   },
   "outputs": [
    {
     "data": {
      "text/html": [
       "<iframe id=\"igraph\" scrolling=\"no\" style=\"border:none;\" seamless=\"seamless\" src=\"https://plot.ly/~jmarinllao/124.embed\" height=\"525px\" width=\"100%\"></iframe>"
      ],
      "text/plain": [
       "<chart_studio.tools.PlotlyDisplay object>"
      ]
     },
     "execution_count": 48,
     "metadata": {},
     "output_type": "execute_result"
    }
   ],
   "source": [
    "box_plot_from_dict(auprc_metrics_by_method, 'Random Cross Validation', 'Method type', 'AUROC')"
   ]
  },
  {
   "cell_type": "markdown",
   "metadata": {},
   "source": [
    "#### 5.1.2.  By entity"
   ]
  },
  {
   "cell_type": "code",
   "execution_count": 49,
   "metadata": {},
   "outputs": [
    {
     "name": "stderr",
     "output_type": "stream",
     "text": [
      "100%|██████████| 10/10 [00:46<00:00,  4.71s/it]\n"
     ]
    }
   ],
   "source": [
    "auroc_metrics_by_entity, auprc_metrics_by_entity = cross_validation_by_subset_same_diff_input(mapping_by_entity, background_mat, k = 10)\n"
   ]
  },
  {
   "cell_type": "code",
   "execution_count": 50,
   "metadata": {
    "scrolled": false
   },
   "outputs": [
    {
     "name": "stderr",
     "output_type": "stream",
     "text": [
      "/usr/local/Cellar/ipython/7.2.0/libexec/lib/python3.7/site-packages/IPython/core/display.py:689: UserWarning:\n",
      "\n",
      "Consider using IPython.display.IFrame instead\n",
      "\n"
     ]
    },
    {
     "data": {
      "text/html": [
       "<iframe id=\"igraph\" scrolling=\"no\" style=\"border:none;\" seamless=\"seamless\" src=\"https://plot.ly/~jmarinllao/126.embed\" height=\"525px\" width=\"100%\"></iframe>"
      ],
      "text/plain": [
       "<chart_studio.tools.PlotlyDisplay object>"
      ]
     },
     "execution_count": 50,
     "metadata": {},
     "output_type": "execute_result"
    }
   ],
   "source": [
    "box_plot_from_dict(auroc_metrics_by_entity, 'Random Cross Validation', 'Entity type', 'AUROC')\n"
   ]
  },
  {
   "cell_type": "code",
   "execution_count": 51,
   "metadata": {
    "scrolled": false
   },
   "outputs": [
    {
     "data": {
      "text/html": [
       "<iframe id=\"igraph\" scrolling=\"no\" style=\"border:none;\" seamless=\"seamless\" src=\"https://plot.ly/~jmarinllao/128.embed\" height=\"525px\" width=\"100%\"></iframe>"
      ],
      "text/plain": [
       "<chart_studio.tools.PlotlyDisplay object>"
      ]
     },
     "execution_count": 51,
     "metadata": {},
     "output_type": "execute_result"
    }
   ],
   "source": [
    "box_plot_from_dict(auprc_metrics_by_entity, 'Random Cross Validation', 'Entity type', 'AUPRC')"
   ]
  }
 ],
 "metadata": {
  "kernelspec": {
   "display_name": "Python 3",
   "language": "python",
   "name": "python3"
  },
  "language_info": {
   "codemirror_mode": {
    "name": "ipython",
    "version": 3
   },
   "file_extension": ".py",
   "mimetype": "text/x-python",
   "name": "python",
   "nbconvert_exporter": "python",
   "pygments_lexer": "ipython3",
   "version": "3.7.3"
  }
 },
 "nbformat": 4,
 "nbformat_minor": 2
}
